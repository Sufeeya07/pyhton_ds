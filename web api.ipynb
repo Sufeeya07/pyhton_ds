{
 "cells": [
  {
   "cell_type": "code",
   "execution_count": null,
   "id": "6c620bd7-33a0-4631-9a0a-558bfe82ad4a",
   "metadata": {},
   "outputs": [],
   "source": [
    "API.\n",
    "APPICATION PROGRAMMING INTERFACE\n",
    "-JO DIFF DIFF YA TO  HOMOGENIOUS AND HETROGENIOUS APPLICATIONS KO CONNECT KRTA H , COMMUNICATE KRNE ME HELP KRTA H\n",
    "-WANT TO DO PERFORM ANY ACTION IN TWO DIFFERNET APP, API HELPS TO COMMUNICATE"
   ]
  },
  {
   "cell_type": "code",
   "execution_count": null,
   "id": "f9668f4c-a69a-47b8-b81d-9cd76f1ea159",
   "metadata": {},
   "outputs": [],
   "source": [
    "- api hum tcp/ip, http (protocol) se bna skte h\n",
    "- protocol - set of rules"
   ]
  },
  {
   "cell_type": "code",
   "execution_count": null,
   "id": "aaa1debe-1d0a-4ce3-93a3-590ccf36c46b",
   "metadata": {},
   "outputs": [],
   "source": [
    "Transmission Control Protocol/Internet Protocol. TCP/IP is a set of standardized rules that allow computers to communicate on a network such as the internet\n",
    "TCP/IP is a family of communication protocols used to connect computer systems in a network."
   ]
  },
  {
   "cell_type": "code",
   "execution_count": null,
   "id": "91280faa-23d8-4195-8032-5aed7ca83284",
   "metadata": {},
   "outputs": [],
   "source": [
    "-The Hypertext Transfer Protocol (HTTP) is the foundation of the World Wide Web, and is used to load webpages using hypertext links. \n",
    "-HTTP is an application layer protocol designed to transfer information between networked devices and runs on top of other layers of the network protocol stack\n",
    " HTTP---transporting information between a client (such as a web browser) and a web server"
   ]
  },
  {
   "cell_type": "code",
   "execution_count": null,
   "id": "27fa3b61-42a8-4474-9ccb-b833ebaf0a9e",
   "metadata": {},
   "outputs": [],
   "source": [
    "PYTHON KE METHOD KO KESE USKO EXCUTE KRWA SKTE H KISI OR APPLI KO USE KRKE YA WEB BROWER USE KRKE"
   ]
  },
  {
   "cell_type": "code",
   "execution_count": null,
   "id": "6c39e42c-22c0-43f0-9457-bb444e12d091",
   "metadata": {},
   "outputs": [],
   "source": [
    "api ke through ek code likhte h one line page me , uss code ko expose kr skte ho  or usko code ko point kr skte ho in diff diff languages.\n",
    "jo koi dusre tool se exute kr skta h , access kr skta h, ya consume kr skta h"
   ]
  },
  {
   "cell_type": "code",
   "execution_count": null,
   "id": "a81ff336-8878-4f33-b62d-320829a69307",
   "metadata": {},
   "outputs": [],
   "source": [
    "api ek aesa sourse h jo outside the world expose kr doge , or uss lang  se communicate krke data provide krdega"
   ]
  },
  {
   "cell_type": "code",
   "execution_count": null,
   "id": "6e8d8b7e-c92b-45a9-b6ef-084030dc128f",
   "metadata": {},
   "outputs": [],
   "source": [
    "WEB API\n",
    "in web api there are some protocol (fixed rules) /  Hypertext Transfer Protocol(HTTP) jisko hum web api bolte h\n",
    "mtlb web ke through sare transaction krte h \n",
    "ex-- gmail acct , login - password\n",
    "google search"
   ]
  },
  {
   "cell_type": "code",
   "execution_count": null,
   "id": "6ffe11fd-2e7e-486b-b9c0-1f9a69a86d39",
   "metadata": {},
   "outputs": [],
   "source": [
    "WEB API VS API\n",
    "\n",
    "-http protocol ke through bna rhe ho to in that case wo web api ho jayegaga\n",
    "-put get post\n",
    "-webapi is categories of api / subset of an api\n",
    "\n",
    "-api .. wo kind of application hogya / wo set of rules hoga jiske through we are communicate b/w two differnet system. "
   ]
  },
  {
   "cell_type": "code",
   "execution_count": null,
   "id": "7385ed00-105a-403f-b1cb-1f5aba72738a",
   "metadata": {},
   "outputs": [],
   "source": [
    "#------------------------------"
   ]
  },
  {
   "cell_type": "code",
   "execution_count": null,
   "id": "4cf84c5e-39a8-4ae6-8ea2-73b8fe01e6da",
   "metadata": {},
   "outputs": [],
   "source": [
    "Rest And Soap Architecture\n",
    "\n",
    "SOAP and REST are two different approaches to API design. \n",
    "The SOAP approach is highly structured and uses XML data format. \n",
    "REST is more flexible and allows applications to exchange data in multiple formats.\n"
   ]
  },
  {
   "cell_type": "code",
   "execution_count": null,
   "id": "1196b30d-a2b5-469f-b49f-faa6442da4f1",
   "metadata": {},
   "outputs": [],
   "source": [
    "(Representational State Transfer) \n",
    "-Rest arch-- based on web api /  web arch/ web transcation ke liye use hota h\n",
    "-- http ke through data insert delete trans krte h\n",
    "--http ke andr put get post and delete use hota h in case of rest arch\n",
    "-- ye arch design for todo  a communication b/w an application over the web.\n",
    "--over the web kuch v communicate ya data send / recieve kran h then we use rest\n",
    "--by default internal use http\n",
    "\n",
    "--REST is based on the client-server model where the client and server are separate entities. \n",
    "The client sends requests to the server, and the server processes those requests and sends back responses.\n",
    "\n",
    "--rest is knows for simplicity, scalability(1-100 user use), flexibilty in terms of communication or development\n",
    "\n",
    "             rest---> http---> put, get, post, delelte"
   ]
  },
  {
   "cell_type": "code",
   "execution_count": null,
   "id": "4c72502c-f68e-460d-beaa-3a321493b2df",
   "metadata": {},
   "outputs": [],
   "source": [
    "SOAP (Simple Object Access Protocol):\n",
    "    (Extensible Markup Language)\n",
    "--in general xml based msging protocol follow krta h to exchange information between systems.\n",
    "--xml internally wsdl use krta h jhn pe sare instruction likhte ho , to communicate h\n",
    "--soap also support http , smtp, tcp"
   ]
  },
  {
   "cell_type": "code",
   "execution_count": null,
   "id": "fe17e0dc-636c-4a15-a3d1-8c797bce9df2",
   "metadata": {},
   "outputs": [],
   "source": [
    "--rest is easy to implement, soap is complex to implementatiom\n",
    "--rest stateless protocol\n",
    "--stateless protocol means jb v hum transcation/ req kr rhe hote h wo usko store nhi krta , but cache\n",
    "--soap is light weight protocol,simple- easy, transcation are not heavy as compare to rest\n",
    "--soap is more secure.. and where secuirty matter nhi hoti here we use rest"
   ]
  },
  {
   "cell_type": "code",
   "execution_count": 1,
   "id": "6d84af5b-8eb7-451b-8cda-c218c639a317",
   "metadata": {},
   "outputs": [],
   "source": [
    "#-----------------------"
   ]
  },
  {
   "cell_type": "code",
   "execution_count": null,
   "id": "66c57b3d-610b-41d3-a899-874f80a06b9a",
   "metadata": {},
   "outputs": [],
   "source": [
    "restful services\n",
    "always use http\n",
    "--client -  server architecture. c and s are serprate \n",
    "--stateless .\n",
    "--cacheable ... same req repeatedly perform ho rhi h wo cache use momery create krta h or uske wo req put kr deta h\n",
    "--uniform interface  . jo v api bnayenge usme get post put delete or hyperlint use hona chahiye\n",
    "--layerd system  .multiple layer, scalability flexibilty seurity"
   ]
  }
 ],
 "metadata": {
  "kernelspec": {
   "display_name": "Python 3 (ipykernel)",
   "language": "python",
   "name": "python3"
  },
  "language_info": {
   "codemirror_mode": {
    "name": "ipython",
    "version": 3
   },
   "file_extension": ".py",
   "mimetype": "text/x-python",
   "name": "python",
   "nbconvert_exporter": "python",
   "pygments_lexer": "ipython3",
   "version": "3.13.1"
  }
 },
 "nbformat": 4,
 "nbformat_minor": 5
}
