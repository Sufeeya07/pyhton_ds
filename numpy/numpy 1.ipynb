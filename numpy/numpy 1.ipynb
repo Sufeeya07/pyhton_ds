{
 "cells": [
  {
   "cell_type": "code",
   "execution_count": null,
   "id": "baca875c-1376-4a69-9a20-baee7280d7fd",
   "metadata": {},
   "outputs": [],
   "source": [
    "NumPy is a Python library.\n",
    "NumPy is used for working with arrays and matrices.\n",
    "numpy is for mathematical opreation\n",
    "NumPy is short for \"Numerical Python\".\n",
    "created in 2005 by Travis Oliphant."
   ]
  },
  {
   "cell_type": "code",
   "execution_count": 1,
   "id": "18814036-6403-4e88-8eb1-41cb2d9befc4",
   "metadata": {},
   "outputs": [],
   "source": [
    "import numpy as np"
   ]
  },
  {
   "cell_type": "code",
   "execution_count": 2,
   "id": "d88a2a1b-5811-4805-8e58-4ee245c408cb",
   "metadata": {},
   "outputs": [],
   "source": [
    "l = [1,2,3,4]"
   ]
  },
  {
   "cell_type": "code",
   "execution_count": 3,
   "id": "a026d535-7538-4faf-b817-113de50fb050",
   "metadata": {},
   "outputs": [
    {
     "data": {
      "text/plain": [
       "array([1, 2, 3, 4])"
      ]
     },
     "execution_count": 3,
     "metadata": {},
     "output_type": "execute_result"
    }
   ],
   "source": [
    "#-----in numpy array is super class  , and matrix subclass / subset of arr\n",
    "\n",
    "ar = np.array(l) \n",
    "ar#convert list into arr , array pack"
   ]
  },
  {
   "cell_type": "code",
   "execution_count": 4,
   "id": "0f5a09ab-626c-437c-a4bf-76f700d8bb37",
   "metadata": {},
   "outputs": [
    {
     "data": {
      "text/plain": [
       "numpy.ndarray"
      ]
     },
     "execution_count": 4,
     "metadata": {},
     "output_type": "execute_result"
    }
   ],
   "source": [
    "type(ar) "
   ]
  },
  {
   "cell_type": "code",
   "execution_count": 5,
   "id": "ba0717d2-0ad4-4907-99a3-83779c713ca8",
   "metadata": {},
   "outputs": [
    {
     "data": {
      "text/plain": [
       "array([[1, 2],\n",
       "       [3, 4]])"
      ]
     },
     "execution_count": 5,
     "metadata": {},
     "output_type": "execute_result"
    }
   ],
   "source": [
    "np.array([[1,2] , [3,4]]) #2d arr , coprdinate 0,1,2 and values 3.4,2,5,6"
   ]
  },
  {
   "cell_type": "code",
   "execution_count": 6,
   "id": "ab6a7ad6-c30b-4070-abad-a0638aa08dd8",
   "metadata": {},
   "outputs": [
    {
     "data": {
      "text/plain": [
       "array([1, 2, 3, 4])"
      ]
     },
     "execution_count": 6,
     "metadata": {},
     "output_type": "execute_result"
    }
   ],
   "source": [
    "np.asarray(l)"
   ]
  },
  {
   "cell_type": "code",
   "execution_count": 7,
   "id": "3a61d79d-4155-4571-8f84-a3314b8fe24b",
   "metadata": {},
   "outputs": [
    {
     "data": {
      "text/plain": [
       "matrix([[1, 2, 3, 4]])"
      ]
     },
     "execution_count": 7,
     "metadata": {},
     "output_type": "execute_result"
    }
   ],
   "source": [
    "#-------------matrix bydefault 2d , subset of array\n",
    "\n",
    "b= np.matrix(l)\n",
    "b"
   ]
  },
  {
   "cell_type": "code",
   "execution_count": 8,
   "id": "0ff4ffa0-5a6a-4470-99d3-4fd4e40cd166",
   "metadata": {},
   "outputs": [
    {
     "data": {
      "text/plain": [
       "matrix([[1, 2, 3, 4]])"
      ]
     },
     "execution_count": 8,
     "metadata": {},
     "output_type": "execute_result"
    }
   ],
   "source": [
    "np.asanyarray(b) #cant convert into arr"
   ]
  },
  {
   "cell_type": "code",
   "execution_count": 4,
   "id": "c6c4bea7-a928-49ed-b8e3-646f998906aa",
   "metadata": {},
   "outputs": [
    {
     "data": {
      "text/plain": [
       "array([1, 2, 3, 4])"
      ]
     },
     "execution_count": 4,
     "metadata": {},
     "output_type": "execute_result"
    }
   ],
   "source": [
    "ar"
   ]
  },
  {
   "cell_type": "code",
   "execution_count": 5,
   "id": "11a34866-f079-4cde-b25f-aa4b5e6250b3",
   "metadata": {},
   "outputs": [
    {
     "name": "stdout",
     "output_type": "stream",
     "text": [
      "7\n"
     ]
    }
   ],
   "source": [
    "print(ar[2] + ar[3])"
   ]
  },
  {
   "cell_type": "code",
   "execution_count": 6,
   "id": "0b9f099e-cc41-46ca-95d5-caee8e8a354b",
   "metadata": {},
   "outputs": [
    {
     "data": {
      "text/plain": [
       "array([1, 2, 3, 4])"
      ]
     },
     "execution_count": 6,
     "metadata": {},
     "output_type": "execute_result"
    }
   ],
   "source": [
    "c=ar\n",
    "c # c point ar var , c is swalo   location are same , view"
   ]
  },
  {
   "cell_type": "code",
   "execution_count": 7,
   "id": "96f758e2-d1fb-4313-aab5-7f730b67c3e7",
   "metadata": {},
   "outputs": [
    {
     "data": {
      "text/plain": [
       "array([100,   2,   3,   4])"
      ]
     },
     "execution_count": 7,
     "metadata": {},
     "output_type": "execute_result"
    }
   ],
   "source": [
    "c[0]=100\n",
    "c"
   ]
  },
  {
   "cell_type": "code",
   "execution_count": 8,
   "id": "86a1d860-df3f-41b6-964e-6ef07709f89b",
   "metadata": {},
   "outputs": [
    {
     "data": {
      "text/plain": [
       "array([100,   2,   3,   4])"
      ]
     },
     "execution_count": 8,
     "metadata": {},
     "output_type": "execute_result"
    }
   ],
   "source": [
    "ar"
   ]
  },
  {
   "cell_type": "code",
   "execution_count": 9,
   "id": "c9bd4d58-ed27-4e65-bc8e-91526bb234d8",
   "metadata": {},
   "outputs": [
    {
     "data": {
      "text/plain": [
       "array([100,   2,   3,   4])"
      ]
     },
     "execution_count": 9,
     "metadata": {},
     "output_type": "execute_result"
    }
   ],
   "source": [
    "d= np.copy(ar)  #d -copy ar var value in location  , deep copy  location are diff\n",
    "d"
   ]
  },
  {
   "cell_type": "code",
   "execution_count": 10,
   "id": "7784192f-7bd3-49d4-a1cc-392913a08391",
   "metadata": {},
   "outputs": [
    {
     "data": {
      "text/plain": [
       "array([100, 300,   3,   4])"
      ]
     },
     "execution_count": 10,
     "metadata": {},
     "output_type": "execute_result"
    }
   ],
   "source": [
    "ar[1]=300\n",
    "ar  #d cant not change"
   ]
  },
  {
   "cell_type": "code",
   "execution_count": 11,
   "id": "254a2c8a-95cc-45af-a119-fdaa06ce0fd5",
   "metadata": {},
   "outputs": [
    {
     "data": {
      "text/plain": [
       "array([100,   2,   3,   4])"
      ]
     },
     "execution_count": 11,
     "metadata": {},
     "output_type": "execute_result"
    }
   ],
   "source": [
    "d"
   ]
  },
  {
   "cell_type": "code",
   "execution_count": 19,
   "id": "bde1dfb1-e122-4a8e-8387-8e62adbadb49",
   "metadata": {},
   "outputs": [
    {
     "data": {
      "text/plain": [
       "array([[ True, False, False],\n",
       "       [False,  True, False],\n",
       "       [False, False,  True]])"
      ]
     },
     "execution_count": 19,
     "metadata": {},
     "output_type": "execute_result"
    }
   ],
   "source": [
    "#-----------ff() iske andr jo fun  likhenge uske according data generate krega\n",
    "# its help to interms of genertate array at any point\n",
    "np.fromfunction(lambda i, j: i==j, (3,3))"
   ]
  },
  {
   "cell_type": "code",
   "execution_count": 21,
   "id": "d390b8b4-0d28-42a8-bfc8-f14a5108af3c",
   "metadata": {},
   "outputs": [
    {
     "data": {
      "text/plain": [
       "array([[0., 0., 0.],\n",
       "       [0., 1., 2.],\n",
       "       [0., 2., 4.]])"
      ]
     },
     "execution_count": 21,
     "metadata": {},
     "output_type": "execute_result"
    }
   ],
   "source": [
    "np.fromfunction(lambda i, j: i*j, (3,3))"
   ]
  },
  {
   "cell_type": "code",
   "execution_count": 22,
   "id": "a6cbb870-ad9f-44be-b605-a1e19939c68f",
   "metadata": {},
   "outputs": [],
   "source": [
    "it = (i*i for i in range (5))"
   ]
  },
  {
   "cell_type": "code",
   "execution_count": 23,
   "id": "dbd6d0b4-59df-4cf2-b095-0e3f8b1de47d",
   "metadata": {},
   "outputs": [
    {
     "data": {
      "text/plain": [
       "array([ 0.,  1.,  4.,  9., 16.])"
      ]
     },
     "execution_count": 23,
     "metadata": {},
     "output_type": "execute_result"
    }
   ],
   "source": [
    "np.fromiter(it, float)"
   ]
  },
  {
   "cell_type": "code",
   "execution_count": 24,
   "id": "4edd4a18-197d-4595-a613-b2af12be5cb6",
   "metadata": {},
   "outputs": [
    {
     "data": {
      "text/plain": [
       "array([234., 345.])"
      ]
     },
     "execution_count": 24,
     "metadata": {},
     "output_type": "execute_result"
    }
   ],
   "source": [
    "np.fromstring('234 345', sep= ' ')"
   ]
  },
  {
   "cell_type": "code",
   "execution_count": 33,
   "id": "0f1ce198-5f76-4543-b0a7-9cff727bca70",
   "metadata": {},
   "outputs": [],
   "source": [
    "#-------------numpy data type"
   ]
  },
  {
   "cell_type": "code",
   "execution_count": 25,
   "id": "f6fbab0d-d5c1-472e-b7ba-e5c154f66f2a",
   "metadata": {},
   "outputs": [],
   "source": [
    "l= [2,3,4,5,6]"
   ]
  },
  {
   "cell_type": "code",
   "execution_count": 26,
   "id": "1aa64355-19cd-40af-b40f-28f9e86ac932",
   "metadata": {},
   "outputs": [
    {
     "data": {
      "text/plain": [
       "array([2, 3, 4, 5, 6])"
      ]
     },
     "execution_count": 26,
     "metadata": {},
     "output_type": "execute_result"
    }
   ],
   "source": [
    "arr = np.array(l)\n",
    "arr"
   ]
  },
  {
   "cell_type": "code",
   "execution_count": 35,
   "id": "97cd4a7f-c09e-4172-8920-90b99201c673",
   "metadata": {},
   "outputs": [
    {
     "data": {
      "text/plain": [
       "1"
      ]
     },
     "execution_count": 35,
     "metadata": {},
     "output_type": "execute_result"
    }
   ],
   "source": [
    "#------many dimensions the arrays have:\n",
    "\n",
    "arr.ndim"
   ]
  },
  {
   "cell_type": "code",
   "execution_count": 27,
   "id": "e90dced8-2dca-4202-8c60-b8414fbc6e63",
   "metadata": {},
   "outputs": [
    {
     "data": {
      "text/plain": [
       "2"
      ]
     },
     "execution_count": 27,
     "metadata": {},
     "output_type": "execute_result"
    }
   ],
   "source": [
    "ar2= np.array([[1, 2, 3], [4, 5, 6]])\n",
    "ar2.ndim"
   ]
  },
  {
   "cell_type": "code",
   "execution_count": 32,
   "id": "c5a701b4-79ee-4497-b628-ef61169e688b",
   "metadata": {},
   "outputs": [
    {
     "data": {
      "text/plain": [
       "(2, 3)"
      ]
     },
     "execution_count": 32,
     "metadata": {},
     "output_type": "execute_result"
    }
   ],
   "source": [
    "ar2.shape # 2, 3 --2r and 3col"
   ]
  },
  {
   "cell_type": "code",
   "execution_count": 2,
   "id": "8b3c387f-c77a-4afb-84bf-66860e89c74c",
   "metadata": {},
   "outputs": [
    {
     "data": {
      "text/plain": [
       "3"
      ]
     },
     "execution_count": 2,
     "metadata": {},
     "output_type": "execute_result"
    }
   ],
   "source": [
    "d = np.array([[[1, 2, 3], [4, 5, 6]], [[1, 2, 3], [4, 5, 6]]])\n",
    "d.ndim"
   ]
  },
  {
   "cell_type": "code",
   "execution_count": 4,
   "id": "3dc1e3ba-d575-428c-9adf-0f66e5343f9e",
   "metadata": {},
   "outputs": [
    {
     "data": {
      "text/plain": [
       "12"
      ]
     },
     "execution_count": 4,
     "metadata": {},
     "output_type": "execute_result"
    }
   ],
   "source": [
    "d.size"
   ]
  },
  {
   "cell_type": "code",
   "execution_count": 5,
   "id": "a6d140c3-c4b6-491e-9326-10cede78e046",
   "metadata": {},
   "outputs": [
    {
     "data": {
      "text/plain": [
       "(2, 2, 3)"
      ]
     },
     "execution_count": 5,
     "metadata": {},
     "output_type": "execute_result"
    }
   ],
   "source": [
    "d.shape"
   ]
  },
  {
   "cell_type": "code",
   "execution_count": 30,
   "id": "7d020b22-84ab-423d-915c-7ee699939fb3",
   "metadata": {},
   "outputs": [
    {
     "name": "stdout",
     "output_type": "stream",
     "text": [
      "[[[[[[1 2 3 4]]]]]]\n",
      "number of dimensions : 6\n"
     ]
    }
   ],
   "source": [
    "ar3 = np.array([1, 2, 3, 4], ndmin=6)\n",
    "\n",
    "print(ar3)\n",
    "print('number of dimensions :', ar3.ndim)"
   ]
  },
  {
   "cell_type": "code",
   "execution_count": 36,
   "id": "a38b8d43-e49d-445b-8b7b-c1d4aa3d2b11",
   "metadata": {},
   "outputs": [
    {
     "data": {
      "text/plain": [
       "array([[ 1.4, 45. , 45. ],\n",
       "       [23. , 45. , 66. ]])"
      ]
     },
     "execution_count": 36,
     "metadata": {},
     "output_type": "execute_result"
    }
   ],
   "source": [
    "ar4 = np.array([(1.4, 45,45) , (23,45,66)]) # all float dtype , float take more space than int\n",
    "ar4 "
   ]
  },
  {
   "cell_type": "code",
   "execution_count": 37,
   "id": "c2e652b0-ccc0-4422-b0e2-f9e923cc0ffa",
   "metadata": {},
   "outputs": [
    {
     "data": {
      "text/plain": [
       "[0, 1, 2, 3, 4]"
      ]
     },
     "execution_count": 37,
     "metadata": {},
     "output_type": "execute_result"
    }
   ],
   "source": [
    "list(range(5))    # range always take int, not float "
   ]
  },
  {
   "cell_type": "code",
   "execution_count": 39,
   "id": "46999b3b-6c45-4dbd-9f96-fc57bc3f82c7",
   "metadata": {},
   "outputs": [
    {
     "data": {
      "text/plain": [
       "array([2.3, 3.3, 4.3, 5.3])"
      ]
     },
     "execution_count": 39,
     "metadata": {},
     "output_type": "execute_result"
    }
   ],
   "source": [
    "#-----produce floating number with the help of numpy\n",
    "\n",
    "np.arange(2.3, 5.6)"
   ]
  },
  {
   "cell_type": "code",
   "execution_count": 40,
   "id": "db58adae-2fcd-48bb-9e2b-614d7f31107c",
   "metadata": {},
   "outputs": [
    {
     "data": {
      "text/plain": [
       "array([2.5, 2.8, 3.1, 3.4, 3.7, 4. , 4.3, 4.6, 4.9, 5.2, 5.5])"
      ]
     },
     "execution_count": 40,
     "metadata": {},
     "output_type": "execute_result"
    }
   ],
   "source": [
    "np.arange(2.5,5.6,.3) #jumpe with .3"
   ]
  },
  {
   "cell_type": "code",
   "execution_count": 41,
   "id": "1b0a7041-3f2b-4453-a98e-8e0192f492cd",
   "metadata": {},
   "outputs": [
    {
     "data": {
      "text/plain": [
       "array([1.        , 1.44444444, 1.88888889, 2.33333333, 2.77777778,\n",
       "       3.22222222, 3.66666667, 4.11111111, 4.55555556, 5.        ])"
      ]
     },
     "execution_count": 41,
     "metadata": {},
     "output_type": "execute_result"
    }
   ],
   "source": [
    "np.linspace(1,5,10)"
   ]
  },
  {
   "cell_type": "code",
   "execution_count": 42,
   "id": "956eb93f-b6f3-4159-a614-6537c9f4e635",
   "metadata": {},
   "outputs": [
    {
     "data": {
      "text/plain": [
       "array([0., 0., 0., 0., 0.])"
      ]
     },
     "execution_count": 42,
     "metadata": {},
     "output_type": "execute_result"
    }
   ],
   "source": [
    "np.zeros(5)"
   ]
  },
  {
   "cell_type": "code",
   "execution_count": 43,
   "id": "52e0afde-a414-42d2-be0f-2abdabc3765e",
   "metadata": {},
   "outputs": [
    {
     "data": {
      "text/plain": [
       "array([[0., 0., 0., 0.],\n",
       "       [0., 0., 0., 0.],\n",
       "       [0., 0., 0., 0.]])"
      ]
     },
     "execution_count": 43,
     "metadata": {},
     "output_type": "execute_result"
    }
   ],
   "source": [
    "np.zeros((3,4))"
   ]
  },
  {
   "cell_type": "code",
   "execution_count": 8,
   "id": "418360a9-1369-4c9f-bd56-9ca63826b329",
   "metadata": {},
   "outputs": [
    {
     "data": {
      "text/plain": [
       "array([[[1., 1., 1.],\n",
       "        [1., 1., 1.]],\n",
       "\n",
       "       [[1., 1., 1.],\n",
       "        [1., 1., 1.]]])"
      ]
     },
     "execution_count": 8,
     "metadata": {},
     "output_type": "execute_result"
    }
   ],
   "source": [
    "on = np.ones((2,2,3))\n",
    "on"
   ]
  },
  {
   "cell_type": "code",
   "execution_count": 10,
   "id": "3f4df08c-7440-4e6f-9b60-6c5de6508efe",
   "metadata": {},
   "outputs": [
    {
     "data": {
      "text/plain": [
       "array([[[21., 21., 21.],\n",
       "        [21., 21., 21.]],\n",
       "\n",
       "       [[21., 21., 21.],\n",
       "        [21., 21., 21.]]])"
      ]
     },
     "execution_count": 10,
     "metadata": {},
     "output_type": "execute_result"
    }
   ],
   "source": [
    "on+5*4"
   ]
  },
  {
   "cell_type": "code",
   "execution_count": 13,
   "id": "3b10e387-8147-47cb-a89c-16c0c26f313f",
   "metadata": {},
   "outputs": [
    {
     "data": {
      "text/plain": [
       "array([[4.64428032e-310, 0.00000000e+000, 0.00000000e+000,\n",
       "        6.54142915e-321, 6.36598742e-314, 0.00000000e+000],\n",
       "       [6.54142915e-321, 2.96439388e-322, 0.00000000e+000,\n",
       "        6.54142915e-321, 6.12641401e-322, 0.00000000e+000],\n",
       "       [6.56119178e-321, 5.23709585e-322, 0.00000000e+000,\n",
       "        6.56119178e-321, 2.12199584e-314, 0.00000000e+000]])"
      ]
     },
     "execution_count": 13,
     "metadata": {},
     "output_type": "execute_result"
    }
   ],
   "source": [
    "np.empty((3,6))"
   ]
  },
  {
   "cell_type": "code",
   "execution_count": 14,
   "id": "1197d06a-1ea2-49f5-9209-c7c36967a9b5",
   "metadata": {},
   "outputs": [
    {
     "data": {
      "text/plain": [
       "array([[1., 0., 0., 0.],\n",
       "       [0., 1., 0., 0.],\n",
       "       [0., 0., 1., 0.],\n",
       "       [0., 0., 0., 1.]])"
      ]
     },
     "execution_count": 14,
     "metadata": {},
     "output_type": "execute_result"
    }
   ],
   "source": [
    "#-identity matrix - square matrix\n",
    "\n",
    "np.eye(4)"
   ]
  },
  {
   "cell_type": "code",
   "execution_count": 16,
   "id": "b0ae6ca5-e7a0-49e4-8184-3deb0c4212a8",
   "metadata": {},
   "outputs": [
    {
     "data": {
      "text/plain": [
       "array([ 4.        ,  5.0396842 ,  6.34960421,  8.        , 10.0793684 ,\n",
       "       12.69920842, 16.        , 20.1587368 , 25.39841683, 32.        ])"
      ]
     },
     "execution_count": 16,
     "metadata": {},
     "output_type": "execute_result"
    }
   ],
   "source": [
    "np.logspace(2,5 , 10 , base = 2)"
   ]
  },
  {
   "cell_type": "code",
   "execution_count": 18,
   "id": "ee484f75-0cd7-42ca-8518-ff1edbd0445b",
   "metadata": {},
   "outputs": [
    {
     "data": {
      "text/plain": [
       "array([[-2.3021792 , -1.38274662, -0.58275382, -0.47815288],\n",
       "       [ 1.13434554,  1.39465514,  1.17288041, -1.02436127],\n",
       "       [-1.24263789, -1.68759586,  0.55126384, -0.1836619 ]])"
      ]
     },
     "execution_count": 18,
     "metadata": {},
     "output_type": "execute_result"
    }
   ],
   "source": [
    "# -------in numpy there is a random (), ussme randomly jis shape ya size ka data generate kr skte h\n",
    "\n",
    "ar5 = np.random.randn(3,4)   # randn me mean avg=0 , std =1 data produce krega\n",
    "ar5"
   ]
  },
  {
   "cell_type": "code",
   "execution_count": 19,
   "id": "8b097d6e-0c6f-4f9a-88b0-bd6a3dc16625",
   "metadata": {},
   "outputs": [
    {
     "data": {
      "text/html": [
       "<div>\n",
       "<style scoped>\n",
       "    .dataframe tbody tr th:only-of-type {\n",
       "        vertical-align: middle;\n",
       "    }\n",
       "\n",
       "    .dataframe tbody tr th {\n",
       "        vertical-align: top;\n",
       "    }\n",
       "\n",
       "    .dataframe thead th {\n",
       "        text-align: right;\n",
       "    }\n",
       "</style>\n",
       "<table border=\"1\" class=\"dataframe\">\n",
       "  <thead>\n",
       "    <tr style=\"text-align: right;\">\n",
       "      <th></th>\n",
       "      <th>0</th>\n",
       "      <th>1</th>\n",
       "      <th>2</th>\n",
       "      <th>3</th>\n",
       "    </tr>\n",
       "  </thead>\n",
       "  <tbody>\n",
       "    <tr>\n",
       "      <th>0</th>\n",
       "      <td>-2.302179</td>\n",
       "      <td>-1.382747</td>\n",
       "      <td>-0.582754</td>\n",
       "      <td>-0.478153</td>\n",
       "    </tr>\n",
       "    <tr>\n",
       "      <th>1</th>\n",
       "      <td>1.134346</td>\n",
       "      <td>1.394655</td>\n",
       "      <td>1.172880</td>\n",
       "      <td>-1.024361</td>\n",
       "    </tr>\n",
       "    <tr>\n",
       "      <th>2</th>\n",
       "      <td>-1.242638</td>\n",
       "      <td>-1.687596</td>\n",
       "      <td>0.551264</td>\n",
       "      <td>-0.183662</td>\n",
       "    </tr>\n",
       "  </tbody>\n",
       "</table>\n",
       "</div>"
      ],
      "text/plain": [
       "          0         1         2         3\n",
       "0 -2.302179 -1.382747 -0.582754 -0.478153\n",
       "1  1.134346  1.394655  1.172880 -1.024361\n",
       "2 -1.242638 -1.687596  0.551264 -0.183662"
      ]
     },
     "execution_count": 19,
     "metadata": {},
     "output_type": "execute_result"
    }
   ],
   "source": [
    "import pandas as pd\n",
    "\n",
    "pd.DataFrame(ar5)"
   ]
  },
  {
   "cell_type": "code",
   "execution_count": 20,
   "id": "93820c10-3f3a-4ce9-963d-e7a64eeff825",
   "metadata": {},
   "outputs": [
    {
     "data": {
      "text/plain": [
       "array([[0.77418894, 0.45801848, 0.49166774, 0.22758498],\n",
       "       [0.18104753, 0.71187044, 0.91101057, 0.26393219],\n",
       "       [0.46532   , 0.68244877, 0.56999202, 0.66280986]])"
      ]
     },
     "execution_count": 20,
     "metadata": {},
     "output_type": "execute_result"
    }
   ],
   "source": [
    "np.random.rand(3,4)"
   ]
  },
  {
   "cell_type": "code",
   "execution_count": 25,
   "id": "f05986cf-a340-4b88-b88b-e539f69a3144",
   "metadata": {},
   "outputs": [],
   "source": [
    "pd.DataFrame(np.random.randint(1,110, (300,400)) ).to_csv('array_data.csv')  # 1,110 se random data lega"
   ]
  },
  {
   "cell_type": "code",
   "execution_count": 27,
   "id": "e9299851-3e03-4db3-a4a2-66ed2bb37164",
   "metadata": {},
   "outputs": [
    {
     "data": {
      "text/plain": [
       "array([[0.69836891, 0.30566956, 0.62735794, 0.37988818],\n",
       "       [0.48859594, 0.36829495, 0.50411307, 0.31680888],\n",
       "       [0.61358671, 0.79847532, 0.14456176, 0.47119689]])"
      ]
     },
     "execution_count": 27,
     "metadata": {},
     "output_type": "execute_result"
    }
   ],
   "source": [
    "#------------reshape \n",
    "\n",
    "ar6 = np.random.rand(3,4)\n",
    "ar6"
   ]
  },
  {
   "cell_type": "code",
   "execution_count": 44,
   "id": "97210d18-fa91-475a-b914-da20363239f7",
   "metadata": {},
   "outputs": [
    {
     "data": {
      "text/plain": [
       "array([[0.69836891, 0.30566956],\n",
       "       [0.62735794, 0.37988818],\n",
       "       [0.48859594, 0.36829495],\n",
       "       [0.50411307, 0.31680888],\n",
       "       [0.61358671, 0.79847532],\n",
       "       [0.14456176, 0.47119689]])"
      ]
     },
     "execution_count": 44,
     "metadata": {},
     "output_type": "execute_result"
    }
   ],
   "source": [
    "a= ar6.reshape(6,2) # reshape 3,4 to 6X2\n",
    "a"
   ]
  },
  {
   "cell_type": "code",
   "execution_count": 45,
   "id": "f0b54a69-e2bc-4bac-b68f-fa44f6377641",
   "metadata": {},
   "outputs": [
    {
     "data": {
      "text/plain": [
       "0.3798881777762513"
      ]
     },
     "execution_count": 45,
     "metadata": {},
     "output_type": "execute_result"
    }
   ],
   "source": [
    "a[1][1]"
   ]
  },
  {
   "cell_type": "code",
   "execution_count": 49,
   "id": "e077b17c-9fb4-4cbb-ba28-76ae0379ac1b",
   "metadata": {},
   "outputs": [
    {
     "data": {
      "text/plain": [
       "array([0.36829495, 0.31680888, 0.79847532])"
      ]
     },
     "execution_count": 49,
     "metadata": {},
     "output_type": "execute_result"
    }
   ],
   "source": [
    "a[2:5, 1]"
   ]
  },
  {
   "cell_type": "code",
   "execution_count": 46,
   "id": "81b3ffe0-479b-42a9-8080-9d4b04ee8e9e",
   "metadata": {},
   "outputs": [
    {
     "data": {
      "text/plain": [
       "(array([2]),)"
      ]
     },
     "execution_count": 46,
     "metadata": {},
     "output_type": "execute_result"
    }
   ],
   "source": [
    "a1 = np.array([1, 2, 3, 4, 5, 6])\n",
    "\n",
    "index = np.where(a1==3)\n",
    "index"
   ]
  },
  {
   "cell_type": "code",
   "execution_count": 50,
   "id": "3408b3fa-755b-468f-a73d-441b300e3557",
   "metadata": {},
   "outputs": [
    {
     "data": {
      "text/plain": [
       "array([[ 27,  47,   2,  16,  19],\n",
       "       [ 52, 104,  73,  74,  85],\n",
       "       [  9,  57,  52,  26,   6],\n",
       "       [ 99,  64,   7,  21,   6],\n",
       "       [103, 109,  87, 101,  26]])"
      ]
     },
     "execution_count": 50,
     "metadata": {},
     "output_type": "execute_result"
    }
   ],
   "source": [
    "ar7 = np.random.randint(1,110, (5,5))\n",
    "ar7"
   ]
  },
  {
   "cell_type": "code",
   "execution_count": 51,
   "id": "e20123f2-4f10-43ee-ae40-d7f6049bb35b",
   "metadata": {},
   "outputs": [
    {
     "data": {
      "text/plain": [
       "array([[False, False, False, False, False],\n",
       "       [ True,  True,  True,  True,  True],\n",
       "       [False,  True,  True, False, False],\n",
       "       [ True,  True, False, False, False],\n",
       "       [ True,  True,  True,  True, False]])"
      ]
     },
     "execution_count": 51,
     "metadata": {},
     "output_type": "execute_result"
    }
   ],
   "source": [
    "ar7 >50"
   ]
  },
  {
   "cell_type": "code",
   "execution_count": 53,
   "id": "9c3a7491-5a5a-471f-8269-8dae23d21145",
   "metadata": {},
   "outputs": [
    {
     "data": {
      "text/plain": [
       "array([ 52, 104,  73,  74,  85,  57,  52,  99,  64, 103, 109,  87, 101])"
      ]
     },
     "execution_count": 53,
     "metadata": {},
     "output_type": "execute_result"
    }
   ],
   "source": [
    "ar7[ar7 >50]"
   ]
  },
  {
   "cell_type": "code",
   "execution_count": 54,
   "id": "a71c83c4-db9e-4720-940c-968d8664b054",
   "metadata": {},
   "outputs": [
    {
     "data": {
      "text/plain": [
       "array([[ 27,  47,   2,  16,  19],\n",
       "       [ 52, 104,  73,  74,  85],\n",
       "       [  9,  57,  52,  26,   6],\n",
       "       [ 99,  64,   7,  21,   6],\n",
       "       [103, 109,  87, 101,  26]])"
      ]
     },
     "execution_count": 54,
     "metadata": {},
     "output_type": "execute_result"
    }
   ],
   "source": [
    "ar7"
   ]
  },
  {
   "cell_type": "code",
   "execution_count": 56,
   "id": "69de2dff-fc63-40e5-a31d-07b51ddbd528",
   "metadata": {},
   "outputs": [
    {
     "data": {
      "text/plain": [
       "array([[57, 52],\n",
       "       [64,  7]])"
      ]
     },
     "execution_count": 56,
     "metadata": {},
     "output_type": "execute_result"
    }
   ],
   "source": [
    "ar7[2:4 , [1,2]]  #2:4 rows , 1,2 col"
   ]
  },
  {
   "cell_type": "code",
   "execution_count": 59,
   "id": "b2e92a1c-0b2a-4e44-8a5a-eb204c397e55",
   "metadata": {},
   "outputs": [
    {
     "data": {
      "text/plain": [
       "27"
      ]
     },
     "execution_count": 59,
     "metadata": {},
     "output_type": "execute_result"
    }
   ],
   "source": [
    "ar7[0,0]  #[0][0]"
   ]
  },
  {
   "cell_type": "code",
   "execution_count": 61,
   "id": "cf76abbb-4546-4ae4-aa64-1b6a2d388154",
   "metadata": {},
   "outputs": [
    {
     "data": {
      "text/plain": [
       "array([[500,  47,   2,  16,  19],\n",
       "       [ 52, 104,  73,  74,  85],\n",
       "       [  9,  57,  52,  26,   6],\n",
       "       [ 99,  64,   7,  21,   6],\n",
       "       [103, 109,  87, 101,  26]])"
      ]
     },
     "execution_count": 61,
     "metadata": {},
     "output_type": "execute_result"
    }
   ],
   "source": [
    "ar7[0,0]=500\n",
    "ar7"
   ]
  },
  {
   "cell_type": "code",
   "execution_count": 5,
   "id": "5265f1aa-44b2-4c59-a839-104aee3387b2",
   "metadata": {},
   "outputs": [],
   "source": [
    "arr1= np.random.randint(1,3 , (3,3))\n",
    "arr2= np.random.randint(1,3 , (3,3))"
   ]
  },
  {
   "cell_type": "code",
   "execution_count": 6,
   "id": "66d3f72e-a0e8-405d-9b6a-4c0d057c2d95",
   "metadata": {},
   "outputs": [
    {
     "data": {
      "text/plain": [
       "array([[1, 2, 1],\n",
       "       [2, 2, 2],\n",
       "       [2, 2, 1]])"
      ]
     },
     "execution_count": 6,
     "metadata": {},
     "output_type": "execute_result"
    }
   ],
   "source": [
    "arr1"
   ]
  },
  {
   "cell_type": "code",
   "execution_count": 7,
   "id": "dbab168f-8696-445c-8a3a-e81470b523a0",
   "metadata": {},
   "outputs": [
    {
     "data": {
      "text/plain": [
       "array([[2, 2, 1],\n",
       "       [2, 2, 2],\n",
       "       [2, 1, 2]])"
      ]
     },
     "execution_count": 7,
     "metadata": {},
     "output_type": "execute_result"
    }
   ],
   "source": [
    "arr2"
   ]
  },
  {
   "cell_type": "code",
   "execution_count": 8,
   "id": "9f81e2c4-1244-46f9-b3d8-0cf7de4bfdd1",
   "metadata": {},
   "outputs": [
    {
     "data": {
      "text/plain": [
       "array([[3, 4, 2],\n",
       "       [4, 4, 4],\n",
       "       [4, 3, 3]])"
      ]
     },
     "execution_count": 8,
     "metadata": {},
     "output_type": "execute_result"
    }
   ],
   "source": [
    "arr1+arr2 #this not matrix sum , this is index sum"
   ]
  },
  {
   "cell_type": "code",
   "execution_count": null,
   "id": "12defd80-7791-41a7-b14c-ab76c24b4cd3",
   "metadata": {},
   "outputs": [],
   "source": [
    "#-martix multiplication , 1 rule 1m rxC , 2m Rxc  C of 1m and R of 2m should be qual\n",
    "\n",
    "2,2,1   1,2,2      2x1+2x2+1x1  2x2+2x1+1x1  2x2+2x1+1x1\n",
    "2,1,2   2,1,1      2x1+1x2+2x1  2x2+1x1+2x1  \n",
    "1,2,1   1,1,1"
   ]
  },
  {
   "cell_type": "code",
   "execution_count": 9,
   "id": "5f00b03b-ae67-4c6f-84e6-3909ac64bb34",
   "metadata": {},
   "outputs": [
    {
     "data": {
      "text/plain": [
       "array([[ 8,  7,  7],\n",
       "       [12, 10, 10],\n",
       "       [10,  9,  8]])"
      ]
     },
     "execution_count": 9,
     "metadata": {},
     "output_type": "execute_result"
    }
   ],
   "source": [
    "arr1@arr2   #----@ help to multiply matrix"
   ]
  },
  {
   "cell_type": "code",
   "execution_count": 38,
   "id": "a43af963-8707-4c25-bf70-b4bdcb954d0f",
   "metadata": {},
   "outputs": [
    {
     "name": "stderr",
     "output_type": "stream",
     "text": [
      "/tmp/ipykernel_70/1510032488.py:1: RuntimeWarning: divide by zero encountered in divide\n",
      "  arr1/0\n"
     ]
    },
    {
     "data": {
      "text/plain": [
       "array([[inf, inf, inf],\n",
       "       [inf, inf, inf],\n",
       "       [inf, inf, inf]])"
      ]
     },
     "execution_count": 38,
     "metadata": {},
     "output_type": "execute_result"
    }
   ],
   "source": [
    "arr1/0"
   ]
  },
  {
   "cell_type": "code",
   "execution_count": 11,
   "id": "6e82caeb-33df-4e78-8559-ad6f5450d77e",
   "metadata": {},
   "outputs": [
    {
     "data": {
      "text/plain": [
       "array([[101, 102, 101],\n",
       "       [102, 102, 102],\n",
       "       [102, 102, 101]])"
      ]
     },
     "execution_count": 11,
     "metadata": {},
     "output_type": "execute_result"
    }
   ],
   "source": [
    "arr1+100"
   ]
  },
  {
   "cell_type": "code",
   "execution_count": 12,
   "id": "dd49fdeb-6fc5-4e7d-b291-4b552bea018c",
   "metadata": {},
   "outputs": [
    {
     "data": {
      "text/plain": [
       "array([[0., 0., 0., 0.],\n",
       "       [0., 0., 0., 0.],\n",
       "       [0., 0., 0., 0.],\n",
       "       [0., 0., 0., 0.]])"
      ]
     },
     "execution_count": 12,
     "metadata": {},
     "output_type": "execute_result"
    }
   ],
   "source": [
    "#---------broadcasting  , row by row broadcasting kr ra h , means  change entier row\n",
    " \n",
    "arr3 = np.zeros((4,4))\n",
    "arr3"
   ]
  },
  {
   "cell_type": "code",
   "execution_count": 13,
   "id": "f8019e22-b47c-449c-b844-30206ff3e919",
   "metadata": {},
   "outputs": [
    {
     "data": {
      "text/plain": [
       "array([1, 2, 3, 4])"
      ]
     },
     "execution_count": 13,
     "metadata": {},
     "output_type": "execute_result"
    }
   ],
   "source": [
    "row = np.array([1,2,3,4])\n",
    "row"
   ]
  },
  {
   "cell_type": "code",
   "execution_count": 24,
   "id": "34d85a7d-60da-4070-9e51-9e3a9e0b6819",
   "metadata": {},
   "outputs": [
    {
     "data": {
      "text/plain": [
       "array([[0., 0., 0., 0.],\n",
       "       [0., 0., 0., 0.],\n",
       "       [0., 0., 0., 0.],\n",
       "       [0., 0., 0., 0.]])"
      ]
     },
     "execution_count": 24,
     "metadata": {},
     "output_type": "execute_result"
    }
   ],
   "source": [
    "arr3*row"
   ]
  },
  {
   "cell_type": "code",
   "execution_count": 25,
   "id": "d6f50f97-b487-44ff-8b40-0a9524c7f02a",
   "metadata": {},
   "outputs": [
    {
     "data": {
      "text/plain": [
       "array([[1, 2, 3, 4]])"
      ]
     },
     "execution_count": 25,
     "metadata": {},
     "output_type": "execute_result"
    }
   ],
   "source": [
    "#----------col wise broadcasting , firslty rotate row , but rotation only 2d\n",
    "\n",
    "row2 = np.array([[1,2,3,4]])\n",
    "row2"
   ]
  },
  {
   "cell_type": "code",
   "execution_count": 27,
   "id": "bfad5ae9-90c8-4a59-a6d7-adf9fbd443f2",
   "metadata": {},
   "outputs": [
    {
     "data": {
      "text/plain": [
       "array([[1],\n",
       "       [2],\n",
       "       [3],\n",
       "       [4]])"
      ]
     },
     "execution_count": 27,
     "metadata": {},
     "output_type": "execute_result"
    }
   ],
   "source": [
    "row2.T # transpose rotate into row to col"
   ]
  },
  {
   "cell_type": "code",
   "execution_count": 23,
   "id": "5cfb2ccb-8cad-47e7-ba46-f60d12f9bcfb",
   "metadata": {},
   "outputs": [
    {
     "data": {
      "text/plain": [
       "array([[1., 1., 1., 1.],\n",
       "       [2., 2., 2., 2.],\n",
       "       [3., 3., 3., 3.],\n",
       "       [4., 4., 4., 4.]])"
      ]
     },
     "execution_count": 23,
     "metadata": {},
     "output_type": "execute_result"
    }
   ],
   "source": [
    "row2.T+arr3    # then broadcasting"
   ]
  },
  {
   "cell_type": "code",
   "execution_count": 35,
   "id": "3cebe051-8992-485e-8bbc-14563c17ff62",
   "metadata": {},
   "outputs": [
    {
     "data": {
      "text/plain": [
       "array([[5, 5, 6, 6],\n",
       "       [6, 6, 5, 6],\n",
       "       [6, 5, 5, 5]])"
      ]
     },
     "execution_count": 35,
     "metadata": {},
     "output_type": "execute_result"
    }
   ],
   "source": [
    "arr4 = np.random.randint(5,7 ,(3,4))\n",
    "arr4"
   ]
  },
  {
   "cell_type": "code",
   "execution_count": 36,
   "id": "dcb7c1d6-ea21-4ffc-a7af-f085830f72c2",
   "metadata": {},
   "outputs": [
    {
     "data": {
      "text/plain": [
       "array([[2.23606798, 2.23606798, 2.44948974, 2.44948974],\n",
       "       [2.44948974, 2.44948974, 2.23606798, 2.44948974],\n",
       "       [2.44948974, 2.23606798, 2.23606798, 2.23606798]])"
      ]
     },
     "execution_count": 36,
     "metadata": {},
     "output_type": "execute_result"
    }
   ],
   "source": [
    "np.sqrt(arr4)"
   ]
  },
  {
   "cell_type": "code",
   "execution_count": 37,
   "id": "be5ed656-0dc4-4504-8414-fb9ce4eddd87",
   "metadata": {},
   "outputs": [
    {
     "data": {
      "text/plain": [
       "array([[0.69897   , 0.69897   , 0.77815125, 0.77815125],\n",
       "       [0.77815125, 0.77815125, 0.69897   , 0.77815125],\n",
       "       [0.77815125, 0.69897   , 0.69897   , 0.69897   ]])"
      ]
     },
     "execution_count": 37,
     "metadata": {},
     "output_type": "execute_result"
    }
   ],
   "source": [
    "np.log10(arr4)"
   ]
  },
  {
   "cell_type": "code",
   "execution_count": null,
   "id": "fb82c7d4-66c5-4387-818f-9ee2f08ba091",
   "metadata": {},
   "outputs": [],
   "source": []
  }
 ],
 "metadata": {
  "kernelspec": {
   "display_name": "Python 3 (ipykernel)",
   "language": "python",
   "name": "python3"
  },
  "language_info": {
   "codemirror_mode": {
    "name": "ipython",
    "version": 3
   },
   "file_extension": ".py",
   "mimetype": "text/x-python",
   "name": "python",
   "nbconvert_exporter": "python",
   "pygments_lexer": "ipython3",
   "version": "3.10.8"
  }
 },
 "nbformat": 4,
 "nbformat_minor": 5
}
