{
 "cells": [
  {
   "cell_type": "code",
   "execution_count": null,
   "id": "baca875c-1376-4a69-9a20-baee7280d7fd",
   "metadata": {},
   "outputs": [],
   "source": [
    "NumPy is a Python library.\n",
    "NumPy is used for working with arrays and matrices.\n",
    "numpy is for mathematical opreation\n",
    "NumPy is short for \"Numerical Python\".\n",
    "created in 2005 by Travis Oliphant."
   ]
  },
  {
   "cell_type": "code",
   "execution_count": null,
   "id": "e010c6ca-1de2-4f6a-be8b-067698b69ff5",
   "metadata": {},
   "outputs": [],
   "source": [
    "in numpy array is super class  , and matrix subclass / subset of arr"
   ]
  },
  {
   "cell_type": "code",
   "execution_count": 5,
   "id": "18814036-6403-4e88-8eb1-41cb2d9befc4",
   "metadata": {},
   "outputs": [],
   "source": [
    "import numpy as np"
   ]
  },
  {
   "cell_type": "code",
   "execution_count": 2,
   "id": "d88a2a1b-5811-4805-8e58-4ee245c408cb",
   "metadata": {},
   "outputs": [],
   "source": [
    "l = [1,2,3,4]"
   ]
  },
  {
   "cell_type": "code",
   "execution_count": 38,
   "id": "a026d535-7538-4faf-b817-113de50fb050",
   "metadata": {},
   "outputs": [
    {
     "data": {
      "text/plain": [
       "array([1, 2, 3, 4])"
      ]
     },
     "execution_count": 38,
     "metadata": {},
     "output_type": "execute_result"
    }
   ],
   "source": [
    "ar = np.array(l) \n",
    "ar #convert list into arr , array pack"
   ]
  },
  {
   "cell_type": "code",
   "execution_count": 11,
   "id": "0f5a09ab-626c-437c-a4bf-76f700d8bb37",
   "metadata": {},
   "outputs": [
    {
     "data": {
      "text/plain": [
       "numpy.ndarray"
      ]
     },
     "execution_count": 11,
     "metadata": {},
     "output_type": "execute_result"
    }
   ],
   "source": [
    "type(ar)  # ndarray n dimensional array"
   ]
  },
  {
   "cell_type": "code",
   "execution_count": 13,
   "id": "ba0717d2-0ad4-4907-99a3-83779c713ca8",
   "metadata": {},
   "outputs": [
    {
     "data": {
      "text/plain": [
       "array([[1, 2],\n",
       "       [3, 4]])"
      ]
     },
     "execution_count": 13,
     "metadata": {},
     "output_type": "execute_result"
    }
   ],
   "source": [
    "a2=np.array([[1,2] , [3,4]]) #2d arr , coordinate 0,1,2 and values 3.4,2,5,6\n",
    "a2"
   ]
  },
  {
   "cell_type": "code",
   "execution_count": 14,
   "id": "ab6a7ad6-c30b-4070-abad-a0638aa08dd8",
   "metadata": {},
   "outputs": [
    {
     "data": {
      "text/plain": [
       "array([[1, 2],\n",
       "       [3, 4]])"
      ]
     },
     "execution_count": 14,
     "metadata": {},
     "output_type": "execute_result"
    }
   ],
   "source": [
    "np.asarray(a2) "
   ]
  },
  {
   "cell_type": "code",
   "execution_count": 22,
   "id": "3a61d79d-4155-4571-8f84-a3314b8fe24b",
   "metadata": {},
   "outputs": [
    {
     "data": {
      "text/plain": [
       "matrix([[1, 2, 3, 4]])"
      ]
     },
     "execution_count": 22,
     "metadata": {},
     "output_type": "execute_result"
    }
   ],
   "source": [
    "#-------------matrix bydefault 2d , subset of array\n",
    "\n",
    "b= np.matrix(l)\n",
    "b"
   ]
  },
  {
   "cell_type": "code",
   "execution_count": 23,
   "id": "0ff4ffa0-5a6a-4470-99d3-4fd4e40cd166",
   "metadata": {},
   "outputs": [
    {
     "data": {
      "text/plain": [
       "matrix([[1, 2, 3, 4]])"
      ]
     },
     "execution_count": 23,
     "metadata": {},
     "output_type": "execute_result"
    }
   ],
   "source": [
    "np.asanyarray(b) #cant convert into arr , because matrix is subset or form of array"
   ]
  },
  {
   "cell_type": "code",
   "execution_count": 39,
   "id": "c6c4bea7-a928-49ed-b8e3-646f998906aa",
   "metadata": {},
   "outputs": [
    {
     "data": {
      "text/plain": [
       "array([1, 2, 3, 4])"
      ]
     },
     "execution_count": 39,
     "metadata": {},
     "output_type": "execute_result"
    }
   ],
   "source": [
    "ar"
   ]
  },
  {
   "cell_type": "code",
   "execution_count": 40,
   "id": "11a34866-f079-4cde-b25f-aa4b5e6250b3",
   "metadata": {},
   "outputs": [
    {
     "name": "stdout",
     "output_type": "stream",
     "text": [
      "7\n"
     ]
    }
   ],
   "source": [
    "print(ar[2] + ar[3])"
   ]
  },
  {
   "cell_type": "code",
   "execution_count": 41,
   "id": "0b9f099e-cc41-46ca-95d5-caee8e8a354b",
   "metadata": {},
   "outputs": [
    {
     "data": {
      "text/plain": [
       "array([1, 2, 3, 4])"
      ]
     },
     "execution_count": 41,
     "metadata": {},
     "output_type": "execute_result"
    }
   ],
   "source": [
    "# ar share same property and location with c \n",
    "\n",
    "c=ar\n",
    "c # c point ar var , c is shallow location are same , view"
   ]
  },
  {
   "cell_type": "code",
   "execution_count": 42,
   "id": "96f758e2-d1fb-4313-aab5-7f730b67c3e7",
   "metadata": {},
   "outputs": [
    {
     "data": {
      "text/plain": [
       "array([100,   2,   3,   4])"
      ]
     },
     "execution_count": 42,
     "metadata": {},
     "output_type": "execute_result"
    }
   ],
   "source": [
    "c[0]=100 # shallow copy\n",
    "c"
   ]
  },
  {
   "cell_type": "code",
   "execution_count": 43,
   "id": "86a1d860-df3f-41b6-964e-6ef07709f89b",
   "metadata": {},
   "outputs": [
    {
     "data": {
      "text/plain": [
       "array([100,   2,   3,   4])"
      ]
     },
     "execution_count": 43,
     "metadata": {},
     "output_type": "execute_result"
    }
   ],
   "source": [
    "ar"
   ]
  },
  {
   "cell_type": "code",
   "execution_count": 44,
   "id": "c9bd4d58-ed27-4e65-bc8e-91526bb234d8",
   "metadata": {},
   "outputs": [
    {
     "data": {
      "text/plain": [
       "array([100,   2,   3,   4])"
      ]
     },
     "execution_count": 44,
     "metadata": {},
     "output_type": "execute_result"
    }
   ],
   "source": [
    "d= np.copy(ar)  #d -copy ar var value in location  , deep copy location are diff\n",
    "d"
   ]
  },
  {
   "cell_type": "code",
   "execution_count": 46,
   "id": "7784192f-7bd3-49d4-a1cc-392913a08391",
   "metadata": {},
   "outputs": [
    {
     "data": {
      "text/plain": [
       "array([100, 200,   3,   4])"
      ]
     },
     "execution_count": 46,
     "metadata": {},
     "output_type": "execute_result"
    }
   ],
   "source": [
    "ar[1]=200\n",
    "ar  "
   ]
  },
  {
   "cell_type": "code",
   "execution_count": 47,
   "id": "254a2c8a-95cc-45af-a119-fdaa06ce0fd5",
   "metadata": {},
   "outputs": [
    {
     "data": {
      "text/plain": [
       "array([100,   2,   3,   4])"
      ]
     },
     "execution_count": 47,
     "metadata": {},
     "output_type": "execute_result"
    }
   ],
   "source": [
    "d #d cant not change , buz d copy a in diff location "
   ]
  },
  {
   "cell_type": "markdown",
   "id": "93aa299b-f5c3-42ef-be7b-3088d5d3a255",
   "metadata": {},
   "source": [
    "#  ff() fromfunction()"
   ]
  },
  {
   "cell_type": "code",
   "execution_count": 19,
   "id": "bde1dfb1-e122-4a8e-8387-8e62adbadb49",
   "metadata": {},
   "outputs": [
    {
     "data": {
      "text/plain": [
       "array([[ True, False, False],\n",
       "       [False,  True, False],\n",
       "       [False, False,  True]])"
      ]
     },
     "execution_count": 19,
     "metadata": {},
     "output_type": "execute_result"
    }
   ],
   "source": [
    "#-----------ff() iske andr jo fun likhenge uske according data generate krega\n",
    "# its help to interms of genertate array at any point\n",
    "\n",
    "np.fromfunction(lambda i, j: i==j, (3,3))"
   ]
  },
  {
   "cell_type": "code",
   "execution_count": 48,
   "id": "c1910eca-e94f-4794-aa20-1fb7383169e4",
   "metadata": {},
   "outputs": [
    {
     "data": {
      "text/plain": [
       "array([[0., 1., 2.],\n",
       "       [1., 2., 3.],\n",
       "       [2., 3., 4.]])"
      ]
     },
     "execution_count": 48,
     "metadata": {},
     "output_type": "execute_result"
    }
   ],
   "source": [
    "np.fromfunction(lambda i,j : i+j,(3,3))"
   ]
  },
  {
   "cell_type": "code",
   "execution_count": 21,
   "id": "d390b8b4-0d28-42a8-bfc8-f14a5108af3c",
   "metadata": {},
   "outputs": [
    {
     "data": {
      "text/plain": [
       "array([[0., 0., 0.],\n",
       "       [0., 1., 2.],\n",
       "       [0., 2., 4.]])"
      ]
     },
     "execution_count": 21,
     "metadata": {},
     "output_type": "execute_result"
    }
   ],
   "source": [
    "np.fromfunction(lambda i, j: i*j, (3,3))"
   ]
  },
  {
   "cell_type": "markdown",
   "id": "c3f9375f-d702-498e-8e0c-1de6e777ff42",
   "metadata": {},
   "source": [
    "# fromiter() fromstring()"
   ]
  },
  {
   "cell_type": "code",
   "execution_count": 60,
   "id": "a6cbb870-ad9f-44be-b605-a1e19939c68f",
   "metadata": {},
   "outputs": [],
   "source": [
    "it = (i+i for i in range (5))"
   ]
  },
  {
   "cell_type": "code",
   "execution_count": 61,
   "id": "dbd6d0b4-59df-4cf2-b095-0e3f8b1de47d",
   "metadata": {},
   "outputs": [
    {
     "data": {
      "text/plain": [
       "array([0., 2., 4., 6., 8.])"
      ]
     },
     "execution_count": 61,
     "metadata": {},
     "output_type": "execute_result"
    }
   ],
   "source": [
    "np.fromiter(it, float )"
   ]
  },
  {
   "cell_type": "code",
   "execution_count": null,
   "id": "76d10fa1-67fe-4e84-a972-43d992341d5b",
   "metadata": {},
   "outputs": [],
   "source": [
    "✅ Use np.array(listt) for string data.\n",
    "✅ Use np.fromstring() only if you have a single numeric string or data.\n",
    "❌ np.fromstring() does not work with a list of strings."
   ]
  },
  {
   "cell_type": "code",
   "execution_count": 75,
   "id": "8b523cba-83c2-4080-a069-40e26e7b6a3b",
   "metadata": {},
   "outputs": [
    {
     "ename": "TypeError",
     "evalue": "a bytes-like object is required, not 'list'",
     "output_type": "error",
     "traceback": [
      "\u001b[1;31m---------------------------------------------------------------------------\u001b[0m",
      "\u001b[1;31mTypeError\u001b[0m                                 Traceback (most recent call last)",
      "Cell \u001b[1;32mIn[75], line 3\u001b[0m\n\u001b[0;32m      1\u001b[0m \u001b[38;5;28mlist\u001b[39m\u001b[38;5;241m=\u001b[39m[\u001b[38;5;124m'\u001b[39m\u001b[38;5;124ma\u001b[39m\u001b[38;5;124m'\u001b[39m,\u001b[38;5;124m'\u001b[39m\u001b[38;5;124mb\u001b[39m\u001b[38;5;124m'\u001b[39m,\u001b[38;5;124m'\u001b[39m\u001b[38;5;124msufeeya Parween\u001b[39m\u001b[38;5;124m'\u001b[39m]\n\u001b[1;32m----> 3\u001b[0m \u001b[43mnp\u001b[49m\u001b[38;5;241;43m.\u001b[39;49m\u001b[43mfromstring\u001b[49m\u001b[43m(\u001b[49m\u001b[38;5;28;43mlist\u001b[39;49m\u001b[43m,\u001b[49m\u001b[43m \u001b[49m\u001b[43msep\u001b[49m\u001b[38;5;241;43m=\u001b[39;49m\u001b[43m \u001b[49m\u001b[38;5;124;43m'\u001b[39;49m\u001b[38;5;124;43m,\u001b[39;49m\u001b[38;5;124;43m'\u001b[39;49m\u001b[43m)\u001b[49m\n",
      "\u001b[1;31mTypeError\u001b[0m: a bytes-like object is required, not 'list'"
     ]
    }
   ],
   "source": [
    "list=['a','b','sufeeya Parween']\n",
    "\n",
    "np.fromstring(list, sep= ',')"
   ]
  },
  {
   "cell_type": "code",
   "execution_count": null,
   "id": "01873b9b-fbb8-4f3e-a001-7813ddb62864",
   "metadata": {},
   "outputs": [],
   "source": [
    "TypeError because np.fromstring() expects a single string,\n",
    "but you're passing a list. Additionally, np.fromstring() is designed for numeric data, \n",
    "so it won't work with non-numeric strings like 'a' and 'sufeeya Parween'."
   ]
  },
  {
   "cell_type": "code",
   "execution_count": 84,
   "id": "d065418c-cf1a-4bc8-ba56-b043b65a86f4",
   "metadata": {},
   "outputs": [
    {
     "data": {
      "text/plain": [
       "array(['a', 'b', 'sufeeya Parween'], dtype='<U15')"
      ]
     },
     "execution_count": 84,
     "metadata": {},
     "output_type": "execute_result"
    }
   ],
   "source": [
    "# 1---approach\n",
    "np.array(listt)  # Convert list to NumPy array"
   ]
  },
  {
   "cell_type": "code",
   "execution_count": 77,
   "id": "f48e2847-04a9-4da5-851e-494eb81b6c5f",
   "metadata": {},
   "outputs": [
    {
     "data": {
      "text/plain": [
       "numpy.ndarray"
      ]
     },
     "execution_count": 77,
     "metadata": {},
     "output_type": "execute_result"
    }
   ],
   "source": [
    "type(np_array)"
   ]
  },
  {
   "cell_type": "code",
   "execution_count": 78,
   "id": "4edd4a18-197d-4595-a613-b2af12be5cb6",
   "metadata": {},
   "outputs": [
    {
     "data": {
      "text/plain": [
       "array([234., 345.])"
      ]
     },
     "execution_count": 78,
     "metadata": {},
     "output_type": "execute_result"
    }
   ],
   "source": [
    "# convert str into arr\n",
    "afs =np.fromstring('234 345', sep= ' ')\n",
    "afs"
   ]
  },
  {
   "cell_type": "code",
   "execution_count": 79,
   "id": "a7c2ccba-87b2-4181-9c90-cdbc34ab585d",
   "metadata": {},
   "outputs": [
    {
     "data": {
      "text/plain": [
       "numpy.ndarray"
      ]
     },
     "execution_count": 79,
     "metadata": {},
     "output_type": "execute_result"
    }
   ],
   "source": [
    "type(afs)"
   ]
  },
  {
   "cell_type": "code",
   "execution_count": 83,
   "id": "6dc9cb95-636d-4a4a-a270-75db6ab16698",
   "metadata": {},
   "outputs": [
    {
     "data": {
      "text/plain": [
       "array([1., 2., 3., 4.])"
      ]
     },
     "execution_count": 83,
     "metadata": {},
     "output_type": "execute_result"
    }
   ],
   "source": [
    "numeric_string = \"1,2,3,4\"\n",
    "np.fromstring(numeric_string, sep=',')"
   ]
  },
  {
   "cell_type": "markdown",
   "id": "eb32e9f2-9015-42ef-86f9-c8342d75127d",
   "metadata": {},
   "source": [
    "# numpy data type"
   ]
  },
  {
   "cell_type": "code",
   "execution_count": 85,
   "id": "f6fbab0d-d5c1-472e-b7ba-e5c154f66f2a",
   "metadata": {},
   "outputs": [],
   "source": [
    "l= [2,3,4,5,6]"
   ]
  },
  {
   "cell_type": "code",
   "execution_count": 86,
   "id": "1aa64355-19cd-40af-b40f-28f9e86ac932",
   "metadata": {},
   "outputs": [
    {
     "data": {
      "text/plain": [
       "array([2, 3, 4, 5, 6])"
      ]
     },
     "execution_count": 86,
     "metadata": {},
     "output_type": "execute_result"
    }
   ],
   "source": [
    "arr = np.array(l)\n",
    "arr"
   ]
  },
  {
   "cell_type": "code",
   "execution_count": 35,
   "id": "97cd4a7f-c09e-4172-8920-90b99201c673",
   "metadata": {},
   "outputs": [
    {
     "data": {
      "text/plain": [
       "1"
      ]
     },
     "execution_count": 35,
     "metadata": {},
     "output_type": "execute_result"
    }
   ],
   "source": [
    "#------many dimensions the arrays have:\n",
    "\n",
    "arr.ndim"
   ]
  },
  {
   "cell_type": "code",
   "execution_count": 87,
   "id": "e90dced8-2dca-4202-8c60-b8414fbc6e63",
   "metadata": {},
   "outputs": [
    {
     "data": {
      "text/plain": [
       "2"
      ]
     },
     "execution_count": 87,
     "metadata": {},
     "output_type": "execute_result"
    }
   ],
   "source": [
    "ar2= np.array([[1, 2, 3], [4, 5, 6]])\n",
    "ar2.ndim"
   ]
  },
  {
   "cell_type": "code",
   "execution_count": 88,
   "id": "4507d057-28b5-45cd-85c4-38741f789a13",
   "metadata": {},
   "outputs": [
    {
     "data": {
      "text/plain": [
       "5"
      ]
     },
     "execution_count": 88,
     "metadata": {},
     "output_type": "execute_result"
    }
   ],
   "source": [
    "arr.size"
   ]
  },
  {
   "cell_type": "code",
   "execution_count": 32,
   "id": "c5a701b4-79ee-4497-b628-ef61169e688b",
   "metadata": {},
   "outputs": [
    {
     "data": {
      "text/plain": [
       "(2, 3)"
      ]
     },
     "execution_count": 32,
     "metadata": {},
     "output_type": "execute_result"
    }
   ],
   "source": [
    "ar2.shape # 2, 3 --2r and 3col"
   ]
  },
  {
   "cell_type": "code",
   "execution_count": 2,
   "id": "8b3c387f-c77a-4afb-84bf-66860e89c74c",
   "metadata": {},
   "outputs": [
    {
     "data": {
      "text/plain": [
       "3"
      ]
     },
     "execution_count": 2,
     "metadata": {},
     "output_type": "execute_result"
    }
   ],
   "source": [
    "d = np.array([[[1, 2, 3], [4, 5, 6]], [[1, 2, 3], [4, 5, 6]]])\n",
    "d.ndim"
   ]
  },
  {
   "cell_type": "code",
   "execution_count": 4,
   "id": "3dc1e3ba-d575-428c-9adf-0f66e5343f9e",
   "metadata": {},
   "outputs": [
    {
     "data": {
      "text/plain": [
       "12"
      ]
     },
     "execution_count": 4,
     "metadata": {},
     "output_type": "execute_result"
    }
   ],
   "source": [
    "d.size"
   ]
  },
  {
   "cell_type": "code",
   "execution_count": 5,
   "id": "a6d140c3-c4b6-491e-9326-10cede78e046",
   "metadata": {},
   "outputs": [
    {
     "data": {
      "text/plain": [
       "(2, 2, 3)"
      ]
     },
     "execution_count": 5,
     "metadata": {},
     "output_type": "execute_result"
    }
   ],
   "source": [
    "d.shape"
   ]
  },
  {
   "cell_type": "code",
   "execution_count": 97,
   "id": "7d020b22-84ab-423d-915c-7ee699939fb3",
   "metadata": {},
   "outputs": [
    {
     "name": "stdout",
     "output_type": "stream",
     "text": [
      "[[[[[[1 2 3 4]]]]]]\n",
      "number of dimensions : 6\n"
     ]
    }
   ],
   "source": [
    "ar3 = np.array([1, 2, 3, 4], ndmin=6)\n",
    "\n",
    "print(ar3)\n",
    "print('number of dimensions :', ar3.ndim)"
   ]
  },
  {
   "cell_type": "code",
   "execution_count": 98,
   "id": "a38b8d43-e49d-445b-8b7b-c1d4aa3d2b11",
   "metadata": {},
   "outputs": [
    {
     "data": {
      "text/plain": [
       "array([[ 1.4, 45. , 45. ],\n",
       "       [23. , 45. , 66. ]])"
      ]
     },
     "execution_count": 98,
     "metadata": {},
     "output_type": "execute_result"
    }
   ],
   "source": [
    "ar4 = np.array([(1.4, 45,45) , (23,45,66)]) # all float dtype , float take more space than int\n",
    "ar4 "
   ]
  },
  {
   "cell_type": "code",
   "execution_count": 37,
   "id": "c2e652b0-ccc0-4422-b0e2-f9e923cc0ffa",
   "metadata": {},
   "outputs": [
    {
     "data": {
      "text/plain": [
       "[0, 1, 2, 3, 4]"
      ]
     },
     "execution_count": 37,
     "metadata": {},
     "output_type": "execute_result"
    }
   ],
   "source": [
    "list(range(5))    # range always take int, not float "
   ]
  },
  {
   "cell_type": "code",
   "execution_count": 99,
   "id": "46999b3b-6c45-4dbd-9f96-fc57bc3f82c7",
   "metadata": {},
   "outputs": [
    {
     "data": {
      "text/plain": [
       "array([2.3, 3.3, 4.3, 5.3])"
      ]
     },
     "execution_count": 99,
     "metadata": {},
     "output_type": "execute_result"
    }
   ],
   "source": [
    "#-----produce floating number with the help of numpy\n",
    "\n",
    "np.arange(2.3, 5.6)"
   ]
  },
  {
   "cell_type": "code",
   "execution_count": 40,
   "id": "db58adae-2fcd-48bb-9e2b-614d7f31107c",
   "metadata": {},
   "outputs": [
    {
     "data": {
      "text/plain": [
       "array([2.5, 2.8, 3.1, 3.4, 3.7, 4. , 4.3, 4.6, 4.9, 5.2, 5.5])"
      ]
     },
     "execution_count": 40,
     "metadata": {},
     "output_type": "execute_result"
    }
   ],
   "source": [
    "np.arange(2.5,5.6,.3) #jumpe with .3"
   ]
  },
  {
   "cell_type": "code",
   "execution_count": 41,
   "id": "1b0a7041-3f2b-4453-a98e-8e0192f492cd",
   "metadata": {},
   "outputs": [
    {
     "data": {
      "text/plain": [
       "array([1.        , 1.44444444, 1.88888889, 2.33333333, 2.77777778,\n",
       "       3.22222222, 3.66666667, 4.11111111, 4.55555556, 5.        ])"
      ]
     },
     "execution_count": 41,
     "metadata": {},
     "output_type": "execute_result"
    }
   ],
   "source": [
    "np.linspace(1,5,10)"
   ]
  },
  {
   "cell_type": "code",
   "execution_count": 42,
   "id": "956eb93f-b6f3-4159-a614-6537c9f4e635",
   "metadata": {},
   "outputs": [
    {
     "data": {
      "text/plain": [
       "array([0., 0., 0., 0., 0.])"
      ]
     },
     "execution_count": 42,
     "metadata": {},
     "output_type": "execute_result"
    }
   ],
   "source": [
    "np.zeros(5)"
   ]
  },
  {
   "cell_type": "code",
   "execution_count": 43,
   "id": "52e0afde-a414-42d2-be0f-2abdabc3765e",
   "metadata": {},
   "outputs": [
    {
     "data": {
      "text/plain": [
       "array([[0., 0., 0., 0.],\n",
       "       [0., 0., 0., 0.],\n",
       "       [0., 0., 0., 0.]])"
      ]
     },
     "execution_count": 43,
     "metadata": {},
     "output_type": "execute_result"
    }
   ],
   "source": [
    "np.zeros((3,4))"
   ]
  },
  {
   "cell_type": "code",
   "execution_count": 109,
   "id": "418360a9-1369-4c9f-bd56-9ca63826b329",
   "metadata": {},
   "outputs": [
    {
     "data": {
      "text/plain": [
       "array([[[1., 1.],\n",
       "        [1., 1.],\n",
       "        [1., 1.]],\n",
       "\n",
       "       [[1., 1.],\n",
       "        [1., 1.],\n",
       "        [1., 1.]]])"
      ]
     },
     "execution_count": 109,
     "metadata": {},
     "output_type": "execute_result"
    }
   ],
   "source": [
    "on = np.ones((2,3,2))\n",
    "on"
   ]
  },
  {
   "cell_type": "code",
   "execution_count": 110,
   "id": "3f4df08c-7440-4e6f-9b60-6c5de6508efe",
   "metadata": {},
   "outputs": [
    {
     "data": {
      "text/plain": [
       "array([[[21., 21.],\n",
       "        [21., 21.],\n",
       "        [21., 21.]],\n",
       "\n",
       "       [[21., 21.],\n",
       "        [21., 21.],\n",
       "        [21., 21.]]])"
      ]
     },
     "execution_count": 110,
     "metadata": {},
     "output_type": "execute_result"
    }
   ],
   "source": [
    "on+5*4"
   ]
  },
  {
   "cell_type": "code",
   "execution_count": 118,
   "id": "3b10e387-8147-47cb-a89c-16c0c26f313f",
   "metadata": {},
   "outputs": [
    {
     "data": {
      "text/plain": [
       "array([[0.00000000e+000, 0.00000000e+000, 0.00000000e+000,\n",
       "        0.00000000e+000, 0.00000000e+000],\n",
       "       [0.00000000e+000, 0.00000000e+000, 0.00000000e+000,\n",
       "        0.00000000e+000, 0.00000000e+000],\n",
       "       [0.00000000e+000, 0.00000000e+000, 0.00000000e+000,\n",
       "        0.00000000e+000, 2.96342369e+296]])"
      ]
     },
     "execution_count": 118,
     "metadata": {},
     "output_type": "execute_result"
    }
   ],
   "source": [
    "np.empty((3,5))"
   ]
  },
  {
   "cell_type": "code",
   "execution_count": 108,
   "id": "1197d06a-1ea2-49f5-9209-c7c36967a9b5",
   "metadata": {},
   "outputs": [
    {
     "data": {
      "text/plain": [
       "array([[1., 0., 0., 0.],\n",
       "       [0., 1., 0., 0.],\n",
       "       [0., 0., 1., 0.],\n",
       "       [0., 0., 0., 1.]])"
      ]
     },
     "execution_count": 108,
     "metadata": {},
     "output_type": "execute_result"
    }
   ],
   "source": [
    "#-identity matrix - square matrix\n",
    "\n",
    "np.eye(4)"
   ]
  },
  {
   "cell_type": "code",
   "execution_count": 119,
   "id": "b0ae6ca5-e7a0-49e4-8184-3deb0c4212a8",
   "metadata": {},
   "outputs": [
    {
     "data": {
      "text/plain": [
       "array([ 4.        ,  5.0396842 ,  6.34960421,  8.        , 10.0793684 ,\n",
       "       12.69920842, 16.        , 20.1587368 , 25.39841683, 32.        ])"
      ]
     },
     "execution_count": 119,
     "metadata": {},
     "output_type": "execute_result"
    }
   ],
   "source": [
    "np.logspace(2,5 , 10 , base = 2)"
   ]
  },
  {
   "cell_type": "markdown",
   "id": "12290b79-cc46-4065-8b9c-a1ae01da7f6c",
   "metadata": {},
   "source": [
    "# random data generate.\n",
    "* *diff randn and rand:-\n",
    "* 1-randn me mean avg=0 , std =1 data produce krega.\n",
    "* 2-rand it just generate data randomly.\n"
   ]
  },
  {
   "cell_type": "code",
   "execution_count": 8,
   "id": "ee484f75-0cd7-42ca-8518-ff1edbd0445b",
   "metadata": {},
   "outputs": [
    {
     "data": {
      "text/plain": [
       "array([[-1.65254774,  0.51132459, -0.62603704,  0.24636539],\n",
       "       [ 0.92775926,  0.02695142, -0.48221   ,  0.15938931],\n",
       "       [-0.87868363, -0.5948429 ,  0.23810937, -1.54889955]])"
      ]
     },
     "execution_count": 8,
     "metadata": {},
     "output_type": "execute_result"
    }
   ],
   "source": [
    "# -------in numpy there is a random (), ussme randomly jis shape ya size ka data generate kr skte h\n",
    "\n",
    "ar5 = np.random.randn(3,4)   # randn me mean avg=0 , std =1 data produce krega\n",
    "ar5"
   ]
  },
  {
   "cell_type": "code",
   "execution_count": 9,
   "id": "8b097d6e-0c6f-4f9a-88b0-bd6a3dc16625",
   "metadata": {},
   "outputs": [
    {
     "data": {
      "text/html": [
       "<div>\n",
       "<style scoped>\n",
       "    .dataframe tbody tr th:only-of-type {\n",
       "        vertical-align: middle;\n",
       "    }\n",
       "\n",
       "    .dataframe tbody tr th {\n",
       "        vertical-align: top;\n",
       "    }\n",
       "\n",
       "    .dataframe thead th {\n",
       "        text-align: right;\n",
       "    }\n",
       "</style>\n",
       "<table border=\"1\" class=\"dataframe\">\n",
       "  <thead>\n",
       "    <tr style=\"text-align: right;\">\n",
       "      <th></th>\n",
       "      <th>0</th>\n",
       "      <th>1</th>\n",
       "      <th>2</th>\n",
       "      <th>3</th>\n",
       "    </tr>\n",
       "  </thead>\n",
       "  <tbody>\n",
       "    <tr>\n",
       "      <th>0</th>\n",
       "      <td>-1.652548</td>\n",
       "      <td>0.511325</td>\n",
       "      <td>-0.626037</td>\n",
       "      <td>0.246365</td>\n",
       "    </tr>\n",
       "    <tr>\n",
       "      <th>1</th>\n",
       "      <td>0.927759</td>\n",
       "      <td>0.026951</td>\n",
       "      <td>-0.482210</td>\n",
       "      <td>0.159389</td>\n",
       "    </tr>\n",
       "    <tr>\n",
       "      <th>2</th>\n",
       "      <td>-0.878684</td>\n",
       "      <td>-0.594843</td>\n",
       "      <td>0.238109</td>\n",
       "      <td>-1.548900</td>\n",
       "    </tr>\n",
       "  </tbody>\n",
       "</table>\n",
       "</div>"
      ],
      "text/plain": [
       "          0         1         2         3\n",
       "0 -1.652548  0.511325 -0.626037  0.246365\n",
       "1  0.927759  0.026951 -0.482210  0.159389\n",
       "2 -0.878684 -0.594843  0.238109 -1.548900"
      ]
     },
     "execution_count": 9,
     "metadata": {},
     "output_type": "execute_result"
    }
   ],
   "source": [
    "import pandas as pd\n",
    "\n",
    "pd.DataFrame(ar5)"
   ]
  },
  {
   "cell_type": "code",
   "execution_count": 122,
   "id": "93820c10-3f3a-4ce9-963d-e7a64eeff825",
   "metadata": {},
   "outputs": [
    {
     "data": {
      "text/plain": [
       "array([[0.03116431, 0.17306191, 0.73429533, 0.40644832],\n",
       "       [0.10538608, 0.99913422, 0.87858674, 0.81929505],\n",
       "       [0.8356181 , 0.77927034, 0.55831006, 0.53820805]])"
      ]
     },
     "execution_count": 122,
     "metadata": {},
     "output_type": "execute_result"
    }
   ],
   "source": [
    "np.random.rand(3,4) # its just generate data randomly"
   ]
  },
  {
   "cell_type": "code",
   "execution_count": 29,
   "id": "21ef2b9f-f155-4e1c-872a-8b64f7f60b13",
   "metadata": {},
   "outputs": [
    {
     "data": {
      "text/plain": [
       "array([[ 89, 139,   8, 171],\n",
       "       [ 36, 145, 114,  79],\n",
       "       [ 40, 185, 143, 192],\n",
       "       [ 21,  80,  98,  23],\n",
       "       [ 39, 196,  66, 115]], dtype=int32)"
      ]
     },
     "execution_count": 29,
     "metadata": {},
     "output_type": "execute_result"
    }
   ],
   "source": [
    "# only produce int \n",
    "\n",
    "np.random.randint(1,200, (5,4))"
   ]
  },
  {
   "cell_type": "code",
   "execution_count": 30,
   "id": "f05986cf-a340-4b88-b88b-e539f69a3144",
   "metadata": {},
   "outputs": [],
   "source": [
    "pd.DataFrame(np.random.randint(1,110, (300,400)) ).to_csv('array_data.csv')  # 1,110 se random data lega"
   ]
  },
  {
   "cell_type": "code",
   "execution_count": 31,
   "id": "cb99e2c8-a922-4683-8d1c-de57ecd5039c",
   "metadata": {},
   "outputs": [
    {
     "data": {
      "text/html": [
       "<div>\n",
       "<style scoped>\n",
       "    .dataframe tbody tr th:only-of-type {\n",
       "        vertical-align: middle;\n",
       "    }\n",
       "\n",
       "    .dataframe tbody tr th {\n",
       "        vertical-align: top;\n",
       "    }\n",
       "\n",
       "    .dataframe thead th {\n",
       "        text-align: right;\n",
       "    }\n",
       "</style>\n",
       "<table border=\"1\" class=\"dataframe\">\n",
       "  <thead>\n",
       "    <tr style=\"text-align: right;\">\n",
       "      <th></th>\n",
       "      <th>Unnamed: 0</th>\n",
       "      <th>0</th>\n",
       "      <th>1</th>\n",
       "      <th>2</th>\n",
       "      <th>3</th>\n",
       "      <th>4</th>\n",
       "      <th>5</th>\n",
       "      <th>6</th>\n",
       "      <th>7</th>\n",
       "      <th>8</th>\n",
       "      <th>...</th>\n",
       "      <th>390</th>\n",
       "      <th>391</th>\n",
       "      <th>392</th>\n",
       "      <th>393</th>\n",
       "      <th>394</th>\n",
       "      <th>395</th>\n",
       "      <th>396</th>\n",
       "      <th>397</th>\n",
       "      <th>398</th>\n",
       "      <th>399</th>\n",
       "    </tr>\n",
       "  </thead>\n",
       "  <tbody>\n",
       "    <tr>\n",
       "      <th>0</th>\n",
       "      <td>0</td>\n",
       "      <td>12</td>\n",
       "      <td>65</td>\n",
       "      <td>1</td>\n",
       "      <td>27</td>\n",
       "      <td>32</td>\n",
       "      <td>56</td>\n",
       "      <td>90</td>\n",
       "      <td>54</td>\n",
       "      <td>20</td>\n",
       "      <td>...</td>\n",
       "      <td>28</td>\n",
       "      <td>5</td>\n",
       "      <td>102</td>\n",
       "      <td>26</td>\n",
       "      <td>67</td>\n",
       "      <td>91</td>\n",
       "      <td>78</td>\n",
       "      <td>89</td>\n",
       "      <td>74</td>\n",
       "      <td>34</td>\n",
       "    </tr>\n",
       "    <tr>\n",
       "      <th>1</th>\n",
       "      <td>1</td>\n",
       "      <td>65</td>\n",
       "      <td>63</td>\n",
       "      <td>66</td>\n",
       "      <td>85</td>\n",
       "      <td>46</td>\n",
       "      <td>69</td>\n",
       "      <td>82</td>\n",
       "      <td>88</td>\n",
       "      <td>53</td>\n",
       "      <td>...</td>\n",
       "      <td>25</td>\n",
       "      <td>81</td>\n",
       "      <td>45</td>\n",
       "      <td>88</td>\n",
       "      <td>52</td>\n",
       "      <td>62</td>\n",
       "      <td>64</td>\n",
       "      <td>2</td>\n",
       "      <td>1</td>\n",
       "      <td>3</td>\n",
       "    </tr>\n",
       "    <tr>\n",
       "      <th>2</th>\n",
       "      <td>2</td>\n",
       "      <td>13</td>\n",
       "      <td>70</td>\n",
       "      <td>13</td>\n",
       "      <td>100</td>\n",
       "      <td>32</td>\n",
       "      <td>97</td>\n",
       "      <td>108</td>\n",
       "      <td>31</td>\n",
       "      <td>82</td>\n",
       "      <td>...</td>\n",
       "      <td>81</td>\n",
       "      <td>49</td>\n",
       "      <td>77</td>\n",
       "      <td>34</td>\n",
       "      <td>21</td>\n",
       "      <td>3</td>\n",
       "      <td>48</td>\n",
       "      <td>41</td>\n",
       "      <td>107</td>\n",
       "      <td>77</td>\n",
       "    </tr>\n",
       "    <tr>\n",
       "      <th>3</th>\n",
       "      <td>3</td>\n",
       "      <td>8</td>\n",
       "      <td>87</td>\n",
       "      <td>66</td>\n",
       "      <td>55</td>\n",
       "      <td>89</td>\n",
       "      <td>38</td>\n",
       "      <td>9</td>\n",
       "      <td>98</td>\n",
       "      <td>40</td>\n",
       "      <td>...</td>\n",
       "      <td>46</td>\n",
       "      <td>80</td>\n",
       "      <td>16</td>\n",
       "      <td>39</td>\n",
       "      <td>16</td>\n",
       "      <td>25</td>\n",
       "      <td>105</td>\n",
       "      <td>81</td>\n",
       "      <td>103</td>\n",
       "      <td>78</td>\n",
       "    </tr>\n",
       "    <tr>\n",
       "      <th>4</th>\n",
       "      <td>4</td>\n",
       "      <td>71</td>\n",
       "      <td>38</td>\n",
       "      <td>55</td>\n",
       "      <td>35</td>\n",
       "      <td>76</td>\n",
       "      <td>98</td>\n",
       "      <td>21</td>\n",
       "      <td>45</td>\n",
       "      <td>14</td>\n",
       "      <td>...</td>\n",
       "      <td>18</td>\n",
       "      <td>100</td>\n",
       "      <td>11</td>\n",
       "      <td>22</td>\n",
       "      <td>20</td>\n",
       "      <td>23</td>\n",
       "      <td>46</td>\n",
       "      <td>19</td>\n",
       "      <td>17</td>\n",
       "      <td>105</td>\n",
       "    </tr>\n",
       "    <tr>\n",
       "      <th>...</th>\n",
       "      <td>...</td>\n",
       "      <td>...</td>\n",
       "      <td>...</td>\n",
       "      <td>...</td>\n",
       "      <td>...</td>\n",
       "      <td>...</td>\n",
       "      <td>...</td>\n",
       "      <td>...</td>\n",
       "      <td>...</td>\n",
       "      <td>...</td>\n",
       "      <td>...</td>\n",
       "      <td>...</td>\n",
       "      <td>...</td>\n",
       "      <td>...</td>\n",
       "      <td>...</td>\n",
       "      <td>...</td>\n",
       "      <td>...</td>\n",
       "      <td>...</td>\n",
       "      <td>...</td>\n",
       "      <td>...</td>\n",
       "      <td>...</td>\n",
       "    </tr>\n",
       "    <tr>\n",
       "      <th>295</th>\n",
       "      <td>295</td>\n",
       "      <td>89</td>\n",
       "      <td>20</td>\n",
       "      <td>64</td>\n",
       "      <td>19</td>\n",
       "      <td>14</td>\n",
       "      <td>104</td>\n",
       "      <td>33</td>\n",
       "      <td>14</td>\n",
       "      <td>38</td>\n",
       "      <td>...</td>\n",
       "      <td>19</td>\n",
       "      <td>105</td>\n",
       "      <td>59</td>\n",
       "      <td>107</td>\n",
       "      <td>6</td>\n",
       "      <td>31</td>\n",
       "      <td>84</td>\n",
       "      <td>90</td>\n",
       "      <td>12</td>\n",
       "      <td>68</td>\n",
       "    </tr>\n",
       "    <tr>\n",
       "      <th>296</th>\n",
       "      <td>296</td>\n",
       "      <td>66</td>\n",
       "      <td>98</td>\n",
       "      <td>51</td>\n",
       "      <td>45</td>\n",
       "      <td>63</td>\n",
       "      <td>22</td>\n",
       "      <td>30</td>\n",
       "      <td>42</td>\n",
       "      <td>25</td>\n",
       "      <td>...</td>\n",
       "      <td>52</td>\n",
       "      <td>84</td>\n",
       "      <td>8</td>\n",
       "      <td>53</td>\n",
       "      <td>105</td>\n",
       "      <td>38</td>\n",
       "      <td>74</td>\n",
       "      <td>89</td>\n",
       "      <td>32</td>\n",
       "      <td>72</td>\n",
       "    </tr>\n",
       "    <tr>\n",
       "      <th>297</th>\n",
       "      <td>297</td>\n",
       "      <td>8</td>\n",
       "      <td>98</td>\n",
       "      <td>106</td>\n",
       "      <td>32</td>\n",
       "      <td>60</td>\n",
       "      <td>47</td>\n",
       "      <td>60</td>\n",
       "      <td>57</td>\n",
       "      <td>85</td>\n",
       "      <td>...</td>\n",
       "      <td>30</td>\n",
       "      <td>39</td>\n",
       "      <td>19</td>\n",
       "      <td>58</td>\n",
       "      <td>22</td>\n",
       "      <td>95</td>\n",
       "      <td>85</td>\n",
       "      <td>8</td>\n",
       "      <td>11</td>\n",
       "      <td>22</td>\n",
       "    </tr>\n",
       "    <tr>\n",
       "      <th>298</th>\n",
       "      <td>298</td>\n",
       "      <td>63</td>\n",
       "      <td>32</td>\n",
       "      <td>95</td>\n",
       "      <td>58</td>\n",
       "      <td>21</td>\n",
       "      <td>56</td>\n",
       "      <td>8</td>\n",
       "      <td>42</td>\n",
       "      <td>34</td>\n",
       "      <td>...</td>\n",
       "      <td>21</td>\n",
       "      <td>45</td>\n",
       "      <td>106</td>\n",
       "      <td>79</td>\n",
       "      <td>33</td>\n",
       "      <td>67</td>\n",
       "      <td>83</td>\n",
       "      <td>12</td>\n",
       "      <td>10</td>\n",
       "      <td>17</td>\n",
       "    </tr>\n",
       "    <tr>\n",
       "      <th>299</th>\n",
       "      <td>299</td>\n",
       "      <td>84</td>\n",
       "      <td>88</td>\n",
       "      <td>23</td>\n",
       "      <td>31</td>\n",
       "      <td>75</td>\n",
       "      <td>61</td>\n",
       "      <td>80</td>\n",
       "      <td>82</td>\n",
       "      <td>91</td>\n",
       "      <td>...</td>\n",
       "      <td>92</td>\n",
       "      <td>51</td>\n",
       "      <td>22</td>\n",
       "      <td>73</td>\n",
       "      <td>91</td>\n",
       "      <td>28</td>\n",
       "      <td>32</td>\n",
       "      <td>63</td>\n",
       "      <td>7</td>\n",
       "      <td>22</td>\n",
       "    </tr>\n",
       "  </tbody>\n",
       "</table>\n",
       "<p>300 rows × 401 columns</p>\n",
       "</div>"
      ],
      "text/plain": [
       "     Unnamed: 0   0   1    2    3   4    5    6   7   8  ...  390  391  392  \\\n",
       "0             0  12  65    1   27  32   56   90  54  20  ...   28    5  102   \n",
       "1             1  65  63   66   85  46   69   82  88  53  ...   25   81   45   \n",
       "2             2  13  70   13  100  32   97  108  31  82  ...   81   49   77   \n",
       "3             3   8  87   66   55  89   38    9  98  40  ...   46   80   16   \n",
       "4             4  71  38   55   35  76   98   21  45  14  ...   18  100   11   \n",
       "..          ...  ..  ..  ...  ...  ..  ...  ...  ..  ..  ...  ...  ...  ...   \n",
       "295         295  89  20   64   19  14  104   33  14  38  ...   19  105   59   \n",
       "296         296  66  98   51   45  63   22   30  42  25  ...   52   84    8   \n",
       "297         297   8  98  106   32  60   47   60  57  85  ...   30   39   19   \n",
       "298         298  63  32   95   58  21   56    8  42  34  ...   21   45  106   \n",
       "299         299  84  88   23   31  75   61   80  82  91  ...   92   51   22   \n",
       "\n",
       "     393  394  395  396  397  398  399  \n",
       "0     26   67   91   78   89   74   34  \n",
       "1     88   52   62   64    2    1    3  \n",
       "2     34   21    3   48   41  107   77  \n",
       "3     39   16   25  105   81  103   78  \n",
       "4     22   20   23   46   19   17  105  \n",
       "..   ...  ...  ...  ...  ...  ...  ...  \n",
       "295  107    6   31   84   90   12   68  \n",
       "296   53  105   38   74   89   32   72  \n",
       "297   58   22   95   85    8   11   22  \n",
       "298   79   33   67   83   12   10   17  \n",
       "299   73   91   28   32   63    7   22  \n",
       "\n",
       "[300 rows x 401 columns]"
      ]
     },
     "execution_count": 31,
     "metadata": {},
     "output_type": "execute_result"
    }
   ],
   "source": [
    "pd.read_csv('array_data.csv')"
   ]
  },
  {
   "cell_type": "code",
   "execution_count": 12,
   "id": "e9299851-3e03-4db3-a4a2-66ed2bb37164",
   "metadata": {},
   "outputs": [
    {
     "data": {
      "text/plain": [
       "array([[0.72000113, 0.57419759, 0.35277456, 0.40070153],\n",
       "       [0.09627439, 0.53413734, 0.84480616, 0.50437081],\n",
       "       [0.41628691, 0.25607996, 0.89053216, 0.09435562]])"
      ]
     },
     "execution_count": 12,
     "metadata": {},
     "output_type": "execute_result"
    }
   ],
   "source": [
    "#------------reshape \n",
    "\n",
    "ar6 = np.random.rand(3,4)\n",
    "ar6"
   ]
  },
  {
   "cell_type": "code",
   "execution_count": 13,
   "id": "97210d18-fa91-475a-b914-da20363239f7",
   "metadata": {},
   "outputs": [
    {
     "data": {
      "text/plain": [
       "array([[0.72000113, 0.57419759],\n",
       "       [0.35277456, 0.40070153],\n",
       "       [0.09627439, 0.53413734],\n",
       "       [0.84480616, 0.50437081],\n",
       "       [0.41628691, 0.25607996],\n",
       "       [0.89053216, 0.09435562]])"
      ]
     },
     "execution_count": 13,
     "metadata": {},
     "output_type": "execute_result"
    }
   ],
   "source": [
    "a= ar6.reshape(6,2) # reshape 3,4 to 6X2\n",
    "a"
   ]
  },
  {
   "cell_type": "code",
   "execution_count": 16,
   "id": "96e4954f-f0c9-4752-a012-18b27a9b6940",
   "metadata": {},
   "outputs": [
    {
     "data": {
      "text/plain": [
       "array([[0.72000113, 0.57419759],\n",
       "       [0.35277456, 0.40070153],\n",
       "       [0.09627439, 0.53413734],\n",
       "       [0.84480616, 0.50437081],\n",
       "       [0.41628691, 0.25607996],\n",
       "       [0.89053216, 0.09435562]])"
      ]
     },
     "execution_count": 16,
     "metadata": {},
     "output_type": "execute_result"
    }
   ],
   "source": [
    "a=ar6.reshape(6,-124584)\n",
    "a"
   ]
  },
  {
   "cell_type": "code",
   "execution_count": 20,
   "id": "f0b54a69-e2bc-4bac-b68f-fa44f6377641",
   "metadata": {},
   "outputs": [
    {
     "data": {
      "text/plain": [
       "np.float64(0.5341373441390594)"
      ]
     },
     "execution_count": 20,
     "metadata": {},
     "output_type": "execute_result"
    }
   ],
   "source": [
    "a[2][1]"
   ]
  },
  {
   "cell_type": "code",
   "execution_count": 23,
   "id": "e077b17c-9fb4-4cbb-ba28-76ae0379ac1b",
   "metadata": {},
   "outputs": [
    {
     "data": {
      "text/plain": [
       "array([0.41628691, 0.25607996])"
      ]
     },
     "execution_count": 23,
     "metadata": {},
     "output_type": "execute_result"
    }
   ],
   "source": [
    "a[2:5][2]"
   ]
  },
  {
   "cell_type": "code",
   "execution_count": 24,
   "id": "f2cd8c15-14c7-4f74-8345-1cc2db011713",
   "metadata": {},
   "outputs": [
    {
     "data": {
      "text/plain": [
       "array([0.53413734, 0.50437081, 0.25607996])"
      ]
     },
     "execution_count": 24,
     "metadata": {},
     "output_type": "execute_result"
    }
   ],
   "source": [
    "a[2:5,1]"
   ]
  },
  {
   "cell_type": "code",
   "execution_count": 25,
   "id": "81b3ffe0-479b-42a9-8080-9d4b04ee8e9e",
   "metadata": {},
   "outputs": [
    {
     "data": {
      "text/plain": [
       "(array([2]),)"
      ]
     },
     "execution_count": 25,
     "metadata": {},
     "output_type": "execute_result"
    }
   ],
   "source": [
    "a1 = np.array([1, 2, 3, 4, 5, 6])\n",
    "\n",
    "index = np.where(a1==3)\n",
    "index"
   ]
  },
  {
   "cell_type": "code",
   "execution_count": 26,
   "id": "3408b3fa-755b-468f-a73d-441b300e3557",
   "metadata": {},
   "outputs": [
    {
     "data": {
      "text/plain": [
       "array([[ 13,  70,  43,  84,  36],\n",
       "       [ 30,  92,  85,   9,  60],\n",
       "       [106, 107,  13,   7,  79],\n",
       "       [ 49,   2,   5,  17,  75],\n",
       "       [ 74,  27,  50, 100,   4]], dtype=int32)"
      ]
     },
     "execution_count": 26,
     "metadata": {},
     "output_type": "execute_result"
    }
   ],
   "source": [
    "ar7 = np.random.randint(1,110, (5,5))\n",
    "ar7"
   ]
  },
  {
   "cell_type": "code",
   "execution_count": 27,
   "id": "e20123f2-4f10-43ee-ae40-d7f6049bb35b",
   "metadata": {},
   "outputs": [
    {
     "data": {
      "text/plain": [
       "array([[False,  True, False,  True, False],\n",
       "       [False,  True,  True, False,  True],\n",
       "       [ True,  True, False, False,  True],\n",
       "       [False, False, False, False,  True],\n",
       "       [ True, False, False,  True, False]])"
      ]
     },
     "execution_count": 27,
     "metadata": {},
     "output_type": "execute_result"
    }
   ],
   "source": [
    "ar7 >50"
   ]
  },
  {
   "cell_type": "code",
   "execution_count": 37,
   "id": "9c3a7491-5a5a-471f-8269-8dae23d21145",
   "metadata": {},
   "outputs": [
    {
     "data": {
      "text/plain": [
       "array([ 70,  84,  92,  85,  60, 106, 107,  79,  75,  74, 100], dtype=int32)"
      ]
     },
     "execution_count": 37,
     "metadata": {},
     "output_type": "execute_result"
    }
   ],
   "source": [
    "ar7[ar7 >50]"
   ]
  },
  {
   "cell_type": "code",
   "execution_count": 38,
   "id": "a71c83c4-db9e-4720-940c-968d8664b054",
   "metadata": {},
   "outputs": [
    {
     "data": {
      "text/plain": [
       "array([[ 13,  70,  43,  84,  36],\n",
       "       [ 30,  92,  85,   9,  60],\n",
       "       [106, 107,  13,   7,  79],\n",
       "       [ 49,   2,   5,  17,  75],\n",
       "       [ 74,  27,  50, 100,   4]], dtype=int32)"
      ]
     },
     "execution_count": 38,
     "metadata": {},
     "output_type": "execute_result"
    }
   ],
   "source": [
    "ar7"
   ]
  },
  {
   "cell_type": "code",
   "execution_count": 39,
   "id": "69de2dff-fc63-40e5-a31d-07b51ddbd528",
   "metadata": {},
   "outputs": [
    {
     "data": {
      "text/plain": [
       "array([[107,  13],\n",
       "       [  2,   5]], dtype=int32)"
      ]
     },
     "execution_count": 39,
     "metadata": {},
     "output_type": "execute_result"
    }
   ],
   "source": [
    "ar7[2:4 , [1,2]]  #2:4 rows , 1,2 col"
   ]
  },
  {
   "cell_type": "code",
   "execution_count": 40,
   "id": "b2e92a1c-0b2a-4e44-8a5a-eb204c397e55",
   "metadata": {},
   "outputs": [
    {
     "data": {
      "text/plain": [
       "np.int32(13)"
      ]
     },
     "execution_count": 40,
     "metadata": {},
     "output_type": "execute_result"
    }
   ],
   "source": [
    "ar7[0,0]  #[0][0]"
   ]
  },
  {
   "cell_type": "code",
   "execution_count": 41,
   "id": "cf76abbb-4546-4ae4-aa64-1b6a2d388154",
   "metadata": {},
   "outputs": [
    {
     "data": {
      "text/plain": [
       "array([[500,  70,  43,  84,  36],\n",
       "       [ 30,  92,  85,   9,  60],\n",
       "       [106, 107,  13,   7,  79],\n",
       "       [ 49,   2,   5,  17,  75],\n",
       "       [ 74,  27,  50, 100,   4]], dtype=int32)"
      ]
     },
     "execution_count": 41,
     "metadata": {},
     "output_type": "execute_result"
    }
   ],
   "source": [
    "ar7[0,0]=500\n",
    "ar7"
   ]
  },
  {
   "cell_type": "code",
   "execution_count": 43,
   "id": "5265f1aa-44b2-4c59-a839-104aee3387b2",
   "metadata": {},
   "outputs": [],
   "source": [
    "arr1= np.random.randint(1,3 , (3,3))\n",
    "arr2= np.random.randint(1,3 , (3,3))"
   ]
  },
  {
   "cell_type": "code",
   "execution_count": 44,
   "id": "66d3f72e-a0e8-405d-9b6a-4c0d057c2d95",
   "metadata": {},
   "outputs": [
    {
     "data": {
      "text/plain": [
       "array([[1, 1, 2],\n",
       "       [2, 1, 2],\n",
       "       [1, 1, 1]], dtype=int32)"
      ]
     },
     "execution_count": 44,
     "metadata": {},
     "output_type": "execute_result"
    }
   ],
   "source": [
    "arr1"
   ]
  },
  {
   "cell_type": "code",
   "execution_count": 45,
   "id": "dbab168f-8696-445c-8a3a-e81470b523a0",
   "metadata": {},
   "outputs": [
    {
     "data": {
      "text/plain": [
       "array([[2, 2, 1],\n",
       "       [1, 1, 2],\n",
       "       [2, 2, 1]], dtype=int32)"
      ]
     },
     "execution_count": 45,
     "metadata": {},
     "output_type": "execute_result"
    }
   ],
   "source": [
    "arr2"
   ]
  },
  {
   "cell_type": "code",
   "execution_count": 46,
   "id": "9f81e2c4-1244-46f9-b3d8-0cf7de4bfdd1",
   "metadata": {},
   "outputs": [
    {
     "data": {
      "text/plain": [
       "array([[3, 3, 3],\n",
       "       [3, 2, 4],\n",
       "       [3, 3, 2]], dtype=int32)"
      ]
     },
     "execution_count": 46,
     "metadata": {},
     "output_type": "execute_result"
    }
   ],
   "source": [
    "arr1+arr2 #this not matrix sum , this is index sum"
   ]
  },
  {
   "cell_type": "code",
   "execution_count": null,
   "id": "12defd80-7791-41a7-b14c-ab76c24b4cd3",
   "metadata": {},
   "outputs": [],
   "source": [
    "#-martix multiplication , 1 rule 1m rxC , 2m Rxc  C of 1m and R of 2m should be equal\n",
    "\n",
    "2,2,1   1,2,2      2x1+2x2+1x1  2x2+2x1+1x1  2x2+2x1+1x1 = 7 7 7 \n",
    "2,1,2   2,1,1      2x1+1x2+2x1  2x2+1x1+2x1  \n",
    "1,2,1   1,1,1"
   ]
  },
  {
   "cell_type": "code",
   "execution_count": 47,
   "id": "5f00b03b-ae67-4c6f-84e6-3909ac64bb34",
   "metadata": {},
   "outputs": [
    {
     "data": {
      "text/plain": [
       "array([[7, 7, 5],\n",
       "       [9, 9, 6],\n",
       "       [5, 5, 4]], dtype=int32)"
      ]
     },
     "execution_count": 47,
     "metadata": {},
     "output_type": "execute_result"
    }
   ],
   "source": [
    "arr1@arr2   #----@ help to multiply matrix"
   ]
  },
  {
   "cell_type": "code",
   "execution_count": 48,
   "id": "a43af963-8707-4c25-bf70-b4bdcb954d0f",
   "metadata": {},
   "outputs": [
    {
     "name": "stderr",
     "output_type": "stream",
     "text": [
      "C:\\Users\\nusra\\AppData\\Local\\Temp\\ipykernel_5960\\1510032488.py:1: RuntimeWarning: divide by zero encountered in divide\n",
      "  arr1/0\n"
     ]
    },
    {
     "data": {
      "text/plain": [
       "array([[inf, inf, inf],\n",
       "       [inf, inf, inf],\n",
       "       [inf, inf, inf]])"
      ]
     },
     "execution_count": 48,
     "metadata": {},
     "output_type": "execute_result"
    }
   ],
   "source": [
    "arr1/0 #infinity"
   ]
  },
  {
   "cell_type": "code",
   "execution_count": 51,
   "id": "6e82caeb-33df-4e78-8559-ad6f5450d77e",
   "metadata": {},
   "outputs": [
    {
     "data": {
      "text/plain": [
       "array([[101, 101, 102],\n",
       "       [102, 101, 102],\n",
       "       [101, 101, 101]], dtype=int32)"
      ]
     },
     "execution_count": 51,
     "metadata": {},
     "output_type": "execute_result"
    }
   ],
   "source": [
    "arr1+100"
   ]
  },
  {
   "cell_type": "code",
   "execution_count": 52,
   "id": "c41513e1-7ae1-4aa4-933c-4ae97a8a04a1",
   "metadata": {},
   "outputs": [
    {
     "data": {
      "text/plain": [
       "array([[4, 4, 1],\n",
       "       [1, 1, 4],\n",
       "       [4, 4, 1]], dtype=int32)"
      ]
     },
     "execution_count": 52,
     "metadata": {},
     "output_type": "execute_result"
    }
   ],
   "source": [
    "arr2**2"
   ]
  },
  {
   "cell_type": "code",
   "execution_count": 50,
   "id": "dd49fdeb-6fc5-4e7d-b291-4b552bea018c",
   "metadata": {},
   "outputs": [
    {
     "data": {
      "text/plain": [
       "array([[0., 0., 0., 0.],\n",
       "       [0., 0., 0., 0.],\n",
       "       [0., 0., 0., 0.],\n",
       "       [0., 0., 0., 0.]])"
      ]
     },
     "execution_count": 50,
     "metadata": {},
     "output_type": "execute_result"
    }
   ],
   "source": [
    "#---------broadcasting  , row by row broadcasting kr ra h , means change entier row\n",
    " \n",
    "arr3 = np.zeros((4,4))\n",
    "arr3"
   ]
  },
  {
   "cell_type": "code",
   "execution_count": 55,
   "id": "f8019e22-b47c-449c-b844-30206ff3e919",
   "metadata": {},
   "outputs": [
    {
     "data": {
      "text/plain": [
       "array([1, 2, 3, 4])"
      ]
     },
     "execution_count": 55,
     "metadata": {},
     "output_type": "execute_result"
    }
   ],
   "source": [
    "row = np.array([1,2,3,4])\n",
    "row"
   ]
  },
  {
   "cell_type": "code",
   "execution_count": 57,
   "id": "34d85a7d-60da-4070-9e51-9e3a9e0b6819",
   "metadata": {},
   "outputs": [
    {
     "data": {
      "text/plain": [
       "array([[1., 2., 3., 4.],\n",
       "       [1., 2., 3., 4.],\n",
       "       [1., 2., 3., 4.],\n",
       "       [1., 2., 3., 4.]])"
      ]
     },
     "execution_count": 57,
     "metadata": {},
     "output_type": "execute_result"
    }
   ],
   "source": [
    "arr3+row # row row by addition "
   ]
  },
  {
   "cell_type": "code",
   "execution_count": 58,
   "id": "d6f50f97-b487-44ff-8b40-0a9524c7f02a",
   "metadata": {},
   "outputs": [
    {
     "data": {
      "text/plain": [
       "array([[1, 2, 3, 4]])"
      ]
     },
     "execution_count": 58,
     "metadata": {},
     "output_type": "execute_result"
    }
   ],
   "source": [
    "#----------col wise broadcasting , firslty rotate row , but rotation only 2d\n",
    "\n",
    "row2 = np.array([[1,2,3,4]])\n",
    "row2"
   ]
  },
  {
   "cell_type": "code",
   "execution_count": 59,
   "id": "bfad5ae9-90c8-4a59-a6d7-adf9fbd443f2",
   "metadata": {},
   "outputs": [
    {
     "data": {
      "text/plain": [
       "array([[1],\n",
       "       [2],\n",
       "       [3],\n",
       "       [4]])"
      ]
     },
     "execution_count": 59,
     "metadata": {},
     "output_type": "execute_result"
    }
   ],
   "source": [
    "row2.T # transpose rotate into row to col"
   ]
  },
  {
   "cell_type": "code",
   "execution_count": 64,
   "id": "5cfb2ccb-8cad-47e7-ba46-f60d12f9bcfb",
   "metadata": {},
   "outputs": [
    {
     "data": {
      "text/plain": [
       "array([[1., 1., 1., 1.],\n",
       "       [2., 2., 2., 2.],\n",
       "       [3., 3., 3., 3.],\n",
       "       [4., 4., 4., 4.]])"
      ]
     },
     "execution_count": 64,
     "metadata": {},
     "output_type": "execute_result"
    }
   ],
   "source": [
    "add_arr=row2.T+arr3    # then broadcasting\n",
    "add_arr"
   ]
  },
  {
   "cell_type": "code",
   "execution_count": 66,
   "id": "5adffc95-79d7-4748-aa0b-e7df627355b3",
   "metadata": {},
   "outputs": [
    {
     "data": {
      "text/plain": [
       "array([[  1.,   1.,   1.,   1.],\n",
       "       [100., 100., 100., 100.],\n",
       "       [  3.,   3.,   3.,   3.],\n",
       "       [  4.,   4.,   4.,   4.]])"
      ]
     },
     "execution_count": 66,
     "metadata": {},
     "output_type": "execute_result"
    }
   ],
   "source": [
    "add_arr[1]=100\n",
    "add_arr"
   ]
  },
  {
   "cell_type": "code",
   "execution_count": 67,
   "id": "3cebe051-8992-485e-8bbc-14563c17ff62",
   "metadata": {},
   "outputs": [
    {
     "data": {
      "text/plain": [
       "array([[6, 5, 6, 5],\n",
       "       [5, 5, 6, 5],\n",
       "       [6, 6, 6, 5]], dtype=int32)"
      ]
     },
     "execution_count": 67,
     "metadata": {},
     "output_type": "execute_result"
    }
   ],
   "source": [
    "arr4 = np.random.randint(5,7 ,(3,4))\n",
    "arr4"
   ]
  },
  {
   "cell_type": "code",
   "execution_count": 68,
   "id": "dcb7c1d6-ea21-4ffc-a7af-f085830f72c2",
   "metadata": {},
   "outputs": [
    {
     "data": {
      "text/plain": [
       "array([[2.44948974, 2.23606798, 2.44948974, 2.23606798],\n",
       "       [2.23606798, 2.23606798, 2.44948974, 2.23606798],\n",
       "       [2.44948974, 2.44948974, 2.44948974, 2.23606798]])"
      ]
     },
     "execution_count": 68,
     "metadata": {},
     "output_type": "execute_result"
    }
   ],
   "source": [
    "np.sqrt(arr4)"
   ]
  },
  {
   "cell_type": "code",
   "execution_count": 69,
   "id": "be5ed656-0dc4-4504-8414-fb9ce4eddd87",
   "metadata": {},
   "outputs": [
    {
     "data": {
      "text/plain": [
       "array([[0.77815125, 0.69897   , 0.77815125, 0.69897   ],\n",
       "       [0.69897   , 0.69897   , 0.77815125, 0.69897   ],\n",
       "       [0.77815125, 0.77815125, 0.77815125, 0.69897   ]])"
      ]
     },
     "execution_count": 69,
     "metadata": {},
     "output_type": "execute_result"
    }
   ],
   "source": [
    "np.log10(arr4)"
   ]
  },
  {
   "cell_type": "code",
   "execution_count": 70,
   "id": "fb82c7d4-66c5-4387-818f-9ee2f08ba091",
   "metadata": {},
   "outputs": [
    {
     "data": {
      "text/plain": [
       "np.int32(5)"
      ]
     },
     "execution_count": 70,
     "metadata": {},
     "output_type": "execute_result"
    }
   ],
   "source": [
    "np.min(arr4)"
   ]
  },
  {
   "cell_type": "code",
   "execution_count": null,
   "id": "56f474af-dae8-40f3-91fb-94753fcf65eb",
   "metadata": {},
   "outputs": [],
   "source": []
  }
 ],
 "metadata": {
  "kernelspec": {
   "display_name": "Python 3 (ipykernel)",
   "language": "python",
   "name": "python3"
  },
  "language_info": {
   "codemirror_mode": {
    "name": "ipython",
    "version": 3
   },
   "file_extension": ".py",
   "mimetype": "text/x-python",
   "name": "python",
   "nbconvert_exporter": "python",
   "pygments_lexer": "ipython3",
   "version": "3.13.1"
  }
 },
 "nbformat": 4,
 "nbformat_minor": 5
}
