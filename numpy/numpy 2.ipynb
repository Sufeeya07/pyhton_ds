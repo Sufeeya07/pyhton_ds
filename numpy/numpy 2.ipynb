{
 "cells": [
  {
   "cell_type": "code",
   "execution_count": 1,
   "id": "5ca6d762-6e22-4544-92b1-4106ba1548bf",
   "metadata": {},
   "outputs": [],
   "source": [
    "# -----------array manipulation"
   ]
  },
  {
   "cell_type": "code",
   "execution_count": 1,
   "id": "19b705d4-8264-4419-b7ce-e4e286b2f2bc",
   "metadata": {},
   "outputs": [],
   "source": [
    "import numpy as np"
   ]
  },
  {
   "cell_type": "code",
   "execution_count": 2,
   "id": "e19e91f3-983a-4128-85d2-1110c691271b",
   "metadata": {},
   "outputs": [],
   "source": [
    "arr = np.random.randint(1,10, (3,4))"
   ]
  },
  {
   "cell_type": "code",
   "execution_count": 3,
   "id": "057756cf-1d79-4383-a265-b31cf4e4a20a",
   "metadata": {},
   "outputs": [
    {
     "data": {
      "text/plain": [
       "array([[7, 5, 2, 1],\n",
       "       [8, 6, 1, 3],\n",
       "       [6, 9, 6, 5]], dtype=int32)"
      ]
     },
     "execution_count": 3,
     "metadata": {},
     "output_type": "execute_result"
    }
   ],
   "source": [
    "arr"
   ]
  },
  {
   "cell_type": "code",
   "execution_count": 5,
   "id": "3953878f-a40e-4998-8315-9183d5a5c991",
   "metadata": {},
   "outputs": [
    {
     "data": {
      "text/plain": [
       "array([[7, 5],\n",
       "       [2, 1],\n",
       "       [8, 6],\n",
       "       [1, 3],\n",
       "       [6, 9],\n",
       "       [6, 5]], dtype=int32)"
      ]
     },
     "execution_count": 5,
     "metadata": {},
     "output_type": "execute_result"
    }
   ],
   "source": [
    "arr.reshape(6,2)"
   ]
  },
  {
   "cell_type": "code",
   "execution_count": 6,
   "id": "814d3400-b6b9-4d52-a028-3000eaa2a1dc",
   "metadata": {},
   "outputs": [
    {
     "data": {
      "text/plain": [
       "array([[7, 5, 2, 1],\n",
       "       [8, 6, 1, 3],\n",
       "       [6, 9, 6, 5]], dtype=int32)"
      ]
     },
     "execution_count": 6,
     "metadata": {},
     "output_type": "execute_result"
    }
   ],
   "source": [
    "arr"
   ]
  },
  {
   "cell_type": "code",
   "execution_count": 7,
   "id": "38a68268-075c-42e6-b21a-3b41840300e8",
   "metadata": {},
   "outputs": [
    {
     "data": {
      "text/plain": [
       "array([[7, 8, 6],\n",
       "       [5, 6, 9],\n",
       "       [2, 1, 6],\n",
       "       [1, 3, 5]], dtype=int32)"
      ]
     },
     "execution_count": 7,
     "metadata": {},
     "output_type": "execute_result"
    }
   ],
   "source": [
    "arr.T"
   ]
  },
  {
   "cell_type": "code",
   "execution_count": 8,
   "id": "ea4c088d-3332-43f4-8f33-16722043ca7e",
   "metadata": {},
   "outputs": [
    {
     "data": {
      "text/plain": [
       "array([7, 5, 2, 1, 8, 6, 1, 3, 6, 9, 6, 5], dtype=int32)"
      ]
     },
     "execution_count": 8,
     "metadata": {},
     "output_type": "execute_result"
    }
   ],
   "source": [
    "# -------------convert  2d , 3d into 1d\n",
    "arr.flatten()"
   ]
  },
  {
   "cell_type": "code",
   "execution_count": 40,
   "id": "f366b8a5-84c2-4af4-98c9-495e6f9d44c3",
   "metadata": {},
   "outputs": [
    {
     "data": {
      "text/plain": [
       "1"
      ]
     },
     "execution_count": 40,
     "metadata": {},
     "output_type": "execute_result"
    }
   ],
   "source": [
    "#----------expend is - 1d to 2d\n",
    "\n",
    "arr1 = np.array([1,2,3,3,4])\n",
    "arr1.ndim"
   ]
  },
  {
   "cell_type": "code",
   "execution_count": 41,
   "id": "317b11b8-c5e5-48e1-92a3-028968bae30c",
   "metadata": {},
   "outputs": [
    {
     "data": {
      "text/plain": [
       "array([[1],\n",
       "       [2],\n",
       "       [3],\n",
       "       [3],\n",
       "       [4]])"
      ]
     },
     "execution_count": 41,
     "metadata": {},
     "output_type": "execute_result"
    }
   ],
   "source": [
    "np.expand_dims(arr1, axis = 1)  # axis = 1 col ke across expand krdiya 1d to 2d"
   ]
  },
  {
   "cell_type": "code",
   "execution_count": 42,
   "id": "7f7d0417-fbbb-41b8-a400-e22b887b6bce",
   "metadata": {},
   "outputs": [
    {
     "data": {
      "text/plain": [
       "array([[1, 2, 3, 3, 4]])"
      ]
     },
     "execution_count": 42,
     "metadata": {},
     "output_type": "execute_result"
    }
   ],
   "source": [
    "np.expand_dims(arr1, axis = 0)"
   ]
  },
  {
   "cell_type": "code",
   "execution_count": 49,
   "id": "90fe2ed8-c3a9-4303-b915-aeed2355445c",
   "metadata": {},
   "outputs": [
    {
     "data": {
      "text/plain": [
       "array([[7, 5, 2, 1],\n",
       "       [8, 6, 1, 3],\n",
       "       [6, 9, 6, 5]], dtype=int32)"
      ]
     },
     "execution_count": 49,
     "metadata": {},
     "output_type": "execute_result"
    }
   ],
   "source": [
    "arr"
   ]
  },
  {
   "cell_type": "code",
   "execution_count": 50,
   "id": "14c2ff97-7149-49c4-bc86-91ccfa71f15f",
   "metadata": {},
   "outputs": [
    {
     "data": {
      "text/plain": [
       "array([[7, 5, 2, 1],\n",
       "       [8, 6, 1, 3],\n",
       "       [6, 9, 6, 5]], dtype=int32)"
      ]
     },
     "execution_count": 50,
     "metadata": {},
     "output_type": "execute_result"
    }
   ],
   "source": [
    "arr.squeeze() # with multiple elements squeeze doesnt work"
   ]
  },
  {
   "cell_type": "code",
   "execution_count": 47,
   "id": "978b4e07-5f5d-4650-9048-7f417b9417c5",
   "metadata": {},
   "outputs": [
    {
     "data": {
      "text/plain": [
       "array([[1],\n",
       "       [2],\n",
       "       [3]])"
      ]
     },
     "execution_count": 47,
     "metadata": {},
     "output_type": "execute_result"
    }
   ],
   "source": [
    "data = np.array([[1] ,[2], [3]]) # works with single element\n",
    "data"
   ]
  },
  {
   "cell_type": "code",
   "execution_count": 48,
   "id": "dcc56e19-959d-4219-8e85-f429910f21b0",
   "metadata": {},
   "outputs": [
    {
     "data": {
      "text/plain": [
       "array([1, 2, 3])"
      ]
     },
     "execution_count": 48,
     "metadata": {},
     "output_type": "execute_result"
    }
   ],
   "source": [
    "np.squeeze(data) "
   ]
  },
  {
   "cell_type": "code",
   "execution_count": 23,
   "id": "7dfa7304-e81d-49e0-a853-99c3d677bca7",
   "metadata": {},
   "outputs": [
    {
     "data": {
      "text/plain": [
       "array([1, 2, 3, 3, 4])"
      ]
     },
     "execution_count": 23,
     "metadata": {},
     "output_type": "execute_result"
    }
   ],
   "source": [
    "#----repeate()\n",
    "arr1"
   ]
  },
  {
   "cell_type": "code",
   "execution_count": 51,
   "id": "57a670a6-3f8b-40dd-9ee7-314a8a35f8ef",
   "metadata": {},
   "outputs": [
    {
     "data": {
      "text/plain": [
       "array([1, 1, 1, 1, 1, 2, 2, 2, 2, 2, 3, 3, 3, 3, 3, 3, 3, 3, 3, 3, 4, 4,\n",
       "       4, 4, 4])"
      ]
     },
     "execution_count": 51,
     "metadata": {},
     "output_type": "execute_result"
    }
   ],
   "source": [
    "np.repeat(arr1,5)"
   ]
  },
  {
   "cell_type": "code",
   "execution_count": 52,
   "id": "74012fcb-56c3-47a3-bacb-41234c06d18e",
   "metadata": {},
   "outputs": [
    {
     "data": {
      "text/plain": [
       "array([3, 4, 1, 2, 3])"
      ]
     },
     "execution_count": 52,
     "metadata": {},
     "output_type": "execute_result"
    }
   ],
   "source": [
    "np.roll(arr1 , 2)"
   ]
  },
  {
   "cell_type": "code",
   "execution_count": 53,
   "id": "53ae3852-ce72-4b58-8b25-c234759b4fbc",
   "metadata": {},
   "outputs": [
    {
     "data": {
      "text/plain": [
       "array([[1, 0, 0, 0, 0],\n",
       "       [0, 2, 0, 0, 0],\n",
       "       [0, 0, 3, 0, 0],\n",
       "       [0, 0, 0, 3, 0],\n",
       "       [0, 0, 0, 0, 4]])"
      ]
     },
     "execution_count": 53,
     "metadata": {},
     "output_type": "execute_result"
    }
   ],
   "source": [
    "np.diag(arr1)"
   ]
  },
  {
   "cell_type": "code",
   "execution_count": 54,
   "id": "94855a46-db56-4424-a74e-bd6e3a7488b5",
   "metadata": {},
   "outputs": [
    {
     "data": {
      "text/plain": [
       "array([[1, 1, 2, 9],\n",
       "       [8, 4, 3, 8],\n",
       "       [2, 2, 6, 1]], dtype=int32)"
      ]
     },
     "execution_count": 54,
     "metadata": {},
     "output_type": "execute_result"
    }
   ],
   "source": [
    "#----------------BINARY OPERATION + - / *\n",
    "\n",
    "arr2 = np.random.randint(1,10 ,(3,4))\n",
    "arr2"
   ]
  },
  {
   "cell_type": "code",
   "execution_count": 55,
   "id": "54dbd41a-aec7-47f2-b633-ad162be8b2f5",
   "metadata": {},
   "outputs": [
    {
     "data": {
      "text/plain": [
       "array([[4, 8, 4, 2],\n",
       "       [8, 1, 6, 2],\n",
       "       [3, 4, 9, 5]], dtype=int32)"
      ]
     },
     "execution_count": 55,
     "metadata": {},
     "output_type": "execute_result"
    }
   ],
   "source": [
    "arr3 = np.random.randint(1,10 ,(3,4))\n",
    "arr3"
   ]
  },
  {
   "cell_type": "code",
   "execution_count": 56,
   "id": "de5c701c-d2c5-4d5f-a10a-c5eb5dc08776",
   "metadata": {},
   "outputs": [
    {
     "data": {
      "text/plain": [
       "array([[ 5,  9,  6, 11],\n",
       "       [16,  5,  9, 10],\n",
       "       [ 5,  6, 15,  6]], dtype=int32)"
      ]
     },
     "execution_count": 56,
     "metadata": {},
     "output_type": "execute_result"
    }
   ],
   "source": [
    "arr2+arr3"
   ]
  },
  {
   "cell_type": "code",
   "execution_count": 57,
   "id": "66dfcc62-1f2c-4b57-8321-f5ddadebed1b",
   "metadata": {},
   "outputs": [
    {
     "data": {
      "text/plain": [
       "array([[ 4,  8,  8, 18],\n",
       "       [64,  4, 18, 16],\n",
       "       [ 6,  8, 54,  5]], dtype=int32)"
      ]
     },
     "execution_count": 57,
     "metadata": {},
     "output_type": "execute_result"
    }
   ],
   "source": [
    "arr2*arr3"
   ]
  },
  {
   "cell_type": "code",
   "execution_count": 58,
   "id": "fe330853-26fd-462c-b3e0-d1ad1d77d609",
   "metadata": {},
   "outputs": [
    {
     "data": {
      "text/plain": [
       "array([[1, 1, 2, 1],\n",
       "       [0, 0, 3, 0],\n",
       "       [2, 2, 6, 1]], dtype=int32)"
      ]
     },
     "execution_count": 58,
     "metadata": {},
     "output_type": "execute_result"
    }
   ],
   "source": [
    "arr2%arr3  # remainder"
   ]
  },
  {
   "cell_type": "code",
   "execution_count": 59,
   "id": "a8508aa7-8f46-4246-a312-e83495478a09",
   "metadata": {},
   "outputs": [
    {
     "data": {
      "text/plain": [
       "array([[0, 0, 0, 0],\n",
       "       [8, 0, 2, 0],\n",
       "       [2, 0, 0, 1]], dtype=int32)"
      ]
     },
     "execution_count": 59,
     "metadata": {},
     "output_type": "execute_result"
    }
   ],
   "source": [
    "arr2 & arr3"
   ]
  },
  {
   "cell_type": "code",
   "execution_count": 61,
   "id": "9a6569c4-b119-463d-82c7-e9f585eae9e4",
   "metadata": {},
   "outputs": [
    {
     "data": {
      "text/plain": [
       "array([[ -2,  -2,  -3, -10],\n",
       "       [ -9,  -5,  -4,  -9],\n",
       "       [ -3,  -3,  -7,  -2]], dtype=int32)"
      ]
     },
     "execution_count": 61,
     "metadata": {},
     "output_type": "execute_result"
    }
   ],
   "source": [
    "~arr2"
   ]
  },
  {
   "cell_type": "code",
   "execution_count": 62,
   "id": "8ef1416e-fcbe-49f7-9420-08b0b20b5c24",
   "metadata": {},
   "outputs": [
    {
     "data": {
      "text/plain": [
       "array(['sufeeya', 'khan'], dtype='<U7')"
      ]
     },
     "execution_count": 62,
     "metadata": {},
     "output_type": "execute_result"
    }
   ],
   "source": [
    "#---------STRING FUN\n",
    "\n",
    "ast = np.array(['sufeeya', 'khan'])\n",
    "ast"
   ]
  },
  {
   "cell_type": "code",
   "execution_count": 67,
   "id": "6e48ed2f-ed02-452a-9f27-732d674c22b3",
   "metadata": {},
   "outputs": [
    {
     "data": {
      "text/plain": [
       "array(['SUFEEYA', 'KHAN'], dtype='<U7')"
      ]
     },
     "execution_count": 67,
     "metadata": {},
     "output_type": "execute_result"
    }
   ],
   "source": [
    "np.char.upper(ast)"
   ]
  },
  {
   "cell_type": "code",
   "execution_count": 68,
   "id": "cb2272f7-f285-46d1-864b-6ca8e47ec296",
   "metadata": {},
   "outputs": [
    {
     "data": {
      "text/plain": [
       "array(['Sufeeya', 'Khan'], dtype='<U7')"
      ]
     },
     "execution_count": 68,
     "metadata": {},
     "output_type": "execute_result"
    }
   ],
   "source": [
    "np.char.title(ast)"
   ]
  },
  {
   "cell_type": "code",
   "execution_count": 69,
   "id": "b1fcee00-7071-48c6-b820-3fcdb36a1e37",
   "metadata": {},
   "outputs": [
    {
     "data": {
      "text/plain": [
       "array([[1, 1, 2, 9],\n",
       "       [8, 4, 3, 8],\n",
       "       [2, 2, 6, 1]], dtype=int32)"
      ]
     },
     "execution_count": 69,
     "metadata": {},
     "output_type": "execute_result"
    }
   ],
   "source": [
    "# -------------MATHEMATICAL FUN\n",
    "\n",
    "arr2"
   ]
  },
  {
   "cell_type": "code",
   "execution_count": 70,
   "id": "de7bab07-89c5-47ad-8779-869befa958b3",
   "metadata": {},
   "outputs": [
    {
     "data": {
      "text/plain": [
       "array([[ 0.84147098,  0.84147098,  0.90929743,  0.41211849],\n",
       "       [ 0.98935825, -0.7568025 ,  0.14112001,  0.98935825],\n",
       "       [ 0.90929743,  0.90929743, -0.2794155 ,  0.84147098]])"
      ]
     },
     "execution_count": 70,
     "metadata": {},
     "output_type": "execute_result"
    }
   ],
   "source": [
    "np.sin(arr2)"
   ]
  },
  {
   "cell_type": "code",
   "execution_count": 71,
   "id": "f9f980f1-e104-431f-b3b4-db85721b599f",
   "metadata": {},
   "outputs": [
    {
     "data": {
      "text/plain": [
       "array([[ 0.54030231,  0.54030231, -0.41614684, -0.91113026],\n",
       "       [-0.14550003, -0.65364362, -0.9899925 , -0.14550003],\n",
       "       [-0.41614684, -0.41614684,  0.96017029,  0.54030231]])"
      ]
     },
     "execution_count": 71,
     "metadata": {},
     "output_type": "execute_result"
    }
   ],
   "source": [
    "np.cos(arr2)"
   ]
  },
  {
   "cell_type": "code",
   "execution_count": 74,
   "id": "2121a013-1b01-443c-b8f9-0c7f99e76dfb",
   "metadata": {},
   "outputs": [
    {
     "data": {
      "text/plain": [
       "array([[ 1.55740772,  1.55740772, -2.18503986, -0.45231566],\n",
       "       [-6.79971146,  1.15782128, -0.14254654, -6.79971146],\n",
       "       [-2.18503986, -2.18503986, -0.29100619,  1.55740772]])"
      ]
     },
     "execution_count": 74,
     "metadata": {},
     "output_type": "execute_result"
    }
   ],
   "source": [
    "np.tan(arr2)"
   ]
  },
  {
   "cell_type": "code",
   "execution_count": 72,
   "id": "92a78aec-f06d-4537-b202-4678a51ed678",
   "metadata": {},
   "outputs": [
    {
     "data": {
      "text/plain": [
       "array([[0.        , 0.        , 0.30103   , 0.95424251],\n",
       "       [0.90308999, 0.60205999, 0.47712125, 0.90308999],\n",
       "       [0.30103   , 0.30103   , 0.77815125, 0.        ]])"
      ]
     },
     "execution_count": 72,
     "metadata": {},
     "output_type": "execute_result"
    }
   ],
   "source": [
    "np.log10(arr2)"
   ]
  },
  {
   "cell_type": "code",
   "execution_count": 73,
   "id": "ac378444-c654-4159-bdcb-4c2e59d3b378",
   "metadata": {},
   "outputs": [
    {
     "data": {
      "text/plain": [
       "array([[2.71828183e+00, 2.71828183e+00, 7.38905610e+00, 8.10308393e+03],\n",
       "       [2.98095799e+03, 5.45981500e+01, 2.00855369e+01, 2.98095799e+03],\n",
       "       [7.38905610e+00, 7.38905610e+00, 4.03428793e+02, 2.71828183e+00]])"
      ]
     },
     "execution_count": 73,
     "metadata": {},
     "output_type": "execute_result"
    }
   ],
   "source": [
    "np.exp(arr2)"
   ]
  },
  {
   "cell_type": "code",
   "execution_count": 76,
   "id": "6738459a-67d2-48d4-8d20-4c699cb4fdf7",
   "metadata": {},
   "outputs": [
    {
     "data": {
      "text/plain": [
       "array([[ 1,  1,  4, 81],\n",
       "       [64, 16,  9, 64],\n",
       "       [ 4,  4, 36,  1]], dtype=int32)"
      ]
     },
     "execution_count": 76,
     "metadata": {},
     "output_type": "execute_result"
    }
   ],
   "source": [
    "np.power(arr2,2)"
   ]
  },
  {
   "cell_type": "code",
   "execution_count": null,
   "id": "bba17410-c527-4959-853a-8f5267e30599",
   "metadata": {},
   "outputs": [],
   "source": []
  }
 ],
 "metadata": {
  "kernelspec": {
   "display_name": "Python 3 (ipykernel)",
   "language": "python",
   "name": "python3"
  },
  "language_info": {
   "codemirror_mode": {
    "name": "ipython",
    "version": 3
   },
   "file_extension": ".py",
   "mimetype": "text/x-python",
   "name": "python",
   "nbconvert_exporter": "python",
   "pygments_lexer": "ipython3",
   "version": "3.13.1"
  }
 },
 "nbformat": 4,
 "nbformat_minor": 5
}
