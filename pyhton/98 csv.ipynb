{
 "cells": [
  {
   "cell_type": "code",
   "execution_count": null,
   "id": "22edf05d-a044-4125-90a0-60b448771132",
   "metadata": {},
   "outputs": [],
   "source": [
    "CSV COMMA SEPRATED VALUE- 1,2,3,4\n",
    "file formats for storing and exchanging tabular data( structured data).\n",
    "column and rows"
   ]
  },
  {
   "cell_type": "code",
   "execution_count": 3,
   "id": "8f215e7d-b1a3-44df-9bfc-a46b1b04b752",
   "metadata": {},
   "outputs": [],
   "source": [
    "import csv"
   ]
  },
  {
   "cell_type": "code",
   "execution_count": 13,
   "id": "ef0e0a30-a4dd-40a7-8ea8-f4f8f31f7355",
   "metadata": {},
   "outputs": [],
   "source": [
    "data= [ ['name', 'mail_id', 'phn_num'],  # first line is col naming\n",
    "        ['sufeeya', 'sp@gmail.com' , 874463879],\n",
    "        [ 'krish', 'kp@gmil.com', 653732654]  # make a data set with cs\n",
    "]"
   ]
  },
  {
   "cell_type": "code",
   "execution_count": 14,
   "id": "435c7bb0-8798-496e-aa9f-b4e103c5a32b",
   "metadata": {},
   "outputs": [],
   "source": [
    "with open ('data.csv', 'w')as a:\n",
    "    writer= csv.writer(a)\n",
    "    \n",
    "    for i in data:    #read data\n",
    "        writer.writerow(i)"
   ]
  },
  {
   "cell_type": "code",
   "execution_count": 17,
   "id": "20cceeaa-c000-420c-9c8b-e9902748708b",
   "metadata": {},
   "outputs": [
    {
     "name": "stdout",
     "output_type": "stream",
     "text": [
      "['name', 'mail_id', 'phn_num']\n",
      "['sufeeya', 'sp@gmail.com', '874463879']\n",
      "['krish', 'kp@gmil.com', '653732654']\n"
     ]
    }
   ],
   "source": [
    "with open('data.csv', 'r') as a:\n",
    "    read_data= csv.reader(a)\n",
    "    \n",
    "    for i in read_data:\n",
    "        print (i)"
   ]
  },
  {
   "cell_type": "code",
   "execution_count": 16,
   "id": "f418ad7b-67ca-47ef-ba62-e31cafa999cc",
   "metadata": {},
   "outputs": [
    {
     "data": {
      "text/plain": [
       "[['name', 'mail_id', 'phn_num'],\n",
       " ['sufeeya', 'sp@gmail.com', 874463879],\n",
       " ['krish', 'kp@gmil.com', 653732654]]"
      ]
     },
     "execution_count": 16,
     "metadata": {},
     "output_type": "execute_result"
    }
   ],
   "source": [
    "data"
   ]
  },
  {
   "cell_type": "code",
   "execution_count": 13,
   "id": "0c0b00e1-83fa-44b4-9179-1afb583d39b5",
   "metadata": {},
   "outputs": [
    {
     "ename": "SyntaxError",
     "evalue": "invalid syntax (1345823495.py, line 3)",
     "output_type": "error",
     "traceback": [
      "\u001b[0;36m  Cell \u001b[0;32mIn[13], line 3\u001b[0;36m\u001b[0m\n\u001b[0;31m    mydict = [['branch': 'COE', 'cgpa': '9.0', 'name': 'Nikhil', 'year': '2'],\u001b[0m\n\u001b[0m                       ^\u001b[0m\n\u001b[0;31mSyntaxError\u001b[0m\u001b[0;31m:\u001b[0m invalid syntax\n"
     ]
    }
   ],
   "source": [
    "import csv\n",
    "\n",
    "mydict = [['branch': 'COE', 'cgpa': '9.0', 'name': 'Nikhil', 'year': '2'],\n",
    "          ['branch': 'COE', 'cgpa': '9.1', 'name': 'Sanchit', 'year': '2'],\n",
    "          ['branch': 'IT', 'cgpa': '9.3', 'name': 'Aditya', 'year': '2'],\n",
    "          ['branch': 'SE', 'cgpa': '9.5', 'name': 'Sagar', 'year': '1'],\n",
    "          ['branch': 'MCE', 'cgpa': '7.8', 'name': 'Prateek', 'year': '3'],\n",
    "          ['branch': 'EP', 'cgpa': '9.1', 'name': 'Sahil', 'year': '2']]\n",
    "\n",
    "fields =['name' , 'branch', 'year', 'cgpa']\n",
    "\n",
    "with open ('uni_rec.csv', 'w') as c:\n",
    "    writer= csv.writer(c ,fields)\n",
    "    \n",
    "    for i in mydict:\n",
    "        writer.writerow(i)"
   ]
  },
  {
   "cell_type": "code",
   "execution_count": null,
   "id": "97ec3f45-61ee-490c-aa4d-775a7c11d76f",
   "metadata": {},
   "outputs": [],
   "source": []
  }
 ],
 "metadata": {
  "kernelspec": {
   "display_name": "Python 3 (ipykernel)",
   "language": "python",
   "name": "python3"
  },
  "language_info": {
   "codemirror_mode": {
    "name": "ipython",
    "version": 3
   },
   "file_extension": ".py",
   "mimetype": "text/x-python",
   "name": "python",
   "nbconvert_exporter": "python",
   "pygments_lexer": "ipython3",
   "version": "3.10.8"
  }
 },
 "nbformat": 4,
 "nbformat_minor": 5
}
