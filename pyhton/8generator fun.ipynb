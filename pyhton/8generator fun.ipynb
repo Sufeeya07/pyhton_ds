{
 "cells": [
  {
   "cell_type": "code",
   "execution_count": 5,
   "id": "afe9ec51-919f-48de-b1dc-d5bfd018074d",
   "metadata": {},
   "outputs": [],
   "source": [
    "# genrator fun reduce memory consumption optimise memory, take less memory space\n"
   ]
  },
  {
   "cell_type": "code",
   "execution_count": 6,
   "id": "98085f67-2b45-4064-8e5c-b37c60e60df2",
   "metadata": {},
   "outputs": [
    {
     "data": {
      "text/plain": [
       "range(0, 100)"
      ]
     },
     "execution_count": 6,
     "metadata": {},
     "output_type": "execute_result"
    }
   ],
   "source": [
    "range(100)"
   ]
  },
  {
   "cell_type": "code",
   "execution_count": 4,
   "id": "ac56ed79-9f3a-463a-85d1-f3182c8b7789",
   "metadata": {},
   "outputs": [
    {
     "name": "stdout",
     "output_type": "stream",
     "text": [
      "1\n",
      "2\n",
      "3\n",
      "4\n",
      "5\n",
      "6\n",
      "7\n",
      "8\n",
      "9\n"
     ]
    }
   ],
   "source": [
    "for i in range(1,10):\n",
    "    print(i)"
   ]
  },
  {
   "cell_type": "code",
   "execution_count": 1,
   "id": "92cfb27f-655c-4458-bcaf-38b8dbe4b3b7",
   "metadata": {},
   "outputs": [
    {
     "name": "stdout",
     "output_type": "stream",
     "text": [
      "[1, 2, 3, 4, 5, 6, 7, 8, 9, 10, 11, 12, 13, 14, 15, 16, 17, 18, 19, 20]\n"
     ]
    }
   ],
   "source": [
    "num = list(range(1,21))\n",
    "print(num)"
   ]
  },
  {
   "cell_type": "code",
   "execution_count": 4,
   "id": "a60aa165-6c91-4c10-a5c7-0e5216227228",
   "metadata": {},
   "outputs": [
    {
     "data": {
      "text/plain": [
       "11"
      ]
     },
     "execution_count": 4,
     "metadata": {},
     "output_type": "execute_result"
    }
   ],
   "source": [
    "num[10]"
   ]
  },
  {
   "cell_type": "code",
   "execution_count": null,
   "id": "4413dbab-b90d-4d55-a09c-f7a5940e8f8e",
   "metadata": {},
   "outputs": [],
   "source": [
    "for i in range(len(num)): # num = [x + 10 for x in num]\n",
    "    num[i] += 10\n",
    "print(num)    "
   ]
  },
  {
   "cell_type": "code",
   "execution_count": null,
   "id": "72279464-e0a4-47de-a4f8-a82260d091a6",
   "metadata": {},
   "outputs": [],
   "source": [
    "#in generator ,\n",
    "ek ek kar ke hume generate karwana hai to generator fun use krenge ,\n",
    "memory ko efficient(work well without mistake) way me use krna.\n",
    "aagr generator fun  h to wo iterator h"
   ]
  },
  {
   "cell_type": "code",
   "execution_count": 15,
   "id": "3a86b501-f655-4dbd-8e88-b60151d4d9a1",
   "metadata": {},
   "outputs": [
    {
     "name": "stdin",
     "output_type": "stream",
     "text": [
      "Enter the number of Fibonacci numbers to generate:  2\n"
     ]
    },
    {
     "name": "stdout",
     "output_type": "stream",
     "text": [
      "0\n",
      "1\n"
     ]
    }
   ],
   "source": [
    "n =int(input(\"Enter the number of Fibonacci numbers to generate: \"))\n",
    "\n",
    "def fib(n):\n",
    "    a,b=0,1\n",
    "    for i in range(n): # iterate, do something again ... iterator jisme next next jake or data nikal ske , but iterable me hum data ko iterate me convert kr ske\n",
    "        yield a # yield a reserve keyword , help to generate gen(), thorw data\n",
    "        a,b=b ,a+b \n",
    "        \n",
    "for i in fib(n):\n",
    "    print(i)"
   ]
  },
  {
   "cell_type": "code",
   "execution_count": 4,
   "id": "746d4149-23fa-48b9-9ce9-45154447056e",
   "metadata": {},
   "outputs": [
    {
     "name": "stdout",
     "output_type": "stream",
     "text": [
      "0\n",
      "1\n",
      "1\n",
      "2\n",
      "3\n",
      "5\n",
      "8\n",
      "13\n",
      "21\n",
      "34\n"
     ]
    }
   ],
   "source": [
    "def fib2():\n",
    "    a,b=0,1\n",
    "    while True:\n",
    "        yield a\n",
    "        \n",
    "        a,b=b ,a+b \n",
    "f2=fib2()\n",
    "for i in range(10):\n",
    "    print(next(f2))# next in bulit fun  , next if for print next data from pointer, but next only excute , when object is iterator   "
   ]
  },
  {
   "cell_type": "code",
   "execution_count": 59,
   "id": "b584cc65-0b19-4e15-9d93-c9955e691244",
   "metadata": {},
   "outputs": [
    {
     "ename": "TypeError",
     "evalue": "'str' object is not an iterator",
     "output_type": "error",
     "traceback": [
      "\u001b[0;31m---------------------------------------------------------------------------\u001b[0m",
      "\u001b[0;31mTypeError\u001b[0m                                 Traceback (most recent call last)",
      "Cell \u001b[0;32mIn[59], line 2\u001b[0m\n\u001b[1;32m      1\u001b[0m s\u001b[38;5;241m=\u001b[39m\u001b[38;5;124m\"\u001b[39m\u001b[38;5;124msufeeya\u001b[39m\u001b[38;5;124m\"\u001b[39m\n\u001b[0;32m----> 2\u001b[0m \u001b[38;5;28;43mnext\u001b[39;49m\u001b[43m(\u001b[49m\u001b[43ms\u001b[49m\u001b[43m)\u001b[49m\u001b[38;5;66;03m# string is iterable not itreator\u001b[39;00m\n",
      "\u001b[0;31mTypeError\u001b[0m: 'str' object is not an iterator"
     ]
    }
   ],
   "source": [
    "s=\"sufeeya\"\n",
    "next(s)# string is iterable not itreator"
   ]
  },
  {
   "cell_type": "code",
   "execution_count": 57,
   "id": "3b50d7a4-70ae-4e00-acd2-7530b0cc6558",
   "metadata": {},
   "outputs": [],
   "source": [
    "s1=iter(s)"
   ]
  },
  {
   "cell_type": "code",
   "execution_count": 62,
   "id": "c6138f2f-88be-4359-abdb-eac68e0705dc",
   "metadata": {},
   "outputs": [
    {
     "data": {
      "text/plain": [
       "'f'"
      ]
     },
     "execution_count": 62,
     "metadata": {},
     "output_type": "execute_result"
    }
   ],
   "source": [
    "next(s1)"
   ]
  },
  {
   "cell_type": "code",
   "execution_count": 6,
   "id": "20dbc674-a802-4499-af78-71f34cd0543d",
   "metadata": {},
   "outputs": [
    {
     "name": "stdout",
     "output_type": "stream",
     "text": [
      "0\n",
      "1\n",
      "1\n",
      "2\n",
      "3\n",
      "5\n",
      "8\n",
      "13\n",
      "21\n",
      "34\n"
     ]
    }
   ],
   "source": [
    "\n",
    "n =1,2,3,4,5,6,7# predefined\n",
    "def fib(n):\n",
    "    a,b=0,1\n",
    "    for i in range(n):       \n",
    "        yield a\n",
    "        a,b=b ,a+b \n",
    "        \n",
    "for i in fib(10):\n",
    "        print(i) "
   ]
  },
  {
   "cell_type": "code",
   "execution_count": null,
   "id": "04c0b90c-49e1-4b9f-8d98-4df9ef0d5f69",
   "metadata": {},
   "outputs": [],
   "source": []
  }
 ],
 "metadata": {
  "kernelspec": {
   "display_name": "Python 3 (ipykernel)",
   "language": "python",
   "name": "python3"
  },
  "language_info": {
   "codemirror_mode": {
    "name": "ipython",
    "version": 3
   },
   "file_extension": ".py",
   "mimetype": "text/x-python",
   "name": "python",
   "nbconvert_exporter": "python",
   "pygments_lexer": "ipython3",
   "version": "3.10.8"
  }
 },
 "nbformat": 4,
 "nbformat_minor": 5
}
