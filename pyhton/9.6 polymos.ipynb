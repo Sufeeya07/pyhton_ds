{
 "cells": [
  {
   "cell_type": "code",
   "execution_count": null,
   "id": "f8f51ebb-3d23-4621-82c8-5d20a1f43b55",
   "metadata": {},
   "outputs": [],
   "source": [
    "---POLYMORPHISM - many form , ek entity but uska behaviour difrnt dffrnt ho skta h in a dfrnt circumstances\n",
    "poly - multiple or morphism - behaviour\n",
    "--in programming it refers to methods/functions/operators with the same name that can be executed on many objects or classes."
   ]
  },
  {
   "cell_type": "code",
   "execution_count": 1,
   "id": "4da22f37-8fd1-41d7-aa49-84df45359a7b",
   "metadata": {},
   "outputs": [
    {
     "data": {
      "text/plain": [
       "5"
      ]
     },
     "execution_count": 1,
     "metadata": {},
     "output_type": "execute_result"
    }
   ],
   "source": [
    "def t1(a,b):\n",
    "    return a+b\n",
    "t1(2,3)"
   ]
  },
  {
   "cell_type": "code",
   "execution_count": 3,
   "id": "afcdc3ae-31ba-4d5a-884d-079cad8396a5",
   "metadata": {},
   "outputs": [
    {
     "data": {
      "text/plain": [
       "'sufeeya parween'"
      ]
     },
     "execution_count": 3,
     "metadata": {},
     "output_type": "execute_result"
    }
   ],
   "source": [
    "t1(\"sufeeya \" , \"parween\") #fun is same but behaviour / opertion is dfrnt bcuz of my data "
   ]
  },
  {
   "cell_type": "code",
   "execution_count": 8,
   "id": "0ed38381-9476-4b73-8e22-81c2a0f18854",
   "metadata": {},
   "outputs": [
    {
     "name": "stdout",
     "output_type": "stream",
     "text": [
      "this is my syllabus for data science \n",
      "this is my syallubs for web dev\n"
     ]
    }
   ],
   "source": [
    "# here we creat two class ds wd\n",
    "\n",
    "class ds:\n",
    "    def syl(self):\n",
    "        print(\"this is my syllabus for data science \")\n",
    "        \n",
    "class wd:\n",
    "    def syl(self):\n",
    "        print(\"this is my syallubs for web dev\")\n",
    "        \n",
    "#creat external function called class_par   \n",
    "def class_par(co):\n",
    "    for i in co:\n",
    "        i.syl()  #. For each element i, it calls the syl() method \n",
    "        \n",
    "data_sci = ds() # here create object\n",
    "web_dev = wd()\n",
    "\n",
    "co=(data_sci, web_dev) #pass object\n",
    "class_par(co) #here classpar take input co"
   ]
  },
  {
   "cell_type": "code",
   "execution_count": 2,
   "id": "068c61a0-a446-4043-b874-16ff7f3f6031",
   "metadata": {},
   "outputs": [
    {
     "name": "stdout",
     "output_type": "stream",
     "text": [
      "new delhi is the capital of india.\n",
      "hindi is the most popular spoken languange of india. \n",
      "Washington, D.C. is the capital of USA.\n",
      "english is the primary language of USA.\n"
     ]
    }
   ],
   "source": [
    "#Polymorphism with class methods: \n",
    "class india:\n",
    "    def cap(self):\n",
    "        print(\"new delhi is the capital of india.\")\n",
    "    def lan(self):\n",
    "        print(\"hindi is the most popular spoken languange of india. \")\n",
    "        \n",
    "class usa:\n",
    "    def cap(self):\n",
    "        print(\"Washington, D.C. is the capital of USA.\")\n",
    "    def lan(self):\n",
    "        print(\"english is the primary language of USA.\")\n",
    "\n",
    "bharat = india()\n",
    "america = usa()\n",
    "\n",
    "for i in (bharat , america ): # here for i contain both objects of class\n",
    "    i.cap()\n",
    "    i.lan()"
   ]
  },
  {
   "cell_type": "code",
   "execution_count": 1,
   "id": "fbdb76dc-a7b9-4c61-bfd0-a842d74e16d9",
   "metadata": {},
   "outputs": [
    {
     "name": "stdout",
     "output_type": "stream",
     "text": [
      "There are many types of birds.\n",
      "most birds can't fly\n",
      "There are many types of birds.\n",
      "sparrow can fly.\n",
      "There are many types of birds.\n",
      "ostrich can fly.\n"
     ]
    }
   ],
   "source": [
    "#Polymorphism with Inheritance: \n",
    "class bird:\n",
    "    def intro(self):\n",
    "        print(\"There are many types of birds.\")\n",
    "        \n",
    "    def  fly(self):\n",
    "        print(\"most birds can't fly\")\n",
    "\n",
    "class sparrow(bird):\n",
    "    def fly(self):\n",
    "        print(\"sparrow can fly.\")\n",
    "\n",
    "class ostrich(bird) :\n",
    "    def fly(self):\n",
    "        print(\"ostrich can fly.\")\n",
    "\n",
    "br = bird()\n",
    "sp = sparrow()\n",
    "os = ostrich()\n",
    "\n",
    "br.intro()\n",
    "br.fly()\n",
    "\n",
    "sp.intro()\n",
    "sp.fly()\n",
    "\n",
    "os.intro()\n",
    "os.fly()"
   ]
  },
  {
   "cell_type": "code",
   "execution_count": null,
   "id": "fb4e00e2-f9a5-438b-8637-fdb981f050b2",
   "metadata": {},
   "outputs": [],
   "source": []
  }
 ],
 "metadata": {
  "kernelspec": {
   "display_name": "Python 3 (ipykernel)",
   "language": "python",
   "name": "python3"
  },
  "language_info": {
   "codemirror_mode": {
    "name": "ipython",
    "version": 3
   },
   "file_extension": ".py",
   "mimetype": "text/x-python",
   "name": "python",
   "nbconvert_exporter": "python",
   "pygments_lexer": "ipython3",
   "version": "3.10.8"
  }
 },
 "nbformat": 4,
 "nbformat_minor": 5
}
