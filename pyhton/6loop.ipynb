{
 "cells": [
  {
   "cell_type": "code",
   "execution_count": null,
   "id": "d3a9b4ab-30f2-4247-986c-4802fa61bc18",
   "metadata": {},
   "outputs": [],
   "source": [
    "######is and in operator"
   ]
  },
  {
   "cell_type": "code",
   "execution_count": 2,
   "id": "7047f76f-b441-4282-a325-41bc413075d5",
   "metadata": {},
   "outputs": [
    {
     "name": "stdout",
     "output_type": "stream",
     "text": [
      "False\n"
     ]
    }
   ],
   "source": [
    "a = [1, 2, 3]\n",
    "b = [11,22]\n",
    "print(a is b) "
   ]
  },
  {
   "cell_type": "code",
   "execution_count": null,
   "id": "a97f4c8e-7367-4a23-96df-98f35c906697",
   "metadata": {},
   "outputs": [],
   "source": [
    "a = [1, 2, 3]\n",
    "b = a\n",
    "print(a is b) #because a and b reference the same object"
   ]
  },
  {
   "cell_type": "code",
   "execution_count": 5,
   "id": "6e23ac08-79b7-479e-84c0-385a0d6c04a3",
   "metadata": {},
   "outputs": [
    {
     "name": "stdout",
     "output_type": "stream",
     "text": [
      "False\n"
     ]
    }
   ],
   "source": [
    "a = [1, 2, 3]\n",
    "b = [1, 2, 3]\n",
    "print(a is b) #its false buz both are distinct object but with same value , a==b then its True. "
   ]
  },
  {
   "cell_type": "code",
   "execution_count": 6,
   "id": "d3716740-8822-4634-a12b-b64e7a648220",
   "metadata": {},
   "outputs": [
    {
     "name": "stdout",
     "output_type": "stream",
     "text": [
      "True\n",
      "False\n"
     ]
    }
   ],
   "source": [
    "#in operator check if a value exists in list or other object \n",
    "a = [1, 2, 3]\n",
    "print(1 in a)  # Output: True\n",
    "\n",
    "b = 'Hello, Codedamn!'\n",
    "print('Z' in b)  # Output: False"
   ]
  },
  {
   "cell_type": "code",
   "execution_count": 7,
   "id": "ec433663-eada-478d-b3c4-42e17185d113",
   "metadata": {},
   "outputs": [],
   "source": [
    "##############################lllllooooooopppp"
   ]
  },
  {
   "cell_type": "code",
   "execution_count": 3,
   "id": "52bfe73c-a266-496c-946f-59dcecea9d6d",
   "metadata": {},
   "outputs": [
    {
     "name": "stdout",
     "output_type": "stream",
     "text": [
      "1\n",
      "2\n",
      "3\n",
      "4\n",
      "5\n",
      "6\n",
      "7\n",
      "8\n"
     ]
    },
    {
     "data": {
      "text/plain": [
       "[1, 2, 3, 4, 5, 6, 7, 8]"
      ]
     },
     "execution_count": 3,
     "metadata": {},
     "output_type": "execute_result"
    }
   ],
   "source": [
    "# i is temporary memory / variable\n",
    "l=[1,2,3,4,5,6,7,8]\n",
    "l1=[]\n",
    "for i in l: \n",
    "    print(i)\n",
    "    l1.append(i)\n",
    "l1"
   ]
  },
  {
   "cell_type": "code",
   "execution_count": null,
   "id": "c4e6b39d-a43a-43af-836d-b6ac48b8142a",
   "metadata": {},
   "outputs": [
    {
     "data": {
      "text/plain": [
       "[1, 2, 3, 4, 5, 6, 7, 8, 9]"
      ]
     },
     "execution_count": 2,
     "metadata": {},
     "output_type": "execute_result"
    }
   ],
   "source": [
    "l1=[1,2,3,4,5]\n",
    "for i in range (6, 10):\n",
    "    l1.append(i)\n",
    "l1\n",
    "            "
   ]
  },
  {
   "cell_type": "code",
   "execution_count": 10,
   "id": "f95e7f0b-bc47-4d40-a571-53de93dd2b2d",
   "metadata": {},
   "outputs": [
    {
     "name": "stdin",
     "output_type": "stream",
     "text": [
      "Enter the range (start and end separated by space):  6 10\n"
     ]
    },
    {
     "data": {
      "text/plain": [
       "[1, 2, 3, 4, 5, 6, 7, 8, 9, 10]"
      ]
     },
     "execution_count": 10,
     "metadata": {},
     "output_type": "execute_result"
    }
   ],
   "source": [
    "l2=[1,2,3,4,5]\n",
    "r = input(\"Enter the range (start and end separated by space): \").split()\n",
    "\n",
    "start=int(r[0])\n",
    "end=int(r[1])+1\n",
    "\n",
    "for i in range (start, end):\n",
    "    l2.append(i)\n",
    "l2\n",
    "    "
   ]
  },
  {
   "cell_type": "code",
   "execution_count": null,
   "id": "f4599248-f3f9-40e9-a04f-e7673be42d04",
   "metadata": {},
   "outputs": [],
   "source": [
    "a=['sufeeya','parween']\n",
    "a=[i.upper()for i in a]# list comprehension\n",
    "a"
   ]
  },
  {
   "cell_type": "code",
   "execution_count": null,
   "id": "fad94389-f74a-4cf4-a3c2-b1533631822d",
   "metadata": {},
   "outputs": [],
   "source": [
    "a1=input('enter somthing-').split()\n",
    "up=[] #this empty list store upper version(new input) of string\n",
    "for i in a1:\n",
    "    print(i)\n",
    "    up.append(i.upper())\n",
    "up   "
   ]
  },
  {
   "cell_type": "code",
   "execution_count": 1,
   "id": "2c4285e2-0ec9-4fb9-9501-00b4ce9e692f",
   "metadata": {},
   "outputs": [
    {
     "name": "stdout",
     "output_type": "stream",
     "text": [
      "[1, 2, 3, 3, 4, 12.3, 345]\n",
      "['sufee', 'parween', 'abc']\n"
     ]
    }
   ],
   "source": [
    "l3=[1,2,3,3,4,'sufee','parween',12.3,345,'abc']\n",
    "ln=[]\n",
    "ls=[]\n",
    "for i in l3:\n",
    "    if type(i)==int or type(i)==float:\n",
    "        ln.append(i)\n",
    "    else:\n",
    "        ls.append(i)\n",
    "print(ln)\n",
    "print(ls)"
   ]
  },
  {
   "cell_type": "code",
   "execution_count": null,
   "id": "52d9b110-54f8-41e0-999f-ecdb3d7c3ffb",
   "metadata": {},
   "outputs": [],
   "source": []
  }
 ],
 "metadata": {
  "kernelspec": {
   "display_name": "Python 3 (ipykernel)",
   "language": "python",
   "name": "python3"
  },
  "language_info": {
   "codemirror_mode": {
    "name": "ipython",
    "version": 3
   },
   "file_extension": ".py",
   "mimetype": "text/x-python",
   "name": "python",
   "nbconvert_exporter": "python",
   "pygments_lexer": "ipython3",
   "version": "3.10.8"
  }
 },
 "nbformat": 4,
 "nbformat_minor": 5
}
