{
 "cells": [
  {
   "cell_type": "code",
   "execution_count": 1,
   "id": "d2defd79-d745-4d75-91eb-ff132c48b60b",
   "metadata": {},
   "outputs": [],
   "source": [
    "a = 'abcdefg'"
   ]
  },
  {
   "cell_type": "code",
   "execution_count": 2,
   "id": "1a8df1c1-67f8-4201-b4dd-4cf382435675",
   "metadata": {},
   "outputs": [
    {
     "data": {
      "text/plain": [
       "'a'"
      ]
     },
     "execution_count": 2,
     "metadata": {},
     "output_type": "execute_result"
    }
   ],
   "source": [
    "a[0]"
   ]
  },
  {
   "cell_type": "code",
   "execution_count": 3,
   "id": "4e40f138-4af9-409b-b1c8-f8aeedba6ab3",
   "metadata": {},
   "outputs": [
    {
     "data": {
      "text/plain": [
       "'d'"
      ]
     },
     "execution_count": 3,
     "metadata": {},
     "output_type": "execute_result"
    }
   ],
   "source": [
    "a[3]"
   ]
  },
  {
   "cell_type": "code",
   "execution_count": 4,
   "id": "2e0bdaa0-4ce8-4edd-8081-fa216abcc0a2",
   "metadata": {},
   "outputs": [],
   "source": [
    "## change a particular index called imutability anf mutability\n",
    "## agr kisi var ko kisi or data se assign kar diya thats not a call mutability.. like a='ABc' to a='DEF' not working\n",
    "\n",
    "## imutable (string) can't be modified or change \n",
    "## mutable (list)"
   ]
  },
  {
   "cell_type": "code",
   "execution_count": 1,
   "id": "d53c60ba-24e5-45a9-a315-355199299dcc",
   "metadata": {},
   "outputs": [],
   "source": [
    "l =[1,2,3, 'sufeeya' ]"
   ]
  },
  {
   "cell_type": "code",
   "execution_count": 2,
   "id": "46fe3e4d-6dce-403c-a1fd-7dc315f7222c",
   "metadata": {},
   "outputs": [
    {
     "data": {
      "text/plain": [
       "[1, 2, 300, 'sufeeya']"
      ]
     },
     "execution_count": 2,
     "metadata": {},
     "output_type": "execute_result"
    }
   ],
   "source": [
    "l[2]= 300\n",
    "l"
   ]
  },
  {
   "cell_type": "code",
   "execution_count": 10,
   "id": "48db2a5b-71e6-4534-9ac0-6ddb4ba6b834",
   "metadata": {},
   "outputs": [
    {
     "data": {
      "text/plain": [
       "'abcdefgh'"
      ]
     },
     "execution_count": 10,
     "metadata": {},
     "output_type": "execute_result"
    }
   ],
   "source": [
    "a"
   ]
  },
  {
   "cell_type": "code",
   "execution_count": 12,
   "id": "a4b04e58-c0c6-41e9-bd2e-1a24a6a99f12",
   "metadata": {},
   "outputs": [
    {
     "data": {
      "text/plain": [
       "'hdhdhd'"
      ]
     },
     "execution_count": 12,
     "metadata": {},
     "output_type": "execute_result"
    }
   ],
   "source": [
    "a = 'hdhdhd' ## its called override / garbage collection call\n",
    "a"
   ]
  },
  {
   "cell_type": "code",
   "execution_count": null,
   "id": "4971cb3e-16c6-4c1f-9044-e76b873b08d8",
   "metadata": {},
   "outputs": [],
   "source": []
  },
  {
   "cell_type": "code",
   "execution_count": null,
   "id": "3f964531-117b-4f02-82f6-28d0453aa7a4",
   "metadata": {},
   "outputs": [],
   "source": []
  }
 ],
 "metadata": {
  "kernelspec": {
   "display_name": "Python 3 (ipykernel)",
   "language": "python",
   "name": "python3"
  },
  "language_info": {
   "codemirror_mode": {
    "name": "ipython",
    "version": 3
   },
   "file_extension": ".py",
   "mimetype": "text/x-python",
   "name": "python",
   "nbconvert_exporter": "python",
   "pygments_lexer": "ipython3",
   "version": "3.13.1"
  }
 },
 "nbformat": 4,
 "nbformat_minor": 5
}
