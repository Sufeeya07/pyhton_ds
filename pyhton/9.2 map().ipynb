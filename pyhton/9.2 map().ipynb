{
 "cells": [
  {
   "cell_type": "code",
   "execution_count": null,
   "id": "01644057-a5cf-4de2-9af3-bf9423349ac6",
   "metadata": {},
   "outputs": [],
   "source": [
    "map me  har ek element me ja ja ke ek ek karke  operation perform krna then use map.\n",
    "but jo opertion perform krna ha to function ke sath krna hoga with the help of iterator \n",
    "map(function, iterables) must have two args\n",
    "map your data and gives u outcome"
   ]
  },
  {
   "cell_type": "code",
   "execution_count": 10,
   "id": "b9cceb69-86af-4240-b58a-08ee801a4064",
   "metadata": {},
   "outputs": [
    {
     "name": "stdin",
     "output_type": "stream",
     "text": [
      "Enter list separated by commas:  2 3\n"
     ]
    },
    {
     "data": {
      "text/plain": [
       "[4, 9]"
      ]
     },
     "execution_count": 10,
     "metadata": {},
     "output_type": "execute_result"
    }
   ],
   "source": [
    "l=input('Enter list separated by commas: ').split()\n",
    "def sq(l):\n",
    "    return int(l)**2 #list contains integers as strings ,,,converting them into integers e\n",
    "list(map(sq, l))"
   ]
  },
  {
   "cell_type": "code",
   "execution_count": 1,
   "id": "be2538fc-927a-40f5-a5ff-9348100d4207",
   "metadata": {},
   "outputs": [
    {
     "data": {
      "text/plain": [
       "(4, 9, 16, 25, 36)"
      ]
     },
     "execution_count": 1,
     "metadata": {},
     "output_type": "execute_result"
    }
   ],
   "source": [
    "l1=[2,3,4,5,6]\n",
    "\n",
    "def sq2(l1):\n",
    "    return l1**2\n",
    "tuple(map(sq2,l1)) # wrappe with tuple , whaterver u want list set"
   ]
  },
  {
   "cell_type": "code",
   "execution_count": 2,
   "id": "15c79e19-3cf1-4177-830b-2c17d176c48e",
   "metadata": {},
   "outputs": [
    {
     "data": {
      "text/plain": [
       "[4, 9, 16, 25, 36]"
      ]
     },
     "execution_count": 2,
     "metadata": {},
     "output_type": "execute_result"
    }
   ],
   "source": [
    "list(map(lambda l1 : l1**2, l1))"
   ]
  },
  {
   "cell_type": "code",
   "execution_count": 3,
   "id": "32f70247-91cb-495c-b318-ca56e0e24555",
   "metadata": {},
   "outputs": [
    {
     "name": "stdin",
     "output_type": "stream",
     "text": [
      "enter numbers to find odd and even- 22\n"
     ]
    },
    {
     "data": {
      "text/plain": [
       "[('this is even number', 22)]"
      ]
     },
     "execution_count": 3,
     "metadata": {},
     "output_type": "execute_result"
    }
   ],
   "source": [
    "l2=input('enter numbers to find odd and even-').split(',')\n",
    "l2 = list(map(int, l2))  # Convert input strings to integers\n",
    "\n",
    "def eo(l2):\n",
    "    if l2 % 2==0:\n",
    "        return ('this is even number', l2)\n",
    "    else:\n",
    "        return ('this is odd number', l2)\n",
    "        \n",
    "list(map(eo,l2))"
   ]
  },
  {
   "cell_type": "code",
   "execution_count": 2,
   "id": "1a3dbabe-526e-4313-8bad-bbab37f7e80d",
   "metadata": {},
   "outputs": [
    {
     "data": {
      "text/plain": [
       "[5, 5, 5, 5]"
      ]
     },
     "execution_count": 2,
     "metadata": {},
     "output_type": "execute_result"
    }
   ],
   "source": [
    "a=1,2,3,4\n",
    "b=4,3,2,1\n",
    "def add(a,b):\n",
    "    return a+b\n",
    "list(map(add, a,b)) # also use lambda , x,y: x+y,ab, instead of fun"
   ]
  },
  {
   "cell_type": "code",
   "execution_count": 22,
   "id": "7d9b70c2-b050-4388-b295-8b0f9cfbcf1f",
   "metadata": {},
   "outputs": [
    {
     "data": {
      "text/plain": [
       "['S', 'U', 'F', 'E', 'E', 'Y', 'A', ' ', 'P', 'A', 'R', 'W', 'E', 'E', 'N']"
      ]
     },
     "execution_count": 22,
     "metadata": {},
     "output_type": "execute_result"
    }
   ],
   "source": [
    "s=\"sufeeya parween\"\n",
    "list(map(lambda s:s.upper(), s))"
   ]
  },
  {
   "cell_type": "code",
   "execution_count": 27,
   "id": "962575be-068d-4158-8284-996dc86048f3",
   "metadata": {},
   "outputs": [
    {
     "name": "stdin",
     "output_type": "stream",
     "text": [
      "enter ur input- syfeeya\n"
     ]
    },
    {
     "data": {
      "text/plain": [
       "['S', 'Y', 'F', 'E', 'E', 'Y', 'A']"
      ]
     },
     "execution_count": 27,
     "metadata": {},
     "output_type": "execute_result"
    }
   ],
   "source": [
    "s=input(\"enter ur input-\")\n",
    "def up(s):\n",
    "       return s.upper()\n",
    "list(map(up, s))"
   ]
  },
  {
   "cell_type": "code",
   "execution_count": null,
   "id": "d6ed7085-7e76-4125-8e2b-c2d7691af52d",
   "metadata": {},
   "outputs": [],
   "source": []
  }
 ],
 "metadata": {
  "kernelspec": {
   "display_name": "Python 3 (ipykernel)",
   "language": "python",
   "name": "python3"
  },
  "language_info": {
   "codemirror_mode": {
    "name": "ipython",
    "version": 3
   },
   "file_extension": ".py",
   "mimetype": "text/x-python",
   "name": "python",
   "nbconvert_exporter": "python",
   "pygments_lexer": "ipython3",
   "version": "3.10.8"
  }
 },
 "nbformat": 4,
 "nbformat_minor": 5
}
