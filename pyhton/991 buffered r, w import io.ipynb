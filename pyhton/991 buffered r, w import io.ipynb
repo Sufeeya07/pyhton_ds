{
 "cells": [
  {
   "cell_type": "code",
   "execution_count": null,
   "id": "cb1ad4c7-878d-4960-b2cd-ea54586399ed",
   "metadata": {},
   "outputs": [],
   "source": [
    "buffer use krke read or write lrte h file ko to, bade file ko wo chunk me write krta means pices\n",
    "there a module for that io"
   ]
  },
  {
   "cell_type": "code",
   "execution_count": 1,
   "id": "745a1066-abc4-4819-bce6-1a9997c021e0",
   "metadata": {},
   "outputs": [],
   "source": [
    "import io"
   ]
  },
  {
   "cell_type": "code",
   "execution_count": 14,
   "id": "e9873bba-58d9-44ea-9fbf-89be236d011b",
   "metadata": {},
   "outputs": [],
   "source": [
    "with open('test1.txt' ,'wb') as f:   # w.binary\n",
    "    file = io.BufferedWriter(f)    #file is a obj of f . jo v file hum open kre h usko buffer mode me write kro\n",
    "    \n",
    "    file.write(b'this is my first line \\n') # b is  byte\n",
    "    file.write(b'this is my second line')\n",
    "    \n",
    "    file.flush()  # in buffer we use flush() for closing"
   ]
  },
  {
   "cell_type": "code",
   "execution_count": 23,
   "id": "546d08ed-11ad-40b4-a87e-acb8a1c29001",
   "metadata": {},
   "outputs": [
    {
     "name": "stdout",
     "output_type": "stream",
     "text": [
      "b'this is my'\n"
     ]
    }
   ],
   "source": [
    "with open(\"test1.txt\", 'rb') as f:\n",
    "    file = io.BufferedReader(f)\n",
    "    #file.read() # output doesnt show \n",
    "    r= file.read(10) # 2 byte read data\n",
    "    print(r)"
   ]
  },
  {
   "cell_type": "code",
   "execution_count": null,
   "id": "ad8f7f87-2d6d-485b-8d22-a5f53f306343",
   "metadata": {},
   "outputs": [],
   "source": []
  }
 ],
 "metadata": {
  "kernelspec": {
   "display_name": "Python 3 (ipykernel)",
   "language": "python",
   "name": "python3"
  },
  "language_info": {
   "codemirror_mode": {
    "name": "ipython",
    "version": 3
   },
   "file_extension": ".py",
   "mimetype": "text/x-python",
   "name": "python",
   "nbconvert_exporter": "python",
   "pygments_lexer": "ipython3",
   "version": "3.10.8"
  }
 },
 "nbformat": 4,
 "nbformat_minor": 5
}
