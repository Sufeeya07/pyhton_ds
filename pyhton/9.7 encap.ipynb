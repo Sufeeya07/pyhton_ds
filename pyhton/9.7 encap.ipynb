{
 "cells": [
  {
   "cell_type": "code",
   "execution_count": null,
   "id": "cf4810ce-5b09-463e-8f2b-f09bb8ee62ca",
   "metadata": {},
   "outputs": [],
   "source": [
    "--ENCAPSULATION-- hide variable or other thing that u dont want to show other users , so that they couldnt be modify\n",
    "--create a wrraper hide class internal structure / variables. so tha it cant be show directly . let them see what we want to see may be through method so that wo modify ho ske"
   ]
  },
  {
   "cell_type": "code",
   "execution_count": 3,
   "id": "5aaef1aa-91f0-4fe9-8b28-04286282689c",
   "metadata": {},
   "outputs": [
    {
     "data": {
      "text/plain": [
       "23"
      ]
     },
     "execution_count": 3,
     "metadata": {},
     "output_type": "execute_result"
    }
   ],
   "source": [
    "class test:\n",
    "    def __init__(self, a,b):  # a, b  are data and self.A,B are objects which belong to class test\n",
    "        self.A=a\n",
    "        self.B=b\n",
    "        \n",
    "t=test(22,33)\n",
    "t.a= 23  # externaly change the value of a , access\n",
    "t.a"
   ]
  },
  {
   "cell_type": "code",
   "execution_count": 9,
   "id": "39f51ffc-1bdc-4554-b335-582cbe2d5d73",
   "metadata": {},
   "outputs": [
    {
     "data": {
      "text/plain": [
       "'abc'"
      ]
     },
     "execution_count": 9,
     "metadata": {},
     "output_type": "execute_result"
    }
   ],
   "source": [
    "class car:\n",
    "    def __init__(self, year , make, model , speed):\n",
    "        self.__year = year   # here data is hide , become private variable\n",
    "        self.__make = make\n",
    "        self.__model = model\n",
    "        self.__speed = 0 # bydefault value put \n",
    "        \n",
    "c= car(2023, \"abc\", \"innova\", 12) #dircetly  access\n",
    "# c.year  #give error \n",
    "c._car__make"
   ]
  },
  {
   "cell_type": "code",
   "execution_count": 7,
   "id": "092dd129-0a06-403a-aabf-35f5ee30448d",
   "metadata": {},
   "outputs": [
    {
     "data": {
      "text/plain": [
       "2024"
      ]
     },
     "execution_count": 7,
     "metadata": {},
     "output_type": "execute_result"
    }
   ],
   "source": [
    "class car:\n",
    "    def __init__(self, year , make, model , speed):  # access through method\n",
    "        self.__year = year  \n",
    "        self.__make = make\n",
    "        self.__model = model\n",
    "        self.__speed = 0\n",
    "        \n",
    "    def set_speed(self, speed): #for speed, set the value of attribute\n",
    "        self.__speed= speed\n",
    "    def get_speed(self):      # get or retrieve the value of an attribute., or update ur data\n",
    "        return self.__speed\n",
    "    \n",
    "    \n",
    "    def set_year(self, year): #for year\n",
    "        self.__year= year\n",
    "    def get_year(self):\n",
    "        return self.__year\n",
    "    \n",
    "    \n",
    "c= car(2023, \"abc\", \"innova\", 12)\n",
    "c.set_year(2024)\n",
    "c.get_year()"
   ]
  },
  {
   "cell_type": "code",
   "execution_count": 2,
   "id": "dab23d45-128d-4275-94d5-a467aae53187",
   "metadata": {},
   "outputs": [
    {
     "data": {
      "text/plain": [
       "22"
      ]
     },
     "execution_count": 2,
     "metadata": {},
     "output_type": "execute_result"
    }
   ],
   "source": [
    "c.set_speed(22)\n",
    "c.get_speed()"
   ]
  },
  {
   "cell_type": "code",
   "execution_count": 9,
   "id": "f7054982-df7c-4555-ae9f-c10be396ef67",
   "metadata": {},
   "outputs": [],
   "source": [
    "class bank_acct:\n",
    "    def __init__(self, balance):\n",
    "        self.__bal=balance\n",
    "        \n",
    "    def deposite(self, amount):    # deposite must be add in balance \n",
    "        self.__bal = self.__bal + amount\n",
    "        \n",
    "    def withdraw(self, amount):  \n",
    "        \n",
    "        if self.__bal >= amount:\n",
    "            self.__bal= self.__bal - amount   # after withdraw ur balnce will be updated\n",
    "            return (\"successfully withdraw.\")   \n",
    "        else:\n",
    "            return (\"your balnce is low.\")\n",
    "            \n",
    "    def get_bala(self):\n",
    "        return self.__bal\n",
    "        "
   ]
  },
  {
   "cell_type": "code",
   "execution_count": 11,
   "id": "56ba106e-8542-4aec-a8d1-2435f4319738",
   "metadata": {},
   "outputs": [
    {
     "data": {
      "text/plain": [
       "1000"
      ]
     },
     "execution_count": 11,
     "metadata": {},
     "output_type": "execute_result"
    }
   ],
   "source": [
    "sufeeya =bank_acct(1000)  # ur acct balance\n",
    "sufeeya.get_bala()"
   ]
  },
  {
   "cell_type": "code",
   "execution_count": 3,
   "id": "22972359-0c55-4870-9e61-c033307e5d39",
   "metadata": {},
   "outputs": [
    {
     "data": {
      "text/plain": [
       "'successfully withdraw.'"
      ]
     },
     "execution_count": 3,
     "metadata": {},
     "output_type": "execute_result"
    }
   ],
   "source": [
    "sufeeya.withdraw(200)"
   ]
  },
  {
   "cell_type": "code",
   "execution_count": 12,
   "id": "aaadefcb-ae0b-4414-96a6-980e89ccce33",
   "metadata": {},
   "outputs": [],
   "source": [
    "sufeeya.deposite(1000)"
   ]
  },
  {
   "cell_type": "code",
   "execution_count": 6,
   "id": "b6bc5cfa-4b0d-4ca0-87f9-4d6b33bf1671",
   "metadata": {},
   "outputs": [
    {
     "data": {
      "text/plain": [
       "1800"
      ]
     },
     "execution_count": 6,
     "metadata": {},
     "output_type": "execute_result"
    }
   ],
   "source": [
    "sufeeya.get_bala()"
   ]
  },
  {
   "cell_type": "code",
   "execution_count": 13,
   "id": "fd03f87e-d1d0-417d-9511-25e7cfd3b89d",
   "metadata": {},
   "outputs": [],
   "source": [
    "class salary :\n",
    "    def __init__(self, bal):\n",
    "        self.__bal= bal\n",
    "\n",
    "    def next_month(self , salary):\n",
    "        self.__bal= self.__bal+salary\n",
    "\n",
    "    def withdraw(self,amount ):\n",
    "        if self.__bal>= amount:\n",
    "            self.__bal = self.__bal-amount\n",
    "            return True\n",
    "        else:\n",
    "            False\n",
    "\n",
    "    def get_bal(self):\n",
    "        return self.__bal\n",
    "\n",
    "    "
   ]
  },
  {
   "cell_type": "code",
   "execution_count": 18,
   "id": "6088d274-70b6-4553-b691-513e6b98a6b4",
   "metadata": {},
   "outputs": [
    {
     "data": {
      "text/plain": [
       "50000"
      ]
     },
     "execution_count": 18,
     "metadata": {},
     "output_type": "execute_result"
    }
   ],
   "source": [
    "a=salary(50000)\n",
    "a.get_bal()"
   ]
  },
  {
   "cell_type": "code",
   "execution_count": 19,
   "id": "62301f36-4881-4fa6-adb0-366a5a4bfb05",
   "metadata": {},
   "outputs": [
    {
     "data": {
      "text/plain": [
       "45000"
      ]
     },
     "execution_count": 19,
     "metadata": {},
     "output_type": "execute_result"
    }
   ],
   "source": [
    "a.withdraw(5000)\n",
    "a.get_bal()"
   ]
  },
  {
   "cell_type": "code",
   "execution_count": 10,
   "id": "daf0082a-5763-4371-9c7f-f177ef7baf96",
   "metadata": {},
   "outputs": [],
   "source": [
    "#-----2 example \n",
    "class  student:\n",
    "    def __init__(self, name, marks):\n",
    "        self.__n= name\n",
    "        self.__m = marks\n",
    "        \n",
    "    def student_data(self):\n",
    "        print(\"Name:-{} marks:- {} \".format(self.__n, self.__m))\n",
    "        # return f\"Name:-{self.__n} marks:- {self.__m} \"\n",
    "        \n",
    "s=student(\"sufeeya\", 24)\n"
   ]
  },
  {
   "cell_type": "code",
   "execution_count": 11,
   "id": "92770159-a1a7-4abc-b56a-42fe5a9aaca3",
   "metadata": {},
   "outputs": [
    {
     "name": "stdout",
     "output_type": "stream",
     "text": [
      "Name:-sufeeya marks:- 24 \n"
     ]
    }
   ],
   "source": [
    "s.student_data()"
   ]
  },
  {
   "cell_type": "code",
   "execution_count": 30,
   "id": "21016cd2-326c-495a-9aee-8ce2271ed56e",
   "metadata": {},
   "outputs": [
    {
     "name": "stdout",
     "output_type": "stream",
     "text": [
      "Name:-nikku marks:- 23 \n"
     ]
    }
   ],
   "source": [
    "s=student(\"nikku\", 23)\n",
    "s.student_data()"
   ]
  },
  {
   "cell_type": "code",
   "execution_count": 31,
   "id": "665a63b8-be11-4d24-a0dd-1029a259df33",
   "metadata": {},
   "outputs": [
    {
     "data": {
      "text/plain": [
       "'nikku'"
      ]
     },
     "execution_count": 31,
     "metadata": {},
     "output_type": "execute_result"
    }
   ],
   "source": [
    "s._student__n"
   ]
  },
  {
   "cell_type": "code",
   "execution_count": null,
   "id": "e84cfb29-bfc1-4c38-8a43-397878396bf9",
   "metadata": {},
   "outputs": [],
   "source": []
  }
 ],
 "metadata": {
  "kernelspec": {
   "display_name": "Python 3 (ipykernel)",
   "language": "python",
   "name": "python3"
  },
  "language_info": {
   "codemirror_mode": {
    "name": "ipython",
    "version": 3
   },
   "file_extension": ".py",
   "mimetype": "text/x-python",
   "name": "python",
   "nbconvert_exporter": "python",
   "pygments_lexer": "ipython3",
   "version": "3.13.1"
  }
 },
 "nbformat": 4,
 "nbformat_minor": 5
}
