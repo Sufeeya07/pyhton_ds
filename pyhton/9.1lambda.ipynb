{
 "cells": [
  {
   "cell_type": "code",
   "execution_count": 1,
   "id": "874da647-b1ce-4a20-9c86-4c1f125a9e6c",
   "metadata": {},
   "outputs": [
    {
     "data": {
      "text/plain": [
       "9"
      ]
     },
     "execution_count": 1,
     "metadata": {},
     "output_type": "execute_result"
    }
   ],
   "source": [
    "def t(n,p):\n",
    "    return n**p\n",
    "t(3,2)"
   ]
  },
  {
   "cell_type": "code",
   "execution_count": 2,
   "id": "63996f8b-4ebe-417c-9cc7-19b542ff1700",
   "metadata": {},
   "outputs": [
    {
     "ename": "SyntaxError",
     "evalue": "invalid syntax (3340037662.py, line 1)",
     "output_type": "error",
     "traceback": [
      "\u001b[0;36m  Cell \u001b[0;32mIn[2], line 1\u001b[0;36m\u001b[0m\n\u001b[0;31m    lambda- reserve keyword\u001b[0m\n\u001b[0m          ^\u001b[0m\n\u001b[0;31mSyntaxError\u001b[0m\u001b[0;31m:\u001b[0m invalid syntax\n"
     ]
    }
   ],
   "source": [
    "lambda- reserve keyword\n",
    "-also called one line function or anonymous fun( why anony fun buz . here we dont declare function mane , just declare fun and its operation \n",
    "-lanbda arguments : expression\n",
    "- when u  want to write a basic , simple fun then use lambda"
   ]
  },
  {
   "cell_type": "code",
   "execution_count": null,
   "id": "e893bd7d-5b11-4629-83f1-0c47fb22c889",
   "metadata": {},
   "outputs": [],
   "source": [
    "means that the function is without a name.\n",
    "def keyword is used to define a normal function . Similarly, the lambda keyword is used to define an anonymous function in Python. "
   ]
  },
  {
   "cell_type": "code",
   "execution_count": 2,
   "id": "835adfc9-6564-4724-a024-286179fd856f",
   "metadata": {},
   "outputs": [
    {
     "data": {
      "text/plain": [
       "27"
      ]
     },
     "execution_count": 2,
     "metadata": {},
     "output_type": "execute_result"
    }
   ],
   "source": [
    "a= lambda n,p:n**p # a is var , which holds a lambda fun . lf defined in a with arugument and expression\n",
    "a(3,3)"
   ]
  },
  {
   "cell_type": "code",
   "execution_count": 1,
   "id": "7cc32c68-9ec1-43bd-9f40-1db6311a4c4b",
   "metadata": {},
   "outputs": [
    {
     "data": {
      "text/plain": [
       "20"
      ]
     },
     "execution_count": 1,
     "metadata": {},
     "output_type": "execute_result"
    }
   ],
   "source": [
    "add = lambda x,y:x+y\n",
    "add(10,10)"
   ]
  },
  {
   "cell_type": "code",
   "execution_count": null,
   "id": "f35e2da0-30c3-42b8-8f1f-c347d5e21888",
   "metadata": {},
   "outputs": [],
   "source": [
    "cf= lambda c:(9/5)*c+32\n",
    "cf(45)"
   ]
  },
  {
   "cell_type": "code",
   "execution_count": null,
   "id": "3056b08c-3440-448d-badb-8e64aa68dc75",
   "metadata": {},
   "outputs": [],
   "source": [
    "#anonymous function inside another function\n",
    "\n",
    "def myfunc(n):\n",
    "    return lambda a : a + n\n",
    "\n",
    "mydoubler = myfunc(2)\n",
    "\n",
    "print(mydoubler(11))"
   ]
  },
  {
   "cell_type": "code",
   "execution_count": 1,
   "id": "1984b222-06e5-49f9-a910-10e3744ed102",
   "metadata": {},
   "outputs": [
    {
     "data": {
      "text/plain": [
       "3"
      ]
     },
     "execution_count": 1,
     "metadata": {},
     "output_type": "execute_result"
    }
   ],
   "source": [
    "fmax=lambda x,y: x if x>y else y\n",
    "fmax(3,2)"
   ]
  },
  {
   "cell_type": "code",
   "execution_count": 7,
   "id": "4800e4c0-bf6e-4f5d-8622-63ab1caecbad",
   "metadata": {},
   "outputs": [
    {
     "name": "stdin",
     "output_type": "stream",
     "text": [
      "enter the value of a- 6\n",
      "enter the value of b- 7\n",
      "enter the value of c- 8\n"
     ]
    },
    {
     "name": "stdout",
     "output_type": "stream",
     "text": [
      "8 is great\n"
     ]
    }
   ],
   "source": [
    "a= int(input('enter the value of a-'))\n",
    "b= int(input('enter the value of b-'))\n",
    "c= int(input('enter the value of c-'))\n",
    "\n",
    "fm= lambda a,b,c :max(a,b,c)   #a if (a > b and a > c) else (b if (b > a and b > c) else c)\n",
    "print(fm(a,b,c),'is great')\n"
   ]
  },
  {
   "cell_type": "code",
   "execution_count": 12,
   "id": "4ea6f119-2591-4202-a0aa-041016829e68",
   "metadata": {},
   "outputs": [
    {
     "name": "stdin",
     "output_type": "stream",
     "text": [
      "Enter the value of a:  5\n",
      "Enter the value of b:  8\n",
      "Enter the value of c:  9\n"
     ]
    },
    {
     "name": "stdout",
     "output_type": "stream",
     "text": [
      "c is greatest: 9\n"
     ]
    }
   ],
   "source": [
    "# method 2nd\n",
    "a = int(input('Enter the value of a: '))\n",
    "b = int(input('Enter the value of b: '))\n",
    "c = int(input('Enter the value of c: '))\n",
    "\n",
    "fm = lambda a, b, c: max(a, b, c)\n",
    "\n",
    "greatest = fm(a, b, c)\n",
    "if greatest == a:\n",
    "    print('a is greatest:', greatest)\n",
    "elif greatest == b:\n",
    "    print('b is greatest:', greatest)\n",
    "else:\n",
    "    print('c is greatest:', greatest)\n"
   ]
  },
  {
   "cell_type": "code",
   "execution_count": 1,
   "id": "d97bee28-c430-4bb6-83e1-686a1b01fd3b",
   "metadata": {},
   "outputs": [
    {
     "data": {
      "text/plain": [
       "10"
      ]
     },
     "execution_count": 1,
     "metadata": {},
     "output_type": "execute_result"
    }
   ],
   "source": [
    "s=\"sufeeyaabc\"\n",
    "lth =lambda s:len(s)\n",
    "lth(s)"
   ]
  },
  {
   "cell_type": "code",
   "execution_count": null,
   "id": "8b72021d-4b80-4378-830c-be056a09744e",
   "metadata": {},
   "outputs": [],
   "source": []
  }
 ],
 "metadata": {
  "kernelspec": {
   "display_name": "Python 3 (ipykernel)",
   "language": "python",
   "name": "python3"
  },
  "language_info": {
   "codemirror_mode": {
    "name": "ipython",
    "version": 3
   },
   "file_extension": ".py",
   "mimetype": "text/x-python",
   "name": "python",
   "nbconvert_exporter": "python",
   "pygments_lexer": "ipython3",
   "version": "3.10.8"
  }
 },
 "nbformat": 4,
 "nbformat_minor": 5
}
