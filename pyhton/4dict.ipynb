{
 "cells": [
  {
   "cell_type": "code",
   "execution_count": 4,
   "id": "42154055-4723-4096-93da-3a490fbd9d92",
   "metadata": {},
   "outputs": [],
   "source": [
    "#dictaionary --key:value pair\n",
    "#key should always be unique, otherwise key  upadte itself\n",
    "# dict is mutable object"
   ]
  },
  {
   "cell_type": "code",
   "execution_count": 3,
   "id": "bb72e615-e23f-4087-ad68-6c279b5833cc",
   "metadata": {},
   "outputs": [
    {
     "data": {
      "text/plain": [
       "{'name': 'sufee', 'age': 23, False: 122345, 'number': 123}"
      ]
     },
     "execution_count": 3,
     "metadata": {},
     "output_type": "execute_result"
    }
   ],
   "source": [
    "d={'name':'sufee', 'age':23, False:122345 ,'number':123} \n",
    "d"
   ]
  },
  {
   "cell_type": "code",
   "execution_count": 4,
   "id": "b5a83769-be05-4696-bba7-51c39a2eda07",
   "metadata": {},
   "outputs": [
    {
     "data": {
      "text/plain": [
       "['name', 'age', False, 'number']"
      ]
     },
     "execution_count": 4,
     "metadata": {},
     "output_type": "execute_result"
    }
   ],
   "source": [
    "list(d)"
   ]
  },
  {
   "cell_type": "code",
   "execution_count": 7,
   "id": "c0966c5b-a0fa-4c19-8fd8-5e318dab7b02",
   "metadata": {},
   "outputs": [],
   "source": [
    "#we dont use index , use key"
   ]
  },
  {
   "cell_type": "code",
   "execution_count": 5,
   "id": "e852439f-5c0e-47c5-9045-dc43bfb05bb6",
   "metadata": {},
   "outputs": [
    {
     "data": {
      "text/plain": [
       "{'name': 'sufee', 'age': 23, False: 122345, 'number': 123}"
      ]
     },
     "execution_count": 5,
     "metadata": {},
     "output_type": "execute_result"
    }
   ],
   "source": [
    "d"
   ]
  },
  {
   "cell_type": "code",
   "execution_count": 16,
   "id": "6190ae7e-07c7-4247-bca0-937ed5b67b32",
   "metadata": {},
   "outputs": [
    {
     "data": {
      "text/plain": [
       "('sufee', 23)"
      ]
     },
     "execution_count": 16,
     "metadata": {},
     "output_type": "execute_result"
    }
   ],
   "source": [
    "d['name'], d['age']"
   ]
  },
  {
   "cell_type": "code",
   "execution_count": 17,
   "id": "9bdd902c-cb77-473b-a175-fa6f722afa1b",
   "metadata": {},
   "outputs": [
    {
     "name": "stdout",
     "output_type": "stream",
     "text": [
      "Name:sufee , Age:23\n"
     ]
    }
   ],
   "source": [
    "print(f\"Name:{d['name']} , Age:{d['age']}\")"
   ]
  },
  {
   "cell_type": "code",
   "execution_count": 15,
   "id": "959f5fc4-85ab-4a59-8f7a-9930c6324f48",
   "metadata": {},
   "outputs": [
    {
     "data": {
      "text/plain": [
       "122345"
      ]
     },
     "execution_count": 15,
     "metadata": {},
     "output_type": "execute_result"
    }
   ],
   "source": [
    "d[0]#here we use 0 instead of false"
   ]
  },
  {
   "cell_type": "code",
   "execution_count": 20,
   "id": "78712478-d506-4b25-b694-570c91420820",
   "metadata": {},
   "outputs": [
    {
     "data": {
      "text/plain": [
       "{'name': 'sufeeya', 'age': 23, False: 122345, 123: 'num'}"
      ]
     },
     "execution_count": 20,
     "metadata": {},
     "output_type": "execute_result"
    }
   ],
   "source": [
    "# if key is not unique , in that case override with the new value\n",
    "\n",
    "d1={'name':'sufee', 'name':'sufeeya','age':23, False:122345 ,123:\"num\"} \n",
    "d1 #name is dulicate so override with second (sufeeya) "
   ]
  },
  {
   "cell_type": "code",
   "execution_count": 21,
   "id": "3b458dd4-29ef-4958-b5c4-7a622a02fcf2",
   "metadata": {},
   "outputs": [
    {
     "data": {
      "text/plain": [
       "'sufeeya'"
      ]
     },
     "execution_count": 21,
     "metadata": {},
     "output_type": "execute_result"
    }
   ],
   "source": [
    "d1['name']"
   ]
  },
  {
   "cell_type": "code",
   "execution_count": 27,
   "id": "c33bb9df-7c7d-46aa-856e-2643d6427e6a",
   "metadata": {},
   "outputs": [
    {
     "data": {
      "text/plain": [
       "{'company': 'xyz', 'course': ['web', 'frontend', 'fullstack']}"
      ]
     },
     "execution_count": 27,
     "metadata": {},
     "output_type": "execute_result"
    }
   ],
   "source": [
    "D={'company':'xyz' , \"course\":['web','frontend', 'fullstack']}\n",
    "D"
   ]
  },
  {
   "cell_type": "code",
   "execution_count": 29,
   "id": "1092da9e-8c8f-4e83-a79c-9c5ccfbc7b25",
   "metadata": {},
   "outputs": [
    {
     "data": {
      "text/plain": [
       "'frontend'"
      ]
     },
     "execution_count": 29,
     "metadata": {},
     "output_type": "execute_result"
    }
   ],
   "source": [
    "D['course'][1] # 1 is index beacuse we use list"
   ]
  },
  {
   "cell_type": "code",
   "execution_count": 31,
   "id": "fa14f5cd-26ab-42e4-81e3-a93e45146360",
   "metadata": {},
   "outputs": [
    {
     "data": {
      "text/plain": [
       "{'name': 'sufee', 12: 23, 'course': ['ds', 'dsa', 'fsd']}"
      ]
     },
     "execution_count": 31,
     "metadata": {},
     "output_type": "execute_result"
    }
   ],
   "source": [
    "d2={'name':'sufee', 12:23, 'course':['ds','dsa','fsd']}\n",
    "d2 #as a value we can put list also"
   ]
  },
  {
   "cell_type": "code",
   "execution_count": 32,
   "id": "75da8215-75e2-4bbc-b873-d12f96a2f9a4",
   "metadata": {},
   "outputs": [
    {
     "name": "stdout",
     "output_type": "stream",
     "text": [
      "name\n",
      "<class 'str'>\n",
      "12\n",
      "<class 'int'>\n",
      "course\n",
      "<class 'str'>\n"
     ]
    }
   ],
   "source": [
    "for i in d2:\n",
    "    print(i)\n",
    "    print(type(i))"
   ]
  },
  {
   "cell_type": "code",
   "execution_count": 33,
   "id": "d552e6fa-31b3-47f7-a8d7-c57c1ea0ebf1",
   "metadata": {},
   "outputs": [
    {
     "data": {
      "text/plain": [
       "{'name': 'sufee', 12: 23, 'course': ['ds', 'dsa', 'fsd']}"
      ]
     },
     "execution_count": 33,
     "metadata": {},
     "output_type": "execute_result"
    }
   ],
   "source": [
    "d2"
   ]
  },
  {
   "cell_type": "code",
   "execution_count": 38,
   "id": "5316a875-1f98-4dd8-b5de-db8b7f3ff7be",
   "metadata": {},
   "outputs": [
    {
     "data": {
      "text/plain": [
       "'fsd'"
      ]
     },
     "execution_count": 38,
     "metadata": {},
     "output_type": "execute_result"
    }
   ],
   "source": [
    "d2['course'][2]"
   ]
  },
  {
   "cell_type": "code",
   "execution_count": 61,
   "id": "8544f92e-61a1-421a-811f-b62a6eef2abb",
   "metadata": {},
   "outputs": [
    {
     "data": {
      "text/plain": [
       "{'num': [1, 2, 3, 4, 5],\n",
       " 'assignment': (1, 2, 3, 44, 55, 'ede'),\n",
       " 'Launch_date': {23, 25, 26},\n",
       " 'class_time': {'ds': '8am', 'da': '9am', 'fsd': '10am'}}"
      ]
     },
     "execution_count": 61,
     "metadata": {},
     "output_type": "execute_result"
    }
   ],
   "source": [
    "d3={'num':[1,2,3,4,5],'assignment':(1,2,3,44,55,\"ede\"), 'Launch_date':{23,25,26} , \"class_time\":{'ds':'8am' ,\"da\":'9am' ,\"fsd\":'10am'}}\n",
    "d3"
   ]
  },
  {
   "cell_type": "code",
   "execution_count": 46,
   "id": "6c8c2eb2-c52e-43c8-9d9b-0b36260623f5",
   "metadata": {},
   "outputs": [
    {
     "name": "stdout",
     "output_type": "stream",
     "text": [
      "num\n",
      "<class 'str'>\n",
      "assignment\n",
      "<class 'str'>\n",
      "Launch_date\n",
      "<class 'str'>\n",
      "class_time\n",
      "<class 'str'>\n"
     ]
    }
   ],
   "source": [
    "for i in d3:\n",
    "    print(i)\n",
    "    print(type(i))"
   ]
  },
  {
   "cell_type": "code",
   "execution_count": 37,
   "id": "c2bb222c-c3fc-4a89-914b-4d9745972cef",
   "metadata": {},
   "outputs": [
    {
     "data": {
      "text/plain": [
       "'8am'"
      ]
     },
     "execution_count": 37,
     "metadata": {},
     "output_type": "execute_result"
    }
   ],
   "source": [
    "d3['class_time']['ds']"
   ]
  },
  {
   "cell_type": "code",
   "execution_count": 49,
   "id": "27de4412-b7ca-4e2c-af4a-50b1b19d437d",
   "metadata": {},
   "outputs": [
    {
     "data": {
      "text/plain": [
       "3"
      ]
     },
     "execution_count": 49,
     "metadata": {},
     "output_type": "execute_result"
    }
   ],
   "source": [
    "d3['num'][2]"
   ]
  },
  {
   "cell_type": "code",
   "execution_count": 52,
   "id": "eadbcd1a-dede-4136-a6c2-e8cd0473f5a9",
   "metadata": {},
   "outputs": [
    {
     "data": {
      "text/plain": [
       "(3, 44, 55)"
      ]
     },
     "execution_count": 52,
     "metadata": {},
     "output_type": "execute_result"
    }
   ],
   "source": [
    "d3['assignment'][-4:-1]"
   ]
  },
  {
   "cell_type": "code",
   "execution_count": 72,
   "id": "1474ff47-656c-4d02-922b-ddd3b0b7755d",
   "metadata": {},
   "outputs": [
    {
     "data": {
      "text/plain": [
       "{'num': [1, 2, 3, 4, 5],\n",
       " 'assignment': (1, 2, 3, 44, 55, 'ede'),\n",
       " 'Launch_date': {21, 22, 28},\n",
       " 'class_time': {'ds': '8am', 'da': '9am', 'fsd': '10am'},\n",
       " 'mentor': ['ab', 'cd', 'df']}"
      ]
     },
     "execution_count": 72,
     "metadata": {},
     "output_type": "execute_result"
    }
   ],
   "source": [
    "#add new 'mentor key' in d3\n",
    "\n",
    "d3['mentor']=['ab','cd','df']\n",
    "d3 "
   ]
  },
  {
   "cell_type": "code",
   "execution_count": 73,
   "id": "855e5e0b-146e-4cea-8d1b-0ea33368f490",
   "metadata": {},
   "outputs": [
    {
     "data": {
      "text/plain": [
       "{'num': [1, 2, 3, 4, 5],\n",
       " 'assignment': (1, 2, 3, 44, 55, 'ede'),\n",
       " 'Launch_date': {21, 22, 28},\n",
       " 'class_time': {'ds': '8am', 'da': '9am', 'fsd': '10am'},\n",
       " 'mentor': ['ab', 'cd', 'df']}"
      ]
     },
     "execution_count": 73,
     "metadata": {},
     "output_type": "execute_result"
    }
   ],
   "source": [
    "d3['Launch_date']={21,22,28} \n",
    "d3 #ld replace with old ld"
   ]
  },
  {
   "cell_type": "code",
   "execution_count": 74,
   "id": "808fb860-07c4-4ee4-97e5-747b804b944d",
   "metadata": {},
   "outputs": [
    {
     "name": "stdout",
     "output_type": "stream",
     "text": [
      "{'brand': 'Ford', 'year': 1964}\n"
     ]
    }
   ],
   "source": [
    "dic = {\n",
    "  \"brand\": \"Ford\",\n",
    "  \"model\": \"Mustang\",\n",
    "  \"year\": 1964\n",
    "}\n",
    "del dic[\"model\"]# delete model\n",
    "print(dic)"
   ]
  },
  {
   "cell_type": "code",
   "execution_count": 75,
   "id": "a9e955e1-8fe9-4b80-aff1-322e967ee544",
   "metadata": {},
   "outputs": [
    {
     "data": {
      "text/plain": [
       "{'num': [1, 2, 3, 4, 5],\n",
       " 'assignment': (1, 2, 3, 44, 55, 'ede'),\n",
       " 'Launch_date': {21, 22, 28},\n",
       " 'class_time': {'ds': '8am', 'da': '9am', 'fsd': '10am'},\n",
       " 'mentor': ['ab', 'cd', 'df']}"
      ]
     },
     "execution_count": 75,
     "metadata": {},
     "output_type": "execute_result"
    }
   ],
   "source": [
    "d3"
   ]
  },
  {
   "cell_type": "code",
   "execution_count": 66,
   "id": "4731aa32-a962-4fa7-bb78-2ea8434c243f",
   "metadata": {},
   "outputs": [
    {
     "data": {
      "text/plain": [
       "dict_keys(['num', 'assignment', 'Launch_date', 'class_time'])"
      ]
     },
     "execution_count": 66,
     "metadata": {},
     "output_type": "execute_result"
    }
   ],
   "source": [
    "d3.keys()# make list of all keys in d3.... then also convert into list use list () "
   ]
  },
  {
   "cell_type": "code",
   "execution_count": 67,
   "id": "522ecf08-720c-43b2-abfd-07a0f33b6b72",
   "metadata": {},
   "outputs": [
    {
     "data": {
      "text/plain": [
       "dict_values([[1, 2, 3, 4, 5], (1, 2, 3, 44, 55, 'ede'), {28, 21, 22}, {'ds': '8am', 'da': '9am', 'fsd': '10am'}])"
      ]
     },
     "execution_count": 67,
     "metadata": {},
     "output_type": "execute_result"
    }
   ],
   "source": [
    "d3.values()"
   ]
  },
  {
   "cell_type": "code",
   "execution_count": 68,
   "id": "897ebe06-01c1-4f26-bdf8-f127e2245b91",
   "metadata": {},
   "outputs": [
    {
     "data": {
      "text/plain": [
       "[('num', [1, 2, 3, 4, 5]),\n",
       " ('assignment', (1, 2, 3, 44, 55, 'ede')),\n",
       " ('Launch_date', {21, 22, 28}),\n",
       " ('class_time', {'ds': '8am', 'da': '9am', 'fsd': '10am'})]"
      ]
     },
     "execution_count": 68,
     "metadata": {},
     "output_type": "execute_result"
    }
   ],
   "source": [
    "list(d3.items())#make pair of keys and values ..these all are hold tuple and list"
   ]
  },
  {
   "cell_type": "code",
   "execution_count": 76,
   "id": "548e9ea1-a88b-4ba9-94ea-413d15d22286",
   "metadata": {},
   "outputs": [
    {
     "data": {
      "text/plain": [
       "['ab', 'cd', 'df']"
      ]
     },
     "execution_count": 76,
     "metadata": {},
     "output_type": "execute_result"
    }
   ],
   "source": [
    "d3.pop(\"mentor\")#remove mentor from list"
   ]
  },
  {
   "cell_type": "code",
   "execution_count": 77,
   "id": "a087a8e7-51f0-498b-b0be-0d9fbb82eb1f",
   "metadata": {},
   "outputs": [
    {
     "data": {
      "text/plain": [
       "{'num': [1, 2, 3, 4, 5],\n",
       " 'assignment': (1, 2, 3, 44, 55, 'ede'),\n",
       " 'Launch_date': {21, 22, 28},\n",
       " 'class_time': {'ds': '8am', 'da': '9am', 'fsd': '10am'}}"
      ]
     },
     "execution_count": 77,
     "metadata": {},
     "output_type": "execute_result"
    }
   ],
   "source": [
    "d3"
   ]
  },
  {
   "cell_type": "code",
   "execution_count": 79,
   "id": "19184ee6-cea9-40a0-9590-69eba4dde959",
   "metadata": {},
   "outputs": [
    {
     "data": {
      "text/plain": [
       "('class_time', {'ds': '8am', 'da': '9am', 'fsd': '10am'})"
      ]
     },
     "execution_count": 79,
     "metadata": {},
     "output_type": "execute_result"
    }
   ],
   "source": [
    "d3.popitem()\n",
    "#remove last key value itself"
   ]
  },
  {
   "cell_type": "code",
   "execution_count": 80,
   "id": "eea68c8e-c7ae-408e-bd9d-5edffc4c8285",
   "metadata": {},
   "outputs": [
    {
     "data": {
      "text/plain": [
       "{'num': [1, 2, 3, 4, 5],\n",
       " 'assignment': (1, 2, 3, 44, 55, 'ede'),\n",
       " 'Launch_date': {21, 22, 28}}"
      ]
     },
     "execution_count": 80,
     "metadata": {},
     "output_type": "execute_result"
    }
   ],
   "source": [
    "d3"
   ]
  },
  {
   "cell_type": "code",
   "execution_count": null,
   "id": "72b4527d-e150-473d-911e-242482d7e601",
   "metadata": {},
   "outputs": [],
   "source": []
  }
 ],
 "metadata": {
  "kernelspec": {
   "display_name": "Python 3 (ipykernel)",
   "language": "python",
   "name": "python3"
  },
  "language_info": {
   "codemirror_mode": {
    "name": "ipython",
    "version": 3
   },
   "file_extension": ".py",
   "mimetype": "text/x-python",
   "name": "python",
   "nbconvert_exporter": "python",
   "pygments_lexer": "ipython3",
   "version": "3.13.1"
  }
 },
 "nbformat": 4,
 "nbformat_minor": 5
}
