{
 "cells": [
  {
   "cell_type": "code",
   "execution_count": 4,
   "id": "42154055-4723-4096-93da-3a490fbd9d92",
   "metadata": {},
   "outputs": [],
   "source": [
    "#dictaionary --key:value pair\n",
    "#key should always be unique, otherwise them upadte itself"
   ]
  },
  {
   "cell_type": "code",
   "execution_count": 17,
   "id": "bb72e615-e23f-4087-ad68-6c279b5833cc",
   "metadata": {},
   "outputs": [
    {
     "data": {
      "text/plain": [
       "{'name': 'sufee', 'age': 23, False: 122345, 123: 'num'}"
      ]
     },
     "execution_count": 17,
     "metadata": {},
     "output_type": "execute_result"
    }
   ],
   "source": [
    "d={'name':'sufee', 'age':23, False:122345 ,123:\"num\"} \n",
    "d"
   ]
  },
  {
   "cell_type": "code",
   "execution_count": 7,
   "id": "c0966c5b-a0fa-4c19-8fd8-5e318dab7b02",
   "metadata": {},
   "outputs": [],
   "source": [
    "#we dont use index , use key"
   ]
  },
  {
   "cell_type": "code",
   "execution_count": 9,
   "id": "e852439f-5c0e-47c5-9045-dc43bfb05bb6",
   "metadata": {},
   "outputs": [
    {
     "data": {
      "text/plain": [
       "{'name': 'sufee', 'age': 23, 'mail': 'ss07@gc', 123: 'num'}"
      ]
     },
     "execution_count": 9,
     "metadata": {},
     "output_type": "execute_result"
    }
   ],
   "source": [
    "d"
   ]
  },
  {
   "cell_type": "code",
   "execution_count": 13,
   "id": "6190ae7e-07c7-4247-bca0-937ed5b67b32",
   "metadata": {},
   "outputs": [
    {
     "data": {
      "text/plain": [
       "'num'"
      ]
     },
     "execution_count": 13,
     "metadata": {},
     "output_type": "execute_result"
    }
   ],
   "source": [
    "d[123]"
   ]
  },
  {
   "cell_type": "code",
   "execution_count": 19,
   "id": "959f5fc4-85ab-4a59-8f7a-9930c6324f48",
   "metadata": {},
   "outputs": [
    {
     "data": {
      "text/plain": [
       "122345"
      ]
     },
     "execution_count": 19,
     "metadata": {},
     "output_type": "execute_result"
    }
   ],
   "source": [
    "d[0]#here we 0 instead of false"
   ]
  },
  {
   "cell_type": "code",
   "execution_count": 20,
   "id": "78712478-d506-4b25-b694-570c91420820",
   "metadata": {},
   "outputs": [
    {
     "data": {
      "text/plain": [
       "{'name': 'sufeeya', 'age': 23, False: 122345, 123: 'num'}"
      ]
     },
     "execution_count": 20,
     "metadata": {},
     "output_type": "execute_result"
    }
   ],
   "source": [
    "d1={'name':'sufee', 'name':'sufeeya','age':23, False:122345 ,123:\"num\"} \n",
    "d1 #name is dulicate so override with second (sufeeya) "
   ]
  },
  {
   "cell_type": "code",
   "execution_count": 21,
   "id": "3b458dd4-29ef-4958-b5c4-7a622a02fcf2",
   "metadata": {},
   "outputs": [
    {
     "data": {
      "text/plain": [
       "'sufeeya'"
      ]
     },
     "execution_count": 21,
     "metadata": {},
     "output_type": "execute_result"
    }
   ],
   "source": [
    "d1['name']"
   ]
  },
  {
   "cell_type": "code",
   "execution_count": 31,
   "id": "fa14f5cd-26ab-42e4-81e3-a93e45146360",
   "metadata": {},
   "outputs": [
    {
     "data": {
      "text/plain": [
       "{'name': 'sufee', 12: 23, 'course': ['ds', 'dsa', 'fsd']}"
      ]
     },
     "execution_count": 31,
     "metadata": {},
     "output_type": "execute_result"
    }
   ],
   "source": [
    "d2={'name':'sufee', 12:23, 'course':['ds','dsa','fsd']}\n",
    "d2 #as a value we can put list also"
   ]
  },
  {
   "cell_type": "code",
   "execution_count": 32,
   "id": "75da8215-75e2-4bbc-b873-d12f96a2f9a4",
   "metadata": {},
   "outputs": [
    {
     "name": "stdout",
     "output_type": "stream",
     "text": [
      "name\n",
      "<class 'str'>\n",
      "12\n",
      "<class 'int'>\n",
      "course\n",
      "<class 'str'>\n"
     ]
    }
   ],
   "source": [
    "for i in d2:\n",
    "    print(i)\n",
    "    print(type(i))"
   ]
  },
  {
   "cell_type": "code",
   "execution_count": 33,
   "id": "d552e6fa-31b3-47f7-a8d7-c57c1ea0ebf1",
   "metadata": {},
   "outputs": [
    {
     "data": {
      "text/plain": [
       "{'name': 'sufee', 12: 23, 'course': ['ds', 'dsa', 'fsd']}"
      ]
     },
     "execution_count": 33,
     "metadata": {},
     "output_type": "execute_result"
    }
   ],
   "source": [
    "d2"
   ]
  },
  {
   "cell_type": "code",
   "execution_count": 38,
   "id": "5316a875-1f98-4dd8-b5de-db8b7f3ff7be",
   "metadata": {},
   "outputs": [
    {
     "data": {
      "text/plain": [
       "'fsd'"
      ]
     },
     "execution_count": 38,
     "metadata": {},
     "output_type": "execute_result"
    }
   ],
   "source": [
    "d2['course'][2]"
   ]
  },
  {
   "cell_type": "code",
   "execution_count": 60,
   "id": "8544f92e-61a1-421a-811f-b62a6eef2abb",
   "metadata": {},
   "outputs": [
    {
     "data": {
      "text/plain": [
       "{'num': [1, 2, 3, 4, 5],\n",
       " 'as': (1, 2, 3, 44, 55, 'ede'),\n",
       " 'Ld': {23, 25, 26},\n",
       " 'ct': {'ds': 2, 'dsa': 4}}"
      ]
     },
     "execution_count": 60,
     "metadata": {},
     "output_type": "execute_result"
    }
   ],
   "source": [
    "d3={'num':[1,2,3,4,5],'as':(1,2,3,44,55,\"ede\"), 'Ld':{23,25,26} , \"ct\":{ 'ds': 2, \"dsa\":4}}\n",
    "d3"
   ]
  },
  {
   "cell_type": "code",
   "execution_count": 61,
   "id": "6c8c2eb2-c52e-43c8-9d9b-0b36260623f5",
   "metadata": {},
   "outputs": [
    {
     "name": "stdout",
     "output_type": "stream",
     "text": [
      "<class 'str'>\n",
      "<class 'str'>\n",
      "<class 'str'>\n",
      "<class 'str'>\n"
     ]
    }
   ],
   "source": [
    "for i in d3:\n",
    "    print(type(i))"
   ]
  },
  {
   "cell_type": "code",
   "execution_count": 69,
   "id": "c2bb222c-c3fc-4a89-914b-4d9745972cef",
   "metadata": {},
   "outputs": [
    {
     "data": {
      "text/plain": [
       "2"
      ]
     },
     "execution_count": 69,
     "metadata": {},
     "output_type": "execute_result"
    }
   ],
   "source": [
    "d3['ct']['ds']"
   ]
  },
  {
   "cell_type": "code",
   "execution_count": 63,
   "id": "eadbcd1a-dede-4136-a6c2-e8cd0473f5a9",
   "metadata": {},
   "outputs": [
    {
     "data": {
      "text/plain": [
       "(3, 44, 55)"
      ]
     },
     "execution_count": 63,
     "metadata": {},
     "output_type": "execute_result"
    }
   ],
   "source": [
    "d3['as'][-4:-1]"
   ]
  },
  {
   "cell_type": "code",
   "execution_count": 72,
   "id": "1474ff47-656c-4d02-922b-ddd3b0b7755d",
   "metadata": {},
   "outputs": [
    {
     "data": {
      "text/plain": [
       "{'num': [1, 2, 3, 4, 5],\n",
       " 'as': (1, 2, 3, 44, 55, 'ede'),\n",
       " 'Ld': {23, 25, 26},\n",
       " 'ct': {'ds': 2, 'dsa': 4},\n",
       " 'men': ['ab', 'cd', 'df']}"
      ]
     },
     "execution_count": 72,
     "metadata": {},
     "output_type": "execute_result"
    }
   ],
   "source": [
    "d3['men']=['ab','cd','df']\n",
    "d3 #add new 'men key' in d3"
   ]
  },
  {
   "cell_type": "code",
   "execution_count": 74,
   "id": "855e5e0b-146e-4cea-8d1b-0ea33368f490",
   "metadata": {},
   "outputs": [
    {
     "data": {
      "text/plain": [
       "{'num': [1, 2, 3, 4, 5],\n",
       " 'as': (1, 2, 3, 44, 55, 'ede'),\n",
       " 'Ld': {21, 22, 28},\n",
       " 'ct': {'ds': 2, 'dsa': 4},\n",
       " 'men': ['ab', 'cd', 'df']}"
      ]
     },
     "execution_count": 74,
     "metadata": {},
     "output_type": "execute_result"
    }
   ],
   "source": [
    "d3['Ld']={21,22,28} \n",
    "d3 #ld replace with old ld"
   ]
  },
  {
   "cell_type": "code",
   "execution_count": 75,
   "id": "808fb860-07c4-4ee4-97e5-747b804b944d",
   "metadata": {},
   "outputs": [
    {
     "name": "stdout",
     "output_type": "stream",
     "text": [
      "{'brand': 'Ford', 'year': 1964}\n"
     ]
    }
   ],
   "source": [
    "dic = {\n",
    "  \"brand\": \"Ford\",\n",
    "  \"model\": \"Mustang\",\n",
    "  \"year\": 1964\n",
    "}\n",
    "del dic[\"model\"]# delete model\n",
    "print(dic)"
   ]
  },
  {
   "cell_type": "code",
   "execution_count": 76,
   "id": "a9e955e1-8fe9-4b80-aff1-322e967ee544",
   "metadata": {},
   "outputs": [
    {
     "data": {
      "text/plain": [
       "{'num': [1, 2, 3, 4, 5],\n",
       " 'as': (1, 2, 3, 44, 55, 'ede'),\n",
       " 'Ld': {21, 22, 28},\n",
       " 'ct': {'ds': 2, 'dsa': 4},\n",
       " 'men': ['ab', 'cd', 'df']}"
      ]
     },
     "execution_count": 76,
     "metadata": {},
     "output_type": "execute_result"
    }
   ],
   "source": [
    "d3"
   ]
  },
  {
   "cell_type": "code",
   "execution_count": 79,
   "id": "4731aa32-a962-4fa7-bb78-2ea8434c243f",
   "metadata": {},
   "outputs": [
    {
     "data": {
      "text/plain": [
       "dict_keys(['num', 'as', 'Ld', 'ct', 'men'])"
      ]
     },
     "execution_count": 79,
     "metadata": {},
     "output_type": "execute_result"
    }
   ],
   "source": [
    "d3.keys()# make list of all keys in d3.... then also convert into list use list () "
   ]
  },
  {
   "cell_type": "code",
   "execution_count": 80,
   "id": "522ecf08-720c-43b2-abfd-07a0f33b6b72",
   "metadata": {},
   "outputs": [
    {
     "data": {
      "text/plain": [
       "dict_values([[1, 2, 3, 4, 5], (1, 2, 3, 44, 55, 'ede'), {28, 21, 22}, {'ds': 2, 'dsa': 4}, ['ab', 'cd', 'df']])"
      ]
     },
     "execution_count": 80,
     "metadata": {},
     "output_type": "execute_result"
    }
   ],
   "source": [
    "d3.values()"
   ]
  },
  {
   "cell_type": "code",
   "execution_count": 83,
   "id": "897ebe06-01c1-4f26-bdf8-f127e2245b91",
   "metadata": {},
   "outputs": [
    {
     "data": {
      "text/plain": [
       "[('num', [1, 2, 3, 4, 5]),\n",
       " ('as', (1, 2, 3, 44, 55, 'ede')),\n",
       " ('Ld', {21, 22, 28}),\n",
       " ('ct', {'ds': 2, 'dsa': 4}),\n",
       " ('men', ['ab', 'cd', 'df'])]"
      ]
     },
     "execution_count": 83,
     "metadata": {},
     "output_type": "execute_result"
    }
   ],
   "source": [
    "list(d3.items())#make pair of keys and values ..these all are hold tuple and list"
   ]
  },
  {
   "cell_type": "code",
   "execution_count": 87,
   "id": "548e9ea1-a88b-4ba9-94ea-413d15d22286",
   "metadata": {},
   "outputs": [
    {
     "data": {
      "text/plain": [
       "['ab', 'cd', 'df']"
      ]
     },
     "execution_count": 87,
     "metadata": {},
     "output_type": "execute_result"
    }
   ],
   "source": [
    "d3.pop(\"men\")#remove men from list"
   ]
  },
  {
   "cell_type": "code",
   "execution_count": 88,
   "id": "a087a8e7-51f0-498b-b0be-0d9fbb82eb1f",
   "metadata": {},
   "outputs": [
    {
     "data": {
      "text/plain": [
       "{'num': [1, 2, 3, 4, 5],\n",
       " 'as': (1, 2, 3, 44, 55, 'ede'),\n",
       " 'Ld': {21, 22, 28},\n",
       " 'ct': {'ds': 2, 'dsa': 4}}"
      ]
     },
     "execution_count": 88,
     "metadata": {},
     "output_type": "execute_result"
    }
   ],
   "source": [
    "d3"
   ]
  },
  {
   "cell_type": "code",
   "execution_count": 90,
   "id": "19184ee6-cea9-40a0-9590-69eba4dde959",
   "metadata": {},
   "outputs": [
    {
     "data": {
      "text/plain": [
       "('ct', {'ds': 2, 'dsa': 4})"
      ]
     },
     "execution_count": 90,
     "metadata": {},
     "output_type": "execute_result"
    }
   ],
   "source": [
    "d3.popitem()\n",
    "#remove last key value itself"
   ]
  },
  {
   "cell_type": "code",
   "execution_count": 91,
   "id": "eea68c8e-c7ae-408e-bd9d-5edffc4c8285",
   "metadata": {},
   "outputs": [
    {
     "data": {
      "text/plain": [
       "{'num': [1, 2, 3, 4, 5], 'as': (1, 2, 3, 44, 55, 'ede'), 'Ld': {21, 22, 28}}"
      ]
     },
     "execution_count": 91,
     "metadata": {},
     "output_type": "execute_result"
    }
   ],
   "source": [
    "d3"
   ]
  },
  {
   "cell_type": "code",
   "execution_count": null,
   "id": "72b4527d-e150-473d-911e-242482d7e601",
   "metadata": {},
   "outputs": [],
   "source": []
  }
 ],
 "metadata": {
  "kernelspec": {
   "display_name": "Python 3 (ipykernel)",
   "language": "python",
   "name": "python3"
  },
  "language_info": {
   "codemirror_mode": {
    "name": "ipython",
    "version": 3
   },
   "file_extension": ".py",
   "mimetype": "text/x-python",
   "name": "python",
   "nbconvert_exporter": "python",
   "pygments_lexer": "ipython3",
   "version": "3.10.8"
  }
 },
 "nbformat": 4,
 "nbformat_minor": 5
}
