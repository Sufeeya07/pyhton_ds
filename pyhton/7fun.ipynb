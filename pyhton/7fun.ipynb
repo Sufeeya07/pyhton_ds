{
 "cells": [
  {
   "cell_type": "code",
   "execution_count": 1,
   "id": "7a4ddfe2-ed70-4289-b115-8ab199740bb7",
   "metadata": {},
   "outputs": [],
   "source": [
    "#fun reusebility increase, adv - modularity increase inhace . optimise and structured ur code"
   ]
  },
  {
   "cell_type": "code",
   "execution_count": null,
   "id": "6f80a73b-e4a6-4e16-9737-1a33ed0856e4",
   "metadata": {},
   "outputs": [],
   "source": [
    "def is definition of function \n",
    "fun name canbe anything\n",
    "def test():"
   ]
  },
  {
   "cell_type": "code",
   "execution_count": null,
   "id": "560fd5be-2e65-4eb6-9c5d-8081b639d57a",
   "metadata": {},
   "outputs": [],
   "source": [
    "def tst():\n",
    "    pass #keyword use only to nothing define anything"
   ]
  },
  {
   "cell_type": "code",
   "execution_count": null,
   "id": "f30878be-118b-4d70-8acd-e88d092ce353",
   "metadata": {},
   "outputs": [],
   "source": [
    "def tst1():\n",
    "    print('this is my first function')# nothing will be print , so u have to call function"
   ]
  },
  {
   "cell_type": "code",
   "execution_count": null,
   "id": "b4f22503-fb7c-4b57-bf42-780b8230fb90",
   "metadata": {},
   "outputs": [],
   "source": [
    "tst1() # call funtion , output always a Nonetype, print returns datatype wise nonetype"
   ]
  },
  {
   "cell_type": "code",
   "execution_count": 2,
   "id": "2a335c4e-5d52-45ae-8a0d-1e6617abd9b5",
   "metadata": {},
   "outputs": [
    {
     "data": {
      "text/plain": [
       "'this is my first return '"
      ]
     },
     "execution_count": 2,
     "metadata": {},
     "output_type": "execute_result"
    }
   ],
   "source": [
    "def t2():\n",
    "    return'this is my first return '\n",
    "t2()# here it return string, "
   ]
  },
  {
   "cell_type": "code",
   "execution_count": 3,
   "id": "f7da1ee7-babf-4340-b1d4-c8377143d2b8",
   "metadata": {},
   "outputs": [
    {
     "data": {
      "text/plain": [
       "'this is my first return sufeeya'"
      ]
     },
     "execution_count": 3,
     "metadata": {},
     "output_type": "execute_result"
    }
   ],
   "source": [
    "t2() + \"sufeeya\""
   ]
  },
  {
   "cell_type": "code",
   "execution_count": 4,
   "id": "fc654e85-af3f-4c0f-8384-328cf5e84737",
   "metadata": {},
   "outputs": [
    {
     "data": {
      "text/plain": [
       "12"
      ]
     },
     "execution_count": 4,
     "metadata": {},
     "output_type": "execute_result"
    }
   ],
   "source": [
    "def t3():\n",
    "    return 5*2\n",
    "t3()+2"
   ]
  },
  {
   "cell_type": "code",
   "execution_count": 18,
   "id": "554f820a-ee01-413f-8b6d-61b9181f447e",
   "metadata": {},
   "outputs": [],
   "source": [
    "#return as  it is return ur datatype. but print returns NOnetype  both are diffrnt "
   ]
  },
  {
   "cell_type": "code",
   "execution_count": 14,
   "id": "49d425d3-0254-4e3f-b541-f51f90c8da97",
   "metadata": {},
   "outputs": [
    {
     "name": "stdout",
     "output_type": "stream",
     "text": [
      "('sufeeya', 2, 34.5, [1, 2, 5], {'b ', 'a'}, {'ct': {'ds': 2, 'dsa': 4}})\n"
     ]
    }
   ],
   "source": [
    "def t4():\n",
    "    return \"sufeeya\" , 2 , 34.5,[1,2,5],{'a','b '}, {\"ct\":{ 'ds': 2, \"dsa\":4}}\n",
    "print(t4())"
   ]
  },
  {
   "cell_type": "code",
   "execution_count": 15,
   "id": "c057d973-69d7-43eb-8a46-0353e8858acc",
   "metadata": {},
   "outputs": [
    {
     "data": {
      "text/plain": [
       "function"
      ]
     },
     "execution_count": 15,
     "metadata": {},
     "output_type": "execute_result"
    }
   ],
   "source": [
    "type(t4)"
   ]
  },
  {
   "cell_type": "code",
   "execution_count": 30,
   "id": "cae19cbf-e940-44f2-8b69-9e8cc831d645",
   "metadata": {},
   "outputs": [],
   "source": [
    "a,b,c,d,e,f=t4()# unpacking a tuple"
   ]
  },
  {
   "cell_type": "code",
   "execution_count": 21,
   "id": "5f4e64a8-33f2-4527-8043-7ff59ed63c93",
   "metadata": {},
   "outputs": [
    {
     "data": {
      "text/plain": [
       "'sufeeya'"
      ]
     },
     "execution_count": 21,
     "metadata": {},
     "output_type": "execute_result"
    }
   ],
   "source": [
    "a"
   ]
  },
  {
   "cell_type": "code",
   "execution_count": 22,
   "id": "a07ee364-3e68-45a1-b675-536bab48ea1d",
   "metadata": {},
   "outputs": [
    {
     "data": {
      "text/plain": [
       "2"
      ]
     },
     "execution_count": 22,
     "metadata": {},
     "output_type": "execute_result"
    }
   ],
   "source": [
    "b"
   ]
  },
  {
   "cell_type": "code",
   "execution_count": 33,
   "id": "7981d7a0-4682-49f2-ae1e-95b8785e6353",
   "metadata": {},
   "outputs": [
    {
     "data": {
      "text/plain": [
       "34.5"
      ]
     },
     "execution_count": 33,
     "metadata": {},
     "output_type": "execute_result"
    }
   ],
   "source": [
    "c\n"
   ]
  },
  {
   "cell_type": "code",
   "execution_count": 27,
   "id": "d819a6b4-08b8-4f3e-b217-7ac9e249857a",
   "metadata": {},
   "outputs": [
    {
     "data": {
      "text/plain": [
       "{'a', 'b '}"
      ]
     },
     "execution_count": 27,
     "metadata": {},
     "output_type": "execute_result"
    }
   ],
   "source": [
    "e"
   ]
  },
  {
   "cell_type": "code",
   "execution_count": 35,
   "id": "d27cd449-9ec0-4f68-a9ca-dd76b066764f",
   "metadata": {},
   "outputs": [
    {
     "data": {
      "text/plain": [
       "[1, 2, 5]"
      ]
     },
     "execution_count": 35,
     "metadata": {},
     "output_type": "execute_result"
    }
   ],
   "source": [
    "d"
   ]
  },
  {
   "cell_type": "code",
   "execution_count": 28,
   "id": "d7fad244-39d0-48f6-af56-cc5cbe8f3cf0",
   "metadata": {},
   "outputs": [
    {
     "data": {
      "text/plain": [
       "{'a', 'b '}"
      ]
     },
     "execution_count": 28,
     "metadata": {},
     "output_type": "execute_result"
    }
   ],
   "source": [
    "e"
   ]
  },
  {
   "cell_type": "code",
   "execution_count": 6,
   "id": "6ff7fc47-e230-4c7e-9881-0dd746c9ba51",
   "metadata": {},
   "outputs": [
    {
     "name": "stdout",
     "output_type": "stream",
     "text": [
      "[820.0]\n"
     ]
    }
   ],
   "source": [
    "def t5():\n",
    "    a=100*36/5# objective ,, logic\n",
    "    return a\n",
    "print([t5()+100])#[t5()+100]"
   ]
  },
  {
   "cell_type": "code",
   "execution_count": 7,
   "id": "ce528c5c-d797-4c10-b7c4-1378ff264cd5",
   "metadata": {},
   "outputs": [
    {
     "data": {
      "text/plain": [
       "[820.0]"
      ]
     },
     "execution_count": 7,
     "metadata": {},
     "output_type": "execute_result"
    }
   ],
   "source": [
    "b=[t5()+100] # convert into list\n",
    "b"
   ]
  },
  {
   "cell_type": "code",
   "execution_count": 8,
   "id": "5f144789-7799-426a-8825-2ce707b83df1",
   "metadata": {},
   "outputs": [
    {
     "name": "stdin",
     "output_type": "stream",
     "text": [
      "Enter the value of a:  4\n",
      "Enter the value of b:  6\n",
      "Enter the value of c:  7\n"
     ]
    },
    {
     "name": "stdout",
     "output_type": "stream",
     "text": [
      "result- 46.0\n"
     ]
    }
   ],
   "source": [
    "# user input (argument)\n",
    "def t6(a,b,c):# (.....) user input in argument\n",
    "    d=a+b*c\n",
    "    return d\n",
    "a = float(input(\"Enter the value of a: \"))\n",
    "b = float(input(\"Enter the value of b: \"))\n",
    "c = float(input(\"Enter the value of c: \"))\n",
    "print(\"result-\",t6(a,b,c)) # parameters are placeholders for values that will be passed into the function when it is called."
   ]
  },
  {
   "cell_type": "code",
   "execution_count": 12,
   "id": "bf75d844-cde1-4cd4-bb21-60a57ed2b248",
   "metadata": {},
   "outputs": [
    {
     "data": {
      "text/plain": [
       "'sp'"
      ]
     },
     "execution_count": 12,
     "metadata": {},
     "output_type": "execute_result"
    }
   ],
   "source": [
    "def t7(a,b):\n",
    "       return a+b\n",
    "t7(\"s\", \"p\")"
   ]
  },
  {
   "cell_type": "code",
   "execution_count": 29,
   "id": "bfb172b4-612b-4be8-b646-5348bdc7d5b3",
   "metadata": {},
   "outputs": [
    {
     "data": {
      "text/plain": [
       "[1, 2, 3.6, 4, 2.3, 5, 6]"
      ]
     },
     "execution_count": 29,
     "metadata": {},
     "output_type": "execute_result"
    }
   ],
   "source": [
    "l=[1,2,3.6,4,\"sufeeya\",'abc',[2.3,5,6]]\n",
    "def t8(l): #input take()\n",
    "    l1=[]\n",
    "    l2=[]\n",
    "    for i in l:\n",
    "        if type(i)==int or type(i)==float:    #  if isinstance(i, (int, float)):                                     # l1.append(j)\n",
    "            l1.append(i)\n",
    "            \n",
    "        elif type(i)==list:  #  elif isinstance(i, list) \n",
    "            for j in i:\n",
    "                l1.append(j)\n",
    "                \n",
    "        else :\n",
    "            l2.append(i)\n",
    "       \n",
    "    return l1\n",
    "    return l2\n",
    "t8(l)\n"
   ]
  },
  {
   "cell_type": "code",
   "execution_count": 38,
   "id": "9151d03b-be13-41f4-b8b0-0f652c7344c5",
   "metadata": {},
   "outputs": [
    {
     "data": {
      "text/plain": [
       "7356"
      ]
     },
     "execution_count": 38,
     "metadata": {},
     "output_type": "execute_result"
    }
   ],
   "source": [
    "def t9(a):\n",
    "    '''this is my docstring.\n",
    "    It is used to provide documentation about the object, \n",
    "    describing what it does and how it should be used.'''\n",
    "    a=10*3678//5  #// is for interger return, without // it will automaticaly return into float\n",
    "    return a\n",
    "t9(6)"
   ]
  },
  {
   "cell_type": "code",
   "execution_count": 8,
   "id": "aeea897b-473d-4fdc-ab77-842d5cc426ce",
   "metadata": {},
   "outputs": [
    {
     "data": {
      "text/plain": [
       "(1, 2, 3, 'suufeya')"
      ]
     },
     "execution_count": 8,
     "metadata": {},
     "output_type": "execute_result"
    }
   ],
   "source": [
    "def t10(*args): # as.te.risk *args,, n number of input/ argu u can pass\n",
    "    return args\n",
    "t10(1,2,3,'suufeya')"
   ]
  },
  {
   "cell_type": "code",
   "execution_count": 10,
   "id": "b6686f76-33b9-424d-af1b-6dad774748bc",
   "metadata": {},
   "outputs": [
    {
     "data": {
      "text/plain": [
       "('sufeeya', 123)"
      ]
     },
     "execution_count": 10,
     "metadata": {},
     "output_type": "execute_result"
    }
   ],
   "source": [
    "def t11(*args): #*args u can rename also\n",
    "        return args\n",
    "t11(\"sufeeya\",123)"
   ]
  },
  {
   "cell_type": "code",
   "execution_count": 36,
   "id": "5b09f371-96cc-47e8-ae65-36324705becf",
   "metadata": {},
   "outputs": [
    {
     "name": "stdout",
     "output_type": "stream",
     "text": [
      "('a', 'b', 'c', 'd')\n"
     ]
    },
    {
     "data": {
      "text/plain": [
       "(True, False, True, False, True)"
      ]
     },
     "execution_count": 36,
     "metadata": {},
     "output_type": "execute_result"
    }
   ],
   "source": [
    "def my_function(*abc):\n",
    "     return abc\n",
    "\n",
    "my_function(1, 2, 3)\n",
    "print(my_function('a', 'b', 'c', 'd')) # explicity .. clear easy to udrstnd, fully revealed without ambiquity (a word with diff meanings\n",
    "my_function(True, False, True, False, True) # because it's the last expression evaluated in your code.\n"
   ]
  },
  {
   "cell_type": "code",
   "execution_count": 4,
   "id": "6b2c9eef-3d03-4555-9dab-087bc9a839b6",
   "metadata": {},
   "outputs": [
    {
     "data": {
      "text/plain": [
       "((1, 2, 3), 'sufeeya')"
      ]
     },
     "execution_count": 4,
     "metadata": {},
     "output_type": "execute_result"
    }
   ],
   "source": [
    "def t12(*fun, a):\n",
    "    return fun, a\n",
    "t12(1,2,3, a='sufeeya')"
   ]
  },
  {
   "cell_type": "code",
   "execution_count": null,
   "id": "765ce174-072d-49fa-b735-76d6ca5c33fc",
   "metadata": {},
   "outputs": [],
   "source": [
    "def fun(*kids):\n",
    "    print(\"The youngest child is \" + kids[1])\n",
    "\n",
    "fun(\"Emil\", \"Tobias\", \"Linus\")"
   ]
  },
  {
   "cell_type": "code",
   "execution_count": 10,
   "id": "42cb7729-33d2-4aac-ab22-abd5899b945a",
   "metadata": {},
   "outputs": [
    {
     "data": {
      "text/plain": [
       "-45"
      ]
     },
     "execution_count": 10,
     "metadata": {},
     "output_type": "execute_result"
    }
   ],
   "source": [
    "def t13(c,d,a=2,b=3):\n",
    "    return  a+b-c*d\n",
    "\n",
    "t13(5,10)"
   ]
  },
  {
   "cell_type": "code",
   "execution_count": 12,
   "id": "6a11071c-a2fc-456f-8e95-48dc79480ef3",
   "metadata": {},
   "outputs": [
    {
     "data": {
      "text/plain": [
       "-22"
      ]
     },
     "execution_count": 12,
     "metadata": {},
     "output_type": "execute_result"
    }
   ],
   "source": [
    "t13( 4,7,a=3)# here override  value"
   ]
  },
  {
   "cell_type": "code",
   "execution_count": 15,
   "id": "394de8e4-21d4-4c54-be74-f0559ed3ef8b",
   "metadata": {},
   "outputs": [
    {
     "data": {
      "text/plain": [
       "{}"
      ]
     },
     "execution_count": 15,
     "metadata": {},
     "output_type": "execute_result"
    }
   ],
   "source": [
    "def t14(**ast): #**kwargs parameter collects all the keyword arguments passed to the function into a dictionary.\n",
    "    return ast\n",
    "t14()# return dictionary"
   ]
  },
  {
   "cell_type": "code",
   "execution_count": 1,
   "id": "2a5afdf1-4191-40fd-8005-e8ea28510ae1",
   "metadata": {},
   "outputs": [
    {
     "name": "stdout",
     "output_type": "stream",
     "text": [
      "The youngest child is Linus\n"
     ]
    }
   ],
   "source": [
    "def tt(**abc):\n",
    "     print(\"The youngest child is \" + abc['c3'])\n",
    "\n",
    "tt(c1 = \"Emil\", c2 = \"Tobias\", c3 = \"Linus\")"
   ]
  },
  {
   "cell_type": "code",
   "execution_count": null,
   "id": "f309042e-c445-43fd-878a-7d0ab40f2fba",
   "metadata": {},
   "outputs": [],
   "source": [
    "l =[2,3,4,5,6,7]\n",
    "\n",
    "def sq(l):\n",
    "    l1=[]\n",
    "    for i in l :\n",
    "        l.append(i**2)\n",
    "    return l1\n",
    "\n",
    "sq(l)"
   ]
  },
  {
   "cell_type": "code",
   "execution_count": null,
   "id": "0f41c701-c98e-405d-8e41-527bb564ce4f",
   "metadata": {},
   "outputs": [],
   "source": []
  }
 ],
 "metadata": {
  "kernelspec": {
   "display_name": "Python 3 (ipykernel)",
   "language": "python",
   "name": "python3"
  },
  "language_info": {
   "codemirror_mode": {
    "name": "ipython",
    "version": 3
   },
   "file_extension": ".py",
   "mimetype": "text/x-python",
   "name": "python",
   "nbconvert_exporter": "python",
   "pygments_lexer": "ipython3",
   "version": "3.10.8"
  }
 },
 "nbformat": 4,
 "nbformat_minor": 5
}
