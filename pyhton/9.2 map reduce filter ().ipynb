{
 "cells": [
  {
   "cell_type": "code",
   "execution_count": null,
   "id": "01644057-a5cf-4de2-9af3-bf9423349ac6",
   "metadata": {},
   "outputs": [],
   "source": [
    "map(function, iterables) must have two args"
   ]
  },
  {
   "cell_type": "code",
   "execution_count": 28,
   "id": "70a03d11-ee77-43a1-a4fc-58ab12c0faa1",
   "metadata": {},
   "outputs": [],
   "source": [
    "l=[2,3,4]"
   ]
  },
  {
   "cell_type": "code",
   "execution_count": 22,
   "id": "2e136315-2305-430c-a688-e075eb9a19af",
   "metadata": {},
   "outputs": [
    {
     "data": {
      "text/plain": [
       "[4, 9, 16]"
      ]
     },
     "execution_count": 22,
     "metadata": {},
     "output_type": "execute_result"
    }
   ],
   "source": [
    "def sq(i):\n",
    "        return i**2\n",
    "list(map (sq,l))"
   ]
  },
  {
   "cell_type": "code",
   "execution_count": 31,
   "id": "e245e814-d124-4690-8dcd-198a17f8f2e5",
   "metadata": {},
   "outputs": [
    {
     "data": {
      "text/plain": [
       "[4, 9, 16]"
      ]
     },
     "execution_count": 31,
     "metadata": {},
     "output_type": "execute_result"
    }
   ],
   "source": [
    "list(map(lambda x: x**2, l))"
   ]
  },
  {
   "cell_type": "code",
   "execution_count": 23,
   "id": "b9cceb69-86af-4240-b58a-08ee801a4064",
   "metadata": {},
   "outputs": [
    {
     "name": "stdin",
     "output_type": "stream",
     "text": [
      "Enter list separated by commas:  2,3,4\n"
     ]
    },
    {
     "data": {
      "text/plain": [
       "[4, 9, 16]"
      ]
     },
     "execution_count": 23,
     "metadata": {},
     "output_type": "execute_result"
    }
   ],
   "source": [
    "l=input('Enter list separated by commas: ').split(',')\n",
    "def sq(l):\n",
    "    return int(l)**2 #list contains integers as strings ,,,converting them into integers e\n",
    "list(map(sq, l))"
   ]
  },
  {
   "cell_type": "code",
   "execution_count": 33,
   "id": "88930583-ea71-433a-acba-6e4711c6c15f",
   "metadata": {},
   "outputs": [
    {
     "data": {
      "text/plain": [
       "[8, 10, 12, 14]"
      ]
     },
     "execution_count": 33,
     "metadata": {},
     "output_type": "execute_result"
    }
   ],
   "source": [
    "l1=[2,3,4,5]\n",
    "l2=[6,7,8,9]\n",
    "\n",
    "list(map(lambda x,y: x+y, l1,l2))"
   ]
  },
  {
   "cell_type": "code",
   "execution_count": 30,
   "id": "be2538fc-927a-40f5-a5ff-9348100d4207",
   "metadata": {},
   "outputs": [
    {
     "data": {
      "text/plain": [
       "(4, 9, 16, 25, 36)"
      ]
     },
     "execution_count": 30,
     "metadata": {},
     "output_type": "execute_result"
    }
   ],
   "source": [
    "l1=[2,3,4,5,6]\n",
    "\n",
    "def sq2(l1):\n",
    "    return l1**2\n",
    "tuple(map(sq2,l1)) # wrappe with tuple , whaterver u want list set"
   ]
  },
  {
   "cell_type": "code",
   "execution_count": null,
   "id": "15c79e19-3cf1-4177-830b-2c17d176c48e",
   "metadata": {},
   "outputs": [],
   "source": []
  }
 ],
 "metadata": {
  "kernelspec": {
   "display_name": "Python 3 (ipykernel)",
   "language": "python",
   "name": "python3"
  },
  "language_info": {
   "codemirror_mode": {
    "name": "ipython",
    "version": 3
   },
   "file_extension": ".py",
   "mimetype": "text/x-python",
   "name": "python",
   "nbconvert_exporter": "python",
   "pygments_lexer": "ipython3",
   "version": "3.13.1"
  }
 },
 "nbformat": 4,
 "nbformat_minor": 5
}
