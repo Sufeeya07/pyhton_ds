{
 "cells": [
  {
   "cell_type": "code",
   "execution_count": null,
   "id": "8ac52832-4a3a-4438-9c76-2c73e9cc0f0d",
   "metadata": {},
   "outputs": [],
   "source": [
    "class that inherits all the methods and properties from another class.\n",
    "---reuseblity, parent / base and child class / drive\n",
    "--INHERITANCE -- ek class andar uske var ya some methods honge , or  usse reuse krenge kisior class"
   ]
  },
  {
   "cell_type": "code",
   "execution_count": 12,
   "id": "90a684ac-68d8-428a-aeac-1b7dbf820aa8",
   "metadata": {},
   "outputs": [],
   "source": [
    "# single inheri\n",
    "class test:\n",
    "    def test_meth(self):\n",
    "        return \"this is my first class\""
   ]
  },
  {
   "cell_type": "code",
   "execution_count": 15,
   "id": "2ab016c1-ab1d-4ac2-b732-a7fec53a70fa",
   "metadata": {},
   "outputs": [],
   "source": [
    "class child_test(test):\n",
    "    pass"
   ]
  },
  {
   "cell_type": "code",
   "execution_count": 14,
   "id": "26597841-c74f-4be2-a63b-ec08e17bddb7",
   "metadata": {},
   "outputs": [
    {
     "data": {
      "text/plain": [
       "'this is my first class'"
      ]
     },
     "execution_count": 14,
     "metadata": {},
     "output_type": "execute_result"
    }
   ],
   "source": [
    "ct_obj = child_test()\n",
    "ct_obj.test_meth()"
   ]
  },
  {
   "cell_type": "code",
   "execution_count": 17,
   "id": "a64e5cb5-9956-4912-982d-88f76ad81073",
   "metadata": {},
   "outputs": [],
   "source": [
    "class family:\n",
    "    def __init__(self, father,mother):\n",
    "        self.f=father\n",
    "        self.m=mother\n",
    "        print(f\"Father: {c_obj.f}\")  # Output: Father: dad\n",
    "        print(f\"Mother: {c_obj.m}\")  \n",
    "        \n",
    "    def description(self):\n",
    "        return \"This is my first child.\"\n",
    "\n",
    "class child(family):\n",
    "    pass  "
   ]
  },
  {
   "cell_type": "code",
   "execution_count": 19,
   "id": "b60748af-1dbd-49e7-a52a-f87092c5c383",
   "metadata": {},
   "outputs": [
    {
     "name": "stdout",
     "output_type": "stream",
     "text": [
      "Father: dad\n",
      "Mother: mom\n",
      "This is my first child.\n"
     ]
    }
   ],
   "source": [
    "c_obj=child('dad', 'mom')\n",
    "print(c_obj.description())"
   ]
  },
  {
   "cell_type": "code",
   "execution_count": 16,
   "id": "71fbcc41-265a-468c-8df0-bdf094e0da8e",
   "metadata": {},
   "outputs": [
    {
     "data": {
      "text/plain": [
       "'this is a method from c2:'"
      ]
     },
     "execution_count": 16,
     "metadata": {},
     "output_type": "execute_result"
    }
   ],
   "source": [
    "#multi level \n",
    "class c1:\n",
    "    def test_c1(self):\n",
    "        return \"this is a method from c1:\"\n",
    "    \n",
    "class c2(c1):\n",
    "    def test_c2(self):\n",
    "        return \"this is a method from c2:\"\n",
    "    \n",
    "class c3(c2):\n",
    "    pass\n",
    "\n",
    "obj3 = c3()\n",
    "obj3.test_c2()"
   ]
  },
  {
   "cell_type": "code",
   "execution_count": 17,
   "id": "b1602248-08a4-4e33-b6a8-60860eb61e64",
   "metadata": {},
   "outputs": [
    {
     "data": {
      "text/plain": [
       "'this is a method from c1:'"
      ]
     },
     "execution_count": 17,
     "metadata": {},
     "output_type": "execute_result"
    }
   ],
   "source": [
    "obj3.test_c1()"
   ]
  },
  {
   "cell_type": "code",
   "execution_count": 25,
   "id": "75e23135-ef68-4726-81f2-abb736b90a29",
   "metadata": {},
   "outputs": [
    {
     "name": "stdout",
     "output_type": "stream",
     "text": [
      "i am son\n",
      "i am his father\n"
     ]
    }
   ],
   "source": [
    "class a:\n",
    "    def gf(self):\n",
    "        print('i am his grandfather')\n",
    "class b(a):\n",
    "    def f(self):\n",
    "        print('i am his father')\n",
    "\n",
    "class c(b):\n",
    "    print('i am son')\n",
    "\n",
    "obj_c= c()\n",
    "obj_c.f()"
   ]
  },
  {
   "cell_type": "code",
   "execution_count": 26,
   "id": "2cc50fa7-b3f4-4928-9d4e-e485524f451e",
   "metadata": {},
   "outputs": [
    {
     "name": "stdout",
     "output_type": "stream",
     "text": [
      "i am his grandfather\n"
     ]
    }
   ],
   "source": [
    "obj_c.gf()"
   ]
  },
  {
   "cell_type": "code",
   "execution_count": 20,
   "id": "78782d92-7eb6-4cda-b86a-4b7ef25e23cd",
   "metadata": {},
   "outputs": [
    {
     "data": {
      "text/plain": [
       "'this is a class 2'"
      ]
     },
     "execution_count": 20,
     "metadata": {},
     "output_type": "execute_result"
    }
   ],
   "source": [
    "#multiple inheri 2 base --> 1 drive class\n",
    "class c1:\n",
    "    def tc1(self):\n",
    "        return \"this is a class 1\"\n",
    "    \n",
    "class c2:\n",
    "    def tc2(self):\n",
    "        return \"this is a class 2\"\n",
    "    \n",
    "class c3(c1,c2):\n",
    "    pass\n",
    "\n",
    "obj = c3()\n",
    "obj.tc2()"
   ]
  },
  {
   "cell_type": "code",
   "execution_count": 21,
   "id": "deb4abea-044e-4ce8-b1d8-56bbd293d9bf",
   "metadata": {},
   "outputs": [
    {
     "data": {
      "text/plain": [
       "'this is a class 1'"
      ]
     },
     "execution_count": 21,
     "metadata": {},
     "output_type": "execute_result"
    }
   ],
   "source": [
    "obj.tc1()"
   ]
  },
  {
   "cell_type": "code",
   "execution_count": 36,
   "id": "cecfa79c-9c6a-41cc-a09d-d7603fa63a85",
   "metadata": {},
   "outputs": [
    {
     "name": "stdout",
     "output_type": "stream",
     "text": [
      "s f\n"
     ]
    }
   ],
   "source": [
    "#---1\n",
    "class person:\n",
    "    def __init__(self, fname, lname): #inherit the properties and methods from the Person class:\n",
    "        self.fn = fname\n",
    "        self.ln = lname\n",
    "        \n",
    "    def printname(self):         \n",
    "        print(self.fn, self.ln)\n",
    "\n",
    "class student(person):       #create an object,then execute the printname method:\n",
    "    pass\n",
    "\n",
    "s= student('s','f')\n",
    "s.printname()"
   ]
  },
  {
   "cell_type": "code",
   "execution_count": 38,
   "id": "562dd2bc-8811-4a7b-936f-0652e79b8821",
   "metadata": {},
   "outputs": [
    {
     "name": "stdout",
     "output_type": "stream",
     "text": [
      "sufeeya parween\n"
     ]
    }
   ],
   "source": [
    "#When you add the __init__() function, the child class will no longer inherit the parent's __init__() function.\n",
    "#The child's __init__() function overrides the inheritance of the parent's __init__() function.\n",
    "\n",
    "class person:\n",
    "    def __init__(self, fname, lname):\n",
    "        self.f = fname\n",
    "        self.l = lname\n",
    "        \n",
    "    def pn(self):\n",
    "        print(self.f, self.l)\n",
    "        \n",
    "p = person('n','g')\n",
    "p.f\n",
    "        \n",
    "class student(person):    # override\n",
    "    def __init__(self, fname , lname):\n",
    "        person.__init__(self, fname, lname)\n",
    "        \n",
    "s = student(\"sufeeya\", \"parween\")\n",
    "s.l\n",
    "s.pn()"
   ]
  },
  {
   "cell_type": "code",
   "execution_count": 39,
   "id": "426e3ea2-1958-4608-800d-c9e94cb43c0a",
   "metadata": {},
   "outputs": [
    {
     "data": {
      "text/plain": [
       "'nusrat'"
      ]
     },
     "execution_count": 39,
     "metadata": {},
     "output_type": "execute_result"
    }
   ],
   "source": [
    "##----Use the super() Function\n",
    "#---child class inherit all the methods and properties from its parent:\n",
    "\n",
    "class p1:\n",
    "    def __init__(self, name, age):\n",
    "        self.n= name\n",
    "        self. a= age\n",
    "        \n",
    "class p2(p1):\n",
    "    def __init__(self, name, age):\n",
    "        super().__init__(name, age)\n",
    "        \n",
    "p=p2(\"nusrat\", 22)\n",
    "p.n\n",
    "    "
   ]
  },
  {
   "cell_type": "code",
   "execution_count": null,
   "id": "97f24faf-4310-4fcb-af1f-ad6e96b973e4",
   "metadata": {},
   "outputs": [],
   "source": []
  }
 ],
 "metadata": {
  "kernelspec": {
   "display_name": "Python 3 (ipykernel)",
   "language": "python",
   "name": "python3"
  },
  "language_info": {
   "codemirror_mode": {
    "name": "ipython",
    "version": 3
   },
   "file_extension": ".py",
   "mimetype": "text/x-python",
   "name": "python",
   "nbconvert_exporter": "python",
   "pygments_lexer": "ipython3",
   "version": "3.13.1"
  }
 },
 "nbformat": 4,
 "nbformat_minor": 5
}
