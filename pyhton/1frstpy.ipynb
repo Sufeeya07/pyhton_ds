{
 "cells": [
  {
   "cell_type": "code",
   "execution_count": null,
   "id": "d06b5cd5-bb01-4f9d-a274-5db3b339b8c8",
   "metadata": {},
   "outputs": [],
   "source": [
    "bin(10)"
   ]
  },
  {
   "cell_type": "code",
   "execution_count": 5,
   "id": "7ca162c4-6da6-4834-b766-d8ec293c88ee",
   "metadata": {},
   "outputs": [
    {
     "name": "stdout",
     "output_type": "stream",
     "text": [
      "20\n"
     ]
    }
   ],
   "source": [
    "print(23 & 20)"
   ]
  },
  {
   "cell_type": "code",
   "execution_count": null,
   "id": "f10579ba-946e-4e21-975a-5f6e6904e3e1",
   "metadata": {},
   "outputs": [],
   "source": [
    "bin(23)\n"
   ]
  },
  {
   "cell_type": "code",
   "execution_count": null,
   "id": "a381400a-724b-4d1f-8416-b7f1235f9b1d",
   "metadata": {},
   "outputs": [],
   "source": [
    "bin(20)"
   ]
  },
  {
   "cell_type": "code",
   "execution_count": null,
   "id": "38d2a496-4d9f-4c8d-9200-3cc239a89561",
   "metadata": {},
   "outputs": [],
   "source": [
    "bin (15)"
   ]
  },
  {
   "cell_type": "code",
   "execution_count": null,
   "id": "3cb13ced-7889-4b6b-8893-d4ffb3e9feb8",
   "metadata": {},
   "outputs": [],
   "source": [
    "bin (12)\n"
   ]
  },
  {
   "cell_type": "code",
   "execution_count": null,
   "id": "2881c323-8da5-4918-8099-4f4d40bf7aa8",
   "metadata": {},
   "outputs": [],
   "source": [
    "bin (13)\n"
   ]
  },
  {
   "cell_type": "code",
   "execution_count": null,
   "id": "11671b7b-3642-471d-a719-494ae84b351d",
   "metadata": {},
   "outputs": [],
   "source": [
    "bin(-13)"
   ]
  },
  {
   "cell_type": "code",
   "execution_count": null,
   "id": "1a9a763e-634d-4794-ba30-cb7cea06d43b",
   "metadata": {},
   "outputs": [],
   "source": [
    "~3"
   ]
  },
  {
   "cell_type": "code",
   "execution_count": 3,
   "id": "0a240ace-7512-4ee5-b74a-ab6a6612e05b",
   "metadata": {},
   "outputs": [
    {
     "data": {
      "text/plain": [
       "1"
      ]
     },
     "execution_count": 3,
     "metadata": {},
     "output_type": "execute_result"
    }
   ],
   "source": [
    "a=8\n",
    "a>>3"
   ]
  },
  {
   "cell_type": "code",
   "execution_count": 4,
   "id": "edcba03a-addf-413e-97f0-07e2f2a7da56",
   "metadata": {},
   "outputs": [
    {
     "data": {
      "text/plain": [
       "'0b1'"
      ]
     },
     "execution_count": 4,
     "metadata": {},
     "output_type": "execute_result"
    }
   ],
   "source": [
    "bin(1)"
   ]
  },
  {
   "cell_type": "code",
   "execution_count": 2,
   "id": "baf808ca-34cb-46f1-a9d1-370b22dc05ab",
   "metadata": {},
   "outputs": [
    {
     "name": "stdout",
     "output_type": "stream",
     "text": [
      "2\n"
     ]
    }
   ],
   "source": [
    "a=10>>2\n",
    "print(a)"
   ]
  },
  {
   "cell_type": "code",
   "execution_count": 1,
   "id": "3a0965c8-3136-411f-b7ad-21dc9534ea5c",
   "metadata": {},
   "outputs": [
    {
     "name": "stdout",
     "output_type": "stream",
     "text": [
      "80\n"
     ]
    }
   ],
   "source": [
    "print(20<<2)"
   ]
  },
  {
   "cell_type": "code",
   "execution_count": 2,
   "id": "ab84a5e4-91ba-4ab3-a219-6c77591d3e6f",
   "metadata": {},
   "outputs": [
    {
     "data": {
      "text/plain": [
       "'0b10100'"
      ]
     },
     "execution_count": 2,
     "metadata": {},
     "output_type": "execute_result"
    }
   ],
   "source": [
    "bin(20)\n"
   ]
  },
  {
   "cell_type": "code",
   "execution_count": 1,
   "id": "f202b410-61c1-4dc6-b0f7-815a6a51219b",
   "metadata": {},
   "outputs": [
    {
     "data": {
      "text/plain": [
       "'0b1010000'"
      ]
     },
     "execution_count": 1,
     "metadata": {},
     "output_type": "execute_result"
    }
   ],
   "source": [
    "bin (80)"
   ]
  },
  {
   "cell_type": "code",
   "execution_count": 5,
   "id": "44577011-5ccc-472b-a732-3002fb8288b2",
   "metadata": {},
   "outputs": [
    {
     "name": "stdout",
     "output_type": "stream",
     "text": [
      "b is greater than a\n"
     ]
    }
   ],
   "source": [
    "a = 33\n",
    "b = 200\n",
    "\n",
    "if b > a:\n",
    "    print(\"b is greater than a\")"
   ]
  },
  {
   "cell_type": "code",
   "execution_count": 3,
   "id": "acab4deb-c5fc-49c7-83e9-6529626290cb",
   "metadata": {},
   "outputs": [
    {
     "name": "stdin",
     "output_type": "stream",
     "text": [
      " 6\n"
     ]
    },
    {
     "name": "stdout",
     "output_type": "stream",
     "text": [
      " a is greater\n"
     ]
    }
   ],
   "source": [
    "a=int(input())\n",
    "if a>5:\n",
    "    print(\" a is greater\")\n",
    "elif a<5 :\n",
    "    print(\"a is less\")"
   ]
  },
  {
   "cell_type": "code",
   "execution_count": 16,
   "id": "e0808870-7168-4a75-b465-65c5cc4c206b",
   "metadata": {},
   "outputs": [
    {
     "name": "stdin",
     "output_type": "stream",
     "text": [
      " 2\n"
     ]
    },
    {
     "name": "stdout",
     "output_type": "stream",
     "text": [
      "2\n",
      "3\n",
      "4\n",
      "5\n",
      "6\n"
     ]
    }
   ],
   "source": [
    "n= int(input())\n",
    "a= 10\n",
    "while n<=a:\n",
    "    print(n)\n",
    "    n=n+1\n",
    "    if n==7:\n",
    "        break\n",
    "else:\n",
    "    print('done')"
   ]
  },
  {
   "cell_type": "code",
   "execution_count": 15,
   "id": "afe6ba03-70ce-4782-b199-04e2ee7ba159",
   "metadata": {},
   "outputs": [
    {
     "name": "stdout",
     "output_type": "stream",
     "text": [
      "1\n",
      "2\n",
      "3\n",
      "4\n",
      "5\n"
     ]
    }
   ],
   "source": [
    "i = 1\n",
    "while i < 6:\n",
    "    print(i)\n",
    "    if (i == 5):\n",
    "        break\n",
    "    i += 1"
   ]
  },
  {
   "cell_type": "code",
   "execution_count": 2,
   "id": "fa237f5e-9ae1-4877-a7e4-d68590c248f0",
   "metadata": {},
   "outputs": [
    {
     "name": "stdin",
     "output_type": "stream",
     "text": [
      " 6\n",
      " 2\n"
     ]
    },
    {
     "name": "stdout",
     "output_type": "stream",
     "text": [
      "0\n",
      "1\n",
      "2\n",
      "3\n",
      "4\n",
      "5\n"
     ]
    }
   ],
   "source": [
    "a=int (input())\n",
    "i=input()\n",
    "for i in range(a):\n",
    "    print(i)\n",
    "   "
   ]
  },
  {
   "cell_type": "code",
   "execution_count": 2,
   "id": "ff6edfc0-f9a1-4c13-b24d-bedfd1295d6a",
   "metadata": {},
   "outputs": [
    {
     "name": "stdout",
     "output_type": "stream",
     "text": [
      "<class 'int'>\n",
      "2\n",
      "<class 'float'>\n",
      "3.5\n",
      "<class 'str'>\n",
      "sufeeya\n",
      "<class 'float'>\n",
      "23.45\n",
      "<class 'bool'>\n",
      "True\n",
      "<class 'complex'>\n",
      "(3+6j)\n",
      "finished\n"
     ]
    }
   ],
   "source": [
    "l=[2,3.5,\"sufeeya\" ,23.45, True,3+6j]\n",
    "for i in l:\n",
    "    print(type(i))\n",
    "    print(i)\n",
    "else :\n",
    "    print(\"finished\")"
   ]
  },
  {
   "cell_type": "code",
   "execution_count": 2,
   "id": "4180c03b-6adc-4ccc-92c2-1307f591b832",
   "metadata": {},
   "outputs": [
    {
     "name": "stdout",
     "output_type": "stream",
     "text": [
      "<class 'int'>\n",
      "<class 'int'>\n",
      "<class 'int'>\n",
      "<class 'int'>\n",
      "<class 'int'>\n",
      "<class 'int'>\n",
      "<class 'str'>\n"
     ]
    }
   ],
   "source": [
    "a=[1,2,3,4,5,7, \"sug\" ]\n",
    "for i in a:\n",
    "    print(type(i))\n",
    "    if i == 6:\n",
    "        break\n",
    "        \n",
    "          "
   ]
  },
  {
   "cell_type": "code",
   "execution_count": 3,
   "id": "a94e3b94-f8ce-410a-98cd-b8af1a9bb74e",
   "metadata": {},
   "outputs": [
    {
     "data": {
      "text/plain": [
       "10.5"
      ]
     },
     "execution_count": 3,
     "metadata": {},
     "output_type": "execute_result"
    }
   ],
   "source": [
    "a=False\n",
    "b=10.5\n",
    "c=a+b\n",
    "c"
   ]
  },
  {
   "cell_type": "code",
   "execution_count": null,
   "id": "5bd4c6a9-e828-47e0-848f-b53ab3fcfb3e",
   "metadata": {},
   "outputs": [],
   "source": []
  }
 ],
 "metadata": {
  "kernelspec": {
   "display_name": "Python 3 (ipykernel)",
   "language": "python",
   "name": "python3"
  },
  "language_info": {
   "codemirror_mode": {
    "name": "ipython",
    "version": 3
   },
   "file_extension": ".py",
   "mimetype": "text/x-python",
   "name": "python",
   "nbconvert_exporter": "python",
   "pygments_lexer": "ipython3",
   "version": "3.10.8"
  }
 },
 "nbformat": 4,
 "nbformat_minor": 5
}
