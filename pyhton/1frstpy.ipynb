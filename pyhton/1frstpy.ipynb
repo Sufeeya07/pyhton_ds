{
 "cells": [
  {
   "cell_type": "code",
   "execution_count": 14,
   "id": "ebbdb159-72b1-4f6a-bf69-a9d25a3dbdbb",
   "metadata": {},
   "outputs": [],
   "source": [
    "## var is to store data "
   ]
  },
  {
   "cell_type": "code",
   "execution_count": 11,
   "id": "648083ee-edf6-4bd6-8838-798af837483c",
   "metadata": {},
   "outputs": [
    {
     "data": {
      "text/plain": [
       "int"
      ]
     },
     "execution_count": 11,
     "metadata": {},
     "output_type": "execute_result"
    }
   ],
   "source": [
    "a=1\n",
    "a\n",
    "type(a)"
   ]
  },
  {
   "cell_type": "code",
   "execution_count": 13,
   "id": "016703a0-aedc-40a5-9601-b07c90155468",
   "metadata": {},
   "outputs": [
    {
     "data": {
      "text/plain": [
       "(5+4j)"
      ]
     },
     "execution_count": 13,
     "metadata": {},
     "output_type": "execute_result"
    }
   ],
   "source": [
    "# complex number -- combination of real + imaginary number -- j only\n",
    "f= 5+4j\n",
    "f"
   ]
  },
  {
   "cell_type": "code",
   "execution_count": 15,
   "id": "fe27ff4d-915a-4737-8465-97a2f006bf32",
   "metadata": {},
   "outputs": [
    {
     "data": {
      "text/plain": [
       "5.0"
      ]
     },
     "execution_count": 15,
     "metadata": {},
     "output_type": "execute_result"
    }
   ],
   "source": [
    "f.real"
   ]
  },
  {
   "cell_type": "code",
   "execution_count": 1,
   "id": "d06b5cd5-bb01-4f9d-a274-5db3b339b8c8",
   "metadata": {},
   "outputs": [
    {
     "data": {
      "text/plain": [
       "'0b1010'"
      ]
     },
     "execution_count": 1,
     "metadata": {},
     "output_type": "execute_result"
    }
   ],
   "source": [
    "bin(10)"
   ]
  },
  {
   "cell_type": "code",
   "execution_count": 20,
   "id": "7ca162c4-6da6-4834-b766-d8ec293c88ee",
   "metadata": {},
   "outputs": [
    {
     "name": "stdout",
     "output_type": "stream",
     "text": [
      "23\n"
     ]
    }
   ],
   "source": [
    "print(23 | 20) ## & |"
   ]
  },
  {
   "cell_type": "code",
   "execution_count": 16,
   "id": "f10579ba-946e-4e21-975a-5f6e6904e3e1",
   "metadata": {},
   "outputs": [
    {
     "data": {
      "text/plain": [
       "'0b10111'"
      ]
     },
     "execution_count": 16,
     "metadata": {},
     "output_type": "execute_result"
    }
   ],
   "source": [
    "bin(23)"
   ]
  },
  {
   "cell_type": "code",
   "execution_count": 17,
   "id": "a381400a-724b-4d1f-8416-b7f1235f9b1d",
   "metadata": {},
   "outputs": [
    {
     "data": {
      "text/plain": [
       "'0b10100'"
      ]
     },
     "execution_count": 17,
     "metadata": {},
     "output_type": "execute_result"
    }
   ],
   "source": [
    "bin(20)"
   ]
  },
  {
   "cell_type": "code",
   "execution_count": null,
   "id": "38d2a496-4d9f-4c8d-9200-3cc239a89561",
   "metadata": {},
   "outputs": [],
   "source": [
    "bin (15)"
   ]
  },
  {
   "cell_type": "code",
   "execution_count": null,
   "id": "3cb13ced-7889-4b6b-8893-d4ffb3e9feb8",
   "metadata": {},
   "outputs": [],
   "source": [
    "bin (12)\n"
   ]
  },
  {
   "cell_type": "code",
   "execution_count": null,
   "id": "2881c323-8da5-4918-8099-4f4d40bf7aa8",
   "metadata": {},
   "outputs": [],
   "source": [
    "bin (13)\n"
   ]
  },
  {
   "cell_type": "code",
   "execution_count": null,
   "id": "11671b7b-3642-471d-a719-494ae84b351d",
   "metadata": {},
   "outputs": [],
   "source": [
    "bin(-13)"
   ]
  },
  {
   "cell_type": "code",
   "execution_count": 21,
   "id": "1a9a763e-634d-4794-ba30-cb7cea06d43b",
   "metadata": {},
   "outputs": [
    {
     "data": {
      "text/plain": [
       "-4"
      ]
     },
     "execution_count": 21,
     "metadata": {},
     "output_type": "execute_result"
    }
   ],
   "source": [
    "~3"
   ]
  },
  {
   "cell_type": "code",
   "execution_count": 3,
   "id": "0a240ace-7512-4ee5-b74a-ab6a6612e05b",
   "metadata": {},
   "outputs": [
    {
     "data": {
      "text/plain": [
       "1"
      ]
     },
     "execution_count": 3,
     "metadata": {},
     "output_type": "execute_result"
    }
   ],
   "source": [
    "# = assign\n",
    "# == compare\n",
    "\n",
    "a=8\n",
    "a>>3"
   ]
  },
  {
   "cell_type": "code",
   "execution_count": null,
   "id": "eb9a7290-0062-45cc-80bd-c65aaeac03eb",
   "metadata": {},
   "outputs": [],
   "source": [
    "a>>4"
   ]
  },
  {
   "cell_type": "code",
   "execution_count": 4,
   "id": "edcba03a-addf-413e-97f0-07e2f2a7da56",
   "metadata": {},
   "outputs": [
    {
     "data": {
      "text/plain": [
       "'0b1'"
      ]
     },
     "execution_count": 4,
     "metadata": {},
     "output_type": "execute_result"
    }
   ],
   "source": [
    "bin(1)"
   ]
  },
  {
   "cell_type": "code",
   "execution_count": 2,
   "id": "baf808ca-34cb-46f1-a9d1-370b22dc05ab",
   "metadata": {},
   "outputs": [
    {
     "name": "stdout",
     "output_type": "stream",
     "text": [
      "2\n"
     ]
    }
   ],
   "source": [
    "a=10>>2\n",
    "print(a)"
   ]
  },
  {
   "cell_type": "code",
   "execution_count": 1,
   "id": "3a0965c8-3136-411f-b7ad-21dc9534ea5c",
   "metadata": {},
   "outputs": [
    {
     "name": "stdout",
     "output_type": "stream",
     "text": [
      "80\n"
     ]
    }
   ],
   "source": [
    "print(20<<2)"
   ]
  },
  {
   "cell_type": "code",
   "execution_count": 2,
   "id": "ab84a5e4-91ba-4ab3-a219-6c77591d3e6f",
   "metadata": {},
   "outputs": [
    {
     "data": {
      "text/plain": [
       "'0b10100'"
      ]
     },
     "execution_count": 2,
     "metadata": {},
     "output_type": "execute_result"
    }
   ],
   "source": [
    "bin(20)\n"
   ]
  },
  {
   "cell_type": "code",
   "execution_count": 1,
   "id": "f202b410-61c1-4dc6-b0f7-815a6a51219b",
   "metadata": {},
   "outputs": [
    {
     "data": {
      "text/plain": [
       "'0b1010000'"
      ]
     },
     "execution_count": 1,
     "metadata": {},
     "output_type": "execute_result"
    }
   ],
   "source": [
    "bin (80)"
   ]
  },
  {
   "cell_type": "code",
   "execution_count": 5,
   "id": "44577011-5ccc-472b-a732-3002fb8288b2",
   "metadata": {},
   "outputs": [
    {
     "name": "stdout",
     "output_type": "stream",
     "text": [
      "b is greater than a\n"
     ]
    }
   ],
   "source": [
    "a = 33\n",
    "b = 200\n",
    "\n",
    "if b > a:\n",
    "    print(\"b is greater than a\")"
   ]
  },
  {
   "cell_type": "code",
   "execution_count": 24,
   "id": "fd4ab79b-fc31-4107-8cdd-980a9315f873",
   "metadata": {},
   "outputs": [
    {
     "name": "stdin",
     "output_type": "stream",
     "text": [
      " 123\n"
     ]
    },
    {
     "data": {
      "text/plain": [
       "'123'"
      ]
     },
     "execution_count": 24,
     "metadata": {},
     "output_type": "execute_result"
    }
   ],
   "source": [
    "input()"
   ]
  },
  {
   "cell_type": "code",
   "execution_count": 28,
   "id": "6ad6ecf0-11e4-4879-83a1-c0814b95de28",
   "metadata": {},
   "outputs": [
    {
     "name": "stdin",
     "output_type": "stream",
     "text": [
      " 2\n"
     ]
    },
    {
     "data": {
      "text/plain": [
       "2"
      ]
     },
     "execution_count": 28,
     "metadata": {},
     "output_type": "execute_result"
    }
   ],
   "source": [
    "## type casting -- change data type\n",
    "int(input())\n",
    "# int('44')"
   ]
  },
  {
   "cell_type": "code",
   "execution_count": 23,
   "id": "acab4deb-c5fc-49c7-83e9-6529626290cb",
   "metadata": {},
   "outputs": [
    {
     "name": "stdin",
     "output_type": "stream",
     "text": [
      " 7\n"
     ]
    },
    {
     "name": "stdout",
     "output_type": "stream",
     "text": [
      " a is greater\n"
     ]
    }
   ],
   "source": [
    "a=int(input())\n",
    "if a>5:\n",
    "    print(\" a is greater\")\n",
    "elif a<5 :\n",
    "    print(\"a is less\")"
   ]
  },
  {
   "cell_type": "code",
   "execution_count": 34,
   "id": "6d9beb13-cf70-4d53-b621-8773dd852084",
   "metadata": {},
   "outputs": [
    {
     "name": "stdin",
     "output_type": "stream",
     "text": [
      "Enter the first number:  2\n",
      " 4\n"
     ]
    },
    {
     "name": "stdout",
     "output_type": "stream",
     "text": [
      "b = 4 is greater than a = 2\n"
     ]
    }
   ],
   "source": [
    "a = int(input(\"Enter the first number: \"))\n",
    "b= int(input())\n",
    "if a > b:\n",
    "    print(f\"a = {a} is greater than b = {b}\")\n",
    "else:\n",
    "    print(f\"b = {b} is greater than a = {a}\")\n",
    "    "
   ]
  },
  {
   "cell_type": "code",
   "execution_count": null,
   "id": "73bf8649-d230-4d5c-b1c4-ec1e69499a88",
   "metadata": {},
   "outputs": [],
   "source": []
  },
  {
   "cell_type": "markdown",
   "id": "f6fa89ee-03f9-4376-9c79-1d5ded8ff298",
   "metadata": {},
   "source": [
    "------- WHILE LOOP --------"
   ]
  },
  {
   "cell_type": "code",
   "execution_count": 6,
   "id": "9a501449-6cad-47a7-ba18-2dd0414fb9b5",
   "metadata": {},
   "outputs": [
    {
     "name": "stdout",
     "output_type": "stream",
     "text": [
      "2\n",
      "3\n",
      "4\n",
      "5\n",
      "6\n",
      "7\n",
      "8\n",
      "9\n"
     ]
    }
   ],
   "source": [
    "n= 10\n",
    "i = 2\n",
    "while i<n:\n",
    "    print (i)\n",
    "    i=i+1"
   ]
  },
  {
   "cell_type": "code",
   "execution_count": 5,
   "id": "12722667-063a-4fcc-85c7-094b99190b00",
   "metadata": {},
   "outputs": [
    {
     "name": "stdin",
     "output_type": "stream",
     "text": [
      "Enter a number :  5\n"
     ]
    },
    {
     "name": "stdout",
     "output_type": "stream",
     "text": [
      "5\n",
      "6\n",
      "7\n",
      "8\n",
      "9\n",
      "10\n",
      "done\n"
     ]
    }
   ],
   "source": [
    "## only in one situation or condition else use only after when while loop successfully excuted without any break\n",
    "\n",
    "n= int(input('Enter a number : '))\n",
    "a= 10\n",
    "while n<=a:\n",
    "    print(n)\n",
    "    n=n+1 \n",
    "else:\n",
    "    print('done')"
   ]
  },
  {
   "cell_type": "code",
   "execution_count": 2,
   "id": "e0808870-7168-4a75-b465-65c5cc4c206b",
   "metadata": {},
   "outputs": [
    {
     "name": "stdin",
     "output_type": "stream",
     "text": [
      "Enter a number :  6\n"
     ]
    },
    {
     "name": "stdout",
     "output_type": "stream",
     "text": [
      "6\n"
     ]
    }
   ],
   "source": [
    "n= int(input('Enter a number : '))\n",
    "a= 10\n",
    "while n<=a:\n",
    "    print(n)\n",
    "    n=n+1\n",
    "    if n==7:\n",
    "        break    \n",
    "else:\n",
    "    print('done')"
   ]
  },
  {
   "cell_type": "code",
   "execution_count": 13,
   "id": "afe6ba03-70ce-4782-b199-04e2ee7ba159",
   "metadata": {},
   "outputs": [
    {
     "name": "stdout",
     "output_type": "stream",
     "text": [
      "1\n",
      "2\n",
      "3\n",
      "4\n"
     ]
    }
   ],
   "source": [
    "i = 1\n",
    "while i < 6:\n",
    "    print(i)\n",
    "    if i == 4:\n",
    "        break\n",
    "    i += 1"
   ]
  },
  {
   "cell_type": "markdown",
   "id": "87f3e30e-04e0-4052-b317-9ebfa2abc080",
   "metadata": {},
   "source": [
    "--------- FOR LOOP ---------"
   ]
  },
  {
   "cell_type": "code",
   "execution_count": 14,
   "id": "d2ef8096-fd4d-4cd0-9ce5-61594db52710",
   "metadata": {},
   "outputs": [
    {
     "name": "stdout",
     "output_type": "stream",
     "text": [
      "s\n",
      "u\n",
      "f\n",
      "e\n",
      "e\n",
      "y\n",
      "a\n"
     ]
    }
   ],
   "source": [
    "s= 'sufeeya'\n",
    "for i in s:\n",
    "    print (i)"
   ]
  },
  {
   "cell_type": "code",
   "execution_count": 15,
   "id": "19ec9a6b-5571-4f06-80cb-6bb3f96aa18b",
   "metadata": {},
   "outputs": [
    {
     "data": {
      "text/plain": [
       "[0, 1, 2, 3, 4, 5, 6, 7, 8, 9, 10, 11, 12, 13, 14, 15, 16, 17, 18, 19]"
      ]
     },
     "execution_count": 15,
     "metadata": {},
     "output_type": "execute_result"
    }
   ],
   "source": [
    "list(range(20))"
   ]
  },
  {
   "cell_type": "code",
   "execution_count": 27,
   "id": "de60788c-1f1b-4b02-8790-550efd536a33",
   "metadata": {},
   "outputs": [
    {
     "name": "stdout",
     "output_type": "stream",
     "text": [
      "2\n",
      "4\n",
      "6\n",
      "8\n",
      "10\n",
      "12\n",
      "14\n",
      "16\n",
      "18\n"
     ]
    }
   ],
   "source": [
    "for i in range(2,20,2):\n",
    "    print(i)"
   ]
  },
  {
   "cell_type": "code",
   "execution_count": 51,
   "id": "d3f12bb5-a0dd-41e0-a335-ee504f493ec5",
   "metadata": {},
   "outputs": [
    {
     "name": "stdin",
     "output_type": "stream",
     "text": [
      " 8\n"
     ]
    },
    {
     "name": "stdout",
     "output_type": "stream",
     "text": [
      "2\n",
      "3\n",
      "4\n",
      "5\n",
      "break apply on 6\n"
     ]
    }
   ],
   "source": [
    "a=int(input())\n",
    "for i in range(2,a):\n",
    "    if i==6:\n",
    "        print(\"break apply on 6\")\n",
    "        break\n",
    "    print(i)\n",
    "else:\n",
    "    print('ok')"
   ]
  },
  {
   "cell_type": "code",
   "execution_count": 22,
   "id": "ff6edfc0-f9a1-4c13-b24d-bedfd1295d6a",
   "metadata": {},
   "outputs": [
    {
     "name": "stdout",
     "output_type": "stream",
     "text": [
      "2\n",
      "<class 'int'>\n",
      "3.5\n",
      "<class 'float'>\n",
      "sufeeya\n",
      "<class 'str'>\n",
      "23.45\n",
      "<class 'float'>\n",
      "True\n",
      "<class 'bool'>\n",
      "(3+6j)\n",
      "<class 'complex'>\n",
      "finished\n"
     ]
    }
   ],
   "source": [
    "l=[2,3.5,\"sufeeya\" ,23.45, True,3+6j]\n",
    "for i in l:\n",
    "    print(i)\n",
    "    print(type(i))\n",
    "  \n",
    "else :\n",
    "    print(\"finished\")"
   ]
  },
  {
   "cell_type": "code",
   "execution_count": 12,
   "id": "4180c03b-6adc-4ccc-92c2-1307f591b832",
   "metadata": {},
   "outputs": [
    {
     "name": "stdout",
     "output_type": "stream",
     "text": [
      "1\n",
      "<class 'int'>\n",
      "2\n",
      "<class 'int'>\n",
      "3\n",
      "<class 'int'>\n",
      "4\n",
      "<class 'int'>\n",
      "5\n",
      "<class 'int'>\n"
     ]
    }
   ],
   "source": [
    "a=[1,2,3,4,5,7, \"sug\" ]\n",
    "for i in a:\n",
    "    print(i)\n",
    "    print(type(i))\n",
    "    if i == 5:\n",
    "        break\n",
    "        \n",
    "          "
   ]
  },
  {
   "cell_type": "code",
   "execution_count": null,
   "id": "a94e3b94-f8ce-410a-98cd-b8af1a9bb74e",
   "metadata": {},
   "outputs": [],
   "source": [
    "a=False\n",
    "b=10.5\n",
    "c=a+b\n",
    "c"
   ]
  },
  {
   "cell_type": "code",
   "execution_count": null,
   "id": "5bd4c6a9-e828-47e0-848f-b53ab3fcfb3e",
   "metadata": {},
   "outputs": [],
   "source": []
  },
  {
   "cell_type": "code",
   "execution_count": null,
   "id": "2066beb1-e7ad-47a8-b74a-813aa935ae41",
   "metadata": {},
   "outputs": [],
   "source": []
  }
 ],
 "metadata": {
  "kernelspec": {
   "display_name": "Python 3 (ipykernel)",
   "language": "python",
   "name": "python3"
  },
  "language_info": {
   "codemirror_mode": {
    "name": "ipython",
    "version": 3
   },
   "file_extension": ".py",
   "mimetype": "text/x-python",
   "name": "python",
   "nbconvert_exporter": "python",
   "pygments_lexer": "ipython3",
   "version": "3.13.1"
  }
 },
 "nbformat": 4,
 "nbformat_minor": 5
}
