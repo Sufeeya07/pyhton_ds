{
 "cells": [
  {
   "cell_type": "code",
   "execution_count": 2,
   "id": "134b6d62-481d-48a7-baae-bec819fdb842",
   "metadata": {},
   "outputs": [],
   "source": [
    "class pws:\n",
    "    def student_det(self , name, mail, number):\n",
    "        print(name, mail, number)"
   ]
  },
  {
   "cell_type": "code",
   "execution_count": 8,
   "id": "037fd90a-6063-415b-9d6d-5961263e7cb4",
   "metadata": {},
   "outputs": [
    {
     "name": "stdout",
     "output_type": "stream",
     "text": [
      "suffeya sp@gmail.com 9431498129\n"
     ]
    }
   ],
   "source": [
    "pw= pws()\n",
    "pw.student_det('suffeya', 'sp@gmail.com', 9431498129)"
   ]
  },
  {
   "cell_type": "code",
   "execution_count": null,
   "id": "2530eff1-3cbd-4e23-83a6-4a49955ace9b",
   "metadata": {},
   "outputs": [],
   "source": [
    "-static method -- jo fun bar bar use hote hai , jiske liye alg alg function nhi bnaye ya instance nhi bnaye . uske liye staitc fun bna skte ho\n",
    "-without calling an obj\n",
    "-static method needs no specific parameters. class method has cls\n",
    "-can’t access or modify it\n",
    "-use static methods to create utility functions.\n",
    "-utility-type methods that take some parameters and work upon those parameters. "
   ]
  },
  {
   "cell_type": "code",
   "execution_count": 15,
   "id": "b5c0aa60-6493-499d-86cc-3503c90afb76",
   "metadata": {},
   "outputs": [],
   "source": [
    "class pws1:\n",
    "    def student_det(self , name, mail, number):\n",
    "        print(name, mail, number)\n",
    "    \n",
    "    @staticmethod\n",
    "    def mentor(list_mentor):  # mentor is a static method , and also use to create a utility function (database, database storage ) \n",
    "        print(list_mentor)   \n",
    "    "
   ]
  },
  {
   "cell_type": "code",
   "execution_count": 16,
   "id": "f42ef6bc-7772-436c-9906-f4d3b12f6417",
   "metadata": {},
   "outputs": [
    {
     "name": "stdout",
     "output_type": "stream",
     "text": [
      "['sufeeya', 'sudh']\n"
     ]
    }
   ],
   "source": [
    "pws1.mentor(['sufeeya', 'sudh'])"
   ]
  },
  {
   "cell_type": "code",
   "execution_count": 53,
   "id": "01a606c5-30e2-44de-956b-760d8e172385",
   "metadata": {},
   "outputs": [],
   "source": [
    "#--- call static method into class method\n",
    "class pws2:\n",
    "    def student_det(self , name, mail, number):\n",
    "        print(name, mail, number)\n",
    "        \n",
    "    @staticmethod\n",
    "    def mentor_id(id_mentor):  # call other static method into static method \n",
    "        print(id_mentor) \n",
    "    \n",
    "    @staticmethod\n",
    "    def mentor(list_mentor):  \n",
    "        pws2.mentor_id(['sp@gmail.com', 'nus@gmail.com'])\n",
    "        print(list_mentor) \n",
    "        \n",
    "    @classmethod\n",
    "    def class_name(cls):\n",
    "        cls.mentor(['suffeya', 'nusrat'])\n",
    "    \n",
    "    \n",
    "    def mento(self,list_mentor):   # classs ka instance method, want to call static into this\n",
    "        print(list_mentor) \n",
    "        self.mentor(['abdfgbs','sjfhtb'])  #access with object"
   ]
  },
  {
   "cell_type": "code",
   "execution_count": 55,
   "id": "d105ad47-a88c-49bc-adbe-959ddbe6ff87",
   "metadata": {},
   "outputs": [
    {
     "name": "stdout",
     "output_type": "stream",
     "text": [
      "['sp@gmail.com', 'nus@gmail.com']\n",
      "['samre', 'nikku']\n",
      "['s@gmail.com', 'n@gamil.com']\n"
     ]
    }
   ],
   "source": [
    "pws2.mentor(['samre', 'nikku'])\n",
    "pws2.mentor_id(['s@gmail.com', 'n@gamil.com'])"
   ]
  },
  {
   "cell_type": "code",
   "execution_count": 56,
   "id": "b59eab67-3330-4a22-bd84-921fc290a6a2",
   "metadata": {},
   "outputs": [
    {
     "name": "stdout",
     "output_type": "stream",
     "text": [
      "['sp@gmail.com', 'nus@gmail.com']\n",
      "['suffeya', 'nusrat']\n"
     ]
    }
   ],
   "source": [
    "pws2.class_name()"
   ]
  },
  {
   "cell_type": "code",
   "execution_count": 58,
   "id": "908f01a7-258e-4c60-9d1e-ba9056dc7621",
   "metadata": {},
   "outputs": [],
   "source": [
    "pw = pws2()"
   ]
  },
  {
   "cell_type": "code",
   "execution_count": 59,
   "id": "477fcfdf-3b7c-43cf-bbcf-ca261bd7ce12",
   "metadata": {},
   "outputs": [
    {
     "name": "stdout",
     "output_type": "stream",
     "text": [
      "['sp@gmail.com', 'nus@gmail.com']\n",
      "['abdfgbs', 'sjfhtb']\n"
     ]
    }
   ],
   "source": [
    "pw.mentor(['abdfgbs','sjfhtb'])"
   ]
  },
  {
   "cell_type": "code",
   "execution_count": null,
   "id": "53c8e1ac-1978-4f90-b849-16864f62d796",
   "metadata": {},
   "outputs": [],
   "source": []
  }
 ],
 "metadata": {
  "kernelspec": {
   "display_name": "Python 3 (ipykernel)",
   "language": "python",
   "name": "python3"
  },
  "language_info": {
   "codemirror_mode": {
    "name": "ipython",
    "version": 3
   },
   "file_extension": ".py",
   "mimetype": "text/x-python",
   "name": "python",
   "nbconvert_exporter": "python",
   "pygments_lexer": "ipython3",
   "version": "3.10.8"
  }
 },
 "nbformat": 4,
 "nbformat_minor": 5
}
