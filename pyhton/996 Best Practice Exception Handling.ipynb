{
 "cells": [
  {
   "cell_type": "code",
   "execution_count": 1,
   "id": "594b58c7-a27b-4aba-9ea6-e0e0e3f33cef",
   "metadata": {},
   "outputs": [
    {
     "name": "stdout",
     "output_type": "stream",
     "text": [
      "division by zero\n"
     ]
    }
   ],
   "source": [
    "#use always a specific exception \n",
    "try :\n",
    "    10/0\n",
    "except ZeroDivisionError as e:\n",
    "    print(e)"
   ]
  },
  {
   "cell_type": "code",
   "execution_count": 3,
   "id": "4b7a988b-f0fd-4aab-95b6-c371bca62f7a",
   "metadata": {},
   "outputs": [
    {
     "name": "stdout",
     "output_type": "stream",
     "text": [
      "i am trying to  handle a /0 error  division by zero\n"
     ]
    }
   ],
   "source": [
    "#print always a proper msg\n",
    "try:\n",
    "    10/0\n",
    "except ZeroDivisionError as e:\n",
    "    print('i am trying to  handle a /0 error ',e)   "
   ]
  },
  {
   "cell_type": "code",
   "execution_count": 1,
   "id": "a19831c6-5b56-4378-9144-626ed0ab41eb",
   "metadata": {},
   "outputs": [],
   "source": [
    "# always try to log ur  error\n",
    "import logging\n",
    "logging.basicConfig(filename='error.log', level=logging.ERROR)\n",
    "try:\n",
    "    10/0\n",
    "except ZeroDivisionError as e:\n",
    "    logging.error('i am trying to  handle a /0 error{} '.format(e)) "
   ]
  },
  {
   "cell_type": "code",
   "execution_count": null,
   "id": "c8fb7fd7-8a28-409e-89a0-fd449a3a3aaa",
   "metadata": {},
   "outputs": [],
   "source": [
    "# always avoid to write a multiple exception handling\n",
    "# document  all the error"
   ]
  },
  {
   "cell_type": "code",
   "execution_count": 6,
   "id": "2180ebd5-de21-4c5d-a1a3-192ba998acaf",
   "metadata": {},
   "outputs": [
    {
     "name": "stdin",
     "output_type": "stream",
     "text": [
      "Enter a number for 'a':  1\n",
      "Enter the start of the range:  20\n",
      "Enter the end of the range:  30\n"
     ]
    },
    {
     "name": "stdout",
     "output_type": "stream",
     "text": [
      "21\n",
      "22\n",
      "23\n",
      "24\n",
      "25\n",
      "26\n",
      "27\n",
      "28\n",
      "29\n",
      "30\n"
     ]
    }
   ],
   "source": [
    "import logging\n",
    "\n",
    "# Configure logging\n",
    "logging.basicConfig(filename=\"app.log\", level=logging.INFO, \n",
    "                    format=\"%(asctime)s - %(levelname)s - %(message)s\")\n",
    "\n",
    "class ValueTooHighError(Exception):\n",
    "    pass\n",
    "\n",
    "try:\n",
    "    a = int(input(\"Enter a number for 'a': \")) \n",
    "    start = int(input(\"Enter the start of the range: \")) \n",
    "    end = int(input(\"Enter the end of the range: \")) \n",
    "    \n",
    "\n",
    "    for i in range(start, end):\n",
    "        result = i + a\n",
    "        if result > 100:\n",
    "            logging.error(f\"ValueTooHighError: {result} exceeded threshold {threshold}\")\n",
    "            raise ValueTooHighError(f'Value too high: {result}')\n",
    "        \n",
    "        logging.info(f\"Success: Computed {result}\")\n",
    "        print(result)\n",
    "\n",
    "except ValueTooHighError as e:\n",
    "    print(f'Custom Exception: {e}')\n",
    "except ValueError as e:\n",
    "    logging.error(f\"ValueError: Invalid input - {e}\")\n",
    "    print(\"Invalid input! Please enter integers.\")\n",
    "except Exception as e:\n",
    "    logging.critical(f\"Unexpected Error: {e}\")\n",
    "    print(\"An unexpected error occurred.\")\n",
    "\n"
   ]
  },
  {
   "cell_type": "code",
   "execution_count": null,
   "id": "dd29c783-200e-49cc-a0e6-42e80d5e7000",
   "metadata": {},
   "outputs": [],
   "source": []
  }
 ],
 "metadata": {
  "kernelspec": {
   "display_name": "Python 3 (ipykernel)",
   "language": "python",
   "name": "python3"
  },
  "language_info": {
   "codemirror_mode": {
    "name": "ipython",
    "version": 3
   },
   "file_extension": ".py",
   "mimetype": "text/x-python",
   "name": "python",
   "nbconvert_exporter": "python",
   "pygments_lexer": "ipython3",
   "version": "3.13.1"
  }
 },
 "nbformat": 4,
 "nbformat_minor": 5
}
