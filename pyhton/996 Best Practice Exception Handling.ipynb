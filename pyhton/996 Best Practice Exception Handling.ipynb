{
 "cells": [
  {
   "cell_type": "code",
   "execution_count": 1,
   "id": "594b58c7-a27b-4aba-9ea6-e0e0e3f33cef",
   "metadata": {},
   "outputs": [
    {
     "name": "stdout",
     "output_type": "stream",
     "text": [
      "division by zero\n"
     ]
    }
   ],
   "source": [
    "#use always a specific exception \n",
    "try :\n",
    "    10/0\n",
    "except ZeroDivisionError as e:\n",
    "    print(e)"
   ]
  },
  {
   "cell_type": "code",
   "execution_count": 3,
   "id": "4b7a988b-f0fd-4aab-95b6-c371bca62f7a",
   "metadata": {},
   "outputs": [
    {
     "name": "stdout",
     "output_type": "stream",
     "text": [
      "i am trying to  handle a /0 error  division by zero\n"
     ]
    }
   ],
   "source": [
    "#print always a proper msg\n",
    "try:\n",
    "    10/0\n",
    "except ZeroDivisionError as e:\n",
    "    print('i am trying to  handle a /0 error ',e)   "
   ]
  },
  {
   "cell_type": "code",
   "execution_count": 5,
   "id": "a19831c6-5b56-4378-9144-626ed0ab41eb",
   "metadata": {},
   "outputs": [],
   "source": [
    "# always try to log ur  error\n",
    "import logging\n",
    "logging.basicConfig(filename='error.log', level=logging.ERROR)\n",
    "try:\n",
    "    10/0\n",
    "except ZeroDivisionError as e:\n",
    "    logging.error('i am trying to  handle a /0 error{} '.format(e)) "
   ]
  },
  {
   "cell_type": "code",
   "execution_count": null,
   "id": "c8fb7fd7-8a28-409e-89a0-fd449a3a3aaa",
   "metadata": {},
   "outputs": [],
   "source": [
    "# always avoid to write a multiple exception handling\n",
    "# document  all the error"
   ]
  }
 ],
 "metadata": {
  "kernelspec": {
   "display_name": "Python 3 (ipykernel)",
   "language": "python",
   "name": "python3"
  },
  "language_info": {
   "codemirror_mode": {
    "name": "ipython",
    "version": 3
   },
   "file_extension": ".py",
   "mimetype": "text/x-python",
   "name": "python",
   "nbconvert_exporter": "python",
   "pygments_lexer": "ipython3",
   "version": "3.10.8"
  }
 },
 "nbformat": 4,
 "nbformat_minor": 5
}
