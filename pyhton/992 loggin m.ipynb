{
 "cells": [
  {
   "cell_type": "code",
   "execution_count": null,
   "id": "3c56f996-e26d-4579-a1d8-924c76c0fcf5",
   "metadata": {},
   "outputs": [],
   "source": [
    "logging is useful to track error , exception or info. it also helps in debugging. so we make log file\n",
    "#kisi v chiz ko trace krte h or usko ek jgh pe store krke rkhte h to wo logging hota h"
   ]
  },
  {
   "cell_type": "code",
   "execution_count": null,
   "id": "6ecb060c-bc81-4e58-8a0a-0dbbb6052b7a",
   "metadata": {},
   "outputs": [],
   "source": [
    "*level of logging\n",
    "-NOTSET\n",
    "-DEBUG\n",
    "\n",
    "these can be log\n",
    "-INFO\n",
    "-WARNING\n",
    "-ERROR\n",
    "-CRITICAL\n"
   ]
  },
  {
   "cell_type": "code",
   "execution_count": 1,
   "id": "0986725a-5256-4fbb-b0d2-978bc6803bb7",
   "metadata": {},
   "outputs": [],
   "source": [
    "import logging"
   ]
  },
  {
   "cell_type": "code",
   "execution_count": 2,
   "id": "8dc4a0ab-50d9-4077-bf61-c541f540d8c1",
   "metadata": {},
   "outputs": [],
   "source": [
    "#basicConfig(**kwargs) method\n",
    "logging.basicConfig(filename= 'log1.log' , level= logging.INFO)"
   ]
  },
  {
   "cell_type": "code",
   "execution_count": 5,
   "id": "222ea0ad-6f5d-45da-9e0b-1686bbe7c99d",
   "metadata": {},
   "outputs": [],
   "source": [
    "logging.info(\"log this line of executation\")"
   ]
  },
  {
   "cell_type": "code",
   "execution_count": 6,
   "id": "7d1b8ef1-3a66-471b-a1b6-282edc170101",
   "metadata": {},
   "outputs": [],
   "source": [
    "logging.info(\"this is my first print in log\")"
   ]
  },
  {
   "cell_type": "code",
   "execution_count": 7,
   "id": "bdc46f86-eaee-4574-be8a-f68b0c698bd0",
   "metadata": {},
   "outputs": [],
   "source": [
    "logging.warning(\" this is warning msg\")"
   ]
  },
  {
   "cell_type": "code",
   "execution_count": 11,
   "id": "3ea5118d-de87-4080-96f5-0af50a5b8857",
   "metadata": {},
   "outputs": [],
   "source": [
    "logging.error(\"this is an ERROR\")"
   ]
  },
  {
   "cell_type": "code",
   "execution_count": 12,
   "id": "8693831e-f00c-4910-b0fc-8af3dac440bc",
   "metadata": {},
   "outputs": [],
   "source": [
    "logging.shutdown()"
   ]
  },
  {
   "cell_type": "code",
   "execution_count": 3,
   "id": "80d0122b-b961-4ec8-b4e0-1efcfbeca699",
   "metadata": {},
   "outputs": [],
   "source": [
    "logging.basicConfig(filename= \"log2.log\" , level = logging.DEBUG , format = '%(asctime)s %(message)s')"
   ]
  },
  {
   "cell_type": "code",
   "execution_count": 4,
   "id": "46b057f2-e42c-49d2-8319-d2bc6de2ad47",
   "metadata": {},
   "outputs": [],
   "source": [
    "logging.info(\"this is my info logging\")\n",
    "logging.error(\"this is my error msg\")\n",
    "logging.critical(\"this is my critical\")   #u have to shut down ur previous log file"
   ]
  },
  {
   "cell_type": "code",
   "execution_count": 5,
   "id": "f330355a-b52f-434a-ac00-6fdecb7090d9",
   "metadata": {},
   "outputs": [],
   "source": [
    "logging.shutdown()"
   ]
  },
  {
   "cell_type": "code",
   "execution_count": 2,
   "id": "96a5064b-fea7-4531-a178-17b4ab1c91db",
   "metadata": {},
   "outputs": [],
   "source": [
    "logging.basicConfig(filename='log3.log' , level= logging.DEBUG , format= '%(asctime)s %(name)s %(levelname)s %(message)s' )"
   ]
  },
  {
   "cell_type": "code",
   "execution_count": 3,
   "id": "fbce03b0-d549-4f63-9a34-a06502b0b06c",
   "metadata": {},
   "outputs": [],
   "source": [
    "logging.info(\"this is my info logging\")\n",
    "logging.error(\"this is my error msg\")\n",
    "logging.critical(\"this is my critical\")"
   ]
  },
  {
   "cell_type": "code",
   "execution_count": null,
   "id": "4ae978a1-8f88-4f9c-8791-dbed3e848809",
   "metadata": {},
   "outputs": [],
   "source": [
    "#-------------------------------------------"
   ]
  },
  {
   "cell_type": "code",
   "execution_count": 19,
   "id": "0d4548b6-e939-4f12-b82d-ae62ebc075c8",
   "metadata": {},
   "outputs": [],
   "source": [
    "l = [1,2,3,34,4,[2,3,4], 'sufeeya', 'parween']"
   ]
  },
  {
   "cell_type": "code",
   "execution_count": 20,
   "id": "15e58f3f-a36b-4f3d-ad56-5322969a5b09",
   "metadata": {},
   "outputs": [],
   "source": [
    "l_int=[]\n",
    "l_str=[]\n",
    "\n",
    "for i in l:\n",
    "    logging.info(\"we are itreating through our list and our local var is {}\" .format(l))\n",
    "    if type(i)== str:\n",
    "        logging.info(\"i am inside string list\" +str(i))\n",
    "        l_str.append(i)\n",
    "        \n",
    "        logging.info(\"i am inside another loop\")\n",
    "    elif type(i)== int:\n",
    "        l_int.append(i)\n",
    "        \n",
    "    elif type(i)==list:\n",
    "        logging.info('i am inside if statement and i am trying to check list type')\n",
    "        for j in i:      \n",
    "            if type(j)==int:\n",
    "                l_int.append(j)\n",
    "\n",
    "logging.info('my final result for int is {l1} and str is {l2}'.format(l1=l_int , l2=l_str))\n"
   ]
  },
  {
   "cell_type": "code",
   "execution_count": 11,
   "id": "8b3a8843-ae4e-4b4f-9816-517e922fc1c3",
   "metadata": {},
   "outputs": [
    {
     "data": {
      "text/plain": [
       "['sufeeya', 'parween']"
      ]
     },
     "execution_count": 11,
     "metadata": {},
     "output_type": "execute_result"
    }
   ],
   "source": [
    "l_str"
   ]
  },
  {
   "cell_type": "code",
   "execution_count": null,
   "id": "c259436e-3110-45b1-b228-db90dd10c1f2",
   "metadata": {},
   "outputs": [],
   "source": []
  }
 ],
 "metadata": {
  "kernelspec": {
   "display_name": "Python 3 (ipykernel)",
   "language": "python",
   "name": "python3"
  },
  "language_info": {
   "codemirror_mode": {
    "name": "ipython",
    "version": 3
   },
   "file_extension": ".py",
   "mimetype": "text/x-python",
   "name": "python",
   "nbconvert_exporter": "python",
   "pygments_lexer": "ipython3",
   "version": "3.10.8"
  }
 },
 "nbformat": 4,
 "nbformat_minor": 5
}
