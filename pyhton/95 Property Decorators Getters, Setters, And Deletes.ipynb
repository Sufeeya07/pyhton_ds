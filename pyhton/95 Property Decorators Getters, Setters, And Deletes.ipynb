{
 "cells": [
  {
   "cell_type": "code",
   "execution_count": null,
   "id": "4f1586d4-7d64-4653-b7e6-4d3cdc226627",
   "metadata": {},
   "outputs": [],
   "source": [
    "---Property Decorators \n",
    "__ private _ protected"
   ]
  },
  {
   "cell_type": "code",
   "execution_count": 9,
   "id": "1808e6fc-6061-429f-ab5f-1ca22b755820",
   "metadata": {},
   "outputs": [],
   "source": [
    "class pws:\n",
    "    def __init__(self , course_price , course_name) :\n",
    "        self.__cp = course_price\n",
    "        self.cm = course_name"
   ]
  },
  {
   "cell_type": "code",
   "execution_count": 10,
   "id": "58404f67-166c-4340-aa09-d6569d90fcbd",
   "metadata": {},
   "outputs": [],
   "source": [
    "pw = pws(3500, 'dsm')"
   ]
  },
  {
   "cell_type": "code",
   "execution_count": 14,
   "id": "c17355dc-4163-4169-8974-670f089e38d0",
   "metadata": {},
   "outputs": [
    {
     "data": {
      "text/plain": [
       "3500"
      ]
     },
     "execution_count": 14,
     "metadata": {},
     "output_type": "execute_result"
    }
   ],
   "source": [
    "pw._pws__cp"
   ]
  },
  {
   "cell_type": "code",
   "execution_count": null,
   "id": "b93d129d-254b-43f0-aa5f-dd5b56ea7b21",
   "metadata": {},
   "outputs": [],
   "source": [
    "# is prvt var ka access users ko dena h to , interms of modifing , deletion\n",
    "use decorator property"
   ]
  },
  {
   "cell_type": "code",
   "execution_count": 28,
   "id": "9ae926fd-2675-4087-a33e-f675ad6b0471",
   "metadata": {},
   "outputs": [],
   "source": [
    "class pws1:\n",
    "    def __init__(self , course_price , course_name) :\n",
    "        self.__cp = course_price\n",
    "        self.cm = course_name \n",
    "        \n",
    "    @property     # through this property ye expose ho jyega even to the external users\n",
    "    def cp_access(self):\n",
    "        return self.__cp\n",
    "    \n",
    "    @cp_access.setter     # modify the prvt var\n",
    "    def cp_set(self, price):\n",
    "        if price <=3500:\n",
    "            pass\n",
    "        else:\n",
    "            self.__cp =price\n",
    "            \n",
    "    @cp_access.deleter\n",
    "    def delet_cp(self):\n",
    "        del self.__cp"
   ]
  },
  {
   "cell_type": "code",
   "execution_count": 33,
   "id": "ed8ab1fd-ff99-499c-be96-30d454d4b859",
   "metadata": {},
   "outputs": [],
   "source": [
    "pw = pws1(3500,'data science')"
   ]
  },
  {
   "cell_type": "code",
   "execution_count": 34,
   "id": "7c0e8a29-0d0b-4511-a1b8-79c234bf50f8",
   "metadata": {},
   "outputs": [
    {
     "data": {
      "text/plain": [
       "3500"
      ]
     },
     "execution_count": 34,
     "metadata": {},
     "output_type": "execute_result"
    }
   ],
   "source": [
    "pw.cp_access"
   ]
  },
  {
   "cell_type": "code",
   "execution_count": 36,
   "id": "09d60de8-ef06-44f6-a91b-af3c0384c79c",
   "metadata": {},
   "outputs": [],
   "source": [
    "pw.cp_set = 5500"
   ]
  },
  {
   "cell_type": "code",
   "execution_count": 37,
   "id": "870a759b-e430-4f50-b1c4-a78a2e0037b0",
   "metadata": {},
   "outputs": [
    {
     "data": {
      "text/plain": [
       "5500"
      ]
     },
     "execution_count": 37,
     "metadata": {},
     "output_type": "execute_result"
    }
   ],
   "source": [
    "pw.cp_access"
   ]
  },
  {
   "cell_type": "code",
   "execution_count": 38,
   "id": "232b50fc-a9cb-479b-896b-df4636213021",
   "metadata": {},
   "outputs": [],
   "source": [
    "del pw.delet_cp"
   ]
  },
  {
   "cell_type": "code",
   "execution_count": 39,
   "id": "56f26c53-25c6-4c00-88b4-db7eee77b537",
   "metadata": {},
   "outputs": [
    {
     "ename": "AttributeError",
     "evalue": "'pws1' object has no attribute '_pws1__cp'",
     "output_type": "error",
     "traceback": [
      "\u001b[0;31m---------------------------------------------------------------------------\u001b[0m",
      "\u001b[0;31mAttributeError\u001b[0m                            Traceback (most recent call last)",
      "Cell \u001b[0;32mIn[39], line 1\u001b[0m\n\u001b[0;32m----> 1\u001b[0m \u001b[43mpw\u001b[49m\u001b[38;5;241;43m.\u001b[39;49m\u001b[43mcp_access\u001b[49m\n",
      "Cell \u001b[0;32mIn[28], line 8\u001b[0m, in \u001b[0;36mpws1.cp_access\u001b[0;34m(self)\u001b[0m\n\u001b[1;32m      6\u001b[0m \u001b[38;5;129m@property\u001b[39m     \u001b[38;5;66;03m# through this property ye expose ho jyega even to the external users\u001b[39;00m\n\u001b[1;32m      7\u001b[0m \u001b[38;5;28;01mdef\u001b[39;00m \u001b[38;5;21mcp_access\u001b[39m(\u001b[38;5;28mself\u001b[39m):\n\u001b[0;32m----> 8\u001b[0m     \u001b[38;5;28;01mreturn\u001b[39;00m \u001b[38;5;28;43mself\u001b[39;49m\u001b[38;5;241;43m.\u001b[39;49m\u001b[43m__cp\u001b[49m\n",
      "\u001b[0;31mAttributeError\u001b[0m: 'pws1' object has no attribute '_pws1__cp'"
     ]
    }
   ],
   "source": [
    "pw.cp_access"
   ]
  },
  {
   "cell_type": "code",
   "execution_count": null,
   "id": "12c03f6b-40d1-4ad0-8e15-1a0b006d872d",
   "metadata": {},
   "outputs": [],
   "source": []
  }
 ],
 "metadata": {
  "kernelspec": {
   "display_name": "Python 3 (ipykernel)",
   "language": "python",
   "name": "python3"
  },
  "language_info": {
   "codemirror_mode": {
    "name": "ipython",
    "version": 3
   },
   "file_extension": ".py",
   "mimetype": "text/x-python",
   "name": "python",
   "nbconvert_exporter": "python",
   "pygments_lexer": "ipython3",
   "version": "3.10.8"
  }
 },
 "nbformat": 4,
 "nbformat_minor": 5
}
