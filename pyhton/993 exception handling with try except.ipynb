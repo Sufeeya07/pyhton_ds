{
 "cells": [
  {
   "cell_type": "code",
   "execution_count": null,
   "id": "7e750688-f4f8-4914-b1bf-c823514dea2d",
   "metadata": {},
   "outputs": [],
   "source": [
    "#Logical errors\n",
    "\n",
    "in try block , hum isme wo code rkhte h jisme error aa skkta hai \n",
    "try block , code ko except block ke pss send krdega if error occur\n",
    "\n",
    "except bloack is for handling exception.. \n",
    "except ke andr whi code jayega jisme error occur hoga otherwise nhi \n",
    "exception class is super class of all differnt type of exception like logical, file not found,divide by error , arthimetical, "
   ]
  },
  {
   "cell_type": "code",
   "execution_count": 1,
   "id": "4cd988f3-f798-4468-a9a2-d45942e11181",
   "metadata": {},
   "outputs": [
    {
     "name": "stdout",
     "output_type": "stream",
     "text": [
      "this is my except block [Errno 2] No such file or directory: 'e1.test'\n"
     ]
    },
    {
     "data": {
      "text/plain": [
       "9"
      ]
     },
     "execution_count": 1,
     "metadata": {},
     "output_type": "execute_result"
    }
   ],
   "source": [
    "try :\n",
    "    f= open('e1.test', 'r') \n",
    "\n",
    "except Exception as e:     \n",
    "    print(\"this is my except block\" , e)\n",
    "    \n",
    "a=4+5\n",
    "a"
   ]
  },
  {
   "cell_type": "code",
   "execution_count": 10,
   "id": "6f3d7d54-1548-422d-a3e6-3a97972e4521",
   "metadata": {},
   "outputs": [
    {
     "name": "stdout",
     "output_type": "stream",
     "text": [
      "Exception occurred: 'int' object is not iterable\n",
      "The program continues after handling the exception.\n"
     ]
    }
   ],
   "source": [
    "try :\n",
    "    a=10\n",
    "    for i in a:\n",
    "        print(i+a)\n",
    "        \n",
    "except Exception as e:\n",
    "      print(f\"Exception occurred: {e}\")\n",
    "\n",
    "print(\"The program continues after handling the exception.\")"
   ]
  },
  {
   "cell_type": "code",
   "execution_count": 9,
   "id": "987e404d-ad12-420e-ac86-1a59d9fe9fac",
   "metadata": {},
   "outputs": [
    {
     "name": "stdout",
     "output_type": "stream",
     "text": [
      "10\n",
      "11\n",
      "12\n",
      "13\n",
      "14\n",
      "The program continues after handling the exception.\n"
     ]
    }
   ],
   "source": [
    "try:\n",
    "    a = 10\n",
    "    for i in range(5):  # Loop from 0 to 4\n",
    "        print(i + a)  # Add 'i' to 'a' and print the result\n",
    "        \n",
    "except Exception as e:\n",
    "    print(f\"Exception occurred: {e}\")\n",
    "\n",
    "print(\"The program continues after handling the exception.\")\n"
   ]
  },
  {
   "cell_type": "code",
   "execution_count": 16,
   "id": "d38eedac-31cf-42eb-a6db-f151b4186d7b",
   "metadata": {},
   "outputs": [],
   "source": [
    "try :\n",
    "    f= open('e1.test', 'w') \n",
    "    f.write('write into my file')\n",
    "    f.close()\n",
    "    \n",
    "    # isme niche ke code excute nhi hoge bcuz try block wale code koi v error nhi h\n",
    "except Exception as e:     \n",
    "    print(\"this is my except block\" , e)"
   ]
  },
  {
   "cell_type": "code",
   "execution_count": 30,
   "id": "973ed2fd-0486-4247-9bf9-3dcc5512c4e5",
   "metadata": {},
   "outputs": [
    {
     "name": "stdout",
     "output_type": "stream",
     "text": [
      "this will excuted 2+3 = 5\n"
     ]
    }
   ],
   "source": [
    "try :\n",
    "    a=open('a.test', 'w')\n",
    "    a.write('amfgudgmbhfdm mdfgjdshfhjdalj mhvfhvfsjhiukajsbds jhgdiufgakjdbhsfghj vhjsgbnvjhhjf')\n",
    "\n",
    "    b=2\n",
    "    c=3\n",
    "    print(f'this will excuted {b}+{c} =',b+c)\n",
    "    \n",
    "\n",
    "except Exception as e:\n",
    "    pass"
   ]
  },
  {
   "cell_type": "code",
   "execution_count": 21,
   "id": "5e48a98a-a1bc-4b46-9225-a550d6c2e25f",
   "metadata": {},
   "outputs": [
    {
     "name": "stdout",
     "output_type": "stream",
     "text": [
      "here read file(fl) is not excuted and b + c also not excuted [Errno 2] No such file or directory: 'fl.test'\n"
     ]
    }
   ],
   "source": [
    "try :\n",
    "    fl=open('fl.test', 'r')\n",
    "    fl.read('amfgudgmbhfdm mdfgjdshfhjdalj mhvfhvfsjhiukajsbds jhgdiufgakjdbhsfghj vhjsgbnvjhhjf')\n",
    "\n",
    "    b=2\n",
    "    c=3\n",
    "    print(b+c)\n",
    "\n",
    "except Exception as e:\n",
    "    print('here read file(fl) is not excuted and b + c also not exc')"
   ]
  },
  {
   "cell_type": "code",
   "execution_count": 14,
   "id": "908a9174-eff8-4895-a14c-484d8aec0b2c",
   "metadata": {},
   "outputs": [
    {
     "name": "stdout",
     "output_type": "stream",
     "text": [
      "this will be excuted once your try will excute without error\n"
     ]
    }
   ],
   "source": [
    "# else\n",
    "\n",
    "try :\n",
    "    f= open('e1.test', 'w') \n",
    "    f.write('write into my file')\n",
    "   \n",
    "    \n",
    "except Exception as e:     \n",
    "    print(\"this is my except block\" , e)\n",
    "    \n",
    "else:\n",
    "    f.close()\n",
    "    print('this will be excuted once your try will excute without error')"
   ]
  },
  {
   "cell_type": "code",
   "execution_count": 6,
   "id": "aad35eff-d8a8-4f39-be89-650b247e1ac5",
   "metadata": {},
   "outputs": [
    {
     "name": "stdout",
     "output_type": "stream",
     "text": [
      "this is my except block [Errno 2] No such file or directory: 'e2.test'\n"
     ]
    }
   ],
   "source": [
    "try :\n",
    "    f= open('e2.test', 'r') \n",
    "    f.write('write into my file')\n",
    "   \n",
    "    # here only except block will excute\n",
    "except Exception as e:     \n",
    "    print(\"this is my except block\" , e)\n",
    "    \n",
    "else:\n",
    "    f.close()\n",
    "    print('this will be excuted once ur try will excute without error')"
   ]
  },
  {
   "cell_type": "markdown",
   "id": "4c866fa8-d558-492d-ae76-47794254a7ae",
   "metadata": {},
   "source": [
    "### --------- FINALLY ---------"
   ]
  },
  {
   "cell_type": "code",
   "execution_count": null,
   "id": "face0861-4bad-4150-9bd2-b912dbe3d392",
   "metadata": {},
   "outputs": [],
   "source": [
    "want to excuted bydefult or at any want to excute"
   ]
  },
  {
   "cell_type": "code",
   "execution_count": 32,
   "id": "3009c69b-e280-4e90-abc1-0154534f51de",
   "metadata": {},
   "outputs": [
    {
     "name": "stdout",
     "output_type": "stream",
     "text": [
      "finally will excute itself in any situation\n"
     ]
    },
    {
     "ename": "FileNotFoundError",
     "evalue": "[Errno 2] No such file or directory: 'e3.txt'",
     "output_type": "error",
     "traceback": [
      "\u001b[1;31m---------------------------------------------------------------------------\u001b[0m",
      "\u001b[1;31mFileNotFoundError\u001b[0m                         Traceback (most recent call last)",
      "Cell \u001b[1;32mIn[32], line 2\u001b[0m\n\u001b[0;32m      1\u001b[0m \u001b[38;5;28;01mtry\u001b[39;00m:\n\u001b[1;32m----> 2\u001b[0m     f\u001b[38;5;241m=\u001b[39m \u001b[38;5;28;43mopen\u001b[39;49m\u001b[43m(\u001b[49m\u001b[38;5;124;43m\"\u001b[39;49m\u001b[38;5;124;43me3.txt\u001b[39;49m\u001b[38;5;124;43m\"\u001b[39;49m\u001b[43m,\u001b[49m\u001b[43m \u001b[49m\u001b[38;5;124;43m'\u001b[39;49m\u001b[38;5;124;43mr\u001b[39;49m\u001b[38;5;124;43m'\u001b[39;49m\u001b[43m)\u001b[49m\n\u001b[0;32m      3\u001b[0m     f\u001b[38;5;241m.\u001b[39mwrite(\u001b[38;5;124m\"\u001b[39m\u001b[38;5;124mwrite something\u001b[39m\u001b[38;5;124m\"\u001b[39m)\n\u001b[0;32m      4\u001b[0m \u001b[38;5;28;01mfinally\u001b[39;00m:\n",
      "File \u001b[1;32m~\\AppData\\Local\\Programs\\Python\\Python313\\Lib\\site-packages\\IPython\\core\\interactiveshell.py:324\u001b[0m, in \u001b[0;36m_modified_open\u001b[1;34m(file, *args, **kwargs)\u001b[0m\n\u001b[0;32m    317\u001b[0m \u001b[38;5;28;01mif\u001b[39;00m file \u001b[38;5;129;01min\u001b[39;00m {\u001b[38;5;241m0\u001b[39m, \u001b[38;5;241m1\u001b[39m, \u001b[38;5;241m2\u001b[39m}:\n\u001b[0;32m    318\u001b[0m     \u001b[38;5;28;01mraise\u001b[39;00m \u001b[38;5;167;01mValueError\u001b[39;00m(\n\u001b[0;32m    319\u001b[0m         \u001b[38;5;124mf\u001b[39m\u001b[38;5;124m\"\u001b[39m\u001b[38;5;124mIPython won\u001b[39m\u001b[38;5;124m'\u001b[39m\u001b[38;5;124mt let you open fd=\u001b[39m\u001b[38;5;132;01m{\u001b[39;00mfile\u001b[38;5;132;01m}\u001b[39;00m\u001b[38;5;124m by default \u001b[39m\u001b[38;5;124m\"\u001b[39m\n\u001b[0;32m    320\u001b[0m         \u001b[38;5;124m\"\u001b[39m\u001b[38;5;124mas it is likely to crash IPython. If you know what you are doing, \u001b[39m\u001b[38;5;124m\"\u001b[39m\n\u001b[0;32m    321\u001b[0m         \u001b[38;5;124m\"\u001b[39m\u001b[38;5;124myou can use builtins\u001b[39m\u001b[38;5;124m'\u001b[39m\u001b[38;5;124m open.\u001b[39m\u001b[38;5;124m\"\u001b[39m\n\u001b[0;32m    322\u001b[0m     )\n\u001b[1;32m--> 324\u001b[0m \u001b[38;5;28;01mreturn\u001b[39;00m \u001b[43mio_open\u001b[49m\u001b[43m(\u001b[49m\u001b[43mfile\u001b[49m\u001b[43m,\u001b[49m\u001b[43m \u001b[49m\u001b[38;5;241;43m*\u001b[39;49m\u001b[43margs\u001b[49m\u001b[43m,\u001b[49m\u001b[43m \u001b[49m\u001b[38;5;241;43m*\u001b[39;49m\u001b[38;5;241;43m*\u001b[39;49m\u001b[43mkwargs\u001b[49m\u001b[43m)\u001b[49m\n",
      "\u001b[1;31mFileNotFoundError\u001b[0m: [Errno 2] No such file or directory: 'e3.txt'"
     ]
    }
   ],
   "source": [
    "try:\n",
    "    f= open(\"e3.txt\", 'r')\n",
    "    f.write(\"write something\")\n",
    "finally:\n",
    "    print(\"finally will excute itself in any situation\")"
   ]
  },
  {
   "cell_type": "code",
   "execution_count": null,
   "id": "dcee93f3-2cf5-4312-bc38-a9c33e5e4af8",
   "metadata": {},
   "outputs": [],
   "source": [
    "#-----------------------"
   ]
  },
  {
   "cell_type": "code",
   "execution_count": 15,
   "id": "fa2b5ebb-b926-4342-9fe7-456865cce029",
   "metadata": {},
   "outputs": [
    {
     "name": "stdout",
     "output_type": "stream",
     "text": [
      "error:cannot add an int and a str unsupported operand type(s) for +: 'int' and 'str'\n"
     ]
    }
   ],
   "source": [
    "x=5\n",
    "y='hello'\n",
    "try:\n",
    "    z=x+y\n",
    "    \n",
    "except Exception as e:\n",
    "    print(\"error:cannot add an int and a str\", e)"
   ]
  },
  {
   "cell_type": "code",
   "execution_count": 20,
   "id": "ac34e5cb-6e4c-45e7-8663-e3dbab158c0f",
   "metadata": {},
   "outputs": [
    {
     "name": "stdout",
     "output_type": "stream",
     "text": [
      "second element= 2\n",
      "an error\n"
     ]
    }
   ],
   "source": [
    "a=[12,2,3,4]\n",
    "try:\n",
    "    print('second element= {}'  .format(a[1]))\n",
    "    print (\"sixth element = %d\" %(a[6]))\n",
    "    \n",
    "except:\n",
    "    print(\"an error\")"
   ]
  }
 ],
 "metadata": {
  "kernelspec": {
   "display_name": "Python 3 (ipykernel)",
   "language": "python",
   "name": "python3"
  },
  "language_info": {
   "codemirror_mode": {
    "name": "ipython",
    "version": 3
   },
   "file_extension": ".py",
   "mimetype": "text/x-python",
   "name": "python",
   "nbconvert_exporter": "python",
   "pygments_lexer": "ipython3",
   "version": "3.13.1"
  }
 },
 "nbformat": 4,
 "nbformat_minor": 5
}
