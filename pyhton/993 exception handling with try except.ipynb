{
 "cells": [
  {
   "cell_type": "code",
   "execution_count": 2,
   "id": "7e750688-f4f8-4914-b1bf-c823514dea2d",
   "metadata": {},
   "outputs": [
    {
     "name": "stdout",
     "output_type": "stream",
     "text": [
      "this is my except block [Errno 2] No such file or directory: 'e1.test'\n"
     ]
    },
    {
     "data": {
      "text/plain": [
       "9"
      ]
     },
     "execution_count": 2,
     "metadata": {},
     "output_type": "execute_result"
    }
   ],
   "source": [
    "#Logical errors \n",
    "#in try block , hum isme wo code rkhte h jisme error aa skkta , eh me ya try me rkhte h \n",
    "\n",
    "try :\n",
    "    f= open('e1.test', 'r') # try isse code to except block ke pss send krdega if error occur\n",
    "\n",
    "except Exception as e:     # exception class is super class of all differnt type of exception, except ke andr whi code jayega jisme error occur hoga otherwise nhi \n",
    "    print(\"this is my except block\" , e)\n",
    "    \n",
    "a=4+5\n",
    "a"
   ]
  },
  {
   "cell_type": "code",
   "execution_count": 4,
   "id": "d38eedac-31cf-42eb-a6db-f151b4186d7b",
   "metadata": {},
   "outputs": [],
   "source": [
    "try :\n",
    "    f= open('e1.test', 'w') \n",
    "    f.write('write into my file')\n",
    "    f.close()\n",
    "    # isme niche ke code excute nhi hoge bcuz try block wale code koi v error nhi h\n",
    "    \n",
    "except Exception as e:     \n",
    "    print(\"this is my except block\" , e)"
   ]
  },
  {
   "cell_type": "code",
   "execution_count": 5,
   "id": "908a9174-eff8-4895-a14c-484d8aec0b2c",
   "metadata": {},
   "outputs": [
    {
     "name": "stdout",
     "output_type": "stream",
     "text": [
      "this will be excuted once ur try will excute without error\n"
     ]
    }
   ],
   "source": [
    "try :\n",
    "    f= open('e1.test', 'w') \n",
    "    f.write('write into my file')\n",
    "   \n",
    "    \n",
    "except Exception as e:     \n",
    "    print(\"this is my except block\" , e)\n",
    "    \n",
    "else:\n",
    "    f.close()\n",
    "    print('this will be excuted once ur try will excute without error')"
   ]
  },
  {
   "cell_type": "code",
   "execution_count": 6,
   "id": "aad35eff-d8a8-4f39-be89-650b247e1ac5",
   "metadata": {},
   "outputs": [
    {
     "name": "stdout",
     "output_type": "stream",
     "text": [
      "this is my except block [Errno 2] No such file or directory: 'e2.test'\n"
     ]
    }
   ],
   "source": [
    "try :\n",
    "    f= open('e2.test', 'r') \n",
    "    f.write('write into my file')\n",
    "   \n",
    "    # here only except block will excute\n",
    "except Exception as e:     \n",
    "    print(\"this is my except block\" , e)\n",
    "    \n",
    "else:\n",
    "    f.close()\n",
    "    print('this will be excuted once ur try will excute without error')"
   ]
  },
  {
   "cell_type": "code",
   "execution_count": 9,
   "id": "3009c69b-e280-4e90-abc1-0154534f51de",
   "metadata": {},
   "outputs": [
    {
     "name": "stdout",
     "output_type": "stream",
     "text": [
      "finally will excute itself in any situation\n"
     ]
    },
    {
     "ename": "FileNotFoundError",
     "evalue": "[Errno 2] No such file or directory: 'e3.txt'",
     "output_type": "error",
     "traceback": [
      "\u001b[0;31m---------------------------------------------------------------------------\u001b[0m",
      "\u001b[0;31mFileNotFoundError\u001b[0m                         Traceback (most recent call last)",
      "Cell \u001b[0;32mIn[9], line 2\u001b[0m\n\u001b[1;32m      1\u001b[0m \u001b[38;5;28;01mtry\u001b[39;00m:\n\u001b[0;32m----> 2\u001b[0m     f\u001b[38;5;241m=\u001b[39m \u001b[38;5;28;43mopen\u001b[39;49m\u001b[43m(\u001b[49m\u001b[38;5;124;43m\"\u001b[39;49m\u001b[38;5;124;43me3.txt\u001b[39;49m\u001b[38;5;124;43m\"\u001b[39;49m\u001b[43m,\u001b[49m\u001b[43m \u001b[49m\u001b[38;5;124;43m'\u001b[39;49m\u001b[38;5;124;43mr\u001b[39;49m\u001b[38;5;124;43m'\u001b[39;49m\u001b[43m)\u001b[49m\n\u001b[1;32m      3\u001b[0m     f\u001b[38;5;241m.\u001b[39mwrite(\u001b[38;5;124m\"\u001b[39m\u001b[38;5;124mwrite something\u001b[39m\u001b[38;5;124m\"\u001b[39m)\n\u001b[1;32m      4\u001b[0m \u001b[38;5;28;01mfinally\u001b[39;00m:\n",
      "File \u001b[0;32m/opt/conda/lib/python3.10/site-packages/IPython/core/interactiveshell.py:282\u001b[0m, in \u001b[0;36m_modified_open\u001b[0;34m(file, *args, **kwargs)\u001b[0m\n\u001b[1;32m    275\u001b[0m \u001b[38;5;28;01mif\u001b[39;00m file \u001b[38;5;129;01min\u001b[39;00m {\u001b[38;5;241m0\u001b[39m, \u001b[38;5;241m1\u001b[39m, \u001b[38;5;241m2\u001b[39m}:\n\u001b[1;32m    276\u001b[0m     \u001b[38;5;28;01mraise\u001b[39;00m \u001b[38;5;167;01mValueError\u001b[39;00m(\n\u001b[1;32m    277\u001b[0m         \u001b[38;5;124mf\u001b[39m\u001b[38;5;124m\"\u001b[39m\u001b[38;5;124mIPython won\u001b[39m\u001b[38;5;124m'\u001b[39m\u001b[38;5;124mt let you open fd=\u001b[39m\u001b[38;5;132;01m{\u001b[39;00mfile\u001b[38;5;132;01m}\u001b[39;00m\u001b[38;5;124m by default \u001b[39m\u001b[38;5;124m\"\u001b[39m\n\u001b[1;32m    278\u001b[0m         \u001b[38;5;124m\"\u001b[39m\u001b[38;5;124mas it is likely to crash IPython. If you know what you are doing, \u001b[39m\u001b[38;5;124m\"\u001b[39m\n\u001b[1;32m    279\u001b[0m         \u001b[38;5;124m\"\u001b[39m\u001b[38;5;124myou can use builtins\u001b[39m\u001b[38;5;124m'\u001b[39m\u001b[38;5;124m open.\u001b[39m\u001b[38;5;124m\"\u001b[39m\n\u001b[1;32m    280\u001b[0m     )\n\u001b[0;32m--> 282\u001b[0m \u001b[38;5;28;01mreturn\u001b[39;00m \u001b[43mio_open\u001b[49m\u001b[43m(\u001b[49m\u001b[43mfile\u001b[49m\u001b[43m,\u001b[49m\u001b[43m \u001b[49m\u001b[38;5;241;43m*\u001b[39;49m\u001b[43margs\u001b[49m\u001b[43m,\u001b[49m\u001b[43m \u001b[49m\u001b[38;5;241;43m*\u001b[39;49m\u001b[38;5;241;43m*\u001b[39;49m\u001b[43mkwargs\u001b[49m\u001b[43m)\u001b[49m\n",
      "\u001b[0;31mFileNotFoundError\u001b[0m: [Errno 2] No such file or directory: 'e3.txt'"
     ]
    }
   ],
   "source": [
    "try:\n",
    "    f= open(\"e3.txt\", 'r')\n",
    "    f.write(\"write something\")\n",
    "finally:\n",
    "    print(\"finally will excute itself in any situation\")"
   ]
  },
  {
   "cell_type": "code",
   "execution_count": null,
   "id": "dcee93f3-2cf5-4312-bc38-a9c33e5e4af8",
   "metadata": {},
   "outputs": [],
   "source": [
    "#-----------------------"
   ]
  },
  {
   "cell_type": "code",
   "execution_count": 15,
   "id": "fa2b5ebb-b926-4342-9fe7-456865cce029",
   "metadata": {},
   "outputs": [
    {
     "name": "stdout",
     "output_type": "stream",
     "text": [
      "error:cannot add an int and a str unsupported operand type(s) for +: 'int' and 'str'\n"
     ]
    }
   ],
   "source": [
    "x=5\n",
    "y='hello'\n",
    "try:\n",
    "    z=x+y\n",
    "    \n",
    "except Exception as e:\n",
    "    print(\"error:cannot add an int and a str\", e)"
   ]
  },
  {
   "cell_type": "code",
   "execution_count": 20,
   "id": "ac34e5cb-6e4c-45e7-8663-e3dbab158c0f",
   "metadata": {},
   "outputs": [
    {
     "name": "stdout",
     "output_type": "stream",
     "text": [
      "second element= 2\n",
      "an error\n"
     ]
    }
   ],
   "source": [
    "a=[12,2,3,4]\n",
    "try:\n",
    "    print('second element= {}'  .format(a[1]))\n",
    "    print (\"sixth element = %d\" %(a[6]))\n",
    "    \n",
    "except:\n",
    "    print(\"an error\")"
   ]
  }
 ],
 "metadata": {
  "kernelspec": {
   "display_name": "Python 3 (ipykernel)",
   "language": "python",
   "name": "python3"
  },
  "language_info": {
   "codemirror_mode": {
    "name": "ipython",
    "version": 3
   },
   "file_extension": ".py",
   "mimetype": "text/x-python",
   "name": "python",
   "nbconvert_exporter": "python",
   "pygments_lexer": "ipython3",
   "version": "3.10.8"
  }
 },
 "nbformat": 4,
 "nbformat_minor": 5
}
