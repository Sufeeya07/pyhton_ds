{
 "cells": [
  {
   "cell_type": "code",
   "execution_count": null,
   "id": "4a6984d1-247d-4fea-8c58-904a2b706a05",
   "metadata": {},
   "outputs": [],
   "source": [
    "# systum ke resources ko easy ways me utilise kr sko"
   ]
  },
  {
   "cell_type": "code",
   "execution_count": 3,
   "id": "4012700f-6bf7-414c-aeb6-cba755c7d8c8",
   "metadata": {},
   "outputs": [],
   "source": [
    "import multiprocessing"
   ]
  },
  {
   "cell_type": "code",
   "execution_count": 6,
   "id": "d288a54a-0b96-4327-b385-2da21f267b96",
   "metadata": {},
   "outputs": [
    {
     "name": "stdout",
     "output_type": "stream",
     "text": [
      "this is my multiprocessing prog\n",
      "this is my main prog\n"
     ]
    }
   ],
   "source": [
    "\n",
    "def tset ():\n",
    "    print('this is my multiprocessing prog')\n",
    "    \n",
    "if __name__== '__main__':\n",
    "    m= multiprocessing.Process(target=tset)\n",
    "   \n",
    "    m.start()\n",
    "    m.join()\n",
    "    print(\"this is my main prog\")"
   ]
  },
  {
   "cell_type": "code",
   "execution_count": 13,
   "id": "1a1ff257-01e0-4946-ba93-6c17e278626a",
   "metadata": {},
   "outputs": [
    {
     "name": "stdout",
     "output_type": "stream",
     "text": [
      "[1, 4, 9, 16, 25, 36]\n"
     ]
    }
   ],
   "source": [
    "def sq(n):\n",
    "    return n**2\n",
    "\n",
    "if __name__=='__main__':\n",
    "    with multiprocessing.Pool(processes=4)as pool:\n",
    "        out = pool.map(sq, [1,2,3,4,5,6])\n",
    "        print(out)"
   ]
  },
  {
   "cell_type": "code",
   "execution_count": null,
   "id": "f32388fc-d7ef-4721-b732-ad8b4255a90b",
   "metadata": {},
   "outputs": [],
   "source": [
    "def sender (conn, msg):\n",
    "    for i in msg:\n",
    "        conn.send(i)\n",
    "        conn.close()\n",
    "        \n",
    "def rec(conn):\n",
    "    while True:\n",
    "        try:\n",
    "            msg= conn.rec()\n",
    "        except Exception as e:\n",
    "            print(e)\n",
    "            break\n",
    "        print(msg)\n",
    "        \n"
   ]
  }
 ],
 "metadata": {
  "kernelspec": {
   "display_name": "Python 3 (ipykernel)",
   "language": "python",
   "name": "python3"
  },
  "language_info": {
   "codemirror_mode": {
    "name": "ipython",
    "version": 3
   },
   "file_extension": ".py",
   "mimetype": "text/x-python",
   "name": "python",
   "nbconvert_exporter": "python",
   "pygments_lexer": "ipython3",
   "version": "3.10.8"
  }
 },
 "nbformat": 4,
 "nbformat_minor": 5
}
