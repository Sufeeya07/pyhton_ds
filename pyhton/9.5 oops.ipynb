{
 "cells": [
  {
   "cell_type": "code",
   "execution_count": null,
   "id": "65199806-5c8b-4b78-af40-617afde683ce",
   "metadata": {},
   "outputs": [],
   "source": [
    "oops / class helps to inhance ur code capability in structured way, make ur code reuseblity\n",
    "optimise , structured , modular "
   ]
  },
  {
   "cell_type": "code",
   "execution_count": null,
   "id": "0f7a0497-a840-4cda-8fc8-df47dc428642",
   "metadata": {},
   "outputs": [],
   "source": [
    "The first concept that comes up in oops is classes.\n",
    "-classes is a blueprint , class define ovearll objects in case of object orineted prgmng\n",
    "-class is just classification of real world entites.\n",
    "-class is structured way, make classifiction simple for module"
   ]
  },
  {
   "cell_type": "code",
   "execution_count": null,
   "id": "635e1c1b-ae9f-4d91-9a73-566b19ed160e",
   "metadata": {},
   "outputs": [],
   "source": [
    "-object is a real world entities \n",
    "a=1, here a is object of integer class, object also known as  ( a can be variable , instance/ example, a specific realization of any object)"
   ]
  },
  {
   "cell_type": "code",
   "execution_count": null,
   "id": "50bb0e87-d0f1-4efe-a02b-2bdabe02514d",
   "metadata": {},
   "outputs": [],
   "source": [
    "# creating class with the help of class reserve keyword\n",
    "class test:\n",
    "    pass # blank class with pass keyw"
   ]
  },
  {
   "cell_type": "code",
   "execution_count": 2,
   "id": "301bb842-3584-432c-8115-3126b25b2ef8",
   "metadata": {},
   "outputs": [
    {
     "name": "stdout",
     "output_type": "stream",
     "text": [
      "<class '__main__.t1'>\n"
     ]
    }
   ],
   "source": [
    "class t1:\n",
    "    pass\n",
    "a=t1()  # a belongs to class t1\n",
    "print(type(a)) "
   ]
  },
  {
   "cell_type": "code",
   "execution_count": 4,
   "id": "44dcf2ab-f4eb-4f93-8a6b-5544c7d267eb",
   "metadata": {},
   "outputs": [],
   "source": [
    "class pwsk:\n",
    "    def welcome_msg():\n",
    "        print(\"welcome to pwskills\")\n",
    "sufeeya = pwsk()"
   ]
  },
  {
   "cell_type": "code",
   "execution_count": 5,
   "id": "b0e5f814-46e2-4d4a-bdf7-602bbb2c2eb8",
   "metadata": {},
   "outputs": [
    {
     "ename": "TypeError",
     "evalue": "pwsk.welcome_msg() takes 0 positional arguments but 1 was given",
     "output_type": "error",
     "traceback": [
      "\u001b[0;31m---------------------------------------------------------------------------\u001b[0m",
      "\u001b[0;31mTypeError\u001b[0m                                 Traceback (most recent call last)",
      "Cell \u001b[0;32mIn[5], line 1\u001b[0m\n\u001b[0;32m----> 1\u001b[0m \u001b[43msufeeya\u001b[49m\u001b[38;5;241;43m.\u001b[39;49m\u001b[43mwelcome_msg\u001b[49m\u001b[43m(\u001b[49m\u001b[43m)\u001b[49m\n",
      "\u001b[0;31mTypeError\u001b[0m: pwsk.welcome_msg() takes 0 positional arguments but 1 was given"
     ]
    }
   ],
   "source": [
    "sufeeya.welcome_msg()# its give error, jo method class andr define krte h usko bind / point krwana hota h class se"
   ]
  },
  {
   "cell_type": "code",
   "execution_count": null,
   "id": "7f39eb2e-be00-47b8-80e1-a667b29269e8",
   "metadata": {},
   "outputs": [],
   "source": [
    "SELF--- is a pointer . reference to the instance of the class. It allows you to access variables and methods within the class. It must be the first parameter in any method of a class.\n",
    "jo v fun class ke andar define hota h usko bind / point karwana hota hai class self with help of SELF"
   ]
  },
  {
   "cell_type": "code",
   "execution_count": 21,
   "id": "9f3f05ec-f980-49e3-ba91-28e0e586a6b3",
   "metadata": {},
   "outputs": [
    {
     "name": "stdout",
     "output_type": "stream",
     "text": [
      "welcome\n"
     ]
    }
   ],
   "source": [
    "class pw:\n",
    "    def wm(self): \n",
    "        print(\"welcome\")\n",
    "        \n",
    "sufeeya=pw()   #if we want to use method , class ke bahr so we create class var, object or instance\n",
    "sufeeya.wm()  # here we call method using ,dot notation on that onject "
   ]
  },
  {
   "cell_type": "code",
   "execution_count": 22,
   "id": "a57fbb63-c472-4f84-bc9e-12fd718c393b",
   "metadata": {},
   "outputs": [
    {
     "name": "stdout",
     "output_type": "stream",
     "text": [
      "welcome\n"
     ]
    }
   ],
   "source": [
    "nusrat=pw()\n",
    "nusrat.wm()"
   ]
  },
  {
   "cell_type": "code",
   "execution_count": 39,
   "id": "6551ba6a-3e2c-4aa6-bfb1-b33d1e1e60d0",
   "metadata": {},
   "outputs": [
    {
     "name": "stdin",
     "output_type": "stream",
     "text": [
      "enter your msg : kjdlkl\n"
     ]
    },
    {
     "name": "stdout",
     "output_type": "stream",
     "text": [
      "kjdlkl\n"
     ]
    }
   ],
   "source": [
    "class msg:\n",
    "    def MSG(self):\n",
    "        print(a)\n",
    "a=input('enter your msg :')\n",
    "m=msg()\n",
    "m.MSG()"
   ]
  },
  {
   "cell_type": "code",
   "execution_count": 1,
   "id": "8629a9b9-179e-474f-bdba-1ea5f49c2c76",
   "metadata": {},
   "outputs": [],
   "source": [
    "#want to pass data  in class so use inbuilt () __in it__ also called constructor\n",
    "#in it - data pss kr ske jb v hum object create kre\n",
    "# SELF----jb hum obj ko class ke sath associate krte h to self ke sath krte h\n",
    "# self point our class with the help of obj\n"
   ]
  },
  {
   "cell_type": "code",
   "execution_count": 27,
   "id": "b4318f8a-c397-4fec-ae1b-aa2664ed6817",
   "metadata": {},
   "outputs": [],
   "source": [
    "class p1:\n",
    "    def __init__(self , phn, email , stuid): #These are parameters that will be used to initialize the object's attributes. \n",
    "        \n",
    "        self.phn1 = phn  #only this phn1 var is belong to class, and jo self hai wo bind  or point kar rha h iss var ko class se . self use to access class variable .\n",
    "        \n",
    "        #these are class var - self.email\n",
    "        # and class var is = def with email / self.email=email\n",
    "        self.email = email  #instance variable.\n",
    "        self.stuid = stuid\n",
    "\n",
    "        # class ke andar uske koi var ko access karna hai to use (self.) use kar ke karna hoga\n",
    "        \n",
    "    def return_details (self): # jo fun class andr create kr rhe ho uska pehla argu self hona chahiye also called refrence argu or pointer args\n",
    "        return self.phn1, self.email, self.stuid"
   ]
  },
  {
   "cell_type": "code",
   "execution_count": 29,
   "id": "8b9ded27-ec69-45d8-b78b-a70a6f1dbf52",
   "metadata": {},
   "outputs": [
    {
     "data": {
      "text/plain": [
       "(9431245654, 'sufeeya@gmail.com', 12)"
      ]
     },
     "execution_count": 29,
     "metadata": {},
     "output_type": "execute_result"
    }
   ],
   "source": [
    "sufeeya = p1(9431245654, \"sufeeya@gmail.com\", 12)\n",
    "sufeeya.return_details()"
   ]
  },
  {
   "cell_type": "code",
   "execution_count": 44,
   "id": "3de6a729-545c-4821-9e0e-52703ac4ace3",
   "metadata": {},
   "outputs": [
    {
     "data": {
      "text/plain": [
       "(123456, 'samre@gmail.com', 13)"
      ]
     },
     "execution_count": 44,
     "metadata": {},
     "output_type": "execute_result"
    }
   ],
   "source": [
    "samre = p1(123456, \"samre@gmail.com\", 13)\n",
    "samre.return_details()"
   ]
  },
  {
   "cell_type": "code",
   "execution_count": 45,
   "id": "3ea3f9f8-15eb-4dbc-be8d-73a171dbd8df",
   "metadata": {},
   "outputs": [
    {
     "data": {
      "text/plain": [
       "9431245654"
      ]
     },
     "execution_count": 45,
     "metadata": {},
     "output_type": "execute_result"
    }
   ],
   "source": [
    "sufeeya.phn1 # HERE call single or indiviual data  outside the class"
   ]
  },
  {
   "cell_type": "code",
   "execution_count": 58,
   "id": "63b78ced-a0e9-4de7-af6e-5d37c2700ce8",
   "metadata": {},
   "outputs": [],
   "source": [
    "class det:\n",
    "    def __init__(imfo, age, city , msg ):\n",
    "         imfo.age=age\n",
    "         imfo.city=city\n",
    "         imfo.msg=msg\n",
    "\n",
    "    def return_det(self):\n",
    "        return self.age, self.city , self.msg"
   ]
  },
  {
   "cell_type": "code",
   "execution_count": 59,
   "id": "0e9bbc62-6b09-48c2-a256-6a50feb4aa6a",
   "metadata": {},
   "outputs": [
    {
     "data": {
      "text/plain": [
       "(22, 'ndl', 'hello')"
      ]
     },
     "execution_count": 59,
     "metadata": {},
     "output_type": "execute_result"
    }
   ],
   "source": [
    "nikku=det(22,'ndl', 'hello')\n",
    "nikku.return_det()"
   ]
  },
  {
   "cell_type": "code",
   "execution_count": 62,
   "id": "eea6368e-28f5-4f26-82d9-f0bf5c4ef296",
   "metadata": {},
   "outputs": [
    {
     "name": "stdin",
     "output_type": "stream",
     "text": [
      "Enter your age:  12\n",
      "Enter your city:  ndl\n",
      "Enter your message:  new delhi citizen\n"
     ]
    },
    {
     "data": {
      "text/plain": [
       "'Age: 12, City: ndl, Message: new delhi citizen'"
      ]
     },
     "execution_count": 62,
     "metadata": {},
     "output_type": "execute_result"
    }
   ],
   "source": [
    "class Det:\n",
    "    def __init__(self, age, city, msg):\n",
    "        self.age = age\n",
    "        self.city = city\n",
    "        self.msg = msg\n",
    "\n",
    "    def return_det(self):\n",
    "        return f\"Age: {self.age}, City: {self.city}, Message: {self.msg}\"\n",
    "\n",
    "\n",
    "# Example usage\n",
    "age = int(input(\"Enter your age: \"))\n",
    "city = input(\"Enter your city: \")\n",
    "msg = input(\"Enter your message: \")\n",
    "\n",
    "person = Det(age, city, msg)\n",
    "person.return_det()\n"
   ]
  },
  {
   "cell_type": "code",
   "execution_count": 20,
   "id": "83724d26-e98a-4560-9989-05be75eb586a",
   "metadata": {},
   "outputs": [],
   "source": [
    "#SELF is not a reserve keyword it , we can use anything\n",
    "\n",
    "class p1:\n",
    "    def __init__(me , phn, email , stuid): \n",
    "        me.phn1 = phn \n",
    "        me.email = email\n",
    "        me.stuid = stuid\n",
    "        \n",
    "    def return_details (me):\n",
    "        return me.phn1, me.email, me.stuid"
   ]
  },
  {
   "cell_type": "code",
   "execution_count": 21,
   "id": "0f7bfc9b-a404-4724-a921-fce7721500b2",
   "metadata": {},
   "outputs": [
    {
     "data": {
      "text/plain": [
       "(123434554, 'nikku.gmail.com', 123)"
      ]
     },
     "execution_count": 21,
     "metadata": {},
     "output_type": "execute_result"
    }
   ],
   "source": [
    "nikku=p1(123434554, \"nikku.gmail.com\", 123)\n",
    "nikku.return_details()"
   ]
  },
  {
   "cell_type": "code",
   "execution_count": null,
   "id": "86cd10d2-da13-44cb-b037-f9694b36e64b",
   "metadata": {},
   "outputs": [],
   "source": []
  }
 ],
 "metadata": {
  "kernelspec": {
   "display_name": "Python 3 (ipykernel)",
   "language": "python",
   "name": "python3"
  },
  "language_info": {
   "codemirror_mode": {
    "name": "ipython",
    "version": 3
   },
   "file_extension": ".py",
   "mimetype": "text/x-python",
   "name": "python",
   "nbconvert_exporter": "python",
   "pygments_lexer": "ipython3",
   "version": "3.13.1"
  }
 },
 "nbformat": 4,
 "nbformat_minor": 5
}
