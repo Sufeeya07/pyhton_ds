{
 "cells": [
  {
   "cell_type": "code",
   "execution_count": null,
   "id": "5876cc3a-106f-4ce1-88cc-2fc0610cb4ed",
   "metadata": {},
   "outputs": [],
   "source": [
    "--DECORATOR--- use to decorate or modify ur function "
   ]
  },
  {
   "cell_type": "code",
   "execution_count": 1,
   "id": "cd53bd60-e85f-4acd-9ca2-db17e4bf882e",
   "metadata": {},
   "outputs": [],
   "source": [
    "def test():\n",
    "    print(\"this is my fun to test\")"
   ]
  },
  {
   "cell_type": "code",
   "execution_count": 1,
   "id": "7c9cbd0c-5f90-4d60-bc4e-7045e98805c5",
   "metadata": {},
   "outputs": [
    {
     "name": "stdout",
     "output_type": "stream",
     "text": [
      "this is start of my fun\n",
      "13\n",
      "this is the end of my fun\n"
     ]
    }
   ],
   "source": [
    "def dec(fun):      # this is my decorator fun\n",
    "    def inner_deco():\n",
    "        print(\"this is start of my fun\")\n",
    "        fun()\n",
    "        print(\"this is the end of my fun\")\n",
    "    return inner_deco\n",
    "\n",
    "@dec\n",
    "def tst1(): # ye tst1() iss fun() ke andra chle jayega\n",
    "    print(6+7)\n",
    "tst1()"
   ]
  },
  {
   "cell_type": "code",
   "execution_count": 3,
   "id": "2214146e-58ad-44e4-82bb-3d4a21b903ba",
   "metadata": {},
   "outputs": [],
   "source": [
    "import time\n",
    "\n",
    "def timer_test(func):\n",
    "    def timer_test_inner():\n",
    "        start = time.time()\n",
    "        func()\n",
    "        end = time.time()\n",
    "        print(end -start)\n",
    "    return timer_test_inner\n"
   ]
  },
  {
   "cell_type": "code",
   "execution_count": 4,
   "id": "0d609fe9-9762-403f-9351-c01648a84f42",
   "metadata": {},
   "outputs": [
    {
     "name": "stdout",
     "output_type": "stream",
     "text": [
      "5.3882598876953125e-05\n"
     ]
    }
   ],
   "source": [
    "@timer_test\n",
    "def test2():\n",
    "    for i in range(2222):\n",
    "        pass\n",
    "\n",
    "test2()"
   ]
  },
  {
   "cell_type": "code",
   "execution_count": null,
   "id": "993d9db6-42a1-43e3-bcea-fa7eb6fa0d91",
   "metadata": {},
   "outputs": [],
   "source": []
  }
 ],
 "metadata": {
  "kernelspec": {
   "display_name": "Python 3 (ipykernel)",
   "language": "python",
   "name": "python3"
  },
  "language_info": {
   "codemirror_mode": {
    "name": "ipython",
    "version": 3
   },
   "file_extension": ".py",
   "mimetype": "text/x-python",
   "name": "python",
   "nbconvert_exporter": "python",
   "pygments_lexer": "ipython3",
   "version": "3.10.8"
  }
 },
 "nbformat": 4,
 "nbformat_minor": 5
}
