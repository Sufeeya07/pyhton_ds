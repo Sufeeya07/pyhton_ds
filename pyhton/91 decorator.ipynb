{
 "cells": [
  {
   "cell_type": "code",
   "execution_count": null,
   "id": "5876cc3a-106f-4ce1-88cc-2fc0610cb4ed",
   "metadata": {},
   "outputs": [],
   "source": [
    "--DECORATOR--- use to decorate or modify ur function "
   ]
  },
  {
   "cell_type": "code",
   "execution_count": 1,
   "id": "cd53bd60-e85f-4acd-9ca2-db17e4bf882e",
   "metadata": {},
   "outputs": [],
   "source": [
    "def test():\n",
    "    print(\"this is my fun to test\")"
   ]
  },
  {
   "cell_type": "code",
   "execution_count": 7,
   "id": "7c9cbd0c-5f90-4d60-bc4e-7045e98805c5",
   "metadata": {},
   "outputs": [
    {
     "name": "stdout",
     "output_type": "stream",
     "text": [
      "this is start of my fun\n",
      "13\n",
      "this is the end of my fun\n"
     ]
    }
   ],
   "source": [
    "def dec(fun):      # this is my decorator fun\n",
    "    def inner_deco():\n",
    "        print(\"this is start of my fun\")\n",
    "        fun()\n",
    "        print(\"this is the end of my fun\")\n",
    "    return inner_deco\n",
    "\n",
    "@dec\n",
    "def tst1(): # ye tst1() iss fun() ke andra chle jayega\n",
    "    print(6+7)\n",
    "tst1()"
   ]
  },
  {
   "cell_type": "code",
   "execution_count": 9,
   "id": "248794d7-eb6d-455d-bf4d-87fb5db79053",
   "metadata": {},
   "outputs": [
    {
     "name": "stdout",
     "output_type": "stream",
     "text": [
      "Hello , welcome!\n",
      "Have a nice day!\n"
     ]
    }
   ],
   "source": [
    "def deco(func):\n",
    "    def wrapper():\n",
    "        func()\n",
    "        print('Have a nice day!')\n",
    "    return wrapper\n",
    "\n",
    "@deco\n",
    "def greet():\n",
    "    print('Hello , welcome!')\n",
    "greet()"
   ]
  },
  {
   "cell_type": "code",
   "execution_count": 10,
   "id": "bf2d9306-4b29-4af3-af0e-0b0ba2bdb6ed",
   "metadata": {},
   "outputs": [
    {
     "name": "stdout",
     "output_type": "stream",
     "text": [
      "Good morning\n",
      "Have a nice day!\n"
     ]
    }
   ],
   "source": [
    "def msg():\n",
    "    print('Good morning')\n",
    "\n",
    "msg= deco(msg) # apply decorator\n",
    "msg()"
   ]
  },
  {
   "cell_type": "code",
   "execution_count": 11,
   "id": "2214146e-58ad-44e4-82bb-3d4a21b903ba",
   "metadata": {},
   "outputs": [],
   "source": [
    "import time\n",
    "\n",
    "def timer_test(func):\n",
    "    def timer_test_inner():\n",
    "        print('how may time is taken to excute this funtion')\n",
    "        start = time.time()\n",
    "        func()\n",
    "        end = time.time()\n",
    "        print(end -start)\n",
    "    return timer_test_inner\n"
   ]
  },
  {
   "cell_type": "code",
   "execution_count": 13,
   "id": "7ede0f6b-fd31-4a70-9fb4-9b0132455de3",
   "metadata": {},
   "outputs": [
    {
     "name": "stdout",
     "output_type": "stream",
     "text": [
      "how may time is taken to excute this funtion\n",
      "662830712518245633\n",
      "1.811981201171875e-05\n"
     ]
    }
   ],
   "source": [
    "@timer_test\n",
    "def a():\n",
    "    print(33487673945+7658465698*86548756)\n",
    "a()"
   ]
  },
  {
   "cell_type": "code",
   "execution_count": 16,
   "id": "0d609fe9-9762-403f-9351-c01648a84f42",
   "metadata": {},
   "outputs": [
    {
     "name": "stdout",
     "output_type": "stream",
     "text": [
      "how may time is taken to excute this funtion\n",
      "6.961822509765625e-05\n"
     ]
    }
   ],
   "source": [
    "@timer_test\n",
    "def test2():\n",
    "    for i in range(2222):\n",
    "        pass\n",
    "\n",
    "test2()"
   ]
  },
  {
   "cell_type": "code",
   "execution_count": null,
   "id": "993d9db6-42a1-43e3-bcea-fa7eb6fa0d91",
   "metadata": {},
   "outputs": [],
   "source": []
  },
  {
   "cell_type": "code",
   "execution_count": null,
   "id": "b12d5fa0-dc83-4d1e-b7bc-3a6854813a41",
   "metadata": {},
   "outputs": [],
   "source": []
  }
 ],
 "metadata": {
  "kernelspec": {
   "display_name": "Python 3 (ipykernel)",
   "language": "python",
   "name": "python3"
  },
  "language_info": {
   "codemirror_mode": {
    "name": "ipython",
    "version": 3
   },
   "file_extension": ".py",
   "mimetype": "text/x-python",
   "name": "python",
   "nbconvert_exporter": "python",
   "pygments_lexer": "ipython3",
   "version": "3.13.1"
  }
 },
 "nbformat": 4,
 "nbformat_minor": 5
}
