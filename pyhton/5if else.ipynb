{
 "cells": [
  {
   "cell_type": "code",
   "execution_count": 3,
   "id": "2a8323eb-da49-4c82-8089-1acfbbc69513",
   "metadata": {},
   "outputs": [
    {
     "name": "stdin",
     "output_type": "stream",
     "text": [
      "enter your marks:- 20\n"
     ]
    },
    {
     "name": "stdout",
     "output_type": "stream",
     "text": [
      "you will part of A4 batch\n"
     ]
    }
   ],
   "source": [
    "marks=float(input(\"enter your marks:-\"))\n",
    "if marks>=80: #if a reserved keyword\n",
    "    print(\"you will part of A1 batch\")\n",
    "    \n",
    "elif marks>=60 and marks<80 :\n",
    "    print('you will part of A2 batch')\n",
    "elif marks>=40 and marks<60 :\n",
    "    print(\"you will aprt of A3 batch\")\n",
    "else: # by default condition\n",
    "    print(\"you will part of A4 batch\")"
   ]
  },
  {
   "cell_type": "code",
   "execution_count": 3,
   "id": "323c4c1a-30b9-4929-a39e-cee5325f73ee",
   "metadata": {},
   "outputs": [
    {
     "name": "stdin",
     "output_type": "stream",
     "text": [
      "enter your price- 999\n"
     ]
    },
    {
     "name": "stdout",
     "output_type": "stream",
     "text": [
      "ill buy\n",
      "this is in my budget\n"
     ]
    }
   ],
   "source": [
    "price=int(input(\"enter your price-\"))# nested if else condtition\n",
    "if price>=1000 :\n",
    "          print(\"this is too much\")\n",
    "          print(\"ill not purchase\")\n",
    "else:\n",
    "    print('ill buy')\n",
    "    print('this is in my budget')"
   ]
  },
  {
   "cell_type": "code",
   "execution_count": 26,
   "id": "6b167c07-a6f2-4c73-b053-8b69000f0810",
   "metadata": {},
   "outputs": [
    {
     "name": "stdin",
     "output_type": "stream",
     "text": [
      "enter price 1900\n"
     ]
    },
    {
     "name": "stdout",
     "output_type": "stream",
     "text": [
      "not buy\n",
      "its ok\n"
     ]
    }
   ],
   "source": [
    "p=int(input('enter price')) #nested if else\n",
    "if p>=1000:\n",
    "    print('not buy')\n",
    "    if p >5000:\n",
    "        print('this is too much')\n",
    "    elif p<2000:\n",
    "        print(\"its ok\")"
   ]
  },
  {
   "cell_type": "code",
   "execution_count": 12,
   "id": "65269555-585d-43c7-82bd-2a7e41374e43",
   "metadata": {},
   "outputs": [
    {
     "name": "stdout",
     "output_type": "stream",
     "text": [
      "[1, 2, 3] is a <class 'list'>\n",
      "(1, 2, 3) is a tuple\n"
     ]
    }
   ],
   "source": [
    "dl=[[1,2,3] , (1,2,3) ,{1,2,3} ,{'a':1,\"b\":2,\"c\":3} ,'hello']\n",
    "\n",
    "for i in dl:\n",
    "    if type(i)==list:\n",
    "        print(f'{i} is a {type(i)}')\n",
    "    if type(i)==tuple:\n",
    "        print(f\"{i} is a tuple\")"
   ]
  },
  {
   "cell_type": "code",
   "execution_count": 20,
   "id": "0a57bc2b-0c0e-4f3f-bd8a-d70f68082dfe",
   "metadata": {},
   "outputs": [
    {
     "name": "stdin",
     "output_type": "stream",
     "text": [
      "Enter the weight of the package in kg : 7\n",
      "Enter the destination (local , natioanl , internationl) ki\n"
     ]
    },
    {
     "name": "stdout",
     "output_type": "stream",
     "text": [
      "ki: Invalid destination, Please enter the correct DESTINATION.\n"
     ]
    }
   ],
   "source": [
    "weight = float(input('Enter the weight of the package in kg :'))\n",
    "destination = input(\"Enter the destination (local , natioanl , internationl)\")\n",
    "\n",
    "if destination == 'local':\n",
    "    if weight <=5:\n",
    "        cost=10\n",
    "    elif weight <=20:\n",
    "        cost=20\n",
    "    else :\n",
    "        cost=30\n",
    "elif destination =='national':\n",
    "    if weight <=5:\n",
    "        cost=15\n",
    "    elif weight<=20:\n",
    "        cost=30\n",
    "    else:\n",
    "        cost= 50\n",
    "elif destination =='international':\n",
    "    if weight <=5:\n",
    "        cost=30\n",
    "    elif weight<=20:\n",
    "        cost=60\n",
    "    else:\n",
    "        cost=100\n",
    "else:\n",
    "    cost=None\n",
    "\n",
    "if cost is not None:\n",
    "    print(f\"The shipping cost is : ${cost}\")\n",
    "else:\n",
    "    print(f\"{destination}: Invalid destination, Please enter the correct DESTINATION.\")"
   ]
  },
  {
   "cell_type": "code",
   "execution_count": null,
   "id": "f715fc3f-faec-428d-9e01-1bbaf74276cd",
   "metadata": {},
   "outputs": [],
   "source": []
  }
 ],
 "metadata": {
  "kernelspec": {
   "display_name": "Python 3 (ipykernel)",
   "language": "python",
   "name": "python3"
  },
  "language_info": {
   "codemirror_mode": {
    "name": "ipython",
    "version": 3
   },
   "file_extension": ".py",
   "mimetype": "text/x-python",
   "name": "python",
   "nbconvert_exporter": "python",
   "pygments_lexer": "ipython3",
   "version": "3.13.1"
  }
 },
 "nbformat": 4,
 "nbformat_minor": 5
}
