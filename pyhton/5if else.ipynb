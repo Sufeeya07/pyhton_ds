{
 "cells": [
  {
   "cell_type": "code",
   "execution_count": null,
   "id": "2a8323eb-da49-4c82-8089-1acfbbc69513",
   "metadata": {},
   "outputs": [],
   "source": [
    "marks=float(input(\"enter your marks:-\"))\n",
    "if marks>=80: #if a reserved keyword\n",
    "    print(\"u wil part of A1 batch\")\n",
    "elif marks>=60 and marks<80 :\n",
    "    print('u will part of A2 batch')\n",
    "elif marks>=40 and marks<60 :\n",
    "    print(\"u will aprt of A3 batch\")\n",
    "else: # by default condition\n",
    "    print(\"u will part of A4 batch\")"
   ]
  },
  {
   "cell_type": "code",
   "execution_count": 3,
   "id": "323c4c1a-30b9-4929-a39e-cee5325f73ee",
   "metadata": {},
   "outputs": [
    {
     "name": "stdin",
     "output_type": "stream",
     "text": [
      "enter your price- 999\n"
     ]
    },
    {
     "name": "stdout",
     "output_type": "stream",
     "text": [
      "ill buy\n",
      "this is in my budget\n"
     ]
    }
   ],
   "source": [
    "price=int(input(\"enter your price-\"))# nested if else condtition\n",
    "if price>=1000 :\n",
    "          print(\"this is too much\")\n",
    "          print(\"ill not purchase\")\n",
    "else:\n",
    "    print('ill buy')\n",
    "    print('this is in my budget')"
   ]
  },
  {
   "cell_type": "code",
   "execution_count": 2,
   "id": "6b167c07-a6f2-4c73-b053-8b69000f0810",
   "metadata": {},
   "outputs": [
    {
     "name": "stdin",
     "output_type": "stream",
     "text": [
      "enter price 6666\n"
     ]
    },
    {
     "name": "stdout",
     "output_type": "stream",
     "text": [
      "not buy\n",
      "this is too much\n"
     ]
    }
   ],
   "source": [
    "p=int(input('enter price')) #nested if else\n",
    "if p>=1000:\n",
    "    print('not buy')\n",
    "    if p >5000:\n",
    "        print('this is too much')\n",
    "    elif p<2000:\n",
    "        print(\"its ok\")"
   ]
  },
  {
   "cell_type": "code",
   "execution_count": null,
   "id": "65269555-585d-43c7-82bd-2a7e41374e43",
   "metadata": {},
   "outputs": [],
   "source": []
  }
 ],
 "metadata": {
  "kernelspec": {
   "display_name": "Python 3 (ipykernel)",
   "language": "python",
   "name": "python3"
  },
  "language_info": {
   "codemirror_mode": {
    "name": "ipython",
    "version": 3
   },
   "file_extension": ".py",
   "mimetype": "text/x-python",
   "name": "python",
   "nbconvert_exporter": "python",
   "pygments_lexer": "ipython3",
   "version": "3.10.8"
  }
 },
 "nbformat": 4,
 "nbformat_minor": 5
}
