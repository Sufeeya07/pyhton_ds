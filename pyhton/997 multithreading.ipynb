{
 "cells": [
  {
   "cell_type": "code",
   "execution_count": null,
   "id": "f8fc1afa-4217-40ab-abb9-e1aba989beb1",
   "metadata": {},
   "outputs": [],
   "source": [
    "Multithreading involves running multiple threads (smaller units of a program) concurrently.\n",
    "while loops are used for repetitive execution of a block of code."
   ]
  },
  {
   "cell_type": "code",
   "execution_count": 1,
   "id": "b9cefc1d-c0d7-45c6-986b-0986322f9fc3",
   "metadata": {},
   "outputs": [],
   "source": [
    "import threading"
   ]
  },
  {
   "cell_type": "code",
   "execution_count": 3,
   "id": "0c335dec-fbec-4d91-a7ca-470614fb727e",
   "metadata": {},
   "outputs": [],
   "source": [
    "def test (id):\n",
    "    print(\"prog start %d\", id)"
   ]
  },
  {
   "cell_type": "code",
   "execution_count": 9,
   "id": "fd5ac444-9086-48a9-83ec-080286e63444",
   "metadata": {},
   "outputs": [],
   "source": [
    "thread=[threading.Thread(target= test, args=(i,))for i in range (10)]"
   ]
  },
  {
   "cell_type": "code",
   "execution_count": 10,
   "id": "7ccba1e7-2c3b-4824-a0b3-f189a54905ae",
   "metadata": {},
   "outputs": [
    {
     "name": "stdout",
     "output_type": "stream",
     "text": [
      "prog start %d 0\n",
      "prog start %d 1\n",
      "prog start %d 2\n",
      "prog start %d 3\n",
      "prog start %d 4\n",
      "prog start %d 5\n",
      "prog start %d 6\n",
      "prog start %d 7\n",
      "prog start %d 8\n",
      "prog start %d 9\n"
     ]
    }
   ],
   "source": [
    "for t in thread:\n",
    "    t.start()"
   ]
  },
  {
   "cell_type": "code",
   "execution_count": 53,
   "id": "0330c31f-eb21-4a2e-adf8-5d2e4bc2a5e0",
   "metadata": {},
   "outputs": [
    {
     "data": {
      "text/plain": [
       "[<Thread(Thread-41 (file_download), stopped 139899080529472)>,\n",
       " <Thread(Thread-42 (file_download), stopped 139899684509248)>]"
      ]
     },
     "execution_count": 53,
     "metadata": {},
     "output_type": "execute_result"
    }
   ],
   "source": [
    "thread"
   ]
  },
  {
   "cell_type": "code",
   "execution_count": 12,
   "id": "bb4c4a81-212c-41c3-83e1-3aa2dd798bd2",
   "metadata": {},
   "outputs": [],
   "source": [
    "#Python's standard library that provides functions for making HTTP requests,\n",
    "# fetch file data  from internet/ urls, by sending various types of requests (e.g., GET, POST)\n",
    "#and store that file in local\n",
    "import threading\n",
    "import urllib.request \n",
    "\n",
    "def file_download(url, filename):\n",
    "    urllib.request.urlretrieve(url, filename) # here we use thread , ek programm se multiple file fetch krenge\n",
    "    "
   ]
  },
  {
   "cell_type": "code",
   "execution_count": 33,
   "id": "0aa909aa-07d1-434c-9f33-710d7d9e9147",
   "metadata": {},
   "outputs": [],
   "source": [
    "url_list= [ 'http://python.org/',\n",
    "          'https://docs.python.org/3/library/shutil.html#shutil.copyfileobj']"
   ]
  },
  {
   "cell_type": "code",
   "execution_count": 37,
   "id": "522a7a91-74ce-4caa-99cc-51f3b2a106cb",
   "metadata": {},
   "outputs": [],
   "source": [
    "filename_list=['url1.txt',  'url2.txt']"
   ]
  },
  {
   "cell_type": "code",
   "execution_count": 38,
   "id": "c8448d61-8ee9-4d29-8483-a71a9375883d",
   "metadata": {},
   "outputs": [],
   "source": [
    "thread=[threading.Thread(target= file_download, args= (url_list[i], filename_list[i]))  for i in range (len(url_list))]\n"
   ]
  },
  {
   "cell_type": "code",
   "execution_count": 39,
   "id": "26df2913-b809-4579-87b9-8dcc4b61964c",
   "metadata": {},
   "outputs": [],
   "source": [
    "for a in thread:\n",
    "    a.start()"
   ]
  },
  {
   "cell_type": "code",
   "execution_count": 32,
   "id": "508942d0-6f0a-4d34-ae52-aae27b65a3a0",
   "metadata": {},
   "outputs": [],
   "source": [
    "#wnat separately\n",
    "file_download('https://docs.python.org/3/library/shutil.html#shutil.copyfileobj' , 'url.txt')"
   ]
  },
  {
   "cell_type": "code",
   "execution_count": 40,
   "id": "bcc39cc9-1e86-4982-aebc-962a3d2bb08a",
   "metadata": {},
   "outputs": [],
   "source": [
    "import time"
   ]
  },
  {
   "cell_type": "code",
   "execution_count": 57,
   "id": "c92f93bb-7c67-4c67-aaed-5481947d4323",
   "metadata": {},
   "outputs": [],
   "source": [
    "def t1(id):\n",
    "    for i in range(10):\n",
    "        print('test1 %d prinding %d %s' %(id,i, time.ctime()))\n",
    "        time.sleep(2)"
   ]
  },
  {
   "cell_type": "code",
   "execution_count": 58,
   "id": "6dc33d41-add5-42e9-b0d5-f4ebf73ede9d",
   "metadata": {},
   "outputs": [
    {
     "name": "stdout",
     "output_type": "stream",
     "text": [
      "test1 2 prinding 0 Mon Mar  4 17:09:21 2024\n",
      "test1 2 prinding 1 Mon Mar  4 17:09:23 2024\n",
      "test1 2 prinding 2 Mon Mar  4 17:09:25 2024\n",
      "test1 2 prinding 3 Mon Mar  4 17:09:27 2024\n",
      "test1 2 prinding 4 Mon Mar  4 17:09:29 2024\n",
      "test1 2 prinding 5 Mon Mar  4 17:09:31 2024\n",
      "test1 2 prinding 6 Mon Mar  4 17:09:33 2024\n",
      "test1 2 prinding 7 Mon Mar  4 17:09:35 2024\n",
      "test1 2 prinding 8 Mon Mar  4 17:09:37 2024\n",
      "test1 2 prinding 9 Mon Mar  4 17:09:39 2024\n"
     ]
    }
   ],
   "source": [
    "t1(2)"
   ]
  },
  {
   "cell_type": "code",
   "execution_count": 59,
   "id": "f283dc0e-1511-4b2a-9af9-f73198aecb44",
   "metadata": {},
   "outputs": [],
   "source": [
    "thre=[ threading.Thread(target=t1, args=(i, )) for i in range(3)]"
   ]
  },
  {
   "cell_type": "code",
   "execution_count": 60,
   "id": "b26a99b7-dd45-493a-9dc3-273aa01e04f1",
   "metadata": {},
   "outputs": [
    {
     "name": "stdout",
     "output_type": "stream",
     "text": [
      "test1 0 prinding 0 Mon Mar  4 17:10:08 2024\n",
      "test1 1 prinding 0 Mon Mar  4 17:10:08 2024\n",
      "test1 2 prinding 0 Mon Mar  4 17:10:08 2024\n",
      "test1 0 prinding 1 Mon Mar  4 17:10:10 2024\n",
      "test1 1 prinding 1 Mon Mar  4 17:10:10 2024\n",
      "test1 2 prinding 1 Mon Mar  4 17:10:10 2024\n",
      "test1 0 prinding 2 Mon Mar  4 17:10:12 2024\n",
      "test1 1 prinding 2 Mon Mar  4 17:10:12 2024\n",
      "test1 2 prinding 2 Mon Mar  4 17:10:12 2024\n",
      "test1 0 prinding 3 Mon Mar  4 17:10:14 2024\n",
      "test1 1 prinding 3 Mon Mar  4 17:10:14 2024\n",
      "test1 2 prinding 3 Mon Mar  4 17:10:14 2024\n",
      "test1 0 prinding 4 Mon Mar  4 17:10:16 2024test1 2 prinding 4 Mon Mar  4 17:10:16 2024\n",
      "\n",
      "test1 1 prinding 4 Mon Mar  4 17:10:16 2024\n",
      "test1 0 prinding 5 Mon Mar  4 17:10:18 2024\n",
      "test1 1 prinding 5 Mon Mar  4 17:10:18 2024\n",
      "test1 2 prinding 5 Mon Mar  4 17:10:18 2024\n",
      "test1 0 prinding 6 Mon Mar  4 17:10:20 2024test1 1 prinding 6 Mon Mar  4 17:10:20 2024\n",
      "\n",
      "test1 2 prinding 6 Mon Mar  4 17:10:20 2024\n",
      "test1 1 prinding 7 Mon Mar  4 17:10:22 2024\n",
      "test1 0 prinding 7 Mon Mar  4 17:10:22 2024\n",
      "test1 2 prinding 7 Mon Mar  4 17:10:22 2024\n",
      "test1 1 prinding 8 Mon Mar  4 17:10:24 2024test1 2 prinding 8 Mon Mar  4 17:10:24 2024\n",
      "\n",
      "test1 0 prinding 8 Mon Mar  4 17:10:24 2024\n",
      "test1 2 prinding 9 Mon Mar  4 17:10:26 2024\n",
      "test1 0 prinding 9 Mon Mar  4 17:10:26 2024\n",
      "test1 1 prinding 9 Mon Mar  4 17:10:26 2024\n"
     ]
    }
   ],
   "source": [
    "for t in thre:\n",
    "    t.start()"
   ]
  },
  {
   "cell_type": "code",
   "execution_count": null,
   "id": "c543d108-1c61-4aaf-a6ff-a510ec350201",
   "metadata": {},
   "outputs": [],
   "source": []
  }
 ],
 "metadata": {
  "kernelspec": {
   "display_name": "Python 3 (ipykernel)",
   "language": "python",
   "name": "python3"
  },
  "language_info": {
   "codemirror_mode": {
    "name": "ipython",
    "version": 3
   },
   "file_extension": ".py",
   "mimetype": "text/x-python",
   "name": "python",
   "nbconvert_exporter": "python",
   "pygments_lexer": "ipython3",
   "version": "3.10.8"
  }
 },
 "nbformat": 4,
 "nbformat_minor": 5
}
