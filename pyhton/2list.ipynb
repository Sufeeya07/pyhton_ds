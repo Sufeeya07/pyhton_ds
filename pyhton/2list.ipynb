{
 "cells": [
  {
   "cell_type": "code",
   "execution_count": null,
   "id": "4a37fec1-372a-423d-b293-a51da684e1f1",
   "metadata": {},
   "outputs": [],
   "source": [
    "list is collection , where we can store list, tupe set into list\n",
    "list is mutable and string is imutable\n",
    "squr[]\n",
    "allow duplicate"
   ]
  },
  {
   "cell_type": "code",
   "execution_count": 23,
   "id": "dcc63062-4943-4bf9-b621-5b6562aeabac",
   "metadata": {},
   "outputs": [
    {
     "data": {
      "text/plain": [
       "'abcd'"
      ]
     },
     "execution_count": 23,
     "metadata": {},
     "output_type": "execute_result"
    }
   ],
   "source": [
    "l=[1,2,3,'abcd', 5+5j]\n",
    "l[3]"
   ]
  },
  {
   "cell_type": "code",
   "execution_count": 43,
   "id": "711ec180-d107-423f-931e-cc157ae713db",
   "metadata": {},
   "outputs": [
    {
     "data": {
      "text/plain": [
       "4"
      ]
     },
     "execution_count": 43,
     "metadata": {},
     "output_type": "execute_result"
    }
   ],
   "source": [
    "len(l)"
   ]
  },
  {
   "cell_type": "code",
   "execution_count": 6,
   "id": "a347aadf-939b-4ed4-a6d1-93d38dcb87aa",
   "metadata": {},
   "outputs": [
    {
     "data": {
      "text/plain": [
       "complex"
      ]
     },
     "execution_count": 6,
     "metadata": {},
     "output_type": "execute_result"
    }
   ],
   "source": [
    "type(l[4])"
   ]
  },
  {
   "cell_type": "code",
   "execution_count": 24,
   "id": "f0aa091a-9301-46db-8ed0-21385714f654",
   "metadata": {},
   "outputs": [
    {
     "name": "stdout",
     "output_type": "stream",
     "text": [
      "[8, 'sufee', 5.958]\n"
     ]
    }
   ],
   "source": [
    "l=[5,8, \"sufee\", 5.958]\n",
    "print(l[1:4])# 2:-4"
   ]
  },
  {
   "cell_type": "code",
   "execution_count": 8,
   "id": "2e0b2c28-6374-4ea8-a2f8-027b647c3efd",
   "metadata": {},
   "outputs": [
    {
     "data": {
      "text/plain": [
       "[5, 8, 'sufee', 5.958]"
      ]
     },
     "execution_count": 8,
     "metadata": {},
     "output_type": "execute_result"
    }
   ],
   "source": [
    "l"
   ]
  },
  {
   "cell_type": "code",
   "execution_count": 9,
   "id": "c350b2bb-5645-4b1d-8508-4f10e8f73087",
   "metadata": {},
   "outputs": [
    {
     "data": {
      "text/plain": [
       "'sufee'"
      ]
     },
     "execution_count": 9,
     "metadata": {},
     "output_type": "execute_result"
    }
   ],
   "source": [
    "l[-2]"
   ]
  },
  {
   "cell_type": "code",
   "execution_count": 10,
   "id": "77e6a19b-ea62-472c-b6a1-ac07a6d4dcb7",
   "metadata": {},
   "outputs": [
    {
     "data": {
      "text/plain": [
       "[5.958, 'sufee', 8, 5]"
      ]
     },
     "execution_count": 10,
     "metadata": {},
     "output_type": "execute_result"
    }
   ],
   "source": [
    "#reverse temporary.. actual list  is not reverse only out come show ... if we want to permannet reverse reassigned l=l[::-1] we can do this \n",
    "l[::-1]"
   ]
  },
  {
   "cell_type": "code",
   "execution_count": 5,
   "id": "9febd5cb-9d27-4006-a3e7-df6ac816b82a",
   "metadata": {},
   "outputs": [
    {
     "data": {
      "text/plain": [
       "[5, 'sufee']"
      ]
     },
     "execution_count": 5,
     "metadata": {},
     "output_type": "execute_result"
    }
   ],
   "source": [
    "l[0::2]#2 is for jump to number 1 will be skip we also write ::2 this"
   ]
  },
  {
   "cell_type": "code",
   "execution_count": 12,
   "id": "5bb8b149-d5cf-4d6e-94fc-8c751b7cc9eb",
   "metadata": {},
   "outputs": [
    {
     "data": {
      "text/plain": [
       "[5, 8, 'sufee', 5.958]"
      ]
     },
     "execution_count": 12,
     "metadata": {},
     "output_type": "execute_result"
    }
   ],
   "source": [
    "l"
   ]
  },
  {
   "cell_type": "code",
   "execution_count": 1,
   "id": "bbc3fa01-2fdc-4c00-afad-90bde6672054",
   "metadata": {},
   "outputs": [
    {
     "data": {
      "text/plain": [
       "'cd'"
      ]
     },
     "execution_count": 1,
     "metadata": {},
     "output_type": "execute_result"
    }
   ],
   "source": [
    "li=[2,663,6,'abcd','efgh']\n",
    "li[3][2:4] # its slicing operation"
   ]
  },
  {
   "cell_type": "code",
   "execution_count": 32,
   "id": "6bd5fe2f-4e71-45e6-8eba-dcef3540b2b4",
   "metadata": {},
   "outputs": [
    {
     "ename": "TypeError",
     "evalue": "'int' object is not subscriptable",
     "output_type": "error",
     "traceback": [
      "\u001b[1;31m---------------------------------------------------------------------------\u001b[0m",
      "\u001b[1;31mTypeError\u001b[0m                                 Traceback (most recent call last)",
      "Cell \u001b[1;32mIn[32], line 1\u001b[0m\n\u001b[1;32m----> 1\u001b[0m \u001b[43mli\u001b[49m\u001b[43m[\u001b[49m\u001b[38;5;241;43m1\u001b[39;49m\u001b[43m]\u001b[49m\u001b[43m[\u001b[49m\u001b[38;5;241;43m0\u001b[39;49m\u001b[43m:\u001b[49m\u001b[38;5;241;43m2\u001b[39;49m\u001b[43m]\u001b[49m\n",
      "\u001b[1;31mTypeError\u001b[0m: 'int' object is not subscriptable"
     ]
    }
   ],
   "source": [
    "li[1][0:2]"
   ]
  },
  {
   "cell_type": "code",
   "execution_count": 2,
   "id": "2f0271de-1843-4536-acad-ee7a59393bc7",
   "metadata": {},
   "outputs": [
    {
     "data": {
      "text/plain": [
       "[2, 663, 6, 'abcd', 'efgh']"
      ]
     },
     "execution_count": 2,
     "metadata": {},
     "output_type": "execute_result"
    }
   ],
   "source": [
    "li"
   ]
  },
  {
   "cell_type": "code",
   "execution_count": 29,
   "id": "201c4636-bbeb-46ad-9e22-cb234e2bc46c",
   "metadata": {},
   "outputs": [
    {
     "data": {
      "text/plain": [
       "'6'"
      ]
     },
     "execution_count": 29,
     "metadata": {},
     "output_type": "execute_result"
    }
   ],
   "source": [
    "#typecasting\n",
    "str(li[2])"
   ]
  },
  {
   "cell_type": "code",
   "execution_count": 30,
   "id": "254c0dae-e811-4421-a0f3-52c86677a00b",
   "metadata": {},
   "outputs": [
    {
     "ename": "TypeError",
     "evalue": "'str' object is not callable",
     "output_type": "error",
     "traceback": [
      "\u001b[1;31m---------------------------------------------------------------------------\u001b[0m",
      "\u001b[1;31mTypeError\u001b[0m                                 Traceback (most recent call last)",
      "Cell \u001b[1;32mIn[30], line 1\u001b[0m\n\u001b[1;32m----> 1\u001b[0m \u001b[38;5;28;43mint\u001b[39;49m\u001b[43m(\u001b[49m\u001b[43mli\u001b[49m\u001b[43m[\u001b[49m\u001b[38;5;241;43m4\u001b[39;49m\u001b[43m]\u001b[49m\u001b[43m)\u001b[49m\n",
      "\u001b[1;31mTypeError\u001b[0m: 'str' object is not callable"
     ]
    }
   ],
   "source": [
    "# cant do this str into int , its give an error\n",
    "int(li[4])"
   ]
  },
  {
   "cell_type": "markdown",
   "id": "a97378e2-d0ff-460e-bbf5-a42e7ddc7d8f",
   "metadata": {},
   "source": [
    "---------- append ----------"
   ]
  },
  {
   "cell_type": "code",
   "execution_count": 36,
   "id": "755f65e7-c657-4063-b413-705fbf3a0989",
   "metadata": {},
   "outputs": [
    {
     "data": {
      "text/plain": [
       "['parween', 'sufeeya']"
      ]
     },
     "execution_count": 36,
     "metadata": {},
     "output_type": "execute_result"
    }
   ],
   "source": [
    "list=['sufeeya']\n",
    "list\n",
    "\n",
    "add=['parween']\n",
    "add+list"
   ]
  },
  {
   "cell_type": "code",
   "execution_count": 37,
   "id": "98a3bda9-2ac5-492f-bf0f-789fd5513be6",
   "metadata": {},
   "outputs": [
    {
     "name": "stdout",
     "output_type": "stream",
     "text": [
      "['sufeeya', 'parween']\n"
     ]
    }
   ],
   "source": [
    "print(list+add)"
   ]
  },
  {
   "cell_type": "code",
   "execution_count": 40,
   "id": "88e3890f-e947-4464-b919-c3b9323cdb5b",
   "metadata": {},
   "outputs": [
    {
     "data": {
      "text/plain": [
       "[5, 8, 'sufee', 5.958]"
      ]
     },
     "execution_count": 40,
     "metadata": {},
     "output_type": "execute_result"
    }
   ],
   "source": [
    "l"
   ]
  },
  {
   "cell_type": "code",
   "execution_count": 41,
   "id": "ed37d049-092a-4587-97c7-65d131d34bd5",
   "metadata": {},
   "outputs": [
    {
     "data": {
      "text/plain": [
       "[0, 9, 8, 5, 8, 'sufee', 5.958]"
      ]
     },
     "execution_count": 41,
     "metadata": {},
     "output_type": "execute_result"
    }
   ],
   "source": [
    "a=[0,9,8]\n",
    "a+l #append or concatinate both list"
   ]
  },
  {
   "cell_type": "code",
   "execution_count": 42,
   "id": "f6634b03-eab8-4656-8cba-54ec85d370e1",
   "metadata": {},
   "outputs": [
    {
     "name": "stdout",
     "output_type": "stream",
     "text": [
      "[0, 9, 8]\n"
     ]
    },
    {
     "data": {
      "text/plain": [
       "[0, 9, 8, 0, 9, 8, 0, 9, 8]"
      ]
     },
     "execution_count": 42,
     "metadata": {},
     "output_type": "execute_result"
    }
   ],
   "source": [
    "print(a)\n",
    "a*3 #print repeat / same element it will work"
   ]
  },
  {
   "cell_type": "code",
   "execution_count": 6,
   "id": "b647ebd9-dc0e-4400-a429-8b3c02930c13",
   "metadata": {},
   "outputs": [
    {
     "name": "stdin",
     "output_type": "stream",
     "text": [
      "Write your name:  s\n",
      "Write something you want to add with the name:  d\n"
     ]
    },
    {
     "name": "stdout",
     "output_type": "stream",
     "text": [
      "s, d\n"
     ]
    }
   ],
   "source": [
    "name = input(\"Write your name: \") \n",
    "app = input(\"Write something you want to add with the name: \")\n",
    "\n",
    "# Convert the inputs into a list\n",
    "name_list = name.split()  # Split the name into a list of words\n",
    "name_list.append(app)  # Append the additional text to the list\n",
    "\n",
    "# Print the list as a string\n",
    "#\" \".join(): Combines the list elements back into a single string, separated by spaces.\n",
    "print(\",\" \" \".join(name_list))"
   ]
  },
  {
   "cell_type": "code",
   "execution_count": 16,
   "id": "d66056f2-c2cc-47f7-9e1c-86516d95cbf9",
   "metadata": {},
   "outputs": [
    {
     "name": "stdout",
     "output_type": "stream",
     "text": [
      "[2, 3, 4, 5, 'sugg', 'abgy']\n"
     ]
    }
   ],
   "source": [
    "ap=[2,3,4,5,'sugg']\n",
    "ap.append(\"abgy\") #inbuilt fun\n",
    "print(ap)"
   ]
  },
  {
   "cell_type": "code",
   "execution_count": 17,
   "id": "0e9c2aca-95ca-4a1e-9366-ab084689d9eb",
   "metadata": {},
   "outputs": [],
   "source": [
    "b=['asss', 2,3]"
   ]
  },
  {
   "cell_type": "code",
   "execution_count": 18,
   "id": "494addf5-fdbb-4ae4-a5fe-785511b72716",
   "metadata": {},
   "outputs": [
    {
     "name": "stdout",
     "output_type": "stream",
     "text": [
      "[2, 3, 4, 5, 'sugg', 'abgy', ['asss', 2, 3]]\n"
     ]
    }
   ],
   "source": [
    "ap.append(b)\n",
    "print(ap)"
   ]
  },
  {
   "cell_type": "code",
   "execution_count": 20,
   "id": "fcbf1645-28b5-42fe-b300-4c79a5cd6b2e",
   "metadata": {
    "tags": []
   },
   "outputs": [
    {
     "data": {
      "text/plain": [
       "3"
      ]
     },
     "execution_count": 20,
     "metadata": {},
     "output_type": "execute_result"
    }
   ],
   "source": [
    "ap[-1][2]"
   ]
  },
  {
   "cell_type": "markdown",
   "id": "2f3d07a4-3fe3-4329-b9e7-72e1dcff8a49",
   "metadata": {},
   "source": [
    "------ extend -------\n",
    "extend only works with itreable data like string"
   ]
  },
  {
   "cell_type": "code",
   "execution_count": 61,
   "id": "9f92c870-ef46-4368-8b41-7ee9893048d0",
   "metadata": {},
   "outputs": [
    {
     "data": {
      "text/plain": [
       "[1, 2, 3, 'a', 'b', 'c', 'd']"
      ]
     },
     "execution_count": 61,
     "metadata": {},
     "output_type": "execute_result"
    }
   ],
   "source": [
    "et=[1,2,3]\n",
    "et.extend('abcd')\n",
    "et"
   ]
  },
  {
   "cell_type": "code",
   "execution_count": 56,
   "id": "e395fa67-5d3c-45d0-88ae-703590a51578",
   "metadata": {},
   "outputs": [
    {
     "name": "stdout",
     "output_type": "stream",
     "text": [
      "[5, ['e', 'd', 'f', 'g'], 8, 'sufee', 5.958]\n"
     ]
    },
    {
     "ename": "TypeError",
     "evalue": "'int' object is not iterable",
     "output_type": "error",
     "traceback": [
      "\u001b[1;31m---------------------------------------------------------------------------\u001b[0m",
      "\u001b[1;31mTypeError\u001b[0m                                 Traceback (most recent call last)",
      "Cell \u001b[1;32mIn[56], line 5\u001b[0m\n\u001b[0;32m      1\u001b[0m \u001b[38;5;66;03m#iterable, which means you can break a string\u001b[39;00m\n\u001b[0;32m      2\u001b[0m \u001b[38;5;66;03m# int will not work with extend\u001b[39;00m\n\u001b[0;32m      4\u001b[0m \u001b[38;5;28mprint\u001b[39m(l)\n\u001b[1;32m----> 5\u001b[0m \u001b[43ml\u001b[49m\u001b[38;5;241;43m.\u001b[39;49m\u001b[43mextend\u001b[49m\u001b[43m(\u001b[49m\u001b[38;5;241;43m2\u001b[39;49m\u001b[43m)\u001b[49m \u001b[38;5;66;03m# 2 will not print\u001b[39;00m\n",
      "\u001b[1;31mTypeError\u001b[0m: 'int' object is not iterable"
     ]
    }
   ],
   "source": [
    "#iterable, which means you can break a string\n",
    "# int will not work with extend\n",
    "\n",
    "print(l)\n",
    "l.extend(2) # 2 will not print"
   ]
  },
  {
   "cell_type": "code",
   "execution_count": 40,
   "id": "ede0e5fe-b83d-4bf4-a5df-2216bcbaac00",
   "metadata": {},
   "outputs": [
    {
     "data": {
      "text/plain": [
       "[1, 2, 3, 's', 's', 'y', 'f', 'd']"
      ]
     },
     "execution_count": 40,
     "metadata": {},
     "output_type": "execute_result"
    }
   ],
   "source": [
    "#in extende its unwrap the data list s,s,y,f,d / unwrap string into char\n",
    "\n",
    "ex=[1,2,3]\n",
    "ex.extend(\"ssyfd\")\n",
    "ex"
   ]
  },
  {
   "cell_type": "code",
   "execution_count": 41,
   "id": "4202f0ed-5c8b-4a02-9d63-5917bf444d39",
   "metadata": {},
   "outputs": [],
   "source": [
    "ex.extend([4,5,'xyz'])"
   ]
  },
  {
   "cell_type": "code",
   "execution_count": 42,
   "id": "422806ce-790b-457f-a4a0-7dab13a64b0b",
   "metadata": {},
   "outputs": [
    {
     "name": "stdout",
     "output_type": "stream",
     "text": [
      "[1, 2, 'abc', 3, 's', 's', 'y', 'f', 'd', 4, 5, 'xyz']\n"
     ]
    }
   ],
   "source": [
    "ex.insert(2,\"abc\")#insert value / obj before index (as you want)\n",
    "print(ex)"
   ]
  },
  {
   "cell_type": "code",
   "execution_count": 43,
   "id": "759b7fc7-8620-42e6-8a9e-328bf63ef409",
   "metadata": {},
   "outputs": [],
   "source": [
    "ex.insert(0,[\"insert()\",\"is\"]) "
   ]
  },
  {
   "cell_type": "code",
   "execution_count": 44,
   "id": "b8250d3e-3197-451c-8d18-3b1fd581f0b7",
   "metadata": {},
   "outputs": [
    {
     "data": {
      "text/plain": [
       "[['insert()', 'is'], 1, 2, 'abc', 3, 's', 's', 'y', 'f', 'd', 4, 5, 'xyz']"
      ]
     },
     "execution_count": 44,
     "metadata": {},
     "output_type": "execute_result"
    }
   ],
   "source": [
    "ex"
   ]
  },
  {
   "cell_type": "code",
   "execution_count": 46,
   "id": "86855823-a417-41ea-9a7e-6974e78db00a",
   "metadata": {},
   "outputs": [
    {
     "data": {
      "text/plain": [
       "['e', 'd', 'f', 'g']"
      ]
     },
     "execution_count": 46,
     "metadata": {},
     "output_type": "execute_result"
    }
   ],
   "source": [
    "a1=\"edfg\"\n",
    "list(a1)"
   ]
  },
  {
   "cell_type": "code",
   "execution_count": 47,
   "id": "b1a69b4d-f88e-47aa-aab7-c57d9caa5308",
   "metadata": {},
   "outputs": [
    {
     "data": {
      "text/plain": [
       "[5, ['e', 'd', 'f', 'g'], 8, 'sufee', 5.958]"
      ]
     },
     "execution_count": 47,
     "metadata": {},
     "output_type": "execute_result"
    }
   ],
   "source": [
    "l.insert(1,list(a1))\n",
    "l"
   ]
  },
  {
   "cell_type": "code",
   "execution_count": 65,
   "id": "b5d1b660-4456-4173-a7ef-77498a3dd410",
   "metadata": {},
   "outputs": [
    {
     "data": {
      "text/plain": [
       "[5, ['e', 'd', 'f', 'g'], 8, 'sufee', 5.958]"
      ]
     },
     "execution_count": 65,
     "metadata": {},
     "output_type": "execute_result"
    }
   ],
   "source": [
    "l"
   ]
  },
  {
   "cell_type": "code",
   "execution_count": 66,
   "id": "f565547f-d628-41dd-ad91-6f397cc8fe55",
   "metadata": {},
   "outputs": [
    {
     "ename": "NameError",
     "evalue": "name 'extend' is not defined",
     "output_type": "error",
     "traceback": [
      "\u001b[1;31m---------------------------------------------------------------------------\u001b[0m",
      "\u001b[1;31mNameError\u001b[0m                                 Traceback (most recent call last)",
      "Cell \u001b[1;32mIn[66], line 1\u001b[0m\n\u001b[1;32m----> 1\u001b[0m l\u001b[38;5;241m.\u001b[39minsert(\u001b[38;5;241m1\u001b[39m,\u001b[43mextend\u001b[49m(\u001b[38;5;124m'\u001b[39m\u001b[38;5;124msbhg\u001b[39m\u001b[38;5;124m'\u001b[39m))\n",
      "\u001b[1;31mNameError\u001b[0m: name 'extend' is not defined"
     ]
    }
   ],
   "source": [
    "l.insert(1,extend('sbhg'))"
   ]
  },
  {
   "cell_type": "markdown",
   "id": "0bfa18ba-2951-486a-8b57-23bb85889546",
   "metadata": {},
   "source": [
    "-------- Delete --------"
   ]
  },
  {
   "cell_type": "code",
   "execution_count": 71,
   "id": "306efa3a-07ea-4597-922d-244c37d161dd",
   "metadata": {},
   "outputs": [
    {
     "name": "stdout",
     "output_type": "stream",
     "text": [
      "[1, 2, 3, 4, 5]\n"
     ]
    }
   ],
   "source": [
    "# pop index by operation \n",
    "\n",
    "A=[1,2,3,4,5,4]\n",
    "A.pop()     #without put any index ()remove last value\n",
    "print(A)"
   ]
  },
  {
   "cell_type": "code",
   "execution_count": 72,
   "id": "8bc819f9-08cb-4b4d-9998-2e853374e31a",
   "metadata": {},
   "outputs": [
    {
     "data": {
      "text/plain": [
       "[2, 3, 4, 5]"
      ]
     },
     "execution_count": 72,
     "metadata": {},
     "output_type": "execute_result"
    }
   ],
   "source": [
    "A.pop(0)\n",
    "A"
   ]
  },
  {
   "cell_type": "code",
   "execution_count": 28,
   "id": "1baaa3ee-3d05-4b7b-ad10-b6a9507b0059",
   "metadata": {},
   "outputs": [
    {
     "name": "stdout",
     "output_type": "stream",
     "text": [
      "[1, 3, 4, 5]\n"
     ]
    }
   ],
   "source": [
    "A.remove(2) #in remove () specific value as u want ... remove item not index\n",
    "print(A) # more than one item with specific value,  remove first occurance "
   ]
  },
  {
   "cell_type": "code",
   "execution_count": 80,
   "id": "c1967aeb-1b83-49c9-a2f1-b10f98ee01d5",
   "metadata": {},
   "outputs": [
    {
     "data": {
      "text/plain": [
       "[1, 2, 3, 'sudh', [2, 3]]"
      ]
     },
     "execution_count": 80,
     "metadata": {},
     "output_type": "execute_result"
    }
   ],
   "source": [
    "r=[1,2,3,'sudh',[2,3,4]]\n",
    "r[4].remove(4)\n",
    "r"
   ]
  },
  {
   "cell_type": "code",
   "execution_count": 37,
   "id": "568e3b7d-587e-47de-a7a8-8a3323a2d6f6",
   "metadata": {},
   "outputs": [
    {
     "name": "stdout",
     "output_type": "stream",
     "text": [
      "[2, 3, 3, 5]\n"
     ]
    }
   ],
   "source": [
    "B=[2,3,4,3,5]\n",
    "del B[2]#delete fun\n",
    "print(B)"
   ]
  },
  {
   "cell_type": "code",
   "execution_count": 84,
   "id": "ce9751cf-a10c-46d2-a214-f2464ca968be",
   "metadata": {},
   "outputs": [
    {
     "data": {
      "text/plain": [
       "[2, 3, 4, 5, 'sugg', 'abgy', ['asss', 2, 3]]"
      ]
     },
     "execution_count": 84,
     "metadata": {},
     "output_type": "execute_result"
    }
   ],
   "source": [
    "ap"
   ]
  },
  {
   "cell_type": "code",
   "execution_count": 130,
   "id": "c6edba5c-6dcb-439b-ab65-134da18a50b3",
   "metadata": {},
   "outputs": [
    {
     "data": {
      "text/plain": [
       "[['asss', 3], 'abgy', 'sugg', 5, 4, 3, 2]"
      ]
     },
     "execution_count": 130,
     "metadata": {},
     "output_type": "execute_result"
    }
   ],
   "source": [
    "ap[::-1] # temporary reverse\n",
    "\n",
    "# want to reverser permanently then reassigned (app)\n",
    "ap= ap[::-1] \n",
    "ap"
   ]
  },
  {
   "cell_type": "code",
   "execution_count": 131,
   "id": "65cd1af4-7e86-4bda-bd95-977e6928a6c2",
   "metadata": {},
   "outputs": [
    {
     "data": {
      "text/plain": [
       "[['asss', 3], 'abgy', 'sugg', 5, 4, 3, 2]"
      ]
     },
     "execution_count": 131,
     "metadata": {},
     "output_type": "execute_result"
    }
   ],
   "source": [
    "ap"
   ]
  },
  {
   "cell_type": "code",
   "execution_count": 1,
   "id": "c396e969-4fa5-4c12-b12a-4287a99996d0",
   "metadata": {},
   "outputs": [],
   "source": [
    "c=[1,2,3,4] #c1\n",
    "c.reverse() #parmanent reverser . change complete list"
   ]
  },
  {
   "cell_type": "code",
   "execution_count": 2,
   "id": "f0036460-4b31-41f5-931f-be4ec11f1151",
   "metadata": {},
   "outputs": [
    {
     "data": {
      "text/plain": [
       "[4, 3, 2, 1]"
      ]
     },
     "execution_count": 2,
     "metadata": {},
     "output_type": "execute_result"
    }
   ],
   "source": [
    "c #c2"
   ]
  },
  {
   "cell_type": "code",
   "execution_count": 41,
   "id": "933d55be-a0bd-48da-affb-24d9b8cc507d",
   "metadata": {},
   "outputs": [
    {
     "data": {
      "text/plain": [
       "2"
      ]
     },
     "execution_count": 41,
     "metadata": {},
     "output_type": "execute_result"
    }
   ],
   "source": [
    "c.pop(2)#operation perform in reverse list c1 to c2"
   ]
  },
  {
   "cell_type": "markdown",
   "id": "5a305a0e-1052-49ed-ac1d-9fa32d18c058",
   "metadata": {},
   "source": [
    "------- sort --------"
   ]
  },
  {
   "cell_type": "code",
   "execution_count": 91,
   "id": "2f806a49-9198-4c4f-9edf-2a888de72fb7",
   "metadata": {},
   "outputs": [
    {
     "name": "stdout",
     "output_type": "stream",
     "text": [
      "[5, 22, 33, 55, 66]\n"
     ]
    }
   ],
   "source": [
    "D=[5,33,55,66,22,]#also we use  alphabet\n",
    "D.sort()#arrange in ascending order and permanenet change\n",
    "print(D)"
   ]
  },
  {
   "cell_type": "code",
   "execution_count": 92,
   "id": "f50dbe52-7775-4cca-a685-2ef66cda8256",
   "metadata": {},
   "outputs": [
    {
     "name": "stdout",
     "output_type": "stream",
     "text": [
      "[5, 22, 's', 33, 55, 66]\n"
     ]
    }
   ],
   "source": [
    "D.insert(2,\"s\")\n",
    "print(D)"
   ]
  },
  {
   "cell_type": "code",
   "execution_count": 95,
   "id": "f153c057-23dd-46b3-8c5f-e54adf9be6bc",
   "metadata": {},
   "outputs": [
    {
     "name": "stdout",
     "output_type": "stream",
     "text": [
      "['a', 'A', 'b', 'C']\n"
     ]
    }
   ],
   "source": [
    "d=[\"a\",\"b\",'A','C']\n",
    "d.sort(key=str.lower)\n",
    "print(d)"
   ]
  },
  {
   "cell_type": "code",
   "execution_count": 96,
   "id": "082c742b-b3ea-4ec4-8a7b-6f07e1bda2b0",
   "metadata": {},
   "outputs": [
    {
     "name": "stdout",
     "output_type": "stream",
     "text": [
      "[77, 66, 11, 5, 4, 3, 3]\n"
     ]
    }
   ],
   "source": [
    "e=[3,4,66,11,77,5,3]\n",
    "e.sort(reverse=True) #this is for decending order\n",
    "print(e)"
   ]
  },
  {
   "cell_type": "code",
   "execution_count": 97,
   "id": "07e0e837-5af9-41ab-9f6f-3fe2edc59379",
   "metadata": {},
   "outputs": [
    {
     "data": {
      "text/plain": [
       "[77, 66, 11, 5, 4, 3, 3]"
      ]
     },
     "execution_count": 97,
     "metadata": {},
     "output_type": "execute_result"
    }
   ],
   "source": [
    "e"
   ]
  },
  {
   "cell_type": "code",
   "execution_count": 102,
   "id": "43824269-2a46-4c17-b59d-85b0f01e5470",
   "metadata": {},
   "outputs": [
    {
     "data": {
      "text/plain": [
       "3"
      ]
     },
     "execution_count": 102,
     "metadata": {},
     "output_type": "execute_result"
    }
   ],
   "source": [
    "e.index(5)"
   ]
  },
  {
   "cell_type": "code",
   "execution_count": 100,
   "id": "d04797b6-1507-4b6a-bd24-d4f88b26acbe",
   "metadata": {},
   "outputs": [
    {
     "data": {
      "text/plain": [
       "1"
      ]
     },
     "execution_count": 100,
     "metadata": {},
     "output_type": "execute_result"
    }
   ],
   "source": [
    "e.count(11)#count is for how many times it appear in list"
   ]
  },
  {
   "cell_type": "code",
   "execution_count": 103,
   "id": "1aca7ab6-30bf-47cc-8328-bffa36e98eb9",
   "metadata": {},
   "outputs": [
    {
     "data": {
      "text/plain": [
       "[5, ['e', 'd', 'f', 'g'], 8, 'sufee', 5.958]"
      ]
     },
     "execution_count": 103,
     "metadata": {},
     "output_type": "execute_result"
    }
   ],
   "source": [
    "l"
   ]
  },
  {
   "cell_type": "code",
   "execution_count": 104,
   "id": "a2185960-3451-411f-9a19-cb53edeca128",
   "metadata": {},
   "outputs": [
    {
     "data": {
      "text/plain": [
       "[5, 'sufeeya', 8, 'sufee', 5.958]"
      ]
     },
     "execution_count": 104,
     "metadata": {},
     "output_type": "execute_result"
    }
   ],
   "source": [
    "l[1]=\"sufeeya\"#replace ()\n",
    "l"
   ]
  },
  {
   "cell_type": "code",
   "execution_count": 115,
   "id": "69cd4e17-37ed-4bb8-b96b-c6bf0d6a2742",
   "metadata": {},
   "outputs": [
    {
     "data": {
      "text/plain": [
       "'aufeeya'"
      ]
     },
     "execution_count": 115,
     "metadata": {},
     "output_type": "execute_result"
    }
   ],
   "source": [
    "re='sufeeya'\n",
    "re.replace('s','a')"
   ]
  },
  {
   "cell_type": "code",
   "execution_count": 116,
   "id": "f744bb19-10aa-41d8-9a19-5ca1f8609e61",
   "metadata": {},
   "outputs": [
    {
     "data": {
      "text/plain": [
       "'sufeeya'"
      ]
     },
     "execution_count": 116,
     "metadata": {},
     "output_type": "execute_result"
    }
   ],
   "source": [
    "re"
   ]
  },
  {
   "cell_type": "code",
   "execution_count": 129,
   "id": "f305e33a-00ae-4bb1-9c8c-f77d6aafccf8",
   "metadata": {},
   "outputs": [
    {
     "name": "stdout",
     "output_type": "stream",
     "text": [
      "['welcome', 'to', 'the', 'jungle']\n"
     ]
    }
   ],
   "source": [
    "#Split a string into a list where each word is a list item:\n",
    "\n",
    "txt = \"welcome to the jungle\"\n",
    "\n",
    "x = txt.split(' ')\n",
    "\n",
    "print(x)"
   ]
  },
  {
   "cell_type": "code",
   "execution_count": 17,
   "id": "7ef02c8f-a777-4007-9060-ed4c22c74a43",
   "metadata": {},
   "outputs": [],
   "source": [
    "##########################################"
   ]
  },
  {
   "cell_type": "code",
   "execution_count": 123,
   "id": "3086ba88-d5eb-4152-81f8-47c98c54e3e3",
   "metadata": {},
   "outputs": [
    {
     "data": {
      "text/plain": [
       "[2, 66]"
      ]
     },
     "execution_count": 123,
     "metadata": {},
     "output_type": "execute_result"
    }
   ],
   "source": [
    "li=[3,5,2,6,7,33,66,'dy']\n",
    "li[2::4]"
   ]
  },
  {
   "cell_type": "code",
   "execution_count": null,
   "id": "806f4d64-2afc-4393-92db-b3c7949cb134",
   "metadata": {},
   "outputs": [],
   "source": []
  },
  {
   "cell_type": "code",
   "execution_count": null,
   "id": "d09c5710-254c-46fc-8fc3-b51d88b3f2f5",
   "metadata": {},
   "outputs": [],
   "source": []
  }
 ],
 "metadata": {
  "kernelspec": {
   "display_name": "Python 3 (ipykernel)",
   "language": "python",
   "name": "python3"
  },
  "language_info": {
   "codemirror_mode": {
    "name": "ipython",
    "version": 3
   },
   "file_extension": ".py",
   "mimetype": "text/x-python",
   "name": "python",
   "nbconvert_exporter": "python",
   "pygments_lexer": "ipython3",
   "version": "3.13.1"
  }
 },
 "nbformat": 4,
 "nbformat_minor": 5
}
