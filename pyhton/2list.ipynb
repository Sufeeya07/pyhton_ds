{
 "cells": [
  {
   "cell_type": "code",
   "execution_count": 3,
   "id": "f0aa091a-9301-46db-8ed0-21385714f654",
   "metadata": {},
   "outputs": [
    {
     "name": "stdout",
     "output_type": "stream",
     "text": [
      "['sufee', 5.958]\n"
     ]
    }
   ],
   "source": [
    "l=[5,8, \"sufee\", 5.958]\n",
    "print(l[2:4])# 2:-4"
   ]
  },
  {
   "cell_type": "code",
   "execution_count": 4,
   "id": "77e6a19b-ea62-472c-b6a1-ac07a6d4dcb7",
   "metadata": {},
   "outputs": [
    {
     "data": {
      "text/plain": [
       "[5.958, 'sufee', 8, 5]"
      ]
     },
     "execution_count": 4,
     "metadata": {},
     "output_type": "execute_result"
    }
   ],
   "source": [
    "l[::-1]#reverse temporary.. actual list  is not reverse only out come show ... if we want to permannet reverse reassigned l=l[::-1] we can do this "
   ]
  },
  {
   "cell_type": "code",
   "execution_count": 5,
   "id": "9febd5cb-9d27-4006-a3e7-df6ac816b82a",
   "metadata": {},
   "outputs": [
    {
     "data": {
      "text/plain": [
       "[5, 'sufee']"
      ]
     },
     "execution_count": 5,
     "metadata": {},
     "output_type": "execute_result"
    }
   ],
   "source": [
    "l[0::2]#2 is for jump to number 1 will be skip we also write ::2 this"
   ]
  },
  {
   "cell_type": "code",
   "execution_count": 6,
   "id": "5bb8b149-d5cf-4d6e-94fc-8c751b7cc9eb",
   "metadata": {},
   "outputs": [
    {
     "data": {
      "text/plain": [
       "[5, 8, 'sufee', 5.958]"
      ]
     },
     "execution_count": 6,
     "metadata": {},
     "output_type": "execute_result"
    }
   ],
   "source": [
    "l"
   ]
  },
  {
   "cell_type": "code",
   "execution_count": 23,
   "id": "201c4636-bbeb-46ad-9e22-cb234e2bc46c",
   "metadata": {},
   "outputs": [
    {
     "name": "stdout",
     "output_type": "stream",
     "text": [
      "sufe\n"
     ]
    },
    {
     "data": {
      "text/plain": [
       "'5.958'"
      ]
     },
     "execution_count": 23,
     "metadata": {},
     "output_type": "execute_result"
    }
   ],
   "source": [
    "print(l[4][0:4])\n",
    "str(l[5])#typecasting"
   ]
  },
  {
   "cell_type": "code",
   "execution_count": 14,
   "id": "ed37d049-092a-4587-97c7-65d131d34bd5",
   "metadata": {},
   "outputs": [
    {
     "data": {
      "text/plain": [
       "[0, 9, 8, 1, 3, 5, 8, 'sufee', 5.958, 5, 4, 4, 4, 4, 6]"
      ]
     },
     "execution_count": 14,
     "metadata": {},
     "output_type": "execute_result"
    }
   ],
   "source": [
    "a=[0,9,8]\n",
    "a+l#append or concatinate both list\n"
   ]
  },
  {
   "cell_type": "code",
   "execution_count": 29,
   "id": "f6634b03-eab8-4656-8cba-54ec85d370e1",
   "metadata": {},
   "outputs": [
    {
     "data": {
      "text/plain": [
       "[0, 9, 8, 0, 9, 8, 0, 9, 8]"
      ]
     },
     "execution_count": 29,
     "metadata": {},
     "output_type": "execute_result"
    }
   ],
   "source": [
    "a*3 #print repeat / same element it will work"
   ]
  },
  {
   "cell_type": "code",
   "execution_count": 4,
   "id": "d66056f2-c2cc-47f7-9e1c-86516d95cbf9",
   "metadata": {},
   "outputs": [
    {
     "name": "stdout",
     "output_type": "stream",
     "text": [
      "[2, 3, 4, 5, 'sugg', 'abgy']\n"
     ]
    }
   ],
   "source": [
    "ap=[2,3,4,5,'sugg']\n",
    "ap.append(\"abgy\")#inbuilt fun\n",
    "print(ap)"
   ]
  },
  {
   "cell_type": "code",
   "execution_count": 5,
   "id": "0e9c2aca-95ca-4a1e-9366-ab084689d9eb",
   "metadata": {},
   "outputs": [],
   "source": [
    "b=['asss', 2,3]"
   ]
  },
  {
   "cell_type": "code",
   "execution_count": 6,
   "id": "494addf5-fdbb-4ae4-a5fe-785511b72716",
   "metadata": {},
   "outputs": [
    {
     "name": "stdout",
     "output_type": "stream",
     "text": [
      "[2, 3, 4, 5, 'sugg', 'abgy', ['asss', 2, 3]]\n"
     ]
    }
   ],
   "source": [
    "ap.append(b)\n",
    "print(ap)"
   ]
  },
  {
   "cell_type": "code",
   "execution_count": 55,
   "id": "fcbf1645-28b5-42fe-b300-4c79a5cd6b2e",
   "metadata": {
    "tags": []
   },
   "outputs": [
    {
     "data": {
      "text/plain": [
       "['asss', 2, 3]"
      ]
     },
     "execution_count": 55,
     "metadata": {},
     "output_type": "execute_result"
    }
   ],
   "source": [
    "ap[-1]"
   ]
  },
  {
   "cell_type": "code",
   "execution_count": 29,
   "id": "ede0e5fe-b83d-4bf4-a5df-2216bcbaac00",
   "metadata": {},
   "outputs": [],
   "source": [
    "ex=[1,2,3]\n",
    "ex.extend(\"ssyfd\")#in extende its unwrap the data list s, s,y,f,d"
   ]
  },
  {
   "cell_type": "code",
   "execution_count": 30,
   "id": "4202f0ed-5c8b-4a02-9d63-5917bf444d39",
   "metadata": {},
   "outputs": [
    {
     "data": {
      "text/plain": [
       "[1, 2, 3, 's', 's', 'y', 'f', 'd']"
      ]
     },
     "execution_count": 30,
     "metadata": {},
     "output_type": "execute_result"
    }
   ],
   "source": [
    "ex"
   ]
  },
  {
   "cell_type": "code",
   "execution_count": 8,
   "id": "422806ce-790b-457f-a4a0-7dab13a64b0b",
   "metadata": {},
   "outputs": [
    {
     "name": "stdout",
     "output_type": "stream",
     "text": [
      "[1, 2, 'abc', 3, 4, 's', 6]\n"
     ]
    }
   ],
   "source": [
    "ex.insert(2,\"abc\")#insert value at specific index (as you want)\n",
    "print(ex)"
   ]
  },
  {
   "cell_type": "code",
   "execution_count": 9,
   "id": "759b7fc7-8620-42e6-8a9e-328bf63ef409",
   "metadata": {},
   "outputs": [],
   "source": [
    "ex.insert(0,[\"insert()\",\"is\"]) "
   ]
  },
  {
   "cell_type": "code",
   "execution_count": 10,
   "id": "b8250d3e-3197-451c-8d18-3b1fd581f0b7",
   "metadata": {},
   "outputs": [
    {
     "data": {
      "text/plain": [
       "[['insert()', 'is'], 1, 2, 'abc', 3, 4, 's', 6]"
      ]
     },
     "execution_count": 10,
     "metadata": {},
     "output_type": "execute_result"
    }
   ],
   "source": [
    "ex"
   ]
  },
  {
   "cell_type": "code",
   "execution_count": 11,
   "id": "86855823-a417-41ea-9a7e-6974e78db00a",
   "metadata": {},
   "outputs": [
    {
     "data": {
      "text/plain": [
       "['e', 'd', 'f', 'g']"
      ]
     },
     "execution_count": 11,
     "metadata": {},
     "output_type": "execute_result"
    }
   ],
   "source": [
    "a1=\"edfg\"\n",
    "list(a1)"
   ]
  },
  {
   "cell_type": "code",
   "execution_count": 16,
   "id": "b1a69b4d-f88e-47aa-aab7-c57d9caa5308",
   "metadata": {},
   "outputs": [
    {
     "data": {
      "text/plain": [
       "[5, ['e', 'd', 'f', 'g'], 8, 'sufee', 5.958]"
      ]
     },
     "execution_count": 16,
     "metadata": {},
     "output_type": "execute_result"
    }
   ],
   "source": [
    "l.insert(1,list(a1))\n",
    "l"
   ]
  },
  {
   "cell_type": "code",
   "execution_count": null,
   "id": "306efa3a-07ea-4597-922d-244c37d161dd",
   "metadata": {},
   "outputs": [],
   "source": [
    "A=[1,2,3,4,5,4]\n",
    "A.pop()#without put any index ()remove last value\n",
    "print(A)"
   ]
  },
  {
   "cell_type": "code",
   "execution_count": 28,
   "id": "1baaa3ee-3d05-4b7b-ad10-b6a9507b0059",
   "metadata": {},
   "outputs": [
    {
     "name": "stdout",
     "output_type": "stream",
     "text": [
      "[1, 3, 4, 5]\n"
     ]
    }
   ],
   "source": [
    "A.remove(2)#in remove () specific value as u want ... remove item not index\n",
    "print(A)# more than one item with specific value remove first occurance "
   ]
  },
  {
   "cell_type": "code",
   "execution_count": 37,
   "id": "568e3b7d-587e-47de-a7a8-8a3323a2d6f6",
   "metadata": {},
   "outputs": [
    {
     "name": "stdout",
     "output_type": "stream",
     "text": [
      "[2, 3, 3, 5]\n"
     ]
    }
   ],
   "source": [
    "B=[2,3,4,3,5]\n",
    "del B[2]#delete fun\n",
    "print(B)"
   ]
  },
  {
   "cell_type": "code",
   "execution_count": 50,
   "id": "ce9751cf-a10c-46d2-a214-f2464ca968be",
   "metadata": {},
   "outputs": [
    {
     "data": {
      "text/plain": [
       "[2, 3, 4, 5, 'sugg', 'abgy', ['asss', 2, 3]]"
      ]
     },
     "execution_count": 50,
     "metadata": {},
     "output_type": "execute_result"
    }
   ],
   "source": [
    "ap"
   ]
  },
  {
   "cell_type": "code",
   "execution_count": 7,
   "id": "37caa951-559c-45e1-bad8-e0bd5d30d554",
   "metadata": {},
   "outputs": [],
   "source": [
    "ap[6].remove(2)#remove list from list and  theindex"
   ]
  },
  {
   "cell_type": "code",
   "execution_count": null,
   "id": "2a750d28-871f-4765-b344-ae8ff43ddb02",
   "metadata": {},
   "outputs": [],
   "source": [
    "ap"
   ]
  },
  {
   "cell_type": "code",
   "execution_count": 1,
   "id": "c396e969-4fa5-4c12-b12a-4287a99996d0",
   "metadata": {},
   "outputs": [],
   "source": [
    "c=[1,2,3,4]#c1\n",
    "c.reverse()#parmanent revser .change complete list"
   ]
  },
  {
   "cell_type": "code",
   "execution_count": 2,
   "id": "f0036460-4b31-41f5-931f-be4ec11f1151",
   "metadata": {},
   "outputs": [
    {
     "data": {
      "text/plain": [
       "[4, 3, 2, 1]"
      ]
     },
     "execution_count": 2,
     "metadata": {},
     "output_type": "execute_result"
    }
   ],
   "source": [
    "c#c2"
   ]
  },
  {
   "cell_type": "code",
   "execution_count": 41,
   "id": "933d55be-a0bd-48da-affb-24d9b8cc507d",
   "metadata": {},
   "outputs": [
    {
     "data": {
      "text/plain": [
       "2"
      ]
     },
     "execution_count": 41,
     "metadata": {},
     "output_type": "execute_result"
    }
   ],
   "source": [
    "c.pop(2)#operation perform in reverse list c1 to c2"
   ]
  },
  {
   "cell_type": "code",
   "execution_count": 8,
   "id": "2f806a49-9198-4c4f-9edf-2a888de72fb7",
   "metadata": {},
   "outputs": [
    {
     "name": "stdout",
     "output_type": "stream",
     "text": [
      "[5, 22, 33, 55, 66]\n"
     ]
    }
   ],
   "source": [
    "D=[5,33,55,66,22,]#also we use  alphabet\n",
    "D.sort()#arrange in ascending order and permanenet change\n",
    "print(D)"
   ]
  },
  {
   "cell_type": "code",
   "execution_count": 12,
   "id": "f50dbe52-7775-4cca-a685-2ef66cda8256",
   "metadata": {},
   "outputs": [
    {
     "name": "stdout",
     "output_type": "stream",
     "text": [
      "[5, 22, 's', 's', 33, 55, 66]\n"
     ]
    }
   ],
   "source": [
    "D.insert(2,\"s\")\n",
    "print(D)"
   ]
  },
  {
   "cell_type": "code",
   "execution_count": 29,
   "id": "f153c057-23dd-46b3-8c5f-e54adf9be6bc",
   "metadata": {},
   "outputs": [
    {
     "name": "stdout",
     "output_type": "stream",
     "text": [
      "['a', 'A', 'b', 'C']\n"
     ]
    }
   ],
   "source": [
    "d=[\"a\",\"b\",'A','C']\n",
    "d.sort(key=str.lower)\n",
    "print(d)"
   ]
  },
  {
   "cell_type": "code",
   "execution_count": null,
   "id": "082c742b-b3ea-4ec4-8a7b-6f07e1bda2b0",
   "metadata": {},
   "outputs": [],
   "source": [
    "e=[3,4,66,11,77,5,3]\n",
    "e.sort(reverse=True)#this is for decending order\n",
    "print(e)"
   ]
  },
  {
   "cell_type": "code",
   "execution_count": null,
   "id": "d04797b6-1507-4b6a-bd24-d4f88b26acbe",
   "metadata": {},
   "outputs": [],
   "source": [
    "e.count(3)#count is for how many times it appear in list"
   ]
  },
  {
   "cell_type": "code",
   "execution_count": 16,
   "id": "1aca7ab6-30bf-47cc-8328-bffa36e98eb9",
   "metadata": {},
   "outputs": [
    {
     "data": {
      "text/plain": [
       "[5, 'sufeeya', 'sufee', 5.958]"
      ]
     },
     "execution_count": 16,
     "metadata": {},
     "output_type": "execute_result"
    }
   ],
   "source": [
    "l"
   ]
  },
  {
   "cell_type": "code",
   "execution_count": 5,
   "id": "a2185960-3451-411f-9a19-cb53edeca128",
   "metadata": {},
   "outputs": [
    {
     "data": {
      "text/plain": [
       "[5, 'sufeeya', 'sufee', 5.958]"
      ]
     },
     "execution_count": 5,
     "metadata": {},
     "output_type": "execute_result"
    }
   ],
   "source": [
    "l[1]=\"sufeeya\"#replace ()\n",
    "l"
   ]
  },
  {
   "cell_type": "code",
   "execution_count": 1,
   "id": "f305e33a-00ae-4bb1-9c8c-f77d6aafccf8",
   "metadata": {},
   "outputs": [
    {
     "name": "stdout",
     "output_type": "stream",
     "text": [
      "['welcome ', 'to ', 'the jungle']\n"
     ]
    }
   ],
   "source": [
    "#Split a string into a list where each word is a list item:\n",
    "\n",
    "txt = \"welcome ,to ,the jungle\"\n",
    "\n",
    "x = txt.split(',')\n",
    "\n",
    "print(x)"
   ]
  },
  {
   "cell_type": "code",
   "execution_count": 17,
   "id": "7ef02c8f-a777-4007-9060-ed4c22c74a43",
   "metadata": {},
   "outputs": [],
   "source": [
    "##########################################"
   ]
  },
  {
   "cell_type": "code",
   "execution_count": 26,
   "id": "3086ba88-d5eb-4152-81f8-47c98c54e3e3",
   "metadata": {},
   "outputs": [
    {
     "data": {
      "text/plain": [
       "[2, 6, 7]"
      ]
     },
     "execution_count": 26,
     "metadata": {},
     "output_type": "execute_result"
    }
   ],
   "source": [
    "li=[3,5,2,6,7,33,66,'dy']\n",
    "li[2:5]"
   ]
  },
  {
   "cell_type": "code",
   "execution_count": null,
   "id": "806f4d64-2afc-4393-92db-b3c7949cb134",
   "metadata": {},
   "outputs": [],
   "source": []
  }
 ],
 "metadata": {
  "kernelspec": {
   "display_name": "Python 3 (ipykernel)",
   "language": "python",
   "name": "python3"
  },
  "language_info": {
   "codemirror_mode": {
    "name": "ipython",
    "version": 3
   },
   "file_extension": ".py",
   "mimetype": "text/x-python",
   "name": "python",
   "nbconvert_exporter": "python",
   "pygments_lexer": "ipython3",
   "version": "3.10.8"
  }
 },
 "nbformat": 4,
 "nbformat_minor": 5
}
