{
 "cells": [
  {
   "cell_type": "code",
   "execution_count": null,
   "id": "255af03d-d389-42cb-9142-d3a7476edb37",
   "metadata": {},
   "outputs": [],
   "source": [
    "---ABSTRACT CLASS--- IS USED TO CREATE BLUEPRINT OR SKELENTON   "
   ]
  },
  {
   "cell_type": "code",
   "execution_count": 6,
   "id": "4af54f51-cdca-4593-9863-d21436fa7ffe",
   "metadata": {},
   "outputs": [],
   "source": [
    "import abc\n",
    "class pws:\n",
    "    @abc.abstractmethod\n",
    "    def student_details(self):  # these  are blueprint\n",
    "        pass\n",
    "    \n",
    "    @abc.abstractmethod\n",
    "    def student_ass(self):\n",
    "        pass\n",
    "    \n",
    "    @abc.abstractmethod\n",
    "    def student_marks(self):\n",
    "        pass   "
   ]
  },
  {
   "cell_type": "code",
   "execution_count": 7,
   "id": "5460819a-caf3-4c19-abbb-9ec93e4b951e",
   "metadata": {},
   "outputs": [],
   "source": [
    "# here they define class and there def , apne hisab se jo v class isse call krega apne according call / define krega \n",
    "\n",
    "class student_info(pws):\n",
    "    def student_details(self):   \n",
    "        return \"this is a method for taking student details\"\n",
    "    \n",
    "    def student_ass(self):\n",
    "        return \"this is a method for assing details for particular students\"\n",
    "  "
   ]
  },
  {
   "cell_type": "code",
   "execution_count": 9,
   "id": "8839593b-e8e6-458a-8041-74b1b92ffb99",
   "metadata": {},
   "outputs": [],
   "source": [
    "class dsci(pws):\n",
    "    def student_details(self):\n",
    "        return \" this will return  a student details for data science\"\n",
    "    \n",
    "    def student_ass(self):\n",
    "        return \"this will give you student ass for data science\""
   ]
  },
  {
   "cell_type": "code",
   "execution_count": 10,
   "id": "4d2abdb9-dd29-4366-aada-b52ba485d4df",
   "metadata": {},
   "outputs": [
    {
     "data": {
      "text/plain": [
       "' this will return  a student details for data science'"
      ]
     },
     "execution_count": 10,
     "metadata": {},
     "output_type": "execute_result"
    }
   ],
   "source": [
    "dsm = dsci()\n",
    "dsm.student_details()"
   ]
  },
  {
   "cell_type": "code",
   "execution_count": 11,
   "id": "2a51a202-0c49-45ea-bb6c-8e7f31f10cfc",
   "metadata": {},
   "outputs": [
    {
     "data": {
      "text/plain": [
       "'this is a method for assing details for particular students'"
      ]
     },
     "execution_count": 11,
     "metadata": {},
     "output_type": "execute_result"
    }
   ],
   "source": [
    "s = student_info()\n",
    "s.student_ass()"
   ]
  },
  {
   "cell_type": "code",
   "execution_count": 12,
   "id": "f0a17123-0e82-4829-b6c8-00d5c660d378",
   "metadata": {},
   "outputs": [],
   "source": [
    "###------2 "
   ]
  },
  {
   "cell_type": "code",
   "execution_count": 19,
   "id": "4409e586-1d63-4c4d-9960-674c1109d527",
   "metadata": {},
   "outputs": [
    {
     "data": {
      "text/plain": [
       "' i have 3 sides'"
      ]
     },
     "execution_count": 19,
     "metadata": {},
     "output_type": "execute_result"
    }
   ],
   "source": [
    "from abc import ABC as BCD, abstractmethod \n",
    "  \n",
    "class ploygon(BCD):\n",
    "    def sides(self):\n",
    "        pass\n",
    "    \n",
    "class tri(ploygon):\n",
    "    def sides(self): #overriding abstract method\n",
    "        return \" i have 3 sides\"\n",
    "    \n",
    "class pentagon(ploygon):\n",
    "    def sides(self):\n",
    "        return \"i have 5 sides\"\n",
    "    \n",
    "t= tri()\n",
    "t.sides()"
   ]
  },
  {
   "cell_type": "code",
   "execution_count": 20,
   "id": "d1be8392-a444-412d-b0c8-07b5b918b53a",
   "metadata": {},
   "outputs": [
    {
     "name": "stdout",
     "output_type": "stream",
     "text": [
      "True\n",
      "True\n"
     ]
    }
   ],
   "source": [
    "import abc\n",
    "\n",
    "class parent:\n",
    "    def geeks(self):\n",
    "        pass\n",
    "    \n",
    "class child(parent):\n",
    "    def geeks(self):\n",
    "        print(\"child class\")\n",
    "print(issubclass(child, parent)) \n",
    "print( isinstance(child(), parent))       "
   ]
  },
  {
   "cell_type": "code",
   "execution_count": 14,
   "id": "8069a048-a3fe-459f-9867-db2f3dc5c218",
   "metadata": {},
   "outputs": [
    {
     "name": "stdout",
     "output_type": "stream",
     "text": [
      "abstract base class\n",
      "subclass\n"
     ]
    }
   ],
   "source": [
    "#-- spuer ()\n",
    "import abc \n",
    "  \n",
    "class a:\n",
    "    def abc(self):\n",
    "        print(\"abstract base class\")\n",
    "    \n",
    "class b(a):\n",
    "    def abc(self):\n",
    "        super().abc()\n",
    "        print(\"subclass\")\n",
    "    \n",
    "B= b()\n",
    "B.abc()"
   ]
  },
  {
   "cell_type": "code",
   "execution_count": null,
   "id": "c2bba199-5ba3-4709-959b-61559877bea6",
   "metadata": {},
   "outputs": [],
   "source": []
  }
 ],
 "metadata": {
  "kernelspec": {
   "display_name": "Python 3 (ipykernel)",
   "language": "python",
   "name": "python3"
  },
  "language_info": {
   "codemirror_mode": {
    "name": "ipython",
    "version": 3
   },
   "file_extension": ".py",
   "mimetype": "text/x-python",
   "name": "python",
   "nbconvert_exporter": "python",
   "pygments_lexer": "ipython3",
   "version": "3.10.8"
  }
 },
 "nbformat": 4,
 "nbformat_minor": 5
}
