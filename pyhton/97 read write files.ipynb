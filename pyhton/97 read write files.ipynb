{
 "cells": [
  {
   "cell_type": "code",
   "execution_count": 22,
   "id": "f9523361-c024-4efe-899c-760dbc7d0989",
   "metadata": {},
   "outputs": [],
   "source": [
    "# this set of data also called json (JavaScript Object Notation.)\n",
    "d ={\n",
    "    'name': 'sufeeya',\n",
    "    'mail_id' : 'sp@gmail.com',\n",
    "    'phn': 9637837488,\n",
    "    'sub':['data science' , ' data analyst' , 'big data']\n",
    "}"
   ]
  },
  {
   "cell_type": "code",
   "execution_count": 23,
   "id": "d377151a-ac0f-4d80-b7b4-19a2ded89a4d",
   "metadata": {},
   "outputs": [],
   "source": [
    "#JSON is a syntax for storing and exchanging data.\n",
    "#built-in package\n",
    "#its a package, json capable h  iss trh ke data (key : value pair) ko file me likhne me help krta h\n",
    "\n",
    "import json  #json module:"
   ]
  },
  {
   "cell_type": "code",
   "execution_count": 24,
   "id": "9879b733-9251-4ae5-b7a0-1e8f96f25edd",
   "metadata": {},
   "outputs": [],
   "source": [
    "with open('data.json' , 'w') as f:\n",
    "    \n",
    "    json.dump(d, f)    #help to write data , encode ( change the wordPython object (in this case, a dictionary), you can convert into JSON str, using json.dump\n",
    "                       # the result is a JSON string:"
   ]
  },
  {
   "cell_type": "code",
   "execution_count": 36,
   "id": "ac90c870-3656-476c-954b-9b94c160ce2e",
   "metadata": {},
   "outputs": [
    {
     "name": "stdout",
     "output_type": "stream",
     "text": [
      "sufeeya 9637837488\n"
     ]
    }
   ],
   "source": [
    "# want to read\n",
    "with open('data.json', 'r') as f:\n",
    "   \n",
    "    =json.load(f)         #json.loads() does the opposite, converting a JSON string into a Python object.\n",
    "    \n",
    "    print(d['name'], d['phn'])"
   ]
  },
  {
   "cell_type": "code",
   "execution_count": 26,
   "id": "faa07c71-d6ed-40f4-bcf6-3bc05e576e3e",
   "metadata": {},
   "outputs": [
    {
     "name": "stdout",
     "output_type": "stream",
     "text": [
      "dict_keys(['name', 'mail_id', 'phn', 'sub'])\n"
     ]
    }
   ],
   "source": [
    "print(d.keys())"
   ]
  },
  {
   "cell_type": "code",
   "execution_count": 42,
   "id": "4d6bf62f-c663-4725-a7fc-96b134167d00",
   "metadata": {},
   "outputs": [],
   "source": [
    "with open('data.json', 'r') as f:\n",
    "   \n",
    "    dobj=json.load(f)  #make obj"
   ]
  },
  {
   "cell_type": "code",
   "execution_count": 43,
   "id": "05bbf707-ad7d-4e7f-befa-de8e30835435",
   "metadata": {},
   "outputs": [
    {
     "data": {
      "text/plain": [
       "{'name': 'sufeeya',\n",
       " 'mail_id': 'sp@gmail.com',\n",
       " 'phn': 9637837488,\n",
       " 'sub': ['data science', ' data analyst', 'big data']}"
      ]
     },
     "execution_count": 43,
     "metadata": {},
     "output_type": "execute_result"
    }
   ],
   "source": [
    "dobj"
   ]
  },
  {
   "cell_type": "code",
   "execution_count": 41,
   "id": "467fe03b-fb75-4b17-9995-a47d38bb0160",
   "metadata": {},
   "outputs": [
    {
     "data": {
      "text/plain": [
       "' data analyst'"
      ]
     },
     "execution_count": 41,
     "metadata": {},
     "output_type": "execute_result"
    }
   ],
   "source": [
    "d['sub'][1]"
   ]
  },
  {
   "cell_type": "code",
   "execution_count": null,
   "id": "96db0a19-dc49-49ba-96fb-357ccd2893a1",
   "metadata": {},
   "outputs": [],
   "source": []
  }
 ],
 "metadata": {
  "kernelspec": {
   "display_name": "Python 3 (ipykernel)",
   "language": "python",
   "name": "python3"
  },
  "language_info": {
   "codemirror_mode": {
    "name": "ipython",
    "version": 3
   },
   "file_extension": ".py",
   "mimetype": "text/x-python",
   "name": "python",
   "nbconvert_exporter": "python",
   "pygments_lexer": "ipython3",
   "version": "3.10.8"
  }
 },
 "nbformat": 4,
 "nbformat_minor": 5
}
