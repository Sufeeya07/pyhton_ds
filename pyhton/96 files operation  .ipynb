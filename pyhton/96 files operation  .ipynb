{
 "cells": [
  {
   "cell_type": "code",
   "execution_count": null,
   "id": "7703fd72-c774-4b54-9911-1a9ca008f782",
   "metadata": {},
   "outputs": [],
   "source": [
    "file operation-- append , expend, read,  write"
   ]
  },
  {
   "cell_type": "code",
   "execution_count": null,
   "id": "32893a5a-678c-45c3-95b5-afa6648d24af",
   "metadata": {},
   "outputs": [],
   "source": [
    "f = open() \n",
    "f is var . open() inbuilt function , helps to create file and perform operation on file\n",
    "open() has two param. ( file name, mode)"
   ]
  },
  {
   "cell_type": "code",
   "execution_count": 37,
   "id": "507c2dab-8427-4d7f-b7c3-26cd4e007d42",
   "metadata": {},
   "outputs": [],
   "source": [
    "f = open( 'test.txt' , \"w\") # create file"
   ]
  },
  {
   "cell_type": "code",
   "execution_count": 38,
   "id": "5370d4d2-505b-4809-a931-0eda69781e88",
   "metadata": {},
   "outputs": [
    {
     "data": {
      "text/plain": [
       "'C:\\\\Users\\\\nusra\\\\Downloads\\\\jn'"
      ]
     },
     "execution_count": 38,
     "metadata": {},
     "output_type": "execute_result"
    }
   ],
   "source": [
    "pwd # present working  directory .. check where my file is create , in pwd my file is create"
   ]
  },
  {
   "cell_type": "code",
   "execution_count": 39,
   "id": "9b9e22e2-8014-452d-a031-a90710a398f7",
   "metadata": {},
   "outputs": [
    {
     "name": "stdout",
     "output_type": "stream",
     "text": [
      " Volume in drive C is Windows\n",
      " Volume Serial Number is 642F-B5AF\n",
      "\n",
      " Directory of C:\\Users\\nusra\\Downloads\\jn\n",
      "\n"
     ]
    },
    {
     "name": "stderr",
     "output_type": "stream",
     "text": [
      "File Not Found\n"
     ]
    }
   ],
   "source": [
    "ls #list"
   ]
  },
  {
   "cell_type": "code",
   "execution_count": 40,
   "id": "5566a541-0ffd-4f2c-bf8f-99124e8cc618",
   "metadata": {},
   "outputs": [
    {
     "ename": "SyntaxError",
     "evalue": "invalid syntax (2868496281.py, line 2)",
     "output_type": "error",
     "traceback": [
      "\u001b[1;36m  Cell \u001b[1;32mIn[40], line 2\u001b[1;36m\u001b[0m\n\u001b[1;33m    cd work #change-directory\u001b[0m\n\u001b[1;37m       ^\u001b[0m\n\u001b[1;31mSyntaxError\u001b[0m\u001b[1;31m:\u001b[0m invalid syntax\n"
     ]
    }
   ],
   "source": [
    "# change location\n",
    "cd work #change-directory"
   ]
  },
  {
   "cell_type": "code",
   "execution_count": 49,
   "id": "fdea302d-63b8-41d9-a3ab-fa1805d8db62",
   "metadata": {},
   "outputs": [],
   "source": [
    "file_open=open('txt1.txt', 'w')"
   ]
  },
  {
   "cell_type": "code",
   "execution_count": 53,
   "id": "3149f727-a4fd-44a4-b26a-266099242f71",
   "metadata": {},
   "outputs": [
    {
     "data": {
      "text/plain": [
       "27"
      ]
     },
     "execution_count": 53,
     "metadata": {},
     "output_type": "execute_result"
    }
   ],
   "source": [
    "file_open.write('this is my first text file ')"
   ]
  },
  {
   "cell_type": "code",
   "execution_count": 54,
   "id": "6cd97675-5b2e-4319-8114-83672c55921f",
   "metadata": {},
   "outputs": [],
   "source": [
    "file_open.close()"
   ]
  },
  {
   "cell_type": "code",
   "execution_count": 34,
   "id": "abeeb646-d325-4066-bbb0-dc1864b8aad3",
   "metadata": {},
   "outputs": [],
   "source": [
    "a = open( 'test2.txt' , \"w\")"
   ]
  },
  {
   "cell_type": "code",
   "execution_count": 31,
   "id": "50adf508-d778-47af-a197-fd53a64a7025",
   "metadata": {},
   "outputs": [
    {
     "data": {
      "text/plain": [
       "31"
      ]
     },
     "execution_count": 31,
     "metadata": {},
     "output_type": "execute_result"
    }
   ],
   "source": [
    "a.write('this is my first file to write.')"
   ]
  },
  {
   "cell_type": "code",
   "execution_count": 32,
   "id": "ee5f99c3-faf3-4fbd-bd31-e7aefa9289bf",
   "metadata": {},
   "outputs": [],
   "source": [
    "a.close()"
   ]
  },
  {
   "cell_type": "code",
   "execution_count": 35,
   "id": "7201a5c7-126b-4559-8df1-3c2b7a0c82d7",
   "metadata": {},
   "outputs": [
    {
     "data": {
      "text/plain": [
       "18"
      ]
     },
     "execution_count": 35,
     "metadata": {},
     "output_type": "execute_result"
    }
   ],
   "source": [
    "a.write(\"this is my file . \")   # w pehle old data delete krdega fir new data add krega "
   ]
  },
  {
   "cell_type": "code",
   "execution_count": 36,
   "id": "435493f5-c3b3-4e69-98f2-f2e4a792b911",
   "metadata": {},
   "outputs": [],
   "source": [
    "a.close()"
   ]
  },
  {
   "cell_type": "code",
   "execution_count": 55,
   "id": "4453b510-841a-4d52-afe6-5a110f368bd1",
   "metadata": {},
   "outputs": [],
   "source": [
    "a = open( 'test2.txt' , \"a\") # a is append ur data .  do not delete data"
   ]
  },
  {
   "cell_type": "code",
   "execution_count": 56,
   "id": "9aab0e65-5712-4067-a895-7504f63e6435",
   "metadata": {},
   "outputs": [
    {
     "data": {
      "text/plain": [
       "280"
      ]
     },
     "execution_count": 56,
     "metadata": {},
     "output_type": "execute_result"
    }
   ],
   "source": [
    "a.write( \"Data science is the study of data to extract meaningful insights for business. It is a multidisciplinary approach that combines principles and practices from the fields of mathematics, statistics, artificial intelligence, and computer engineering to analyze large amounts of data.\")"
   ]
  },
  {
   "cell_type": "code",
   "execution_count": 57,
   "id": "34c6f4d1-2801-49dd-8587-bca503348733",
   "metadata": {},
   "outputs": [],
   "source": [
    "a.close()"
   ]
  },
  {
   "cell_type": "code",
   "execution_count": 58,
   "id": "5e4c384a-8102-4d06-b8ca-99ca11d783d4",
   "metadata": {},
   "outputs": [],
   "source": [
    "a = open( 'test2.txt' , \"r\")"
   ]
  },
  {
   "cell_type": "code",
   "execution_count": 59,
   "id": "5fa269b5-9f32-470b-b1d8-d62b8eaa8cbd",
   "metadata": {},
   "outputs": [
    {
     "data": {
      "text/plain": [
       "'this is my file . Data science is the study of data to extract meaningful insights for business. It is a multidisciplinary approach that combines principles and practices from the fields of mathematics, statistics, artificial intelligence, and computer engineering to analyze large amounts of data.'"
      ]
     },
     "execution_count": 59,
     "metadata": {},
     "output_type": "execute_result"
    }
   ],
   "source": [
    "a.read()"
   ]
  },
  {
   "cell_type": "code",
   "execution_count": 62,
   "id": "674c1816-a760-4acd-a6cc-7ebfa75cac7d",
   "metadata": {},
   "outputs": [
    {
     "data": {
      "text/plain": [
       "' file . Data science is the study of data to extract meaningful insights for business. It is a multidisciplinary approach that combines principles and practices from the fields of mathematics, statistics, artificial intelligence, and computer engineering to analyze large amounts of data.'"
      ]
     },
     "execution_count": 62,
     "metadata": {},
     "output_type": "execute_result"
    }
   ],
   "source": [
    "a.readline() #given blank data , then seek() to read the line "
   ]
  },
  {
   "cell_type": "code",
   "execution_count": 64,
   "id": "7ee3b7e8-46c9-4f1f-9237-94d456ac3f5f",
   "metadata": {},
   "outputs": [
    {
     "data": {
      "text/plain": [
       "11"
      ]
     },
     "execution_count": 64,
     "metadata": {},
     "output_type": "execute_result"
    }
   ],
   "source": [
    "a.seek(11) #2 is index , Data will be read at this index"
   ]
  },
  {
   "cell_type": "code",
   "execution_count": 65,
   "id": "c0b45879-ee94-442f-9dac-a84ea03eb1d2",
   "metadata": {},
   "outputs": [
    {
     "data": {
      "text/plain": [
       "'file . Data science is the study of data to extract meaningful insights for business. It is a multidisciplinary approach that combines principles and practices from the fields of mathematics, statistics, artificial intelligence, and computer engineering to analyze large amounts of data.'"
      ]
     },
     "execution_count": 65,
     "metadata": {},
     "output_type": "execute_result"
    }
   ],
   "source": [
    "a.readline() # first seek then readline"
   ]
  },
  {
   "cell_type": "code",
   "execution_count": 68,
   "id": "e84a7a05-dac4-4033-a28b-07e0403b1a81",
   "metadata": {},
   "outputs": [
    {
     "name": "stdout",
     "output_type": "stream",
     "text": [
      "this is my file . Data science is the study of data to extract meaningful insights for business. It is a multidisciplinary approach that combines principles and practices from the fields of mathematics, statistics, artificial intelligence, and computer engineering to analyze large amounts of data.\n"
     ]
    }
   ],
   "source": [
    "b= open( 'test2.txt' , \"r\")\n",
    "for i in b: # using loop  data read line by line\n",
    "    print(i)"
   ]
  },
  {
   "cell_type": "code",
   "execution_count": 69,
   "id": "f4a5fcb9-6c6c-4e3e-bcc4-778d13279e52",
   "metadata": {},
   "outputs": [
    {
     "data": {
      "text/plain": [
       "298"
      ]
     },
     "execution_count": 69,
     "metadata": {},
     "output_type": "execute_result"
    }
   ],
   "source": [
    "import os   # os is model \n",
    "os.path.getsize('test2.txt')"
   ]
  },
  {
   "cell_type": "code",
   "execution_count": 70,
   "id": "d87d29bc-80e8-400b-9ff1-a52fa67c7ac1",
   "metadata": {},
   "outputs": [
    {
     "ename": "PermissionError",
     "evalue": "[WinError 32] The process cannot access the file because it is being used by another process: 'test2.txt'",
     "output_type": "error",
     "traceback": [
      "\u001b[1;31m---------------------------------------------------------------------------\u001b[0m",
      "\u001b[1;31mPermissionError\u001b[0m                           Traceback (most recent call last)",
      "Cell \u001b[1;32mIn[70], line 1\u001b[0m\n\u001b[1;32m----> 1\u001b[0m \u001b[43mos\u001b[49m\u001b[38;5;241;43m.\u001b[39;49m\u001b[43m \u001b[49m\u001b[43mremove\u001b[49m\u001b[43m(\u001b[49m\u001b[38;5;124;43m'\u001b[39;49m\u001b[38;5;124;43mtest2.txt\u001b[39;49m\u001b[38;5;124;43m'\u001b[39;49m\u001b[43m)\u001b[49m\n",
      "\u001b[1;31mPermissionError\u001b[0m: [WinError 32] The process cannot access the file because it is being used by another process: 'test2.txt'"
     ]
    }
   ],
   "source": [
    "os. remove('test2.txt')"
   ]
  },
  {
   "cell_type": "code",
   "execution_count": 71,
   "id": "b75b06a8-9b66-4041-a67e-8eda15603d9b",
   "metadata": {},
   "outputs": [],
   "source": [
    "c = open ('ufile.txt' , 'w')"
   ]
  },
  {
   "cell_type": "code",
   "execution_count": 72,
   "id": "f5efea25-4859-4a0a-8417-15de5b010be3",
   "metadata": {},
   "outputs": [
    {
     "data": {
      "text/plain": [
       "298"
      ]
     },
     "execution_count": 72,
     "metadata": {},
     "output_type": "execute_result"
    }
   ],
   "source": [
    "c.write(\"this is my file . Data science is the study of data to extract meaningful insights for business. It is a multidisciplinary approach that combines principles and practices from the fields of mathematics, statistics, artificial intelligence, and computer engineering to analyze large amounts of data.\")"
   ]
  },
  {
   "cell_type": "code",
   "execution_count": 118,
   "id": "e795f53e-1316-4e5f-9e7b-ff1e3d1e0dc8",
   "metadata": {},
   "outputs": [],
   "source": [
    "c.close()"
   ]
  },
  {
   "cell_type": "code",
   "execution_count": null,
   "id": "01ac4acd-d784-4ca3-b2a7-92f4321f8196",
   "metadata": {},
   "outputs": [],
   "source": [
    "import os   # rename file\n",
    "os.rename('ufile.txt', 'new.txt')"
   ]
  },
  {
   "cell_type": "code",
   "execution_count": 165,
   "id": "66675daa-d3cf-4673-98cf-dda08ba6f6c0",
   "metadata": {},
   "outputs": [
    {
     "data": {
      "text/plain": [
       "'copy_new.txt'"
      ]
     },
     "execution_count": 165,
     "metadata": {},
     "output_type": "execute_result"
    }
   ],
   "source": [
    "import shutil\n",
    "shutil.copy('new.txt' , 'copy_new.txt')"
   ]
  },
  {
   "cell_type": "code",
   "execution_count": 167,
   "id": "6eb80079-ed4a-4363-99c6-ffa880ee5e2b",
   "metadata": {},
   "outputs": [
    {
     "name": "stdout",
     "output_type": "stream",
     "text": [
      "this is my file . Data science is the study of data to extract meaningful insights for business. It is a multidisciplinary approach that combines principles and practices from the fields of mathematics, statistics, artificial intelligence, and computer engineering to analyze large amounts of data.\n"
     ]
    }
   ],
   "source": [
    "# directly open --c = open ('ufile.txt' , 'w')\n",
    "with open ('new.txt' , \"r\") as c:\n",
    "    print(c.read())"
   ]
  },
  {
   "cell_type": "markdown",
   "id": "6e19ccff-d69a-426c-a830-aab46f5f4783",
   "metadata": {},
   "source": [
    "## summary of file handling open , read ,  write , close , append , rename, copy etc"
   ]
  },
  {
   "cell_type": "code",
   "execution_count": 107,
   "id": "7677e3fa-9761-4833-a0a9-e1fc64173b97",
   "metadata": {},
   "outputs": [],
   "source": [
    "# open file\n",
    "\n",
    "open_file = open('file.txt' , 'w')"
   ]
  },
  {
   "cell_type": "code",
   "execution_count": 108,
   "id": "f30d36d5-c5c9-40f7-9be6-4c3a867df8d8",
   "metadata": {},
   "outputs": [
    {
     "data": {
      "text/plain": [
       "46"
      ]
     },
     "execution_count": 108,
     "metadata": {},
     "output_type": "execute_result"
    }
   ],
   "source": [
    "open_file.write('Hi my name is ABC , im a data science student.')"
   ]
  },
  {
   "cell_type": "code",
   "execution_count": 109,
   "id": "8ffc4bcc-a305-467f-89fa-a486dfb59ac3",
   "metadata": {},
   "outputs": [],
   "source": [
    "open_file.close()"
   ]
  },
  {
   "cell_type": "code",
   "execution_count": 110,
   "id": "3e47daf6-219a-4c7c-adaf-9de14f0de5bd",
   "metadata": {},
   "outputs": [],
   "source": [
    "# append\n",
    "\n",
    "open_file= open('file.txt', 'a')"
   ]
  },
  {
   "cell_type": "code",
   "execution_count": 111,
   "id": "004b3700-d6e5-4283-a919-95fcd3049264",
   "metadata": {},
   "outputs": [
    {
     "data": {
      "text/plain": [
       "158"
      ]
     },
     "execution_count": 111,
     "metadata": {},
     "output_type": "execute_result"
    }
   ],
   "source": [
    "open_file.write('Data science is \"a concept to unify statistics, data analysis, informatics, and their related methods\" to \"understand and analyze actual phenomena\" with data.')"
   ]
  },
  {
   "cell_type": "code",
   "execution_count": 112,
   "id": "284b807d-0d9c-43e3-b5eb-c6cba05f3257",
   "metadata": {},
   "outputs": [
    {
     "data": {
      "text/plain": [
       "'Hi my name is ABC , im a data science student.Data science is \"a concept to unify statistics, data analysis, informatics, and their related methods\" to \"understand and analyze actual phenomena\" with data.'"
      ]
     },
     "execution_count": 112,
     "metadata": {},
     "output_type": "execute_result"
    }
   ],
   "source": [
    "# read\n",
    "\n",
    "open_file=open('file.txt','r')\n",
    "open_file.read()"
   ]
  },
  {
   "cell_type": "code",
   "execution_count": null,
   "id": "41f939b0-8973-4f51-8442-861bc683c0f9",
   "metadata": {},
   "outputs": [],
   "source": [
    "import os \n",
    "os.rename('file.txt','newfile.txt')"
   ]
  }
 ],
 "metadata": {
  "kernelspec": {
   "display_name": "Python 3 (ipykernel)",
   "language": "python",
   "name": "python3"
  },
  "language_info": {
   "codemirror_mode": {
    "name": "ipython",
    "version": 3
   },
   "file_extension": ".py",
   "mimetype": "text/x-python",
   "name": "python",
   "nbconvert_exporter": "python",
   "pygments_lexer": "ipython3",
   "version": "3.13.1"
  }
 },
 "nbformat": 4,
 "nbformat_minor": 5
}
