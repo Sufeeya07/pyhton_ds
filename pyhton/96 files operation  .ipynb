{
 "cells": [
  {
   "cell_type": "code",
   "execution_count": null,
   "id": "7703fd72-c774-4b54-9911-1a9ca008f782",
   "metadata": {},
   "outputs": [],
   "source": [
    "file operation-- append , expend, read,  write"
   ]
  },
  {
   "cell_type": "code",
   "execution_count": null,
   "id": "32893a5a-678c-45c3-95b5-afa6648d24af",
   "metadata": {},
   "outputs": [],
   "source": [
    "f = open() \n",
    "f is var . open() inbuilt function , helps to create file and perform operation on file\n",
    "open() has two param. ( file name, mode)"
   ]
  },
  {
   "cell_type": "code",
   "execution_count": 45,
   "id": "507c2dab-8427-4d7f-b7c3-26cd4e007d42",
   "metadata": {},
   "outputs": [],
   "source": [
    "f = open( 'test1.txt' , \"w\") # create file"
   ]
  },
  {
   "cell_type": "code",
   "execution_count": 48,
   "id": "5370d4d2-505b-4809-a931-0eda69781e88",
   "metadata": {},
   "outputs": [
    {
     "data": {
      "text/plain": [
       "'/home/jovyan/work/python'"
      ]
     },
     "execution_count": 48,
     "metadata": {},
     "output_type": "execute_result"
    }
   ],
   "source": [
    "pwd # present working  directory .. check where my file is create , in pwd my file is create"
   ]
  },
  {
   "cell_type": "code",
   "execution_count": 49,
   "id": "9b9e22e2-8014-452d-a031-a90710a398f7",
   "metadata": {},
   "outputs": [
    {
     "name": "stdout",
     "output_type": "stream",
     "text": [
      " 1frstpy.ipynb\n",
      " 2list.ipynb\n",
      "'3tuple set.ipynb'\n",
      " 4dict.ipynb\n",
      "'5if else.ipynb'\n",
      " 6loop.ipynb\n",
      " 7fun.ipynb\n",
      "'8generator fun.ipynb'\n",
      "'91 decorator.ipynb'\n",
      " 9.1lambda.ipynb\n",
      "'92 class method.ipynb'\n",
      "'9.2 map().ipynb'\n",
      "'9.2 map reduce filter ().ipynb'\n",
      "'9.3 reduce.ipynb'\n",
      "'93 static method.ipynb'\n",
      "'9.4 filter.ipynb'\n",
      "'94  special magic dunder ().ipynb'\n",
      "'9.5 oops.ipynb'\n",
      "'95 Property Decorators Getters, Setters, And Deletes.ipynb'\n",
      "'96 files operation  .ipynb'\n",
      "'9.6 polymos.ipynb'\n",
      "'9.7 encap.ipynb'\n",
      "'9.8 inheritance.ipynb'\n",
      "'9.9 abstraction.ipynb'\n",
      " t2.txt\n",
      " test1.txt\n",
      " test.txt\n"
     ]
    }
   ],
   "source": [
    "ls #list"
   ]
  },
  {
   "cell_type": "code",
   "execution_count": 21,
   "id": "5566a541-0ffd-4f2c-bf8f-99124e8cc618",
   "metadata": {},
   "outputs": [
    {
     "ename": "SyntaxError",
     "evalue": "invalid syntax (2830791782.py, line 2)",
     "output_type": "error",
     "traceback": [
      "\u001b[0;36m  Cell \u001b[0;32mIn[21], line 2\u001b[0;36m\u001b[0m\n\u001b[0;31m    cd work\u001b[0m\n\u001b[0m       ^\u001b[0m\n\u001b[0;31mSyntaxError\u001b[0m\u001b[0;31m:\u001b[0m invalid syntax\n"
     ]
    }
   ],
   "source": [
    "# change location\n",
    "cd work #change-directory"
   ]
  },
  {
   "cell_type": "code",
   "execution_count": 89,
   "id": "abeeb646-d325-4066-bbb0-dc1864b8aad3",
   "metadata": {},
   "outputs": [],
   "source": [
    "a = open( 'test2.txt' , \"w\")"
   ]
  },
  {
   "cell_type": "code",
   "execution_count": 77,
   "id": "50adf508-d778-47af-a197-fd53a64a7025",
   "metadata": {},
   "outputs": [
    {
     "data": {
      "text/plain": [
       "31"
      ]
     },
     "execution_count": 77,
     "metadata": {},
     "output_type": "execute_result"
    }
   ],
   "source": [
    "a.write('this is my first file to write.')"
   ]
  },
  {
   "cell_type": "code",
   "execution_count": 78,
   "id": "ee5f99c3-faf3-4fbd-bd31-e7aefa9289bf",
   "metadata": {},
   "outputs": [],
   "source": [
    "a.close()"
   ]
  },
  {
   "cell_type": "code",
   "execution_count": 90,
   "id": "7201a5c7-126b-4559-8df1-3c2b7a0c82d7",
   "metadata": {},
   "outputs": [
    {
     "data": {
      "text/plain": [
       "18"
      ]
     },
     "execution_count": 90,
     "metadata": {},
     "output_type": "execute_result"
    }
   ],
   "source": [
    "a.write(\"this is my file . \")   #w pehle old data delete krdega fir new data add krega "
   ]
  },
  {
   "cell_type": "code",
   "execution_count": 91,
   "id": "435493f5-c3b3-4e69-98f2-f2e4a792b911",
   "metadata": {},
   "outputs": [],
   "source": [
    "a.close()"
   ]
  },
  {
   "cell_type": "code",
   "execution_count": 95,
   "id": "4453b510-841a-4d52-afe6-5a110f368bd1",
   "metadata": {},
   "outputs": [],
   "source": [
    "a = open( 'test2.txt' , \"a\") # a is append ur data .  do not delete data"
   ]
  },
  {
   "cell_type": "code",
   "execution_count": 96,
   "id": "9aab0e65-5712-4067-a895-7504f63e6435",
   "metadata": {},
   "outputs": [
    {
     "data": {
      "text/plain": [
       "280"
      ]
     },
     "execution_count": 117,
     "metadata": {},
     "output_type": "execute_result"
    }
   ],
   "source": [
    "a.write( \"Data science is the study of data to extract meaningful insights for business. It is a multidisciplinary approach that combines principles and practices from the fields of mathematics, statistics, artificial intelligence, and computer engineering to analyze large amounts of data.\")"
   ]
  },
  {
   "cell_type": "code",
   "execution_count": 97,
   "id": "34c6f4d1-2801-49dd-8587-bca503348733",
   "metadata": {},
   "outputs": [],
   "source": [
    "a.close()"
   ]
  },
  {
   "cell_type": "code",
   "execution_count": 106,
   "id": "5e4c384a-8102-4d06-b8ca-99ca11d783d4",
   "metadata": {},
   "outputs": [],
   "source": [
    "a = open( 'test2.txt' , \"r\")"
   ]
  },
  {
   "cell_type": "code",
   "execution_count": 107,
   "id": "5fa269b5-9f32-470b-b1d8-d62b8eaa8cbd",
   "metadata": {},
   "outputs": [
    {
     "data": {
      "text/plain": [
       "'this is my file . Data science is the study of data to extract meaningful insights for business. It is a multidisciplinary approach that combines principles and practices from the fields of mathematics, statistics, artificial intelligence, and computer engineering to analyze large amounts of data.\\nData science is the study of data to extract meaningful insights for business. It is a multidisciplinary approach that combines principles and practices from the fields of mathematics, statistics, artificial intelligence, and computer engineering to analyze large amounts of data.Data science is the study of data to extract meaningful insights for business. It is a multidisciplinary approach that combines principles and practices from the fields of mathematics, statistics, artificial intelligence, and computer engineering to analyze large amounts of data.'"
      ]
     },
     "execution_count": 120,
     "metadata": {},
     "output_type": "execute_result"
    }
   ],
   "source": [
    "a.read()"
   ]
  },
  {
   "cell_type": "code",
   "execution_count": 108,
   "id": "674c1816-a760-4acd-a6cc-7ebfa75cac7d",
   "metadata": {},
   "outputs": [
    {
     "data": {
      "text/plain": [
       "''"
      ]
     },
     "execution_count": 121,
     "metadata": {},
     "output_type": "execute_result"
    }
   ],
   "source": [
    "a.readline() #given blank data , then seek() to read the line "
   ]
  },
  {
   "cell_type": "code",
   "execution_count": 112,
   "id": "7ee3b7e8-46c9-4f1f-9237-94d456ac3f5f",
   "metadata": {},
   "outputs": [
    {
     "data": {
      "text/plain": [
       "10"
      ]
     },
     "execution_count": 122,
     "metadata": {},
     "output_type": "execute_result"
    }
   ],
   "source": [
    "a.seek(10) #2 is index , Data will be read at this index"
   ]
  },
  {
   "cell_type": "code",
   "execution_count": 113,
   "id": "c0b45879-ee94-442f-9dac-a84ea03eb1d2",
   "metadata": {},
   "outputs": [
    {
     "data": {
      "text/plain": [
       "' file . Data science is the study of data to extract meaningful insights for business. It is a multidisciplinary approach that combines principles and practices from the fields of mathematics, statistics, artificial intelligence, and computer engineering to analyze large amounts of data.\\n'"
      ]
     },
     "execution_count": 123,
     "metadata": {},
     "output_type": "execute_result"
    }
   ],
   "source": [
    "a.readline()"
   ]
  },
  {
   "cell_type": "code",
   "execution_count": 114,
   "id": "e84a7a05-dac4-4033-a28b-07e0403b1a81",
   "metadata": {},
   "outputs": [
    {
     "ename": "FileNotFoundError",
     "evalue": "[Errno 2] No such file or directory: 'test2.txt'",
     "output_type": "error",
     "traceback": [
      "\u001b[0;31m---------------------------------------------------------------------------\u001b[0m",
      "\u001b[0;31mFileNotFoundError\u001b[0m                         Traceback (most recent call last)",
      "Cell \u001b[0;32mIn[135], line 1\u001b[0m\n\u001b[0;32m----> 1\u001b[0m b\u001b[38;5;241m=\u001b[39m \u001b[38;5;28;43mopen\u001b[39;49m\u001b[43m(\u001b[49m\u001b[43m \u001b[49m\u001b[38;5;124;43m'\u001b[39;49m\u001b[38;5;124;43mtest2.txt\u001b[39;49m\u001b[38;5;124;43m'\u001b[39;49m\u001b[43m \u001b[49m\u001b[43m,\u001b[49m\u001b[43m \u001b[49m\u001b[38;5;124;43m\"\u001b[39;49m\u001b[38;5;124;43mr\u001b[39;49m\u001b[38;5;124;43m\"\u001b[39;49m\u001b[43m)\u001b[49m\n\u001b[1;32m      2\u001b[0m \u001b[38;5;28;01mfor\u001b[39;00m i \u001b[38;5;129;01min\u001b[39;00m b:   \u001b[38;5;66;03m# using loop  data read line by line\u001b[39;00m\n\u001b[1;32m      3\u001b[0m     \u001b[38;5;28mprint\u001b[39m(i)\n",
      "File \u001b[0;32m/opt/conda/lib/python3.10/site-packages/IPython/core/interactiveshell.py:282\u001b[0m, in \u001b[0;36m_modified_open\u001b[0;34m(file, *args, **kwargs)\u001b[0m\n\u001b[1;32m    275\u001b[0m \u001b[38;5;28;01mif\u001b[39;00m file \u001b[38;5;129;01min\u001b[39;00m {\u001b[38;5;241m0\u001b[39m, \u001b[38;5;241m1\u001b[39m, \u001b[38;5;241m2\u001b[39m}:\n\u001b[1;32m    276\u001b[0m     \u001b[38;5;28;01mraise\u001b[39;00m \u001b[38;5;167;01mValueError\u001b[39;00m(\n\u001b[1;32m    277\u001b[0m         \u001b[38;5;124mf\u001b[39m\u001b[38;5;124m\"\u001b[39m\u001b[38;5;124mIPython won\u001b[39m\u001b[38;5;124m'\u001b[39m\u001b[38;5;124mt let you open fd=\u001b[39m\u001b[38;5;132;01m{\u001b[39;00mfile\u001b[38;5;132;01m}\u001b[39;00m\u001b[38;5;124m by default \u001b[39m\u001b[38;5;124m\"\u001b[39m\n\u001b[1;32m    278\u001b[0m         \u001b[38;5;124m\"\u001b[39m\u001b[38;5;124mas it is likely to crash IPython. If you know what you are doing, \u001b[39m\u001b[38;5;124m\"\u001b[39m\n\u001b[1;32m    279\u001b[0m         \u001b[38;5;124m\"\u001b[39m\u001b[38;5;124myou can use builtins\u001b[39m\u001b[38;5;124m'\u001b[39m\u001b[38;5;124m open.\u001b[39m\u001b[38;5;124m\"\u001b[39m\n\u001b[1;32m    280\u001b[0m     )\n\u001b[0;32m--> 282\u001b[0m \u001b[38;5;28;01mreturn\u001b[39;00m \u001b[43mio_open\u001b[49m\u001b[43m(\u001b[49m\u001b[43mfile\u001b[49m\u001b[43m,\u001b[49m\u001b[43m \u001b[49m\u001b[38;5;241;43m*\u001b[39;49m\u001b[43margs\u001b[49m\u001b[43m,\u001b[49m\u001b[43m \u001b[49m\u001b[38;5;241;43m*\u001b[39;49m\u001b[38;5;241;43m*\u001b[39;49m\u001b[43mkwargs\u001b[49m\u001b[43m)\u001b[49m\n",
      "\u001b[0;31mFileNotFoundError\u001b[0m: [Errno 2] No such file or directory: 'test2.txt'"
     ]
    }
   ],
   "source": [
    "b= open( 'test2.txt' , \"r\")\n",
    "for i in b:   # using loop  data read line by line\n",
    "    print(i)"
   ]
  },
  {
   "cell_type": "code",
   "execution_count": 136,
   "id": "f4a5fcb9-6c6c-4e3e-bcc4-778d13279e52",
   "metadata": {},
   "outputs": [
    {
     "ename": "FileNotFoundError",
     "evalue": "[Errno 2] No such file or directory: 'test2.txt'",
     "output_type": "error",
     "traceback": [
      "\u001b[0;31m---------------------------------------------------------------------------\u001b[0m",
      "\u001b[0;31mFileNotFoundError\u001b[0m                         Traceback (most recent call last)",
      "Cell \u001b[0;32mIn[136], line 2\u001b[0m\n\u001b[1;32m      1\u001b[0m \u001b[38;5;28;01mimport\u001b[39;00m \u001b[38;5;21;01mos\u001b[39;00m\n\u001b[0;32m----> 2\u001b[0m \u001b[43mos\u001b[49m\u001b[38;5;241;43m.\u001b[39;49m\u001b[43mpath\u001b[49m\u001b[38;5;241;43m.\u001b[39;49m\u001b[43mgetsize\u001b[49m\u001b[43m(\u001b[49m\u001b[38;5;124;43m'\u001b[39;49m\u001b[38;5;124;43mtest2.txt\u001b[39;49m\u001b[38;5;124;43m'\u001b[39;49m\u001b[43m)\u001b[49m\n",
      "File \u001b[0;32m/opt/conda/lib/python3.10/genericpath.py:50\u001b[0m, in \u001b[0;36mgetsize\u001b[0;34m(filename)\u001b[0m\n\u001b[1;32m     48\u001b[0m \u001b[38;5;28;01mdef\u001b[39;00m \u001b[38;5;21mgetsize\u001b[39m(filename):\n\u001b[1;32m     49\u001b[0m     \u001b[38;5;124;03m\"\"\"Return the size of a file, reported by os.stat().\"\"\"\u001b[39;00m\n\u001b[0;32m---> 50\u001b[0m     \u001b[38;5;28;01mreturn\u001b[39;00m \u001b[43mos\u001b[49m\u001b[38;5;241;43m.\u001b[39;49m\u001b[43mstat\u001b[49m\u001b[43m(\u001b[49m\u001b[43mfilename\u001b[49m\u001b[43m)\u001b[49m\u001b[38;5;241m.\u001b[39mst_size\n",
      "\u001b[0;31mFileNotFoundError\u001b[0m: [Errno 2] No such file or directory: 'test2.txt'"
     ]
    }
   ],
   "source": [
    "import os   # os is model \n",
    "os.path.getsize('test2.txt')"
   ]
  },
  {
   "cell_type": "code",
   "execution_count": 137,
   "id": "d87d29bc-80e8-400b-9ff1-a52fa67c7ac1",
   "metadata": {},
   "outputs": [
    {
     "ename": "FileNotFoundError",
     "evalue": "[Errno 2] No such file or directory: 'test2.txt'",
     "output_type": "error",
     "traceback": [
      "\u001b[0;31m---------------------------------------------------------------------------\u001b[0m",
      "\u001b[0;31mFileNotFoundError\u001b[0m                         Traceback (most recent call last)",
      "Cell \u001b[0;32mIn[137], line 1\u001b[0m\n\u001b[0;32m----> 1\u001b[0m \u001b[43mos\u001b[49m\u001b[38;5;241;43m.\u001b[39;49m\u001b[43m \u001b[49m\u001b[43mremove\u001b[49m\u001b[43m(\u001b[49m\u001b[38;5;124;43m'\u001b[39;49m\u001b[38;5;124;43mtest2.txt\u001b[39;49m\u001b[38;5;124;43m'\u001b[39;49m\u001b[43m)\u001b[49m\n",
      "\u001b[0;31mFileNotFoundError\u001b[0m: [Errno 2] No such file or directory: 'test2.txt'"
     ]
    }
   ],
   "source": [
    "os. remove('test2.txt')"
   ]
  },
  {
   "cell_type": "code",
   "execution_count": 161,
   "id": "b75b06a8-9b66-4041-a67e-8eda15603d9b",
   "metadata": {},
   "outputs": [],
   "source": [
    "c = open ('ufile.txt' , 'w')"
   ]
  },
  {
   "cell_type": "code",
   "execution_count": 162,
   "id": "f5efea25-4859-4a0a-8417-15de5b010be3",
   "metadata": {},
   "outputs": [
    {
     "data": {
      "text/plain": [
       "298"
      ]
     },
     "execution_count": 162,
     "metadata": {},
     "output_type": "execute_result"
    }
   ],
   "source": [
    "c.write(\"this is my file . Data science is the study of data to extract meaningful insights for business. It is a multidisciplinary approach that combines principles and practices from the fields of mathematics, statistics, artificial intelligence, and computer engineering to analyze large amounts of data.\")"
   ]
  },
  {
   "cell_type": "code",
   "execution_count": 163,
   "id": "e795f53e-1316-4e5f-9e7b-ff1e3d1e0dc8",
   "metadata": {},
   "outputs": [],
   "source": [
    "c.close()"
   ]
  },
  {
   "cell_type": "code",
   "execution_count": 164,
   "id": "cba85400-0712-4f68-8aec-892d0cf75fe0",
   "metadata": {},
   "outputs": [],
   "source": [
    "import os   # rename file\n",
    "os.rename('ufile.txt', 'new.txt')"
   ]
  },
  {
   "cell_type": "code",
   "execution_count": 165,
   "id": "66675daa-d3cf-4673-98cf-dda08ba6f6c0",
   "metadata": {},
   "outputs": [
    {
     "data": {
      "text/plain": [
       "'copy_new.txt'"
      ]
     },
     "execution_count": 165,
     "metadata": {},
     "output_type": "execute_result"
    }
   ],
   "source": [
    "import shutil\n",
    "shutil.copy('new.txt' , 'copy_new.txt')"
   ]
  },
  {
   "cell_type": "code",
   "execution_count": 167,
   "id": "6eb80079-ed4a-4363-99c6-ffa880ee5e2b",
   "metadata": {},
   "outputs": [
    {
     "name": "stdout",
     "output_type": "stream",
     "text": [
      "this is my file . Data science is the study of data to extract meaningful insights for business. It is a multidisciplinary approach that combines principles and practices from the fields of mathematics, statistics, artificial intelligence, and computer engineering to analyze large amounts of data.\n"
     ]
    }
   ],
   "source": [
    "# directly open --c = open ('ufile.txt' , 'w')\n",
    "with open ('new.txt' , \"r\") as c:\n",
    "    print(c.read())"
   ]
  },
  {
   "cell_type": "code",
   "execution_count": null,
   "id": "3996965c-7064-469a-b027-f3f3c69acd7a",
   "metadata": {},
   "outputs": [],
   "source": []
  }
 ],
 "metadata": {
  "kernelspec": {
   "display_name": "Python 3 (ipykernel)",
   "language": "python",
   "name": "python3"
  },
  "language_info": {
   "codemirror_mode": {
    "name": "ipython",
    "version": 3
   },
   "file_extension": ".py",
   "mimetype": "text/x-python",
   "name": "python",
   "nbconvert_exporter": "python",
   "pygments_lexer": "ipython3",
   "version": "3.10.8"
  }
 },
 "nbformat": 4,
 "nbformat_minor": 5
}
