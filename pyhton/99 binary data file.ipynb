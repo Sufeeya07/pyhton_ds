{
 "cells": [
  {
   "cell_type": "code",
   "execution_count": null,
   "id": "f6faf5ad-cc63-4ee9-8fb0-50977ab01b96",
   "metadata": {},
   "outputs": [],
   "source": [
    "BINARY DATA FILE  -- whenever u open video or iamge in the form or text format  , to binary dekhata h 0,1\n",
    "01 me convert hoke hexadecimal me store ho jata h systum ke andar.\n",
    "can not directly ready by huamn"
   ]
  },
  {
   "cell_type": "code",
   "execution_count": 24,
   "id": "da5b323d-ddd0-419c-8cbc-8e1efc6b0fbf",
   "metadata": {},
   "outputs": [],
   "source": [
    "#how to store  binary data into file\n",
    "\n",
    "with open('t4.bin' , 'wb') as f:\n",
    "    f.write(b\"\\x01\\x02\\x03\\x5344\")    # b is for bianry format , data story in binary format"
   ]
  },
  {
   "cell_type": "code",
   "execution_count": 21,
   "id": "6a577921-349e-448f-9752-65bb0e22d165",
   "metadata": {},
   "outputs": [
    {
     "name": "stdout",
     "output_type": "stream",
     "text": [
      "b'\\x01\\x02\\x03S44'\n"
     ]
    }
   ],
   "source": [
    "with open('t4.bin', 'rb')as f:\n",
    "    print(f.read())"
   ]
  },
  {
   "cell_type": "code",
   "execution_count": null,
   "id": "586c035b-a232-433a-8a37-a15e27a3cd91",
   "metadata": {},
   "outputs": [],
   "source": [
    "\\x01, \\x02, and \\x03 are hexadecimal escape sequences representing bytes with hexadecimal values 01, 02, and 03 respectively."
   ]
  },
  {
   "cell_type": "code",
   "execution_count": null,
   "id": "92357df8-92a2-4a45-9671-28b46876968a",
   "metadata": {},
   "outputs": [],
   "source": [
    "\\x53 represents the ASCII character 'S'."
   ]
  },
  {
   "cell_type": "code",
   "execution_count": null,
   "id": "35300451-0db1-46cd-8510-170a0a476c1a",
   "metadata": {},
   "outputs": [],
   "source": [
    "So, \\x5344 represents the bytes composed of the hexadecimal values 53 and 44, which corresponds to the ASCII characters 'S' and '4'."
   ]
  },
  {
   "cell_type": "code",
   "execution_count": 35,
   "id": "ca71d660-8a41-4489-8be5-bed9e74f4cbf",
   "metadata": {},
   "outputs": [],
   "source": [
    "some_bytes= b'\\xc3\\xA9'\n",
    "\n",
    "with open('files.bin' , 'wb') as a:\n",
    "    a.write(some_bytes)"
   ]
  },
  {
   "cell_type": "code",
   "execution_count": 39,
   "id": "f187ecee-c1ac-42d4-9872-d7050bc6f8ef",
   "metadata": {},
   "outputs": [
    {
     "name": "stdout",
     "output_type": "stream",
     "text": [
      "b'\\xc3\\xa9'\n"
     ]
    }
   ],
   "source": [
    "\n",
    "with open('files.bin' , 'rb') as a:\n",
    "    print(a.read())"
   ]
  },
  {
   "cell_type": "code",
   "execution_count": 33,
   "id": "f6501d30-aeb9-44f7-907a-b5cccf1e9564",
   "metadata": {},
   "outputs": [],
   "source": [
    "byte_arr= [66,33,55]\n",
    "\n",
    "with open('file.bin' , 'wb')as a:\n",
    "    a.write(bytes(byte_arr))"
   ]
  },
  {
   "cell_type": "code",
   "execution_count": 43,
   "id": "544402c7-a5f9-41af-aafe-a6b6d27022dd",
   "metadata": {},
   "outputs": [],
   "source": [
    "with open(\"str.bin\", 'wb') as file2:\n",
    "    file2.write(b\"su\")\n",
    "    file2.write(b\"fee\")\n",
    "    file2.write(b\"ya\")"
   ]
  },
  {
   "cell_type": "code",
   "execution_count": 53,
   "id": "71f25b0b-cc5f-4890-9557-97ad9daea1a9",
   "metadata": {},
   "outputs": [
    {
     "name": "stdout",
     "output_type": "stream",
     "text": [
      "b'su'\n",
      "b'fe'\n",
      "b'ey'\n",
      "b'a'\n"
     ]
    }
   ],
   "source": [
    "with open(\"str.bin\", \"rb\") as file2:\n",
    "    \n",
    "    data = file2.read(2)\n",
    "    while data:\n",
    "        print(data)\n",
    "        data = file2.read(2)\n"
   ]
  },
  {
   "cell_type": "code",
   "execution_count": null,
   "id": "d2d12f27-7023-4862-9fea-52116554b5ec",
   "metadata": {},
   "outputs": [],
   "source": []
  }
 ],
 "metadata": {
  "kernelspec": {
   "display_name": "Python 3 (ipykernel)",
   "language": "python",
   "name": "python3"
  },
  "language_info": {
   "codemirror_mode": {
    "name": "ipython",
    "version": 3
   },
   "file_extension": ".py",
   "mimetype": "text/x-python",
   "name": "python",
   "nbconvert_exporter": "python",
   "pygments_lexer": "ipython3",
   "version": "3.10.8"
  }
 },
 "nbformat": 4,
 "nbformat_minor": 5
}
