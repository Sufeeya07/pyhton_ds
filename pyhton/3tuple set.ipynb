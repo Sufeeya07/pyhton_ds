{
 "cells": [
  {
   "cell_type": "code",
   "execution_count": 1,
   "id": "e6a29b17-70eb-45ff-b61b-21cffd38d503",
   "metadata": {},
   "outputs": [],
   "source": [
    "#tuple same as list , collection of all data type to store data\n",
    "# only two function avilable in tuple index and count\n",
    "tuples are imutable"
   ]
  },
  {
   "cell_type": "code",
   "execution_count": 4,
   "id": "08135a96-8a8d-4355-a1ff-ba14e5e55cab",
   "metadata": {},
   "outputs": [
    {
     "name": "stdout",
     "output_type": "stream",
     "text": [
      "2\n",
      "<class 'int'>\n",
      "3\n",
      "<class 'int'>\n",
      "4\n",
      "<class 'int'>\n",
      "5\n",
      "<class 'int'>\n",
      "sufee\n",
      "<class 'str'>\n",
      "45.4\n",
      "<class 'float'>\n",
      "5\n",
      "<class 'int'>\n",
      "False\n",
      "<class 'bool'>\n",
      "[2, 's']\n",
      "<class 'list'>\n"
     ]
    }
   ],
   "source": [
    "t=(2,3,4,5,\"sufee\", 45.4, 5,False,[2,'s'])\n",
    "for i in t:\n",
    "    print(i)\n",
    "    print(type(i))"
   ]
  },
  {
   "cell_type": "code",
   "execution_count": 9,
   "id": "bdc83955-898e-4356-81cf-d8f22ca7ed91",
   "metadata": {},
   "outputs": [
    {
     "name": "stdout",
     "output_type": "stream",
     "text": [
      "<class 'tuple'>\n"
     ]
    },
    {
     "data": {
      "text/plain": [
       "8"
      ]
     },
     "execution_count": 9,
     "metadata": {},
     "output_type": "execute_result"
    }
   ],
   "source": [
    "print(type(t))\n",
    "len(t)"
   ]
  },
  {
   "cell_type": "code",
   "execution_count": 13,
   "id": "a0fd4a7a-7643-4744-909c-257324627376",
   "metadata": {},
   "outputs": [
    {
     "data": {
      "text/plain": [
       "5"
      ]
     },
     "execution_count": 13,
     "metadata": {},
     "output_type": "execute_result"
    }
   ],
   "source": [
    "t[3]\n"
   ]
  },
  {
   "cell_type": "code",
   "execution_count": 15,
   "id": "7fcaaf12-5128-4c7b-b4fb-c011f65dd52e",
   "metadata": {},
   "outputs": [
    {
     "data": {
      "text/plain": [
       "2"
      ]
     },
     "execution_count": 15,
     "metadata": {},
     "output_type": "execute_result"
    }
   ],
   "source": [
    "t.count(5)"
   ]
  },
  {
   "cell_type": "code",
   "execution_count": 12,
   "id": "a9c184b3-823f-4c35-82d6-910baf7f584d",
   "metadata": {},
   "outputs": [
    {
     "data": {
      "text/plain": [
       "4"
      ]
     },
     "execution_count": 12,
     "metadata": {},
     "output_type": "execute_result"
    }
   ],
   "source": [
    "t.index(\"sufee\")"
   ]
  },
  {
   "cell_type": "code",
   "execution_count": 7,
   "id": "ee75ae34-7ced-4809-afc7-627c6d52e236",
   "metadata": {},
   "outputs": [
    {
     "data": {
      "text/plain": [
       "(2, 3, 4, 5, 'sufee', 45.4, 5, False, [2, 's'])"
      ]
     },
     "execution_count": 7,
     "metadata": {},
     "output_type": "execute_result"
    }
   ],
   "source": [
    "t"
   ]
  },
  {
   "cell_type": "code",
   "execution_count": 10,
   "id": "0a8f0895-f4fb-4450-8b2f-7e79f59399dc",
   "metadata": {},
   "outputs": [
    {
     "data": {
      "text/plain": [
       "([2, 's'], False, 5, 45.4, 'sufee', 5, 4, 3, 2)"
      ]
     },
     "execution_count": 10,
     "metadata": {},
     "output_type": "execute_result"
    }
   ],
   "source": [
    "t[::-1]"
   ]
  },
  {
   "cell_type": "markdown",
   "id": "d59c86b9-ad63-4615-963f-c3b92f55367d",
   "metadata": {},
   "source": [
    "-------- SET --------\n",
    "set support only imutable collection"
   ]
  },
  {
   "cell_type": "code",
   "execution_count": null,
   "id": "88dbf4df-a0a7-47f1-9892-279e86ffeda4",
   "metadata": {},
   "outputs": [],
   "source": [
    "#hashing is use to keep element unique\n",
    "#linear element means without a key pair element"
   ]
  },
  {
   "cell_type": "code",
   "execution_count": 14,
   "id": "c4127da3-242d-45e5-b546-78a34d472c3a",
   "metadata": {},
   "outputs": [
    {
     "data": {
      "text/plain": [
       "dict"
      ]
     },
     "execution_count": 14,
     "metadata": {},
     "output_type": "execute_result"
    }
   ],
   "source": [
    "# blank {} define as dict by default\n",
    "st={}\n",
    "type(st)"
   ]
  },
  {
   "cell_type": "code",
   "execution_count": 13,
   "id": "840e3f56-4570-408b-93b7-07a06621192d",
   "metadata": {},
   "outputs": [
    {
     "ename": "TypeError",
     "evalue": "unhashable type: 'list'",
     "output_type": "error",
     "traceback": [
      "\u001b[1;31m---------------------------------------------------------------------------\u001b[0m",
      "\u001b[1;31mTypeError\u001b[0m                                 Traceback (most recent call last)",
      "Cell \u001b[1;32mIn[13], line 1\u001b[0m\n\u001b[1;32m----> 1\u001b[0m \u001b[38;5;28mset\u001b[39m\u001b[38;5;241m=\u001b[39m{\u001b[38;5;241m234\u001b[39m,\u001b[38;5;241m567\u001b[39m,\u001b[38;5;124m'\u001b[39m\u001b[38;5;124mabv\u001b[39m\u001b[38;5;124m'\u001b[39m, [\u001b[38;5;241m4\u001b[39m,\u001b[38;5;241m3\u001b[39m,\u001b[38;5;241m2\u001b[39m],(\u001b[38;5;124m'\u001b[39m\u001b[38;5;124mabd\u001b[39m\u001b[38;5;124m'\u001b[39m ,\u001b[38;5;241m8.9\u001b[39m)}\n",
      "\u001b[1;31mTypeError\u001b[0m: unhashable type: 'list'"
     ]
    }
   ],
   "source": [
    "# list doesnt support in set, because list is mutable\n",
    "set={234,567,'abv', [4,3,2],('abd' ,8.9)}"
   ]
  },
  {
   "cell_type": "code",
   "execution_count": 44,
   "id": "5694a3c4-255f-498c-8d92-1a48fd758119",
   "metadata": {},
   "outputs": [],
   "source": [
    "s={3,2,1,4,2,(5,'sss') }"
   ]
  },
  {
   "cell_type": "code",
   "execution_count": 45,
   "id": "60115cfd-75a5-4e1d-9523-49de08257b37",
   "metadata": {},
   "outputs": [
    {
     "data": {
      "text/plain": [
       "{(5, 'sss'), 1, 2, 3, 4}"
      ]
     },
     "execution_count": 45,
     "metadata": {},
     "output_type": "execute_result"
    }
   ],
   "source": [
    "s"
   ]
  },
  {
   "cell_type": "code",
   "execution_count": 18,
   "id": "4bf5f661-3a05-452b-bea7-7de6b2213d7f",
   "metadata": {},
   "outputs": [
    {
     "data": {
      "text/plain": [
       "{1, 2, 3, 4, 5, 6, 7, 8}"
      ]
     },
     "execution_count": 18,
     "metadata": {},
     "output_type": "execute_result"
    }
   ],
   "source": [
    "# set remove all the deuplicate\n",
    "\n",
    "s1={1,2,3,3,4,2,2,5,6,7,5,6,6,7,7,8,8}\n",
    "s1"
   ]
  },
  {
   "cell_type": "code",
   "execution_count": 33,
   "id": "4d2a2909-7981-49d8-a034-cb62c3d9973e",
   "metadata": {},
   "outputs": [
    {
     "data": {
      "text/plain": [
       "{2, 3, 4, 5, 6, 7, 'suf'}"
      ]
     },
     "execution_count": 33,
     "metadata": {},
     "output_type": "execute_result"
    }
   ],
   "source": [
    "#in list want to remove duplicate value same as set , we use set()  function\n",
    "l=[3,4,2,5,6,2,7,\"suf\",\"suf\"]\n",
    "set(l)#but output convert datatype convert....list into set ()to {}"
   ]
  },
  {
   "cell_type": "code",
   "execution_count": 37,
   "id": "64f4b2c2-7fa2-4673-8487-276695208d1b",
   "metadata": {},
   "outputs": [
    {
     "data": {
      "text/plain": [
       "[2, 3, 4, 5, 6, 7, 'suf']"
      ]
     },
     "execution_count": 37,
     "metadata": {},
     "output_type": "execute_result"
    }
   ],
   "source": [
    "l=list(set(l))#typecasting {} to ()\n",
    "l"
   ]
  },
  {
   "cell_type": "code",
   "execution_count": 46,
   "id": "fc060207-61b2-46eb-9a68-be5f6dc099a3",
   "metadata": {},
   "outputs": [
    {
     "data": {
      "text/plain": [
       "{(5, 'sss'), 1, 2, 3, 4}"
      ]
     },
     "execution_count": 46,
     "metadata": {},
     "output_type": "execute_result"
    }
   ],
   "source": [
    "s"
   ]
  },
  {
   "cell_type": "code",
   "execution_count": 35,
   "id": "a36d56df-f3c3-4efa-ae1e-3e6c3d8d437a",
   "metadata": {},
   "outputs": [
    {
     "ename": "NameError",
     "evalue": "name 's' is not defined",
     "output_type": "error",
     "traceback": [
      "\u001b[1;31m---------------------------------------------------------------------------\u001b[0m",
      "\u001b[1;31mNameError\u001b[0m                                 Traceback (most recent call last)",
      "Cell \u001b[1;32mIn[35], line 1\u001b[0m\n\u001b[1;32m----> 1\u001b[0m \u001b[43ms\u001b[49m[\u001b[38;5;241m2\u001b[39m]\n\u001b[0;32m      2\u001b[0m s[::\u001b[38;5;241m-\u001b[39m\u001b[38;5;241m1\u001b[39m]\u001b[38;5;66;03m# index or slicing operation doesnt support \u001b[39;00m\n",
      "\u001b[1;31mNameError\u001b[0m: name 's' is not defined"
     ]
    }
   ],
   "source": [
    "s[2]\n",
    "s[::-1]# index or slicing operation doesnt support "
   ]
  },
  {
   "cell_type": "code",
   "execution_count": 23,
   "id": "2bc84bad-ea38-437b-89f8-bdaab0e88a9a",
   "metadata": {},
   "outputs": [
    {
     "data": {
      "text/plain": [
       "{1, 2, 3, 4, 6, 7, 45}"
      ]
     },
     "execution_count": 23,
     "metadata": {},
     "output_type": "execute_result"
    }
   ],
   "source": [
    "s2={2,4,1,6,7,3,45}\n",
    "s2"
   ]
  },
  {
   "cell_type": "code",
   "execution_count": 33,
   "id": "72f6ca4f-db18-47f2-aaae-57372742ff78",
   "metadata": {},
   "outputs": [
    {
     "data": {
      "text/plain": [
       "{1, 2, 4, 5, 6, 7, 8, 45}"
      ]
     },
     "execution_count": 33,
     "metadata": {},
     "output_type": "execute_result"
    }
   ],
   "source": [
    "s2.add(5)#you can add any number at any index\n",
    "s2"
   ]
  },
  {
   "cell_type": "code",
   "execution_count": 54,
   "id": "bfdec3f6-ff5f-4e54-b295-50ebe71e8a5e",
   "metadata": {},
   "outputs": [
    {
     "data": {
      "text/plain": [
       "[1, 2, 4, 5, 6, 7, 8, 45]"
      ]
     },
     "execution_count": 54,
     "metadata": {},
     "output_type": "execute_result"
    }
   ],
   "source": [
    "l=list(s2)\n",
    "l"
   ]
  },
  {
   "cell_type": "code",
   "execution_count": 55,
   "id": "e84d712e-e5ff-4b76-a5cb-730600531c86",
   "metadata": {},
   "outputs": [
    {
     "data": {
      "text/plain": [
       "[1, 2, 'two', 4, 5, 6, 7, 8, 45]"
      ]
     },
     "execution_count": 55,
     "metadata": {},
     "output_type": "execute_result"
    }
   ],
   "source": [
    "l.insert(2,'two')\n",
    "l"
   ]
  },
  {
   "cell_type": "code",
   "execution_count": 56,
   "id": "104ae4af-284f-4e65-9a26-6d665ccfb1d8",
   "metadata": {},
   "outputs": [
    {
     "data": {
      "text/plain": [
       "{1, 2, 4, 45, 5, 6, 7, 8, 'two'}"
      ]
     },
     "execution_count": 56,
     "metadata": {},
     "output_type": "execute_result"
    }
   ],
   "source": [
    "set(l)"
   ]
  },
  {
   "cell_type": "code",
   "execution_count": 25,
   "id": "3425de5f-3185-40e2-aaf2-6826fec21499",
   "metadata": {},
   "outputs": [
    {
     "data": {
      "text/plain": [
       "{1, 2, 4, 6, 7, 8, 45}"
      ]
     },
     "execution_count": 25,
     "metadata": {},
     "output_type": "execute_result"
    }
   ],
   "source": [
    "s2.remove(3)\n",
    "s2"
   ]
  },
  {
   "cell_type": "code",
   "execution_count": null,
   "id": "d9b6c97d-e92c-4bb9-a21c-7c206b98a8c4",
   "metadata": {},
   "outputs": [],
   "source": [
    "##############################"
   ]
  },
  {
   "cell_type": "code",
   "execution_count": 57,
   "id": "d8e43b4b-4874-4fc5-9d52-61ae75f82761",
   "metadata": {},
   "outputs": [
    {
     "data": {
      "text/plain": [
       "20"
      ]
     },
     "execution_count": 57,
     "metadata": {},
     "output_type": "execute_result"
    }
   ],
   "source": [
    "t=(2,3,4,5,\"sufee\", 45.4, 5,False,[20,'s'])\n",
    "t[8][0]"
   ]
  },
  {
   "cell_type": "code",
   "execution_count": 2,
   "id": "fdbe59b8-35fa-41a5-bf28-20f69eaf425c",
   "metadata": {},
   "outputs": [
    {
     "ename": "AttributeError",
     "evalue": "'tuple' object has no attribute 'reverse'",
     "output_type": "error",
     "traceback": [
      "\u001b[0;31m---------------------------------------------------------------------------\u001b[0m",
      "\u001b[0;31mAttributeError\u001b[0m                            Traceback (most recent call last)",
      "Cell \u001b[0;32mIn[2], line 3\u001b[0m\n\u001b[1;32m      1\u001b[0m t1\u001b[38;5;241m=\u001b[39m(\u001b[38;5;241m1\u001b[39m,\u001b[38;5;241m2\u001b[39m,\u001b[38;5;241m3\u001b[39m)\n\u001b[1;32m      2\u001b[0m t2\u001b[38;5;241m=\u001b[39m(\u001b[38;5;241m4\u001b[39m,\u001b[38;5;241m5\u001b[39m,\u001b[38;5;241m6\u001b[39m)\n\u001b[0;32m----> 3\u001b[0m \u001b[43mt1\u001b[49m\u001b[38;5;241;43m.\u001b[39;49m\u001b[43mreverse\u001b[49m(t2)\n",
      "\u001b[0;31mAttributeError\u001b[0m: 'tuple' object has no attribute 'reverse'"
     ]
    }
   ],
   "source": [
    "t1=(1,2,3)\n",
    "t2=(4,5,6)\n",
    "t1.reverse(t2)"
   ]
  },
  {
   "cell_type": "code",
   "execution_count": 2,
   "id": "0b65f5f9-8289-45a8-a505-8e9c959b5e1c",
   "metadata": {},
   "outputs": [
    {
     "data": {
      "text/plain": [
       "(1, 2, 3)"
      ]
     },
     "execution_count": 2,
     "metadata": {},
     "output_type": "execute_result"
    }
   ],
   "source": [
    "t1"
   ]
  },
  {
   "cell_type": "code",
   "execution_count": null,
   "id": "8cc9cf22-3524-4774-a7c8-fcf33c346d8b",
   "metadata": {},
   "outputs": [],
   "source": [
    "t = (1, 1, 1, 1, 1)\n",
    "\n",
    "if t.count(t[0]) == len(t):\n",
    "    print(\"same\")\n",
    "else:\n",
    "    print(\"Not same.\")\n"
   ]
  },
  {
   "cell_type": "code",
   "execution_count": null,
   "id": "7b446da8-7cbc-418e-9f57-ca4529d94c56",
   "metadata": {},
   "outputs": [],
   "source": []
  }
 ],
 "metadata": {
  "kernelspec": {
   "display_name": "Python 3 (ipykernel)",
   "language": "python",
   "name": "python3"
  },
  "language_info": {
   "codemirror_mode": {
    "name": "ipython",
    "version": 3
   },
   "file_extension": ".py",
   "mimetype": "text/x-python",
   "name": "python",
   "nbconvert_exporter": "python",
   "pygments_lexer": "ipython3",
   "version": "3.13.1"
  }
 },
 "nbformat": 4,
 "nbformat_minor": 5
}
