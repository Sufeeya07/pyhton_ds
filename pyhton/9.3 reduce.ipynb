{
 "cells": [
  {
   "cell_type": "code",
   "execution_count": null,
   "id": "981fea0f-5fe4-4554-b137-3b58c62b97ca",
   "metadata": {},
   "outputs": [],
   "source": [
    "reduce by-default not available have to call that function form inside the libraries\n",
    "from functools import reduce # funct. is a package and inside this reduce() is avail\n",
    "first have to call functoola than reduce"
   ]
  },
  {
   "cell_type": "code",
   "execution_count": null,
   "id": "ba145c95-4bee-4f1e-be6b-e1b22799c04e",
   "metadata": {},
   "outputs": [],
   "source": [
    "reduce me ek list ko pura reduce(to make something less or smaller in quantity) krkae ek single entity generate / return krekga"
   ]
  },
  {
   "cell_type": "code",
   "execution_count": 4,
   "id": "845fd105-6bcc-492f-967f-dd33ea6a1e84",
   "metadata": {},
   "outputs": [
    {
     "name": "stdout",
     "output_type": "stream",
     "text": [
      "The sum of the list elements is : 120\n"
     ]
    }
   ],
   "source": [
    "from functools import reduce\n",
    "l=[1,2,3,4,5]\n",
    "print(\"The sum of the list elements is : \", end=\"\") # end is to print the element on the same line\n",
    "print(reduce(lambda x,y: x*y, l))"
   ]
  },
  {
   "cell_type": "code",
   "execution_count": 3,
   "id": "8bfe67cb-eac9-42d0-8e93-b3461a174844",
   "metadata": {},
   "outputs": [
    {
     "name": "stdout",
     "output_type": "stream",
     "text": [
      "15\n"
     ]
    }
   ],
   "source": [
    "from functools import reduce\n",
    "l=[1,2,3,4,5]\n",
    "def add(x,y): # return sum(l)\n",
    "        return x+y\n",
    "print(reduce(add,l))"
   ]
  },
  {
   "cell_type": "code",
   "execution_count": 6,
   "id": "747634d6-054f-4250-a23a-80a639c8cbff",
   "metadata": {},
   "outputs": [
    {
     "name": "stdout",
     "output_type": "stream",
     "text": [
      "9\n"
     ]
    }
   ],
   "source": [
    "from functools import reduce\n",
    "l2=[2,3,4,5,6,7,8,9]\n",
    "def maxi(a,b):\n",
    "    return max(a,b)\n",
    "print(reduce(maxi,l2))"
   ]
  },
  {
   "cell_type": "code",
   "execution_count": 7,
   "id": "7796906b-30a4-4a07-a6c7-a661618024ee",
   "metadata": {},
   "outputs": [
    {
     "data": {
      "text/plain": [
       "[2, 3, 4, 5, 6, 7, 8, 9]"
      ]
     },
     "execution_count": 7,
     "metadata": {},
     "output_type": "execute_result"
    }
   ],
   "source": [
    "l2"
   ]
  },
  {
   "cell_type": "code",
   "execution_count": 8,
   "id": "1abcf83f-9b93-44bb-9c97-18ea23c23386",
   "metadata": {},
   "outputs": [
    {
     "data": {
      "text/plain": [
       "9"
      ]
     },
     "execution_count": 8,
     "metadata": {},
     "output_type": "execute_result"
    }
   ],
   "source": [
    "reduce(lambda x,y: x if x>y else y, l2)"
   ]
  },
  {
   "cell_type": "code",
   "execution_count": 11,
   "id": "54bea622-5825-464a-90d1-b1b14cd0c83a",
   "metadata": {},
   "outputs": [
    {
     "name": "stdout",
     "output_type": "stream",
     "text": [
      "3\n",
      "sufeeyaparween\n"
     ]
    }
   ],
   "source": [
    "import functools \n",
    "import operator \n",
    "\n",
    "lis = [1, 2] \n",
    "print(functools.reduce(operator.add, lis))\n",
    "print(functools.reduce(operator.add, (\"sufeeya\", \"parween\")))\n"
   ]
  },
  {
   "cell_type": "code",
   "execution_count": null,
   "id": "7c2e170e-289f-44fe-a7e4-3b8c7d47bcd0",
   "metadata": {},
   "outputs": [],
   "source": []
  }
 ],
 "metadata": {
  "kernelspec": {
   "display_name": "Python 3 (ipykernel)",
   "language": "python",
   "name": "python3"
  },
  "language_info": {
   "codemirror_mode": {
    "name": "ipython",
    "version": 3
   },
   "file_extension": ".py",
   "mimetype": "text/x-python",
   "name": "python",
   "nbconvert_exporter": "python",
   "pygments_lexer": "ipython3",
   "version": "3.10.8"
  }
 },
 "nbformat": 4,
 "nbformat_minor": 5
}
