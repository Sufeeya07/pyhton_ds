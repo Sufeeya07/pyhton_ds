{
 "cells": [
  {
   "cell_type": "code",
   "execution_count": null,
   "id": "ac22f0ad-c50e-4ebf-89d9-566b15e79925",
   "metadata": {},
   "outputs": [],
   "source": [
    "---CLASS METHOD\n",
    "class methods must have class as a parameter.\n"
   ]
  },
  {
   "cell_type": "code",
   "execution_count": 5,
   "id": "183b5f74-ef69-4c94-b0ed-c2613ef9803f",
   "metadata": {},
   "outputs": [],
   "source": [
    "class pws:\n",
    "    def __init__(self, name, email):\n",
    "        self.n = name\n",
    "        self.e = email\n",
    "        \n",
    "    def student_det(self):  #class method\n",
    "        print(self.n, self.e)"
   ]
  },
  {
   "cell_type": "code",
   "execution_count": 7,
   "id": "c515a8d5-b857-4f56-9440-cdfa4f6b450a",
   "metadata": {},
   "outputs": [
    {
     "data": {
      "text/plain": [
       "'mohan'"
      ]
     },
     "execution_count": 7,
     "metadata": {},
     "output_type": "execute_result"
    }
   ],
   "source": [
    "pw= pws('mohan', \"mohan@gmail.com\")\n",
    "pw.n"
   ]
  },
  {
   "cell_type": "code",
   "execution_count": 9,
   "id": "6e950bda-5796-4534-b79b-292d943b1955",
   "metadata": {},
   "outputs": [
    {
     "name": "stdout",
     "output_type": "stream",
     "text": [
      "mohan mohan@gmail.com\n"
     ]
    }
   ],
   "source": [
    "pw.student_det()"
   ]
  },
  {
   "cell_type": "code",
   "execution_count": 4,
   "id": "1a545ee3-a4f1-4984-854e-3a2ddc6856f4",
   "metadata": {},
   "outputs": [],
   "source": [
    "class pws:\n",
    "    mobile_num = 9431498122\n",
    "        \n",
    "    def __init__(self, name, email):   #here overloding of init with the help of classmethod\n",
    "        self.n = name\n",
    "        self.e = email\n",
    "        \n",
    "    @classmethod   \n",
    "    def details(cls, name , email):  #cls is reference or pointer jo directly class bind krega\n",
    "        return cls(name, email)     # you can use init but hume pehle obj bnana hoga\n",
    "\n",
    "    def student_det(self):  #class method\n",
    "        print(self.n, self.e, pws.mobile_num)\n",
    "        "
   ]
  },
  {
   "cell_type": "code",
   "execution_count": 32,
   "id": "a7c65dc9-34ec-469c-8cd1-21e36ba89931",
   "metadata": {},
   "outputs": [
    {
     "name": "stdout",
     "output_type": "stream",
     "text": [
      "suffeya  sp@gmail.com 9431498122\n"
     ]
    }
   ],
   "source": [
    "pw=pws.details('suffeya', ' sp@gmail.com')   #we create var through class here we dont creacte obje of class for data pass\n",
    "pw.student_det()"
   ]
  },
  {
   "cell_type": "code",
   "execution_count": 12,
   "id": "42f9148a-b88f-405a-ad5e-a1d5f0f93a83",
   "metadata": {},
   "outputs": [
    {
     "name": "stdout",
     "output_type": "stream",
     "text": [
      "purchase course: dsm\n"
     ]
    }
   ],
   "source": [
    "class ab:\n",
    "    course ='dsm' #class variable\n",
    "    \n",
    " \n",
    "    def purchase(cls):\n",
    "        print(\"purchase course:\", cls.course)\n",
    "        \n",
    "ab.purchase= classmethod(ab.purchase) #reassigning the purchase attribute of the class ab to itself.\n",
    "ab.purchase()"
   ]
  },
  {
   "cell_type": "code",
   "execution_count": 12,
   "id": "f2802c3c-ada2-4e28-9998-6d7885cf8c96",
   "metadata": {},
   "outputs": [],
   "source": [
    "class abc:\n",
    "    mobile_num = 9431498122\n",
    "    \n",
    "    @classmethod\n",
    "    def change_num(cls, mobile):\n",
    "        abc.mobile_num= mobile\n",
    "        "
   ]
  },
  {
   "cell_type": "code",
   "execution_count": 6,
   "id": "f1020e1c-7bfe-4ed6-8e3e-cb368779d59d",
   "metadata": {},
   "outputs": [
    {
     "data": {
      "text/plain": [
       "9431498129"
      ]
     },
     "execution_count": 6,
     "metadata": {},
     "output_type": "execute_result"
    }
   ],
   "source": [
    "abc.change_num(9431498129)\n",
    "abc.mobile_num"
   ]
  },
  {
   "cell_type": "code",
   "execution_count": 34,
   "id": "9ef26f80-3759-448c-98b7-c57b0b9e9310",
   "metadata": {},
   "outputs": [],
   "source": [
    "# want to add extrnal fun as a part of classmethod , how to involve into class\n",
    "class pws2:\n",
    "    mobile_num = 9431498122\n",
    "        \n",
    "    def __init__(self, name, email):  \n",
    "        self.n = name\n",
    "        self.e = email\n",
    "        \n",
    "    @classmethod   \n",
    "    def details(cls, name , email): \n",
    "        return cls(name, email)     \n",
    "    \n",
    "    def student_det(self):  #class method\n",
    "        print(self.n, self.e, pws2.mobile_num)\n",
    "\n",
    "def course_det(cls, course_name):\n",
    "    print(\"course name is: \", course_name)"
   ]
  },
  {
   "cell_type": "code",
   "execution_count": 35,
   "id": "d480f3a1-6f7e-492d-be43-189011cbcf5c",
   "metadata": {},
   "outputs": [],
   "source": [
    "pws2.course_det = classmethod(course_det)"
   ]
  },
  {
   "cell_type": "code",
   "execution_count": 36,
   "id": "24b4180e-1a92-4635-8ff6-de214390a16e",
   "metadata": {},
   "outputs": [
    {
     "name": "stdout",
     "output_type": "stream",
     "text": [
      "course name is:  data science\n"
     ]
    }
   ],
   "source": [
    "pws2.course_det(\"data science\")"
   ]
  },
  {
   "cell_type": "code",
   "execution_count": 38,
   "id": "276b1220-727a-4db9-be70-230de80cb679",
   "metadata": {},
   "outputs": [
    {
     "name": "stdout",
     "output_type": "stream",
     "text": [
      "['sufeeya', 'sudhanshu']\n"
     ]
    }
   ],
   "source": [
    "def mentor(cls, list_of_mentor):\n",
    "    print(list_of_mentor)\n",
    "    \n",
    "pws2.mentor= classmethod(mentor)\n",
    "pws2.mentor(['sufeeya', 'sudhanshu'])"
   ]
  },
  {
   "cell_type": "code",
   "execution_count": 40,
   "id": "21482d48-b589-402e-8263-91e6ff96a232",
   "metadata": {},
   "outputs": [],
   "source": [
    "# want to delete fun from class\n",
    "class pws3:\n",
    "    mobile_num = 9431498122\n",
    "        \n",
    "    def __init__(self, name, email):  \n",
    "        self.n = name\n",
    "        self.e = email\n",
    "        \n",
    "    @classmethod\n",
    "    def change_num(cls, mobile):\n",
    "        abc.mobile_num= mobile\n",
    "        \n",
    "    @classmethod   \n",
    "    def details(cls, name , email): \n",
    "        return cls(name, email)     \n",
    "    \n",
    "    def student_det(self):  #class method\n",
    "        print(self.n, self.e, pws3.mobile_num)\n"
   ]
  },
  {
   "cell_type": "code",
   "execution_count": 41,
   "id": "e0b398e6-3a5e-46fc-95bc-2a6de3903b22",
   "metadata": {},
   "outputs": [],
   "source": [
    "del pws3.change_num"
   ]
  },
  {
   "cell_type": "code",
   "execution_count": 42,
   "id": "c78fc828-8e9e-4b53-913a-110ea9ebcc28",
   "metadata": {},
   "outputs": [],
   "source": [
    "delattr(pws3, \"details\") #delete attribute fun"
   ]
  },
  {
   "cell_type": "code",
   "execution_count": null,
   "id": "3fbf854e-1f13-4d9a-88da-2997ee0af641",
   "metadata": {},
   "outputs": [],
   "source": []
  }
 ],
 "metadata": {
  "kernelspec": {
   "display_name": "Python 3 (ipykernel)",
   "language": "python",
   "name": "python3"
  },
  "language_info": {
   "codemirror_mode": {
    "name": "ipython",
    "version": 3
   },
   "file_extension": ".py",
   "mimetype": "text/x-python",
   "name": "python",
   "nbconvert_exporter": "python",
   "pygments_lexer": "ipython3",
   "version": "3.10.8"
  }
 },
 "nbformat": 4,
 "nbformat_minor": 5
}
