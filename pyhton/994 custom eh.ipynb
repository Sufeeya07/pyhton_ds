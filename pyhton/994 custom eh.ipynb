{
 "cells": [
  {
   "cell_type": "code",
   "execution_count": 1,
   "id": "60cb22c7-5ce7-4399-9a88-0c331e17217b",
   "metadata": {},
   "outputs": [
    {
     "name": "stdin",
     "output_type": "stream",
     "text": [
      "enter your age: -22\n"
     ]
    }
   ],
   "source": [
    "age = int(input(\"enter your age:\"))"
   ]
  },
  {
   "cell_type": "code",
   "execution_count": null,
   "id": "413817ff-1ff7-4194-bf24-f6eab8796675",
   "metadata": {},
   "outputs": [],
   "source": []
  },
  {
   "cell_type": "code",
   "execution_count": 1,
   "id": "4531d87f-24a0-4897-8dc2-5da36a13b6dd",
   "metadata": {},
   "outputs": [],
   "source": [
    "class validateage(Exception):# inherite the exception class\n",
    "    \n",
    "    def __int__(self,msg):\n",
    "        self.msge = msg"
   ]
  },
  {
   "cell_type": "code",
   "execution_count": 39,
   "id": "05a72705-fd36-4ddd-967e-5795094fbdb1",
   "metadata": {},
   "outputs": [],
   "source": [
    "def validateage(age):\n",
    "    if age <0:\n",
    "        raise validateage('entered age is negative ')\n",
    "    elif age>200:\n",
    "        raise validateage('entered age is very high')\n",
    "    else:\n",
    "        print('age is valid')"
   ]
  },
  {
   "cell_type": "code",
   "execution_count": 40,
   "id": "2649effb-61c7-4d6f-a130-b7338e35f4c4",
   "metadata": {},
   "outputs": [
    {
     "name": "stdin",
     "output_type": "stream",
     "text": [
      "enter your age  555\n"
     ]
    },
    {
     "ename": "TypeError",
     "evalue": "catching classes that do not inherit from BaseException is not allowed",
     "output_type": "error",
     "traceback": [
      "\u001b[1;31m---------------------------------------------------------------------------\u001b[0m",
      "\u001b[1;31mTypeError\u001b[0m                                 Traceback (most recent call last)",
      "Cell \u001b[1;32mIn[40], line 3\u001b[0m\n\u001b[0;32m      2\u001b[0m     age\u001b[38;5;241m=\u001b[39m\u001b[38;5;28mint\u001b[39m(\u001b[38;5;28minput\u001b[39m(\u001b[38;5;124m'\u001b[39m\u001b[38;5;124menter your age \u001b[39m\u001b[38;5;124m'\u001b[39m))\n\u001b[1;32m----> 3\u001b[0m     \u001b[43mvalidateage\u001b[49m\u001b[43m(\u001b[49m\u001b[43mage\u001b[49m\u001b[43m)\u001b[49m\n\u001b[0;32m      4\u001b[0m \u001b[38;5;28;01mexcept\u001b[39;00m validateage \u001b[38;5;28;01mas\u001b[39;00m e:\n",
      "Cell \u001b[1;32mIn[39], line 5\u001b[0m, in \u001b[0;36mvalidateage\u001b[1;34m(age)\u001b[0m\n\u001b[0;32m      4\u001b[0m \u001b[38;5;28;01melif\u001b[39;00m age\u001b[38;5;241m>\u001b[39m\u001b[38;5;241m200\u001b[39m:\n\u001b[1;32m----> 5\u001b[0m     \u001b[38;5;28;01mraise\u001b[39;00m \u001b[43mvalidateage\u001b[49m\u001b[43m(\u001b[49m\u001b[38;5;124;43m'\u001b[39;49m\u001b[38;5;124;43mentered age is very high\u001b[39;49m\u001b[38;5;124;43m'\u001b[39;49m\u001b[43m)\u001b[49m\n\u001b[0;32m      6\u001b[0m \u001b[38;5;28;01melse\u001b[39;00m:\n",
      "Cell \u001b[1;32mIn[39], line 2\u001b[0m, in \u001b[0;36mvalidateage\u001b[1;34m(age)\u001b[0m\n\u001b[0;32m      1\u001b[0m \u001b[38;5;28;01mdef\u001b[39;00m \u001b[38;5;21mvalidateage\u001b[39m(age):\n\u001b[1;32m----> 2\u001b[0m     \u001b[38;5;28;01mif\u001b[39;00m \u001b[43mage\u001b[49m\u001b[43m \u001b[49m\u001b[38;5;241;43m<\u001b[39;49m\u001b[38;5;241;43m0\u001b[39;49m:\n\u001b[0;32m      3\u001b[0m         \u001b[38;5;28;01mraise\u001b[39;00m validateage(\u001b[38;5;124m'\u001b[39m\u001b[38;5;124mentered age is negative \u001b[39m\u001b[38;5;124m'\u001b[39m)\n",
      "\u001b[1;31mTypeError\u001b[0m: '<' not supported between instances of 'str' and 'int'",
      "\nDuring handling of the above exception, another exception occurred:\n",
      "\u001b[1;31mTypeError\u001b[0m                                 Traceback (most recent call last)",
      "Cell \u001b[1;32mIn[40], line 4\u001b[0m\n\u001b[0;32m      2\u001b[0m     age\u001b[38;5;241m=\u001b[39m\u001b[38;5;28mint\u001b[39m(\u001b[38;5;28minput\u001b[39m(\u001b[38;5;124m'\u001b[39m\u001b[38;5;124menter your age \u001b[39m\u001b[38;5;124m'\u001b[39m))\n\u001b[0;32m      3\u001b[0m     validateage(age)\n\u001b[1;32m----> 4\u001b[0m \u001b[38;5;28;01mexcept\u001b[39;00m validateage \u001b[38;5;28;01mas\u001b[39;00m e:\n\u001b[0;32m      5\u001b[0m     \u001b[38;5;28mprint\u001b[39m(e)\n",
      "\u001b[1;31mTypeError\u001b[0m: catching classes that do not inherit from BaseException is not allowed"
     ]
    }
   ],
   "source": [
    "try :\n",
    "    age=int(input('enter your age '))\n",
    "    validateage(age)\n",
    "except validateage as e:\n",
    "    print(e)\n",
    "   "
   ]
  },
  {
   "cell_type": "code",
   "execution_count": 36,
   "id": "30617bf1-3cc0-4532-b41a-a09e8c109ecf",
   "metadata": {},
   "outputs": [
    {
     "name": "stdin",
     "output_type": "stream",
     "text": [
      "Enter a number for 'a':  1\n",
      "Enter the start of the range:  4\n",
      "Enter the end of the range:  12\n"
     ]
    },
    {
     "name": "stdout",
     "output_type": "stream",
     "text": [
      "5\n",
      "6\n",
      "7\n",
      "8\n",
      "9\n",
      "10\n",
      "11\n",
      "12\n"
     ]
    }
   ],
   "source": [
    "class valuetoohigherror(Exception):\n",
    "    pass\n",
    "\n",
    "try :\n",
    "    a = int(input(\"Enter a number for 'a': \")) \n",
    "    start = int(input(\"Enter the start of the range: \")) \n",
    "    end = int(input(\"Enter the end of the range: \")) \n",
    "    for i in range(start, end):\n",
    "        result =i+a\n",
    "        if result>100:\n",
    "            raise valuetoohigherror('Value too high :{result}')\n",
    "        print(result)\n",
    "\n",
    "except valuetoohigherror as e:\n",
    "    print(f'Custom Exception : {e}')   "
   ]
  },
  {
   "cell_type": "code",
   "execution_count": 29,
   "id": "857af474-0c4f-4a36-8f3e-5e6737ac2074",
   "metadata": {},
   "outputs": [
    {
     "name": "stdin",
     "output_type": "stream",
     "text": [
      "enter your salary : 50000\n"
     ]
    },
    {
     "name": "stdout",
     "output_type": "stream",
     "text": [
      "50000 salary is good.\n"
     ]
    }
   ],
   "source": [
    "class salaryislow(Exception):\n",
    "    pass\n",
    "\n",
    "def salaryislow(salary):\n",
    "    if salary <50000:\n",
    "        raise salaryislow(f'{salary} Salary is vary low to survive')\n",
    "    else :\n",
    "        print(f'{salary} salary is good.')\n",
    "\n",
    "try :\n",
    "    salary = int(input('enter your salary :'))\n",
    "    salaryislow(salary)\n",
    "except salaryislow as e:\n",
    "    print(e)"
   ]
  },
  {
   "cell_type": "code",
   "execution_count": null,
   "id": "45325037-6398-4314-ab8f-7f42ab567028",
   "metadata": {},
   "outputs": [],
   "source": []
  }
 ],
 "metadata": {
  "kernelspec": {
   "display_name": "Python 3 (ipykernel)",
   "language": "python",
   "name": "python3"
  },
  "language_info": {
   "codemirror_mode": {
    "name": "ipython",
    "version": 3
   },
   "file_extension": ".py",
   "mimetype": "text/x-python",
   "name": "python",
   "nbconvert_exporter": "python",
   "pygments_lexer": "ipython3",
   "version": "3.13.1"
  }
 },
 "nbformat": 4,
 "nbformat_minor": 5
}
