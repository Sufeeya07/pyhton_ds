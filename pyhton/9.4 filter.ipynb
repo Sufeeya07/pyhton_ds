{
 "cells": [
  {
   "cell_type": "code",
   "execution_count": 2,
   "id": "9342b9d3-a5fe-4db9-8581-c62d7d76d329",
   "metadata": {},
   "outputs": [
    {
     "data": {
      "text/plain": [
       "[2, 4]"
      ]
     },
     "execution_count": 2,
     "metadata": {},
     "output_type": "execute_result"
    }
   ],
   "source": [
    "l=[1,2,3,4,5]\n",
    "list(filter(lambda x : x%2 ==0, l))"
   ]
  },
  {
   "cell_type": "code",
   "execution_count": 3,
   "id": "030b47ce-f139-4aca-9cf0-fd2c8c79d215",
   "metadata": {},
   "outputs": [
    {
     "data": {
      "text/plain": [
       "[1, 3, 5]"
      ]
     },
     "execution_count": 3,
     "metadata": {},
     "output_type": "execute_result"
    }
   ],
   "source": [
    "list(filter(lambda x : x%2 !=0, l))"
   ]
  },
  {
   "cell_type": "code",
   "execution_count": 4,
   "id": "73a1b0a0-d754-4b0c-93c5-02933422abe3",
   "metadata": {},
   "outputs": [
    {
     "data": {
      "text/plain": [
       "[-3, -4, -5]"
      ]
     },
     "execution_count": 4,
     "metadata": {},
     "output_type": "execute_result"
    }
   ],
   "source": [
    "l2=[-3,-4,-5,1,2,3,4]\n",
    "list(filter(lambda x: x<0, l2))"
   ]
  },
  {
   "cell_type": "code",
   "execution_count": 1,
   "id": "622fe7d0-7e02-4ff8-a165-fd05b0fa183a",
   "metadata": {},
   "outputs": [
    {
     "data": {
      "text/plain": [
       "['abc', 'efggg']"
      ]
     },
     "execution_count": 1,
     "metadata": {},
     "output_type": "execute_result"
    }
   ],
   "source": [
    "l2=[\"abc\",\"deffffff\",'efggg']\n",
    "list(filter(lambda x: len(x)<6 ,l2))"
   ]
  },
  {
   "cell_type": "code",
   "execution_count": 22,
   "id": "98f49efc-a435-4366-b8d6-4d13216bca82",
   "metadata": {},
   "outputs": [
    {
     "name": "stdin",
     "output_type": "stream",
     "text": [
      "enter your age, to find its above 18 or not- 22\n"
     ]
    },
    {
     "name": "stdout",
     "output_type": "stream",
     "text": [
      "yes\n"
     ]
    }
   ],
   "source": [
    "age=input(\"enter your age, to find its above 18 or not-\").split()\n",
    "\n",
    "def ages(age):\n",
    "    if int(age)<18:\n",
    "        print ('no')\n",
    "    \n",
    "    else: \n",
    "        print ('yes')\n",
    "        \n",
    "age=list(filter(ages, age))"
   ]
  },
  {
   "cell_type": "code",
   "execution_count": null,
   "id": "b5fd5304-6bb2-48d1-a20e-45dacd1a5b4f",
   "metadata": {},
   "outputs": [],
   "source": []
  }
 ],
 "metadata": {
  "kernelspec": {
   "display_name": "Python 3 (ipykernel)",
   "language": "python",
   "name": "python3"
  },
  "language_info": {
   "codemirror_mode": {
    "name": "ipython",
    "version": 3
   },
   "file_extension": ".py",
   "mimetype": "text/x-python",
   "name": "python",
   "nbconvert_exporter": "python",
   "pygments_lexer": "ipython3",
   "version": "3.10.8"
  }
 },
 "nbformat": 4,
 "nbformat_minor": 5
}
