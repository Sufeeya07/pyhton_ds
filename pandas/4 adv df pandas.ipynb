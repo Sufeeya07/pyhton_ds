{
 "cells": [
  {
   "cell_type": "code",
   "execution_count": null,
   "id": "19f9e1cb-64f8-4d48-bcc6-4c924e1a111d",
   "metadata": {},
   "outputs": [],
   "source": [
    " df is combination of series"
   ]
  },
  {
   "cell_type": "code",
   "execution_count": 1,
   "id": "5c386d84-e389-443e-b17c-250a29d8d588",
   "metadata": {},
   "outputs": [],
   "source": [
    "import pandas as pd"
   ]
  },
  {
   "cell_type": "code",
   "execution_count": 9,
   "id": "2add52a7-3158-4966-a51f-5f51395cf3a2",
   "metadata": {},
   "outputs": [],
   "source": [
    "data= {'a':[1,2,3,4],\n",
    "       'b':[4,5,6,7],\n",
    "       'c':['sufeeya', 'nikku', 'samre', 'abcd']}"
   ]
  },
  {
   "cell_type": "code",
   "execution_count": 3,
   "id": "2297b4e2-3630-4496-ae1a-412a675afa44",
   "metadata": {},
   "outputs": [
    {
     "data": {
      "text/html": [
       "<div>\n",
       "<style scoped>\n",
       "    .dataframe tbody tr th:only-of-type {\n",
       "        vertical-align: middle;\n",
       "    }\n",
       "\n",
       "    .dataframe tbody tr th {\n",
       "        vertical-align: top;\n",
       "    }\n",
       "\n",
       "    .dataframe thead th {\n",
       "        text-align: right;\n",
       "    }\n",
       "</style>\n",
       "<table border=\"1\" class=\"dataframe\">\n",
       "  <thead>\n",
       "    <tr style=\"text-align: right;\">\n",
       "      <th></th>\n",
       "      <th>a</th>\n",
       "      <th>b</th>\n",
       "      <th>c</th>\n",
       "    </tr>\n",
       "  </thead>\n",
       "  <tbody>\n",
       "    <tr>\n",
       "      <th>0</th>\n",
       "      <td>1</td>\n",
       "      <td>4</td>\n",
       "      <td>sufeeya</td>\n",
       "    </tr>\n",
       "    <tr>\n",
       "      <th>1</th>\n",
       "      <td>2</td>\n",
       "      <td>5</td>\n",
       "      <td>nikku</td>\n",
       "    </tr>\n",
       "    <tr>\n",
       "      <th>2</th>\n",
       "      <td>3</td>\n",
       "      <td>6</td>\n",
       "      <td>samre</td>\n",
       "    </tr>\n",
       "    <tr>\n",
       "      <th>3</th>\n",
       "      <td>4</td>\n",
       "      <td>7</td>\n",
       "      <td>abcd</td>\n",
       "    </tr>\n",
       "  </tbody>\n",
       "</table>\n",
       "</div>"
      ],
      "text/plain": [
       "   a  b        c\n",
       "0  1  4  sufeeya\n",
       "1  2  5    nikku\n",
       "2  3  6    samre\n",
       "3  4  7     abcd"
      ]
     },
     "execution_count": 3,
     "metadata": {},
     "output_type": "execute_result"
    }
   ],
   "source": [
    "df = pd.DataFrame(data)\n",
    "df"
   ]
  },
  {
   "cell_type": "code",
   "execution_count": 10,
   "id": "0a4c840b-e00d-4693-85b6-8191bf512330",
   "metadata": {},
   "outputs": [
    {
     "data": {
      "text/html": [
       "<div>\n",
       "<style scoped>\n",
       "    .dataframe tbody tr th:only-of-type {\n",
       "        vertical-align: middle;\n",
       "    }\n",
       "\n",
       "    .dataframe tbody tr th {\n",
       "        vertical-align: top;\n",
       "    }\n",
       "\n",
       "    .dataframe thead th {\n",
       "        text-align: right;\n",
       "    }\n",
       "</style>\n",
       "<table border=\"1\" class=\"dataframe\">\n",
       "  <thead>\n",
       "    <tr style=\"text-align: right;\">\n",
       "      <th></th>\n",
       "      <th>a</th>\n",
       "      <th>b</th>\n",
       "    </tr>\n",
       "    <tr>\n",
       "      <th>c</th>\n",
       "      <th></th>\n",
       "      <th></th>\n",
       "    </tr>\n",
       "  </thead>\n",
       "  <tbody>\n",
       "    <tr>\n",
       "      <th>sufeeya</th>\n",
       "      <td>1</td>\n",
       "      <td>4</td>\n",
       "    </tr>\n",
       "    <tr>\n",
       "      <th>nikku</th>\n",
       "      <td>2</td>\n",
       "      <td>5</td>\n",
       "    </tr>\n",
       "    <tr>\n",
       "      <th>samre</th>\n",
       "      <td>3</td>\n",
       "      <td>6</td>\n",
       "    </tr>\n",
       "    <tr>\n",
       "      <th>abcd</th>\n",
       "      <td>4</td>\n",
       "      <td>7</td>\n",
       "    </tr>\n",
       "  </tbody>\n",
       "</table>\n",
       "</div>"
      ],
      "text/plain": [
       "         a  b\n",
       "c            \n",
       "sufeeya  1  4\n",
       "nikku    2  5\n",
       "samre    3  6\n",
       "abcd     4  7"
      ]
     },
     "execution_count": 10,
     "metadata": {},
     "output_type": "execute_result"
    }
   ],
   "source": [
    "df.set_index('c') "
   ]
  },
  {
   "cell_type": "code",
   "execution_count": 11,
   "id": "c5030324-b6e5-4df1-9326-51dadda5fc70",
   "metadata": {},
   "outputs": [
    {
     "data": {
      "text/html": [
       "<div>\n",
       "<style scoped>\n",
       "    .dataframe tbody tr th:only-of-type {\n",
       "        vertical-align: middle;\n",
       "    }\n",
       "\n",
       "    .dataframe tbody tr th {\n",
       "        vertical-align: top;\n",
       "    }\n",
       "\n",
       "    .dataframe thead th {\n",
       "        text-align: right;\n",
       "    }\n",
       "</style>\n",
       "<table border=\"1\" class=\"dataframe\">\n",
       "  <thead>\n",
       "    <tr style=\"text-align: right;\">\n",
       "      <th></th>\n",
       "      <th>a</th>\n",
       "      <th>b</th>\n",
       "      <th>c</th>\n",
       "    </tr>\n",
       "  </thead>\n",
       "  <tbody>\n",
       "    <tr>\n",
       "      <th>A</th>\n",
       "      <td>1</td>\n",
       "      <td>4</td>\n",
       "      <td>sufeeya</td>\n",
       "    </tr>\n",
       "    <tr>\n",
       "      <th>B</th>\n",
       "      <td>2</td>\n",
       "      <td>5</td>\n",
       "      <td>nikku</td>\n",
       "    </tr>\n",
       "    <tr>\n",
       "      <th>C</th>\n",
       "      <td>3</td>\n",
       "      <td>6</td>\n",
       "      <td>samre</td>\n",
       "    </tr>\n",
       "    <tr>\n",
       "      <th>D</th>\n",
       "      <td>4</td>\n",
       "      <td>7</td>\n",
       "      <td>abcd</td>\n",
       "    </tr>\n",
       "  </tbody>\n",
       "</table>\n",
       "</div>"
      ],
      "text/plain": [
       "   a  b        c\n",
       "A  1  4  sufeeya\n",
       "B  2  5    nikku\n",
       "C  3  6    samre\n",
       "D  4  7     abcd"
      ]
     },
     "execution_count": 11,
     "metadata": {},
     "output_type": "execute_result"
    }
   ],
   "source": [
    "data= {'a':[1,2,3,4],\n",
    "       'b':[4,5,6,7],\n",
    "       'c':['sufeeya', 'nikku', 'samre', 'abcd']}\n",
    "df1 = pd.DataFrame(data, index= ['A','B','C','D'])\n",
    "\n",
    "df1"
   ]
  },
  {
   "cell_type": "code",
   "execution_count": 13,
   "id": "d25d2982-72fd-4570-b643-9cc2b6778c6a",
   "metadata": {},
   "outputs": [
    {
     "data": {
      "text/html": [
       "<div>\n",
       "<style scoped>\n",
       "    .dataframe tbody tr th:only-of-type {\n",
       "        vertical-align: middle;\n",
       "    }\n",
       "\n",
       "    .dataframe tbody tr th {\n",
       "        vertical-align: top;\n",
       "    }\n",
       "\n",
       "    .dataframe thead th {\n",
       "        text-align: right;\n",
       "    }\n",
       "</style>\n",
       "<table border=\"1\" class=\"dataframe\">\n",
       "  <thead>\n",
       "    <tr style=\"text-align: right;\">\n",
       "      <th></th>\n",
       "      <th>a</th>\n",
       "      <th>b</th>\n",
       "      <th>c</th>\n",
       "    </tr>\n",
       "  </thead>\n",
       "  <tbody>\n",
       "    <tr>\n",
       "      <th>B</th>\n",
       "      <td>2</td>\n",
       "      <td>5</td>\n",
       "      <td>nikku</td>\n",
       "    </tr>\n",
       "    <tr>\n",
       "      <th>C</th>\n",
       "      <td>3</td>\n",
       "      <td>6</td>\n",
       "      <td>samre</td>\n",
       "    </tr>\n",
       "    <tr>\n",
       "      <th>D</th>\n",
       "      <td>4</td>\n",
       "      <td>7</td>\n",
       "      <td>abcd</td>\n",
       "    </tr>\n",
       "    <tr>\n",
       "      <th>A</th>\n",
       "      <td>1</td>\n",
       "      <td>4</td>\n",
       "      <td>sufeeya</td>\n",
       "    </tr>\n",
       "  </tbody>\n",
       "</table>\n",
       "</div>"
      ],
      "text/plain": [
       "   a  b        c\n",
       "B  2  5    nikku\n",
       "C  3  6    samre\n",
       "D  4  7     abcd\n",
       "A  1  4  sufeeya"
      ]
     },
     "execution_count": 13,
     "metadata": {},
     "output_type": "execute_result"
    }
   ],
   "source": [
    "# ---------------reindexing\n",
    "df1.reindex(['B','C','D','A'])"
   ]
  },
  {
   "cell_type": "code",
   "execution_count": 14,
   "id": "94fcec58-bc13-4208-872b-a30565b0dde7",
   "metadata": {},
   "outputs": [
    {
     "data": {
      "text/html": [
       "<div>\n",
       "<style scoped>\n",
       "    .dataframe tbody tr th:only-of-type {\n",
       "        vertical-align: middle;\n",
       "    }\n",
       "\n",
       "    .dataframe tbody tr th {\n",
       "        vertical-align: top;\n",
       "    }\n",
       "\n",
       "    .dataframe thead th {\n",
       "        text-align: right;\n",
       "    }\n",
       "</style>\n",
       "<table border=\"1\" class=\"dataframe\">\n",
       "  <thead>\n",
       "    <tr style=\"text-align: right;\">\n",
       "      <th></th>\n",
       "      <th>a</th>\n",
       "      <th>b</th>\n",
       "      <th>c</th>\n",
       "    </tr>\n",
       "  </thead>\n",
       "  <tbody>\n",
       "    <tr>\n",
       "      <th>A</th>\n",
       "      <td>1</td>\n",
       "      <td>4</td>\n",
       "      <td>sufeeya</td>\n",
       "    </tr>\n",
       "    <tr>\n",
       "      <th>B</th>\n",
       "      <td>2</td>\n",
       "      <td>5</td>\n",
       "      <td>nikku</td>\n",
       "    </tr>\n",
       "    <tr>\n",
       "      <th>C</th>\n",
       "      <td>3</td>\n",
       "      <td>6</td>\n",
       "      <td>samre</td>\n",
       "    </tr>\n",
       "    <tr>\n",
       "      <th>D</th>\n",
       "      <td>4</td>\n",
       "      <td>7</td>\n",
       "      <td>abcd</td>\n",
       "    </tr>\n",
       "  </tbody>\n",
       "</table>\n",
       "</div>"
      ],
      "text/plain": [
       "   a  b        c\n",
       "A  1  4  sufeeya\n",
       "B  2  5    nikku\n",
       "C  3  6    samre\n",
       "D  4  7     abcd"
      ]
     },
     "execution_count": 14,
     "metadata": {},
     "output_type": "execute_result"
    }
   ],
   "source": [
    "df1"
   ]
  },
  {
   "cell_type": "code",
   "execution_count": 30,
   "id": "de760d44-b32e-4f1b-9fe2-531b7e67bfaf",
   "metadata": {},
   "outputs": [
    {
     "name": "stdout",
     "output_type": "stream",
     "text": [
      "This is index (A) data \n",
      "a          1\n",
      "b          4\n",
      "c    sufeeya\n",
      "Name: A, dtype: object \n",
      "\n",
      "This is index (B) data \n",
      "a        2\n",
      "b        5\n",
      "c    nikku\n",
      "Name: B, dtype: object \n",
      "\n",
      "This is index (C) data \n",
      "a        3\n",
      "b        6\n",
      "c    samre\n",
      "Name: C, dtype: object \n",
      "\n",
      "This is index (D) data \n",
      "a       4\n",
      "b       7\n",
      "c    abcd\n",
      "Name: D, dtype: object \n",
      "\n"
     ]
    }
   ],
   "source": [
    "#--------iteration\n",
    "for i , j in df1.iterrows(): \n",
    "    print(f'This is index ({i}) data ')\n",
    "    print (j,'\\n')"
   ]
  },
  {
   "cell_type": "code",
   "execution_count": 40,
   "id": "c7b6bad0-cd9e-42da-81a7-0ade6ebe1c01",
   "metadata": {},
   "outputs": [
    {
     "name": "stdout",
     "output_type": "stream",
     "text": [
      "This is col by data : a\n",
      "A    1\n",
      "B    2\n",
      "C    3\n",
      "D    4\n",
      "Name: a, dtype: int64 \n",
      "\n",
      "This is col by data : b\n",
      "A    4\n",
      "B    5\n",
      "C    6\n",
      "D    7\n",
      "Name: b, dtype: int64 \n",
      "\n",
      "This is col by data : c\n",
      "A    sufeeya\n",
      "B      nikku\n",
      "C      samre\n",
      "D       abcd\n",
      "Name: c, dtype: object \n",
      "\n"
     ]
    }
   ],
   "source": [
    "for i , j in df1.items():#items for col\n",
    "    print(f'This is col by data : {i}')\n",
    "    print(j,'\\n')"
   ]
  },
  {
   "cell_type": "code",
   "execution_count": 35,
   "id": "e4515998-09b1-49bc-9592-a046355d1c28",
   "metadata": {},
   "outputs": [
    {
     "data": {
      "text/html": [
       "<div>\n",
       "<style scoped>\n",
       "    .dataframe tbody tr th:only-of-type {\n",
       "        vertical-align: middle;\n",
       "    }\n",
       "\n",
       "    .dataframe tbody tr th {\n",
       "        vertical-align: top;\n",
       "    }\n",
       "\n",
       "    .dataframe thead th {\n",
       "        text-align: right;\n",
       "    }\n",
       "</style>\n",
       "<table border=\"1\" class=\"dataframe\">\n",
       "  <thead>\n",
       "    <tr style=\"text-align: right;\">\n",
       "      <th></th>\n",
       "      <th>a</th>\n",
       "      <th>b</th>\n",
       "      <th>c</th>\n",
       "    </tr>\n",
       "  </thead>\n",
       "  <tbody>\n",
       "    <tr>\n",
       "      <th>A</th>\n",
       "      <td>1</td>\n",
       "      <td>4</td>\n",
       "      <td>sufeeya</td>\n",
       "    </tr>\n",
       "    <tr>\n",
       "      <th>B</th>\n",
       "      <td>2</td>\n",
       "      <td>5</td>\n",
       "      <td>nikku</td>\n",
       "    </tr>\n",
       "    <tr>\n",
       "      <th>C</th>\n",
       "      <td>3</td>\n",
       "      <td>6</td>\n",
       "      <td>samre</td>\n",
       "    </tr>\n",
       "    <tr>\n",
       "      <th>D</th>\n",
       "      <td>4</td>\n",
       "      <td>7</td>\n",
       "      <td>abcd</td>\n",
       "    </tr>\n",
       "  </tbody>\n",
       "</table>\n",
       "</div>"
      ],
      "text/plain": [
       "   a  b        c\n",
       "A  1  4  sufeeya\n",
       "B  2  5    nikku\n",
       "C  3  6    samre\n",
       "D  4  7     abcd"
      ]
     },
     "execution_count": 35,
     "metadata": {},
     "output_type": "execute_result"
    }
   ],
   "source": [
    "df1"
   ]
  },
  {
   "cell_type": "code",
   "execution_count": 41,
   "id": "e00ec6eb-d20f-4240-931c-3ced15da8018",
   "metadata": {},
   "outputs": [
    {
     "data": {
      "text/plain": [
       "[1, 2, 3, 4]"
      ]
     },
     "execution_count": 41,
     "metadata": {},
     "output_type": "execute_result"
    }
   ],
   "source": [
    "list(df['a'])"
   ]
  },
  {
   "cell_type": "code",
   "execution_count": 42,
   "id": "75b75df2-211d-43ea-aa7a-45532a395ced",
   "metadata": {},
   "outputs": [
    {
     "data": {
      "text/html": [
       "<div>\n",
       "<style scoped>\n",
       "    .dataframe tbody tr th:only-of-type {\n",
       "        vertical-align: middle;\n",
       "    }\n",
       "\n",
       "    .dataframe tbody tr th {\n",
       "        vertical-align: top;\n",
       "    }\n",
       "\n",
       "    .dataframe thead th {\n",
       "        text-align: right;\n",
       "    }\n",
       "</style>\n",
       "<table border=\"1\" class=\"dataframe\">\n",
       "  <thead>\n",
       "    <tr style=\"text-align: right;\">\n",
       "      <th></th>\n",
       "      <th>a</th>\n",
       "      <th>b</th>\n",
       "      <th>c</th>\n",
       "    </tr>\n",
       "  </thead>\n",
       "  <tbody>\n",
       "    <tr>\n",
       "      <th>A</th>\n",
       "      <td>1</td>\n",
       "      <td>4</td>\n",
       "      <td>sufeeya</td>\n",
       "    </tr>\n",
       "    <tr>\n",
       "      <th>B</th>\n",
       "      <td>2</td>\n",
       "      <td>5</td>\n",
       "      <td>nikku</td>\n",
       "    </tr>\n",
       "    <tr>\n",
       "      <th>C</th>\n",
       "      <td>3</td>\n",
       "      <td>6</td>\n",
       "      <td>samre</td>\n",
       "    </tr>\n",
       "    <tr>\n",
       "      <th>D</th>\n",
       "      <td>4</td>\n",
       "      <td>7</td>\n",
       "      <td>abcd</td>\n",
       "    </tr>\n",
       "  </tbody>\n",
       "</table>\n",
       "</div>"
      ],
      "text/plain": [
       "   a  b        c\n",
       "A  1  4  sufeeya\n",
       "B  2  5    nikku\n",
       "C  3  6    samre\n",
       "D  4  7     abcd"
      ]
     },
     "execution_count": 42,
     "metadata": {},
     "output_type": "execute_result"
    }
   ],
   "source": [
    "df1"
   ]
  },
  {
   "cell_type": "code",
   "execution_count": 60,
   "id": "c2076e0b-15d1-4ddc-8bfd-4c0c099f5390",
   "metadata": {},
   "outputs": [
    {
     "data": {
      "text/plain": [
       "a                       10\n",
       "b                       22\n",
       "c    sufeeyanikkusamreabcd\n",
       "dtype: object"
      ]
     },
     "execution_count": 60,
     "metadata": {},
     "output_type": "execute_result"
    }
   ],
   "source": [
    "#-------- sum of all col\n",
    "#--- use fun\n",
    "\n",
    "def test(x):\n",
    "    return x.sum()\n",
    "df1.apply(test)"
   ]
  },
  {
   "cell_type": "code",
   "execution_count": 48,
   "id": "16a81e6c-069f-43a5-8c49-767016c3ec22",
   "metadata": {},
   "outputs": [
    {
     "name": "stdout",
     "output_type": "stream",
     "text": [
      "10\n"
     ]
    }
   ],
   "source": [
    "sum = df1['a'].sum()\n",
    "print(sum)"
   ]
  },
  {
   "cell_type": "code",
   "execution_count": 62,
   "id": "169824b8-217b-4fda-abb8-2c0bca9042ce",
   "metadata": {},
   "outputs": [
    {
     "data": {
      "text/html": [
       "<div>\n",
       "<style scoped>\n",
       "    .dataframe tbody tr th:only-of-type {\n",
       "        vertical-align: middle;\n",
       "    }\n",
       "\n",
       "    .dataframe tbody tr th {\n",
       "        vertical-align: top;\n",
       "    }\n",
       "\n",
       "    .dataframe thead th {\n",
       "        text-align: right;\n",
       "    }\n",
       "</style>\n",
       "<table border=\"1\" class=\"dataframe\">\n",
       "  <thead>\n",
       "    <tr style=\"text-align: right;\">\n",
       "      <th></th>\n",
       "      <th>a</th>\n",
       "      <th>b</th>\n",
       "    </tr>\n",
       "  </thead>\n",
       "  <tbody>\n",
       "    <tr>\n",
       "      <th>A</th>\n",
       "      <td>1</td>\n",
       "      <td>4</td>\n",
       "    </tr>\n",
       "    <tr>\n",
       "      <th>B</th>\n",
       "      <td>2</td>\n",
       "      <td>5</td>\n",
       "    </tr>\n",
       "    <tr>\n",
       "      <th>C</th>\n",
       "      <td>3</td>\n",
       "      <td>6</td>\n",
       "    </tr>\n",
       "    <tr>\n",
       "      <th>D</th>\n",
       "      <td>4</td>\n",
       "      <td>7</td>\n",
       "    </tr>\n",
       "  </tbody>\n",
       "</table>\n",
       "</div>"
      ],
      "text/plain": [
       "   a  b\n",
       "A  1  4\n",
       "B  2  5\n",
       "C  3  6\n",
       "D  4  7"
      ]
     },
     "execution_count": 62,
     "metadata": {},
     "output_type": "execute_result"
    }
   ],
   "source": [
    "#-------squ of all \n",
    "\n",
    "df2= df1[['a','b']]\n",
    "df2"
   ]
  },
  {
   "cell_type": "code",
   "execution_count": 39,
   "id": "b255909a-8c05-46d4-a402-cadea66e27c0",
   "metadata": {},
   "outputs": [
    {
     "data": {
      "text/html": [
       "<div>\n",
       "<style scoped>\n",
       "    .dataframe tbody tr th:only-of-type {\n",
       "        vertical-align: middle;\n",
       "    }\n",
       "\n",
       "    .dataframe tbody tr th {\n",
       "        vertical-align: top;\n",
       "    }\n",
       "\n",
       "    .dataframe thead th {\n",
       "        text-align: right;\n",
       "    }\n",
       "</style>\n",
       "<table border=\"1\" class=\"dataframe\">\n",
       "  <thead>\n",
       "    <tr style=\"text-align: right;\">\n",
       "      <th></th>\n",
       "      <th>a</th>\n",
       "      <th>b</th>\n",
       "    </tr>\n",
       "  </thead>\n",
       "  <tbody>\n",
       "    <tr>\n",
       "      <th>A</th>\n",
       "      <td>1</td>\n",
       "      <td>16</td>\n",
       "    </tr>\n",
       "    <tr>\n",
       "      <th>B</th>\n",
       "      <td>4</td>\n",
       "      <td>25</td>\n",
       "    </tr>\n",
       "    <tr>\n",
       "      <th>C</th>\n",
       "      <td>9</td>\n",
       "      <td>36</td>\n",
       "    </tr>\n",
       "    <tr>\n",
       "      <th>D</th>\n",
       "      <td>16</td>\n",
       "      <td>49</td>\n",
       "    </tr>\n",
       "  </tbody>\n",
       "</table>\n",
       "</div>"
      ],
      "text/plain": [
       "    a   b\n",
       "A   1  16\n",
       "B   4  25\n",
       "C   9  36\n",
       "D  16  49"
      ]
     },
     "execution_count": 39,
     "metadata": {},
     "output_type": "execute_result"
    }
   ],
   "source": [
    "df2.applymap(lambda x: x**2)"
   ]
  },
  {
   "cell_type": "code",
   "execution_count": 5,
   "id": "ac7aaee9-6bba-4c51-a0d8-d25bcba4f0cd",
   "metadata": {},
   "outputs": [
    {
     "data": {
      "text/html": [
       "<div>\n",
       "<style scoped>\n",
       "    .dataframe tbody tr th:only-of-type {\n",
       "        vertical-align: middle;\n",
       "    }\n",
       "\n",
       "    .dataframe tbody tr th {\n",
       "        vertical-align: top;\n",
       "    }\n",
       "\n",
       "    .dataframe thead th {\n",
       "        text-align: right;\n",
       "    }\n",
       "</style>\n",
       "<table border=\"1\" class=\"dataframe\">\n",
       "  <thead>\n",
       "    <tr style=\"text-align: right;\">\n",
       "      <th></th>\n",
       "      <th>a</th>\n",
       "      <th>b</th>\n",
       "      <th>c</th>\n",
       "    </tr>\n",
       "  </thead>\n",
       "  <tbody>\n",
       "    <tr>\n",
       "      <th>A</th>\n",
       "      <td>1</td>\n",
       "      <td>4</td>\n",
       "      <td>sufeeya</td>\n",
       "    </tr>\n",
       "    <tr>\n",
       "      <th>B</th>\n",
       "      <td>2</td>\n",
       "      <td>5</td>\n",
       "      <td>nikku</td>\n",
       "    </tr>\n",
       "    <tr>\n",
       "      <th>C</th>\n",
       "      <td>3</td>\n",
       "      <td>6</td>\n",
       "      <td>samre</td>\n",
       "    </tr>\n",
       "    <tr>\n",
       "      <th>D</th>\n",
       "      <td>4</td>\n",
       "      <td>7</td>\n",
       "      <td>abcd</td>\n",
       "    </tr>\n",
       "  </tbody>\n",
       "</table>\n",
       "</div>"
      ],
      "text/plain": [
       "   a  b        c\n",
       "A  1  4  sufeeya\n",
       "B  2  5    nikku\n",
       "C  3  6    samre\n",
       "D  4  7     abcd"
      ]
     },
     "execution_count": 5,
     "metadata": {},
     "output_type": "execute_result"
    }
   ],
   "source": [
    "df1"
   ]
  },
  {
   "cell_type": "code",
   "execution_count": 7,
   "id": "23c01276-093e-45ba-b680-252b1a7d247c",
   "metadata": {},
   "outputs": [
    {
     "data": {
      "text/html": [
       "<div>\n",
       "<style scoped>\n",
       "    .dataframe tbody tr th:only-of-type {\n",
       "        vertical-align: middle;\n",
       "    }\n",
       "\n",
       "    .dataframe tbody tr th {\n",
       "        vertical-align: top;\n",
       "    }\n",
       "\n",
       "    .dataframe thead th {\n",
       "        text-align: right;\n",
       "    }\n",
       "</style>\n",
       "<table border=\"1\" class=\"dataframe\">\n",
       "  <thead>\n",
       "    <tr style=\"text-align: right;\">\n",
       "      <th></th>\n",
       "      <th>a</th>\n",
       "      <th>b</th>\n",
       "      <th>c</th>\n",
       "    </tr>\n",
       "  </thead>\n",
       "  <tbody>\n",
       "    <tr>\n",
       "      <th>A</th>\n",
       "      <td>1</td>\n",
       "      <td>4</td>\n",
       "      <td>sufeeya</td>\n",
       "    </tr>\n",
       "    <tr>\n",
       "      <th>C</th>\n",
       "      <td>3</td>\n",
       "      <td>6</td>\n",
       "      <td>samre</td>\n",
       "    </tr>\n",
       "    <tr>\n",
       "      <th>B</th>\n",
       "      <td>2</td>\n",
       "      <td>5</td>\n",
       "      <td>nikku</td>\n",
       "    </tr>\n",
       "    <tr>\n",
       "      <th>D</th>\n",
       "      <td>4</td>\n",
       "      <td>7</td>\n",
       "      <td>abcd</td>\n",
       "    </tr>\n",
       "  </tbody>\n",
       "</table>\n",
       "</div>"
      ],
      "text/plain": [
       "   a  b        c\n",
       "A  1  4  sufeeya\n",
       "C  3  6    samre\n",
       "B  2  5    nikku\n",
       "D  4  7     abcd"
      ]
     },
     "execution_count": 7,
     "metadata": {},
     "output_type": "execute_result"
    }
   ],
   "source": [
    "#-----------scrted data aplahabatic order , inorder\n",
    "\n",
    "df1.sort_values( 'c',ascending=False )"
   ]
  },
  {
   "cell_type": "code",
   "execution_count": 65,
   "id": "0ec34fca-97e8-4d50-92e6-4d7ad5366375",
   "metadata": {},
   "outputs": [
    {
     "data": {
      "text/html": [
       "<div>\n",
       "<style scoped>\n",
       "    .dataframe tbody tr th:only-of-type {\n",
       "        vertical-align: middle;\n",
       "    }\n",
       "\n",
       "    .dataframe tbody tr th {\n",
       "        vertical-align: top;\n",
       "    }\n",
       "\n",
       "    .dataframe thead th {\n",
       "        text-align: right;\n",
       "    }\n",
       "</style>\n",
       "<table border=\"1\" class=\"dataframe\">\n",
       "  <thead>\n",
       "    <tr style=\"text-align: right;\">\n",
       "      <th></th>\n",
       "      <th>a</th>\n",
       "      <th>b</th>\n",
       "      <th>c</th>\n",
       "    </tr>\n",
       "  </thead>\n",
       "  <tbody>\n",
       "    <tr>\n",
       "      <th>D</th>\n",
       "      <td>4</td>\n",
       "      <td>7</td>\n",
       "      <td>abcd</td>\n",
       "    </tr>\n",
       "    <tr>\n",
       "      <th>C</th>\n",
       "      <td>3</td>\n",
       "      <td>6</td>\n",
       "      <td>samre</td>\n",
       "    </tr>\n",
       "    <tr>\n",
       "      <th>B</th>\n",
       "      <td>2</td>\n",
       "      <td>5</td>\n",
       "      <td>nikku</td>\n",
       "    </tr>\n",
       "    <tr>\n",
       "      <th>A</th>\n",
       "      <td>1</td>\n",
       "      <td>4</td>\n",
       "      <td>sufeeya</td>\n",
       "    </tr>\n",
       "  </tbody>\n",
       "</table>\n",
       "</div>"
      ],
      "text/plain": [
       "   a  b        c\n",
       "D  4  7     abcd\n",
       "C  3  6    samre\n",
       "B  2  5    nikku\n",
       "A  1  4  sufeeya"
      ]
     },
     "execution_count": 65,
     "metadata": {},
     "output_type": "execute_result"
    }
   ],
   "source": [
    "df1.sort_index( ascending=False )"
   ]
  },
  {
   "cell_type": "code",
   "execution_count": 10,
   "id": "23f4aa5f-894e-4c6c-9613-931efad7c1a4",
   "metadata": {},
   "outputs": [
    {
     "data": {
      "text/html": [
       "<div>\n",
       "<style scoped>\n",
       "    .dataframe tbody tr th:only-of-type {\n",
       "        vertical-align: middle;\n",
       "    }\n",
       "\n",
       "    .dataframe tbody tr th {\n",
       "        vertical-align: top;\n",
       "    }\n",
       "\n",
       "    .dataframe thead th {\n",
       "        text-align: right;\n",
       "    }\n",
       "</style>\n",
       "<table border=\"1\" class=\"dataframe\">\n",
       "  <thead>\n",
       "    <tr style=\"text-align: right;\">\n",
       "      <th></th>\n",
       "      <th>desc</th>\n",
       "    </tr>\n",
       "  </thead>\n",
       "  <tbody>\n",
       "    <tr>\n",
       "      <th>0</th>\n",
       "      <td>Data science models are essential in modern advertising, from display advertisements on numerous websites to digital posters at airports.One of the most common ways that data science is employed in marketing is when you Google a term, and algorithms create relevant search results, including targeted ads related to your query. This application of data science is why you may see an online advertisement for data science training programmes, while someone else in the same region may see an advertisement for clothes.</td>\n",
       "    </tr>\n",
       "  </tbody>\n",
       "</table>\n",
       "</div>"
      ],
      "text/plain": [
       "                                                                                                                                                                                                                                                                                                                                                                                                                                                                                                                                    desc\n",
       "0  Data science models are essential in modern advertising, from display advertisements on numerous websites to digital posters at airports.One of the most common ways that data science is employed in marketing is when you Google a term, and algorithms create relevant search results, including targeted ads related to your query. This application of data science is why you may see an online advertisement for data science training programmes, while someone else in the same region may see an advertisement for clothes."
      ]
     },
     "execution_count": 10,
     "metadata": {},
     "output_type": "execute_result"
    }
   ],
   "source": [
    "pd.set_option('display.max_colwidth' , 5000)\n",
    "df3 = pd.DataFrame({'desc': ['Data science models are essential in modern advertising, from display advertisements on numerous websites to digital posters at airports.One of the most common ways that data science is employed in marketing is when you Google a term, and algorithms create relevant search results, including targeted ads related to your query. This application of data science is why you may see an online advertisement for data science training programmes, while someone else in the same region may see an advertisement for clothes.']})\n",
    "df3"
   ]
  },
  {
   "cell_type": "code",
   "execution_count": 67,
   "id": "99d936bd-c5ba-49ea-b09d-bcbe1eeb4da7",
   "metadata": {},
   "outputs": [
    {
     "data": {
      "text/html": [
       "<div>\n",
       "<style scoped>\n",
       "    .dataframe tbody tr th:only-of-type {\n",
       "        vertical-align: middle;\n",
       "    }\n",
       "\n",
       "    .dataframe tbody tr th {\n",
       "        vertical-align: top;\n",
       "    }\n",
       "\n",
       "    .dataframe thead th {\n",
       "        text-align: right;\n",
       "    }\n",
       "</style>\n",
       "<table border=\"1\" class=\"dataframe\">\n",
       "  <thead>\n",
       "    <tr style=\"text-align: right;\">\n",
       "      <th></th>\n",
       "      <th>desc</th>\n",
       "    </tr>\n",
       "  </thead>\n",
       "  <tbody>\n",
       "    <tr>\n",
       "      <th>0</th>\n",
       "      <td>Data science models are essential in modern advertising, from display advertisements on numerous websites to digital posters at airports.One of the most common ways that data science is employed in marketing is when you Google a term, and algorithms create relevant search results, including targeted ads related to your query. This application of data science is why you may see an online advertisement for data science training programmes, while someone else in the same region may see an advertisement for clothes.</td>\n",
       "    </tr>\n",
       "    <tr>\n",
       "      <th>1</th>\n",
       "      <td>my name is sufeeya</td>\n",
       "    </tr>\n",
       "    <tr>\n",
       "      <th>2</th>\n",
       "      <td>i used to teach data science</td>\n",
       "    </tr>\n",
       "  </tbody>\n",
       "</table>\n",
       "</div>"
      ],
      "text/plain": [
       "                                                                                                                                                                                                                                                                                                                                                                                                                                                                                                                                    desc\n",
       "0  Data science models are essential in modern advertising, from display advertisements on numerous websites to digital posters at airports.One of the most common ways that data science is employed in marketing is when you Google a term, and algorithms create relevant search results, including targeted ads related to your query. This application of data science is why you may see an online advertisement for data science training programmes, while someone else in the same region may see an advertisement for clothes.\n",
       "1                                                                                                                                                                                                                                                                                                                                                                                                                                                                                                                    my name is sufeeya \n",
       "2                                                                                                                                                                                                                                                                                                                                                                                                                                                                                                           i used to teach data science"
      ]
     },
     "execution_count": 67,
     "metadata": {},
     "output_type": "execute_result"
    }
   ],
   "source": [
    "pd.set_option('display.max_colwidth' , 600)\n",
    "df3 = pd.DataFrame({'desc': ['Data science models are essential in modern advertising, from display advertisements on numerous websites to digital posters at airports.One of the most common ways that data science is employed in marketing is when you Google a term, and algorithms create relevant search results, including targeted ads related to your query. This application of data science is why you may see an online advertisement for data science training programmes, while someone else in the same region may see an advertisement for clothes.' , \n",
    "                             'my name is sufeeya ', 'i used to teach data science']})\n",
    "df3"
   ]
  },
  {
   "cell_type": "code",
   "execution_count": 69,
   "id": "0a3afac3-a735-46f2-8765-bbecf1afd10c",
   "metadata": {},
   "outputs": [
    {
     "data": {
      "text/html": [
       "<div>\n",
       "<style scoped>\n",
       "    .dataframe tbody tr th:only-of-type {\n",
       "        vertical-align: middle;\n",
       "    }\n",
       "\n",
       "    .dataframe tbody tr th {\n",
       "        vertical-align: top;\n",
       "    }\n",
       "\n",
       "    .dataframe thead th {\n",
       "        text-align: right;\n",
       "    }\n",
       "</style>\n",
       "<table border=\"1\" class=\"dataframe\">\n",
       "  <thead>\n",
       "    <tr style=\"text-align: right;\">\n",
       "      <th></th>\n",
       "      <th>desc</th>\n",
       "      <th>len</th>\n",
       "    </tr>\n",
       "  </thead>\n",
       "  <tbody>\n",
       "    <tr>\n",
       "      <th>0</th>\n",
       "      <td>Data science models are essential in modern advertising, from display advertisements on numerous websites to digital posters at airports.One of the most common ways that data science is employed in marketing is when you Google a term, and algorithms create relevant search results, including targeted ads related to your query. This application of data science is why you may see an online advertisement for data science training programmes, while someone else in the same region may see an advertisement for clothes.</td>\n",
       "      <td>517</td>\n",
       "    </tr>\n",
       "    <tr>\n",
       "      <th>1</th>\n",
       "      <td>my name is sufeeya</td>\n",
       "      <td>19</td>\n",
       "    </tr>\n",
       "    <tr>\n",
       "      <th>2</th>\n",
       "      <td>i used to teach data science</td>\n",
       "      <td>28</td>\n",
       "    </tr>\n",
       "  </tbody>\n",
       "</table>\n",
       "</div>"
      ],
      "text/plain": [
       "                                                                                                                                                                                                                                                                                                                                                                                                                                                                                                                                    desc  \\\n",
       "0  Data science models are essential in modern advertising, from display advertisements on numerous websites to digital posters at airports.One of the most common ways that data science is employed in marketing is when you Google a term, and algorithms create relevant search results, including targeted ads related to your query. This application of data science is why you may see an online advertisement for data science training programmes, while someone else in the same region may see an advertisement for clothes.   \n",
       "1                                                                                                                                                                                                                                                                                                                                                                                                                                                                                                                    my name is sufeeya    \n",
       "2                                                                                                                                                                                                                                                                                                                                                                                                                                                                                                           i used to teach data science   \n",
       "\n",
       "   len  \n",
       "0  517  \n",
       "1   19  \n",
       "2   28  "
      ]
     },
     "execution_count": 69,
     "metadata": {},
     "output_type": "execute_result"
    }
   ],
   "source": [
    "#---- len of each col charact\n",
    "\n",
    "df3['len'] = df3['desc'].apply(len)\n",
    "df3"
   ]
  },
  {
   "cell_type": "code",
   "execution_count": 72,
   "id": "6033b800-1a8d-4450-a191-b4552eac828c",
   "metadata": {},
   "outputs": [
    {
     "data": {
      "text/plain": [
       "['i', 'use', 'to', 'teach', 'data', 'science']"
      ]
     },
     "execution_count": 72,
     "metadata": {},
     "output_type": "execute_result"
    }
   ],
   "source": [
    "t = 'i use to teach data science'\n",
    "t.split() # space : Data science models are "
   ]
  },
  {
   "cell_type": "code",
   "execution_count": 71,
   "id": "6dbf5034-05ea-4349-a285-6f55ee2fd870",
   "metadata": {},
   "outputs": [
    {
     "data": {
      "text/html": [
       "<div>\n",
       "<style scoped>\n",
       "    .dataframe tbody tr th:only-of-type {\n",
       "        vertical-align: middle;\n",
       "    }\n",
       "\n",
       "    .dataframe tbody tr th {\n",
       "        vertical-align: top;\n",
       "    }\n",
       "\n",
       "    .dataframe thead th {\n",
       "        text-align: right;\n",
       "    }\n",
       "</style>\n",
       "<table border=\"1\" class=\"dataframe\">\n",
       "  <thead>\n",
       "    <tr style=\"text-align: right;\">\n",
       "      <th></th>\n",
       "      <th>desc</th>\n",
       "      <th>len</th>\n",
       "      <th>word_count</th>\n",
       "    </tr>\n",
       "  </thead>\n",
       "  <tbody>\n",
       "    <tr>\n",
       "      <th>0</th>\n",
       "      <td>Data science models are essential in modern advertising, from display advertisements on numerous websites to digital posters at airports.One of the most common ways that data science is employed in marketing is when you Google a term, and algorithms create relevant search results, including targeted ads related to your query. This application of data science is why you may see an online advertisement for data science training programmes, while someone else in the same region may see an advertisement for clothes.</td>\n",
       "      <td>517</td>\n",
       "      <td>81</td>\n",
       "    </tr>\n",
       "    <tr>\n",
       "      <th>1</th>\n",
       "      <td>my name is sufeeya</td>\n",
       "      <td>19</td>\n",
       "      <td>4</td>\n",
       "    </tr>\n",
       "    <tr>\n",
       "      <th>2</th>\n",
       "      <td>i used to teach data science</td>\n",
       "      <td>28</td>\n",
       "      <td>6</td>\n",
       "    </tr>\n",
       "  </tbody>\n",
       "</table>\n",
       "</div>"
      ],
      "text/plain": [
       "                                                                                                                                                                                                                                                                                                                                                                                                                                                                                                                                    desc  \\\n",
       "0  Data science models are essential in modern advertising, from display advertisements on numerous websites to digital posters at airports.One of the most common ways that data science is employed in marketing is when you Google a term, and algorithms create relevant search results, including targeted ads related to your query. This application of data science is why you may see an online advertisement for data science training programmes, while someone else in the same region may see an advertisement for clothes.   \n",
       "1                                                                                                                                                                                                                                                                                                                                                                                                                                                                                                                    my name is sufeeya    \n",
       "2                                                                                                                                                                                                                                                                                                                                                                                                                                                                                                           i used to teach data science   \n",
       "\n",
       "   len  word_count  \n",
       "0  517          81  \n",
       "1   19           4  \n",
       "2   28           6  "
      ]
     },
     "execution_count": 71,
     "metadata": {},
     "output_type": "execute_result"
    }
   ],
   "source": [
    "#------count each word\n",
    "#  df3['word_count'] = df3['desc'].str.split().str.len()\n",
    "#  df3['word_count'] = df3['desc'].str.count(' ') + 1\n",
    "\n",
    "\n",
    "df3['word_count'] = df3['desc'].apply(lambda x:len(x.split()))\n",
    "df3"
   ]
  },
  {
   "cell_type": "code",
   "execution_count": 13,
   "id": "0ea5e683-a54c-4bb0-afbe-cebcf30d6423",
   "metadata": {},
   "outputs": [
    {
     "data": {
      "text/html": [
       "<div>\n",
       "<style scoped>\n",
       "    .dataframe tbody tr th:only-of-type {\n",
       "        vertical-align: middle;\n",
       "    }\n",
       "\n",
       "    .dataframe tbody tr th {\n",
       "        vertical-align: top;\n",
       "    }\n",
       "\n",
       "    .dataframe thead th {\n",
       "        text-align: right;\n",
       "    }\n",
       "</style>\n",
       "<table border=\"1\" class=\"dataframe\">\n",
       "  <thead>\n",
       "    <tr style=\"text-align: right;\">\n",
       "      <th></th>\n",
       "      <th>a</th>\n",
       "      <th>b</th>\n",
       "      <th>c</th>\n",
       "    </tr>\n",
       "  </thead>\n",
       "  <tbody>\n",
       "    <tr>\n",
       "      <th>A</th>\n",
       "      <td>1</td>\n",
       "      <td>4</td>\n",
       "      <td>sufeeya</td>\n",
       "    </tr>\n",
       "    <tr>\n",
       "      <th>B</th>\n",
       "      <td>2</td>\n",
       "      <td>5</td>\n",
       "      <td>nikku</td>\n",
       "    </tr>\n",
       "    <tr>\n",
       "      <th>C</th>\n",
       "      <td>3</td>\n",
       "      <td>6</td>\n",
       "      <td>samre</td>\n",
       "    </tr>\n",
       "    <tr>\n",
       "      <th>D</th>\n",
       "      <td>4</td>\n",
       "      <td>7</td>\n",
       "      <td>abcd</td>\n",
       "    </tr>\n",
       "  </tbody>\n",
       "</table>\n",
       "</div>"
      ],
      "text/plain": [
       "   a  b        c\n",
       "A  1  4  sufeeya\n",
       "B  2  5    nikku\n",
       "C  3  6    samre\n",
       "D  4  7     abcd"
      ]
     },
     "execution_count": 13,
     "metadata": {},
     "output_type": "execute_result"
    }
   ],
   "source": [
    "df1"
   ]
  },
  {
   "cell_type": "code",
   "execution_count": 79,
   "id": "39d83ba4-1cff-403a-8e04-25afa28a7fd7",
   "metadata": {},
   "outputs": [
    {
     "data": {
      "text/html": [
       "<div>\n",
       "<style scoped>\n",
       "    .dataframe tbody tr th:only-of-type {\n",
       "        vertical-align: middle;\n",
       "    }\n",
       "\n",
       "    .dataframe tbody tr th {\n",
       "        vertical-align: top;\n",
       "    }\n",
       "\n",
       "    .dataframe thead th {\n",
       "        text-align: right;\n",
       "    }\n",
       "</style>\n",
       "<table border=\"1\" class=\"dataframe\">\n",
       "  <thead>\n",
       "    <tr style=\"text-align: right;\">\n",
       "      <th></th>\n",
       "      <th>a</th>\n",
       "      <th>b</th>\n",
       "      <th>c</th>\n",
       "      <th>count words</th>\n",
       "    </tr>\n",
       "  </thead>\n",
       "  <tbody>\n",
       "    <tr>\n",
       "      <th>A</th>\n",
       "      <td>1</td>\n",
       "      <td>4</td>\n",
       "      <td>sufeeya</td>\n",
       "      <td>7</td>\n",
       "    </tr>\n",
       "    <tr>\n",
       "      <th>B</th>\n",
       "      <td>2</td>\n",
       "      <td>5</td>\n",
       "      <td>nikku</td>\n",
       "      <td>5</td>\n",
       "    </tr>\n",
       "    <tr>\n",
       "      <th>C</th>\n",
       "      <td>3</td>\n",
       "      <td>6</td>\n",
       "      <td>samre</td>\n",
       "      <td>5</td>\n",
       "    </tr>\n",
       "    <tr>\n",
       "      <th>D</th>\n",
       "      <td>4</td>\n",
       "      <td>7</td>\n",
       "      <td>abcd</td>\n",
       "      <td>4</td>\n",
       "    </tr>\n",
       "  </tbody>\n",
       "</table>\n",
       "</div>"
      ],
      "text/plain": [
       "   a  b        c  count words\n",
       "A  1  4  sufeeya            7\n",
       "B  2  5    nikku            5\n",
       "C  3  6    samre            5\n",
       "D  4  7     abcd            4"
      ]
     },
     "execution_count": 79,
     "metadata": {},
     "output_type": "execute_result"
    }
   ],
   "source": [
    "df1['count words']= df1['c'].apply(lambda count: len(count))\n",
    "df1"
   ]
  },
  {
   "cell_type": "code",
   "execution_count": 18,
   "id": "6902d4c3-2445-4636-b114-07c212706973",
   "metadata": {},
   "outputs": [
    {
     "data": {
      "text/plain": [
       "4"
      ]
     },
     "execution_count": 18,
     "metadata": {},
     "output_type": "execute_result"
    }
   ],
   "source": [
    "#----------statistical fun \n",
    "\n",
    "df1['a'].max()"
   ]
  },
  {
   "cell_type": "code",
   "execution_count": 19,
   "id": "f76bbde9-9b6c-483c-a662-84ebaf83615a",
   "metadata": {},
   "outputs": [
    {
     "data": {
      "text/plain": [
       "a    10\n",
       "b    22\n",
       "dtype: int64"
      ]
     },
     "execution_count": 19,
     "metadata": {},
     "output_type": "execute_result"
    }
   ],
   "source": [
    "df1[['a','b']].sum()"
   ]
  },
  {
   "cell_type": "code",
   "execution_count": 80,
   "id": "9943c13b-0817-46c4-82be-91bcc03e6934",
   "metadata": {},
   "outputs": [
    {
     "data": {
      "text/plain": [
       "a                                 10\n",
       "b                                 22\n",
       "c              sufeeyanikkusamreabcd\n",
       "count words                       21\n",
       "dtype: object"
      ]
     },
     "execution_count": 80,
     "metadata": {},
     "output_type": "execute_result"
    }
   ],
   "source": [
    "df1.sum()"
   ]
  },
  {
   "cell_type": "code",
   "execution_count": 81,
   "id": "58d79b69-323d-4297-b40f-7e551e514450",
   "metadata": {},
   "outputs": [
    {
     "data": {
      "text/html": [
       "<div>\n",
       "<style scoped>\n",
       "    .dataframe tbody tr th:only-of-type {\n",
       "        vertical-align: middle;\n",
       "    }\n",
       "\n",
       "    .dataframe tbody tr th {\n",
       "        vertical-align: top;\n",
       "    }\n",
       "\n",
       "    .dataframe thead th {\n",
       "        text-align: right;\n",
       "    }\n",
       "</style>\n",
       "<table border=\"1\" class=\"dataframe\">\n",
       "  <thead>\n",
       "    <tr style=\"text-align: right;\">\n",
       "      <th></th>\n",
       "      <th>a</th>\n",
       "    </tr>\n",
       "  </thead>\n",
       "  <tbody>\n",
       "    <tr>\n",
       "      <th>0</th>\n",
       "      <td>3</td>\n",
       "    </tr>\n",
       "    <tr>\n",
       "      <th>1</th>\n",
       "      <td>4</td>\n",
       "    </tr>\n",
       "    <tr>\n",
       "      <th>2</th>\n",
       "      <td>5</td>\n",
       "    </tr>\n",
       "    <tr>\n",
       "      <th>3</th>\n",
       "      <td>2</td>\n",
       "    </tr>\n",
       "    <tr>\n",
       "      <th>4</th>\n",
       "      <td>1</td>\n",
       "    </tr>\n",
       "    <tr>\n",
       "      <th>5</th>\n",
       "      <td>3</td>\n",
       "    </tr>\n",
       "    <tr>\n",
       "      <th>6</th>\n",
       "      <td>4</td>\n",
       "    </tr>\n",
       "    <tr>\n",
       "      <th>7</th>\n",
       "      <td>5</td>\n",
       "    </tr>\n",
       "    <tr>\n",
       "      <th>8</th>\n",
       "      <td>6</td>\n",
       "    </tr>\n",
       "  </tbody>\n",
       "</table>\n",
       "</div>"
      ],
      "text/plain": [
       "   a\n",
       "0  3\n",
       "1  4\n",
       "2  5\n",
       "3  2\n",
       "4  1\n",
       "5  3\n",
       "6  4\n",
       "7  5\n",
       "8  6"
      ]
     },
     "execution_count": 81,
     "metadata": {},
     "output_type": "execute_result"
    }
   ],
   "source": [
    "df4 = pd.DataFrame({'a': [3,4,5,2,1,3,4,5,6]})\n",
    "df4"
   ]
  },
  {
   "cell_type": "code",
   "execution_count": 22,
   "id": "7bea8859-d2ec-4536-bb6c-07afe51a7409",
   "metadata": {},
   "outputs": [
    {
     "data": {
      "text/plain": [
       "0    3.0\n",
       "1    4.0\n",
       "2    5.0\n",
       "3    2.0\n",
       "4    1.0\n",
       "5    3.0\n",
       "6    4.0\n",
       "7    5.0\n",
       "8    6.0\n",
       "Name: a, dtype: float64"
      ]
     },
     "execution_count": 22,
     "metadata": {},
     "output_type": "execute_result"
    }
   ],
   "source": [
    "#-------windowing fun\n",
    "\n",
    "df4['a'].rolling (window=1).mean()"
   ]
  },
  {
   "cell_type": "code",
   "execution_count": 23,
   "id": "640cc5f7-b8ec-480c-9da8-18d3a919be99",
   "metadata": {},
   "outputs": [
    {
     "data": {
      "text/plain": [
       "0     NaN\n",
       "1     7.0\n",
       "2     9.0\n",
       "3     7.0\n",
       "4     3.0\n",
       "5     4.0\n",
       "6     7.0\n",
       "7     9.0\n",
       "8    11.0\n",
       "Name: a, dtype: float64"
      ]
     },
     "execution_count": 23,
     "metadata": {},
     "output_type": "execute_result"
    }
   ],
   "source": [
    "df4['a'].rolling(window=2).sum() #comapre with perivious one like 3+4"
   ]
  },
  {
   "cell_type": "code",
   "execution_count": 33,
   "id": "14b92e2b-0080-42ee-b349-8b35f6c20ad8",
   "metadata": {},
   "outputs": [
    {
     "data": {
      "text/plain": [
       "0     NaN\n",
       "1     NaN\n",
       "2    12.0\n",
       "3    11.0\n",
       "4     8.0\n",
       "5     6.0\n",
       "6     8.0\n",
       "7    12.0\n",
       "8    15.0\n",
       "Name: a, dtype: float64"
      ]
     },
     "execution_count": 33,
     "metadata": {},
     "output_type": "execute_result"
    }
   ],
   "source": [
    "df4['a'].rolling(window=3).sum()"
   ]
  },
  {
   "cell_type": "code",
   "execution_count": 35,
   "id": "d4426705-1e6e-4d48-8f84-a355541304bb",
   "metadata": {},
   "outputs": [
    {
     "data": {
      "text/plain": [
       "0     3\n",
       "1     7\n",
       "2    12\n",
       "3    14\n",
       "4    15\n",
       "5    18\n",
       "6    22\n",
       "7    27\n",
       "8    33\n",
       "Name: a, dtype: int64"
      ]
     },
     "execution_count": 35,
     "metadata": {},
     "output_type": "execute_result"
    }
   ],
   "source": [
    "df4['a'].cumsum()"
   ]
  },
  {
   "cell_type": "code",
   "execution_count": 82,
   "id": "d0ad71e5-ac99-4a4f-8e7a-979f0c400481",
   "metadata": {},
   "outputs": [
    {
     "data": {
      "text/plain": [
       "DatetimeIndex(['2024-03-23', '2024-03-24', '2024-03-25', '2024-03-26',\n",
       "               '2024-03-27', '2024-03-28', '2024-03-29', '2024-03-30',\n",
       "               '2024-03-31', '2024-04-01', '2024-04-02', '2024-04-03',\n",
       "               '2024-04-04', '2024-04-05', '2024-04-06', '2024-04-07',\n",
       "               '2024-04-08', '2024-04-09', '2024-04-10', '2024-04-11',\n",
       "               '2024-04-12', '2024-04-13', '2024-04-14', '2024-04-15',\n",
       "               '2024-04-16', '2024-04-17', '2024-04-18', '2024-04-19',\n",
       "               '2024-04-20', '2024-04-21', '2024-04-22', '2024-04-23',\n",
       "               '2024-04-24', '2024-04-25', '2024-04-26', '2024-04-27',\n",
       "               '2024-04-28', '2024-04-29', '2024-04-30', '2024-05-01',\n",
       "               '2024-05-02', '2024-05-03', '2024-05-04', '2024-05-05',\n",
       "               '2024-05-06', '2024-05-07', '2024-05-08', '2024-05-09',\n",
       "               '2024-05-10', '2024-05-11', '2024-05-12', '2024-05-13',\n",
       "               '2024-05-14', '2024-05-15', '2024-05-16', '2024-05-17',\n",
       "               '2024-05-18', '2024-05-19', '2024-05-20', '2024-05-21',\n",
       "               '2024-05-22', '2024-05-23', '2024-05-24', '2024-05-25',\n",
       "               '2024-05-26', '2024-05-27', '2024-05-28', '2024-05-29',\n",
       "               '2024-05-30', '2024-05-31', '2024-06-01', '2024-06-02',\n",
       "               '2024-06-03', '2024-06-04', '2024-06-05', '2024-06-06',\n",
       "               '2024-06-07', '2024-06-08', '2024-06-09', '2024-06-10',\n",
       "               '2024-06-11', '2024-06-12', '2024-06-13', '2024-06-14',\n",
       "               '2024-06-15', '2024-06-16', '2024-06-17', '2024-06-18',\n",
       "               '2024-06-19', '2024-06-20', '2024-06-21', '2024-06-22',\n",
       "               '2024-06-23'],\n",
       "              dtype='datetime64[ns]', freq='D')"
      ]
     },
     "execution_count": 82,
     "metadata": {},
     "output_type": "execute_result"
    }
   ],
   "source": [
    "#----------------date functionality, datetime\n",
    "\n",
    "d = pd.date_range(start='2024-03-23' , end='2024-06-23' )\n",
    "d"
   ]
  },
  {
   "cell_type": "code",
   "execution_count": 115,
   "id": "416ca806-591e-42b1-93bb-7f1a3e1641d7",
   "metadata": {},
   "outputs": [
    {
     "data": {
      "text/html": [
       "<div>\n",
       "<style scoped>\n",
       "    .dataframe tbody tr th:only-of-type {\n",
       "        vertical-align: middle;\n",
       "    }\n",
       "\n",
       "    .dataframe tbody tr th {\n",
       "        vertical-align: top;\n",
       "    }\n",
       "\n",
       "    .dataframe thead th {\n",
       "        text-align: right;\n",
       "    }\n",
       "</style>\n",
       "<table border=\"1\" class=\"dataframe\">\n",
       "  <thead>\n",
       "    <tr style=\"text-align: right;\">\n",
       "      <th></th>\n",
       "      <th>date</th>\n",
       "    </tr>\n",
       "  </thead>\n",
       "  <tbody>\n",
       "    <tr>\n",
       "      <th>0</th>\n",
       "      <td>2024-03-23</td>\n",
       "    </tr>\n",
       "    <tr>\n",
       "      <th>1</th>\n",
       "      <td>2024-03-24</td>\n",
       "    </tr>\n",
       "    <tr>\n",
       "      <th>2</th>\n",
       "      <td>2024-03-25</td>\n",
       "    </tr>\n",
       "    <tr>\n",
       "      <th>3</th>\n",
       "      <td>2024-03-26</td>\n",
       "    </tr>\n",
       "    <tr>\n",
       "      <th>4</th>\n",
       "      <td>2024-03-27</td>\n",
       "    </tr>\n",
       "    <tr>\n",
       "      <th>...</th>\n",
       "      <td>...</td>\n",
       "    </tr>\n",
       "    <tr>\n",
       "      <th>88</th>\n",
       "      <td>2024-06-19</td>\n",
       "    </tr>\n",
       "    <tr>\n",
       "      <th>89</th>\n",
       "      <td>2024-06-20</td>\n",
       "    </tr>\n",
       "    <tr>\n",
       "      <th>90</th>\n",
       "      <td>2024-06-21</td>\n",
       "    </tr>\n",
       "    <tr>\n",
       "      <th>91</th>\n",
       "      <td>2024-06-22</td>\n",
       "    </tr>\n",
       "    <tr>\n",
       "      <th>92</th>\n",
       "      <td>2024-06-23</td>\n",
       "    </tr>\n",
       "  </tbody>\n",
       "</table>\n",
       "<p>93 rows × 1 columns</p>\n",
       "</div>"
      ],
      "text/plain": [
       "         date\n",
       "0  2024-03-23\n",
       "1  2024-03-24\n",
       "2  2024-03-25\n",
       "3  2024-03-26\n",
       "4  2024-03-27\n",
       "..        ...\n",
       "88 2024-06-19\n",
       "89 2024-06-20\n",
       "90 2024-06-21\n",
       "91 2024-06-22\n",
       "92 2024-06-23\n",
       "\n",
       "[93 rows x 1 columns]"
      ]
     },
     "execution_count": 115,
     "metadata": {},
     "output_type": "execute_result"
    }
   ],
   "source": [
    "df_data = pd.DataFrame({'date':d})\n",
    "df_data"
   ]
  },
  {
   "cell_type": "code",
   "execution_count": 24,
   "id": "f9354aa4-eddc-41eb-83e3-4d176b8ae684",
   "metadata": {},
   "outputs": [
    {
     "data": {
      "text/html": [
       "<div>\n",
       "<style scoped>\n",
       "    .dataframe tbody tr th:only-of-type {\n",
       "        vertical-align: middle;\n",
       "    }\n",
       "\n",
       "    .dataframe tbody tr th {\n",
       "        vertical-align: top;\n",
       "    }\n",
       "\n",
       "    .dataframe thead th {\n",
       "        text-align: right;\n",
       "    }\n",
       "</style>\n",
       "<table border=\"1\" class=\"dataframe\">\n",
       "  <thead>\n",
       "    <tr style=\"text-align: right;\">\n",
       "      <th></th>\n",
       "      <th>date</th>\n",
       "    </tr>\n",
       "  </thead>\n",
       "  <tbody>\n",
       "    <tr>\n",
       "      <th>0</th>\n",
       "      <td>2023-06-21</td>\n",
       "    </tr>\n",
       "    <tr>\n",
       "      <th>1</th>\n",
       "      <td>2023-06-19</td>\n",
       "    </tr>\n",
       "    <tr>\n",
       "      <th>2</th>\n",
       "      <td>2023-06-20</td>\n",
       "    </tr>\n",
       "  </tbody>\n",
       "</table>\n",
       "</div>"
      ],
      "text/plain": [
       "         date\n",
       "0  2023-06-21\n",
       "1  2023-06-19\n",
       "2  2023-06-20"
      ]
     },
     "execution_count": 24,
     "metadata": {},
     "output_type": "execute_result"
    }
   ],
   "source": [
    "#-------dates are in string format , then convert into datetime dtype\n",
    "\n",
    "df7 = pd.DataFrame({'date' :['2023-06-21','2023-06-19','2023-06-20' ]})\n",
    "df7 "
   ]
  },
  {
   "cell_type": "code",
   "execution_count": 28,
   "id": "5595e4df-ce0b-40e4-9b64-7eb6096c5f19",
   "metadata": {},
   "outputs": [
    {
     "data": {
      "text/html": [
       "<div>\n",
       "<style scoped>\n",
       "    .dataframe tbody tr th:only-of-type {\n",
       "        vertical-align: middle;\n",
       "    }\n",
       "\n",
       "    .dataframe tbody tr th {\n",
       "        vertical-align: top;\n",
       "    }\n",
       "\n",
       "    .dataframe thead th {\n",
       "        text-align: right;\n",
       "    }\n",
       "</style>\n",
       "<table border=\"1\" class=\"dataframe\">\n",
       "  <thead>\n",
       "    <tr style=\"text-align: right;\">\n",
       "      <th></th>\n",
       "      <th>date</th>\n",
       "      <th>updated_date</th>\n",
       "      <th>year</th>\n",
       "    </tr>\n",
       "  </thead>\n",
       "  <tbody>\n",
       "    <tr>\n",
       "      <th>0</th>\n",
       "      <td>2023-06-21</td>\n",
       "      <td>2023-06-21</td>\n",
       "      <td>2023</td>\n",
       "    </tr>\n",
       "    <tr>\n",
       "      <th>1</th>\n",
       "      <td>2023-06-19</td>\n",
       "      <td>2023-06-19</td>\n",
       "      <td>2023</td>\n",
       "    </tr>\n",
       "    <tr>\n",
       "      <th>2</th>\n",
       "      <td>2023-06-20</td>\n",
       "      <td>2023-06-20</td>\n",
       "      <td>2023</td>\n",
       "    </tr>\n",
       "  </tbody>\n",
       "</table>\n",
       "</div>"
      ],
      "text/plain": [
       "         date updated_date  year\n",
       "0  2023-06-21   2023-06-21  2023\n",
       "1  2023-06-19   2023-06-19  2023\n",
       "2  2023-06-20   2023-06-20  2023"
      ]
     },
     "execution_count": 28,
     "metadata": {},
     "output_type": "execute_result"
    }
   ],
   "source": [
    "#----convert into datetime updatetime\n",
    "\n",
    "df7['updated_date']= pd.to_datetime(df7['date'])\n",
    "df7"
   ]
  },
  {
   "cell_type": "code",
   "execution_count": 29,
   "id": "c347819c-01fd-4ca8-8144-9a75626b6b10",
   "metadata": {},
   "outputs": [
    {
     "data": {
      "text/plain": [
       "date                    object\n",
       "updated_date    datetime64[ns]\n",
       "year                     int64\n",
       "dtype: object"
      ]
     },
     "execution_count": 29,
     "metadata": {},
     "output_type": "execute_result"
    }
   ],
   "source": [
    "df7.dtypes"
   ]
  },
  {
   "cell_type": "code",
   "execution_count": 30,
   "id": "283209ea-0c20-4ea0-8485-165e73d9d506",
   "metadata": {},
   "outputs": [
    {
     "data": {
      "text/html": [
       "<div>\n",
       "<style scoped>\n",
       "    .dataframe tbody tr th:only-of-type {\n",
       "        vertical-align: middle;\n",
       "    }\n",
       "\n",
       "    .dataframe tbody tr th {\n",
       "        vertical-align: top;\n",
       "    }\n",
       "\n",
       "    .dataframe thead th {\n",
       "        text-align: right;\n",
       "    }\n",
       "</style>\n",
       "<table border=\"1\" class=\"dataframe\">\n",
       "  <thead>\n",
       "    <tr style=\"text-align: right;\">\n",
       "      <th></th>\n",
       "      <th>date</th>\n",
       "      <th>updated_date</th>\n",
       "      <th>year</th>\n",
       "    </tr>\n",
       "  </thead>\n",
       "  <tbody>\n",
       "    <tr>\n",
       "      <th>0</th>\n",
       "      <td>2023-06-21</td>\n",
       "      <td>2023-06-21</td>\n",
       "      <td>2023</td>\n",
       "    </tr>\n",
       "    <tr>\n",
       "      <th>1</th>\n",
       "      <td>2023-06-19</td>\n",
       "      <td>2023-06-19</td>\n",
       "      <td>2023</td>\n",
       "    </tr>\n",
       "    <tr>\n",
       "      <th>2</th>\n",
       "      <td>2023-06-20</td>\n",
       "      <td>2023-06-20</td>\n",
       "      <td>2023</td>\n",
       "    </tr>\n",
       "  </tbody>\n",
       "</table>\n",
       "</div>"
      ],
      "text/plain": [
       "         date updated_date  year\n",
       "0  2023-06-21   2023-06-21  2023\n",
       "1  2023-06-19   2023-06-19  2023\n",
       "2  2023-06-20   2023-06-20  2023"
      ]
     },
     "execution_count": 30,
     "metadata": {},
     "output_type": "execute_result"
    }
   ],
   "source": [
    "#---------add new col to seprate date m/y/d\n",
    "\n",
    "df7['year'] = df7[\"updated_date\"].dt.year\n",
    "df7"
   ]
  },
  {
   "cell_type": "code",
   "execution_count": 9,
   "id": "7639c372-3832-44a6-925d-48b5b85c0864",
   "metadata": {},
   "outputs": [
    {
     "data": {
      "text/html": [
       "<div>\n",
       "<style scoped>\n",
       "    .dataframe tbody tr th:only-of-type {\n",
       "        vertical-align: middle;\n",
       "    }\n",
       "\n",
       "    .dataframe tbody tr th {\n",
       "        vertical-align: top;\n",
       "    }\n",
       "\n",
       "    .dataframe thead th {\n",
       "        text-align: right;\n",
       "    }\n",
       "</style>\n",
       "<table border=\"1\" class=\"dataframe\">\n",
       "  <thead>\n",
       "    <tr style=\"text-align: right;\">\n",
       "      <th></th>\n",
       "      <th>date</th>\n",
       "      <th>updated_date</th>\n",
       "      <th>year</th>\n",
       "      <th>day</th>\n",
       "      <th>month</th>\n",
       "    </tr>\n",
       "  </thead>\n",
       "  <tbody>\n",
       "    <tr>\n",
       "      <th>0</th>\n",
       "      <td>2024-06-21</td>\n",
       "      <td>2024-06-21</td>\n",
       "      <td>2024</td>\n",
       "      <td>21</td>\n",
       "      <td>6</td>\n",
       "    </tr>\n",
       "    <tr>\n",
       "      <th>1</th>\n",
       "      <td>2024-06-19</td>\n",
       "      <td>2024-06-19</td>\n",
       "      <td>2024</td>\n",
       "      <td>19</td>\n",
       "      <td>6</td>\n",
       "    </tr>\n",
       "    <tr>\n",
       "      <th>2</th>\n",
       "      <td>2024-06-20</td>\n",
       "      <td>2024-06-20</td>\n",
       "      <td>2024</td>\n",
       "      <td>20</td>\n",
       "      <td>6</td>\n",
       "    </tr>\n",
       "  </tbody>\n",
       "</table>\n",
       "</div>"
      ],
      "text/plain": [
       "         date updated_date  year  day  month\n",
       "0  2024-06-21   2024-06-21  2024   21      6\n",
       "1  2024-06-19   2024-06-19  2024   19      6\n",
       "2  2024-06-20   2024-06-20  2024   20      6"
      ]
     },
     "execution_count": 9,
     "metadata": {},
     "output_type": "execute_result"
    }
   ],
   "source": [
    "df7['day'] = df7[\"updated_date\"].dt.day\n",
    "df7['month'] = df7[\"updated_date\"].dt.month\n",
    "df7"
   ]
  },
  {
   "cell_type": "code",
   "execution_count": 31,
   "id": "736dc716-e4f2-4af9-83ec-a583d47bdb8e",
   "metadata": {},
   "outputs": [
    {
     "data": {
      "text/html": [
       "<div>\n",
       "<style scoped>\n",
       "    .dataframe tbody tr th:only-of-type {\n",
       "        vertical-align: middle;\n",
       "    }\n",
       "\n",
       "    .dataframe tbody tr th {\n",
       "        vertical-align: top;\n",
       "    }\n",
       "\n",
       "    .dataframe thead th {\n",
       "        text-align: right;\n",
       "    }\n",
       "</style>\n",
       "<table border=\"1\" class=\"dataframe\">\n",
       "  <thead>\n",
       "    <tr style=\"text-align: right;\">\n",
       "      <th></th>\n",
       "      <th>date</th>\n",
       "      <th>updated_date</th>\n",
       "      <th>year</th>\n",
       "      <th>month</th>\n",
       "      <th>day</th>\n",
       "    </tr>\n",
       "  </thead>\n",
       "  <tbody>\n",
       "    <tr>\n",
       "      <th>0</th>\n",
       "      <td>2023-06-21</td>\n",
       "      <td>2023-06-21</td>\n",
       "      <td>2023</td>\n",
       "      <td>6</td>\n",
       "      <td>21</td>\n",
       "    </tr>\n",
       "    <tr>\n",
       "      <th>1</th>\n",
       "      <td>2023-06-19</td>\n",
       "      <td>2023-06-19</td>\n",
       "      <td>2023</td>\n",
       "      <td>6</td>\n",
       "      <td>19</td>\n",
       "    </tr>\n",
       "    <tr>\n",
       "      <th>2</th>\n",
       "      <td>2023-06-20</td>\n",
       "      <td>2023-06-20</td>\n",
       "      <td>2023</td>\n",
       "      <td>6</td>\n",
       "      <td>20</td>\n",
       "    </tr>\n",
       "  </tbody>\n",
       "</table>\n",
       "</div>"
      ],
      "text/plain": [
       "         date updated_date  year  month  day\n",
       "0  2023-06-21   2023-06-21  2023      6   21\n",
       "1  2023-06-19   2023-06-19  2023      6   19\n",
       "2  2023-06-20   2023-06-20  2023      6   20"
      ]
     },
     "execution_count": 31,
     "metadata": {},
     "output_type": "execute_result"
    }
   ],
   "source": [
    "df7['year'], df7['month'], df7['day']= df7[\"updated_date\"].dt.year, df7[\"updated_date\"].dt.month ,df7[\"updated_date\"].dt.day\n",
    "df7"
   ]
  },
  {
   "cell_type": "code",
   "execution_count": null,
   "id": "8da15e58-8322-40af-ab55-a4c839aa3c16",
   "metadata": {},
   "outputs": [],
   "source": [
    "#-----------dt.strftime()  \"string format time\".  to know to wewekday name \n",
    "\n",
    "\n",
    "%Y represents the year with century as a decimal number (e.g., 2024).\n",
    "%m represents the month as a zero-padded decimal number (e.g., 06 for June).\n",
    "%d represents the day of the month as a zero-padded decimal number (e.g., 21).\n",
    "%A represents the full weekday name (e.g., Monday).\n",
    "%a represents the abbreviated weekday name (e.g., Mon)."
   ]
  },
  {
   "cell_type": "code",
   "execution_count": 33,
   "id": "375fb641-2657-4dff-8146-c82c5c3e67d7",
   "metadata": {},
   "outputs": [
    {
     "data": {
      "text/html": [
       "<div>\n",
       "<style scoped>\n",
       "    .dataframe tbody tr th:only-of-type {\n",
       "        vertical-align: middle;\n",
       "    }\n",
       "\n",
       "    .dataframe tbody tr th {\n",
       "        vertical-align: top;\n",
       "    }\n",
       "\n",
       "    .dataframe thead th {\n",
       "        text-align: right;\n",
       "    }\n",
       "</style>\n",
       "<table border=\"1\" class=\"dataframe\">\n",
       "  <thead>\n",
       "    <tr style=\"text-align: right;\">\n",
       "      <th></th>\n",
       "      <th>date</th>\n",
       "      <th>updated_date</th>\n",
       "      <th>year</th>\n",
       "      <th>month</th>\n",
       "      <th>day</th>\n",
       "      <th>weekday_name</th>\n",
       "    </tr>\n",
       "  </thead>\n",
       "  <tbody>\n",
       "    <tr>\n",
       "      <th>0</th>\n",
       "      <td>2023-06-21</td>\n",
       "      <td>2023-06-21</td>\n",
       "      <td>2023</td>\n",
       "      <td>6</td>\n",
       "      <td>21</td>\n",
       "      <td>Wed</td>\n",
       "    </tr>\n",
       "    <tr>\n",
       "      <th>1</th>\n",
       "      <td>2023-06-19</td>\n",
       "      <td>2023-06-19</td>\n",
       "      <td>2023</td>\n",
       "      <td>6</td>\n",
       "      <td>19</td>\n",
       "      <td>Mon</td>\n",
       "    </tr>\n",
       "    <tr>\n",
       "      <th>2</th>\n",
       "      <td>2023-06-20</td>\n",
       "      <td>2023-06-20</td>\n",
       "      <td>2023</td>\n",
       "      <td>6</td>\n",
       "      <td>20</td>\n",
       "      <td>Tue</td>\n",
       "    </tr>\n",
       "  </tbody>\n",
       "</table>\n",
       "</div>"
      ],
      "text/plain": [
       "         date updated_date  year  month  day weekday_name\n",
       "0  2023-06-21   2023-06-21  2023      6   21          Wed\n",
       "1  2023-06-19   2023-06-19  2023      6   19          Mon\n",
       "2  2023-06-20   2023-06-20  2023      6   20          Tue"
      ]
     },
     "execution_count": 33,
     "metadata": {},
     "output_type": "execute_result"
    }
   ],
   "source": [
    "df7['weekday_name'] = df7[\"updated_date\"].dt.strftime('%a')  #abbreviated weekday name. (mon) shorter name \n",
    "df7"
   ]
  },
  {
   "cell_type": "code",
   "execution_count": 13,
   "id": "4fe43f18-6fe9-43d6-8bfe-dc3497ff86e6",
   "metadata": {},
   "outputs": [
    {
     "data": {
      "text/html": [
       "<div>\n",
       "<style scoped>\n",
       "    .dataframe tbody tr th:only-of-type {\n",
       "        vertical-align: middle;\n",
       "    }\n",
       "\n",
       "    .dataframe tbody tr th {\n",
       "        vertical-align: top;\n",
       "    }\n",
       "\n",
       "    .dataframe thead th {\n",
       "        text-align: right;\n",
       "    }\n",
       "</style>\n",
       "<table border=\"1\" class=\"dataframe\">\n",
       "  <thead>\n",
       "    <tr style=\"text-align: right;\">\n",
       "      <th></th>\n",
       "      <th>date</th>\n",
       "      <th>updated_date</th>\n",
       "      <th>year</th>\n",
       "      <th>day</th>\n",
       "      <th>month</th>\n",
       "      <th>weekday_name</th>\n",
       "    </tr>\n",
       "  </thead>\n",
       "  <tbody>\n",
       "    <tr>\n",
       "      <th>0</th>\n",
       "      <td>2024-06-21</td>\n",
       "      <td>2024-06-21</td>\n",
       "      <td>24-06-21</td>\n",
       "      <td>24-06-20</td>\n",
       "      <td>24-06-19</td>\n",
       "      <td>Fri</td>\n",
       "    </tr>\n",
       "    <tr>\n",
       "      <th>1</th>\n",
       "      <td>2024-06-19</td>\n",
       "      <td>2024-06-19</td>\n",
       "      <td>24-06-21</td>\n",
       "      <td>24-06-20</td>\n",
       "      <td>24-06-19</td>\n",
       "      <td>Wed</td>\n",
       "    </tr>\n",
       "    <tr>\n",
       "      <th>2</th>\n",
       "      <td>2024-06-20</td>\n",
       "      <td>2024-06-20</td>\n",
       "      <td>24-06-21</td>\n",
       "      <td>24-06-20</td>\n",
       "      <td>24-06-19</td>\n",
       "      <td>Thu</td>\n",
       "    </tr>\n",
       "  </tbody>\n",
       "</table>\n",
       "</div>"
      ],
      "text/plain": [
       "         date updated_date      year       day     month weekday_name\n",
       "0  2024-06-21   2024-06-21  24-06-21  24-06-20  24-06-19          Fri\n",
       "1  2024-06-19   2024-06-19  24-06-21  24-06-20  24-06-19          Wed\n",
       "2  2024-06-20   2024-06-20  24-06-21  24-06-20  24-06-19          Thu"
      ]
     },
     "execution_count": 13,
     "metadata": {},
     "output_type": "execute_result"
    }
   ],
   "source": [
    "df7['year'], df7['month'], df7['day']= df7[\"updated_date\"].dt.strftime('%y-%m-%d') \n",
    "df7"
   ]
  },
  {
   "cell_type": "code",
   "execution_count": 18,
   "id": "e77c4c51-81ff-47fd-b771-bc44b829a848",
   "metadata": {},
   "outputs": [
    {
     "data": {
      "text/plain": [
       "Timedelta('1 days 05:45:00')"
      ]
     },
     "execution_count": 18,
     "metadata": {},
     "output_type": "execute_result"
    }
   ],
   "source": [
    "#--------------python timedelta\n",
    "\n",
    "pd.Timedelta(days=1, hours=5, minutes=45)\n"
   ]
  },
  {
   "cell_type": "code",
   "execution_count": 20,
   "id": "658ec6b8-52a4-4c73-abf7-5b6d83e299e5",
   "metadata": {},
   "outputs": [],
   "source": [
    "dt = pd.to_datetime('2023-06-20')"
   ]
  },
  {
   "cell_type": "code",
   "execution_count": 22,
   "id": "a65a7948-190a-469a-ba23-69c8f08adccc",
   "metadata": {},
   "outputs": [],
   "source": [
    "td = pd.Timedelta(days=1)"
   ]
  },
  {
   "cell_type": "code",
   "execution_count": 23,
   "id": "efeb0976-82d2-479d-aeed-a9dcbce0aa75",
   "metadata": {},
   "outputs": [
    {
     "data": {
      "text/plain": [
       "Timestamp('2023-06-21 00:00:00')"
      ]
     },
     "execution_count": 23,
     "metadata": {},
     "output_type": "execute_result"
    }
   ],
   "source": [
    "dt+td"
   ]
  },
  {
   "cell_type": "code",
   "execution_count": 83,
   "id": "a233c8aa-ef03-4ed7-9f58-1fc536c6a8bc",
   "metadata": {},
   "outputs": [],
   "source": [
    "#----------categorical data\n",
    "\n",
    "data= ['sufeeya', 'samre', 'nikku', 'chelsea', 'chelsea','chelsea']"
   ]
  },
  {
   "cell_type": "code",
   "execution_count": 84,
   "id": "db046b59-db0c-439c-9ac7-37139b485e7d",
   "metadata": {},
   "outputs": [
    {
     "data": {
      "text/plain": [
       "['sufeeya', 'samre', 'nikku', 'chelsea', 'chelsea', 'chelsea']\n",
       "Categories (4, object): ['chelsea', 'nikku', 'samre', 'sufeeya']"
      ]
     },
     "execution_count": 84,
     "metadata": {},
     "output_type": "execute_result"
    }
   ],
   "source": [
    "cat = pd.Categorical(data)\n",
    "cat"
   ]
  },
  {
   "cell_type": "code",
   "execution_count": 85,
   "id": "f3ff1ea7-2d70-425d-987e-54fdb87db4dd",
   "metadata": {},
   "outputs": [
    {
     "data": {
      "text/plain": [
       "chelsea    3\n",
       "nikku      1\n",
       "samre      1\n",
       "sufeeya    1\n",
       "Name: count, dtype: int64"
      ]
     },
     "execution_count": 85,
     "metadata": {},
     "output_type": "execute_result"
    }
   ],
   "source": [
    "cat.value_counts()"
   ]
  },
  {
   "cell_type": "code",
   "execution_count": 39,
   "id": "d09f538d-5dbb-4b8e-aa39-48448a47e0f5",
   "metadata": {},
   "outputs": [
    {
     "data": {
      "text/plain": [
       "3"
      ]
     },
     "execution_count": 39,
     "metadata": {},
     "output_type": "execute_result"
    }
   ],
   "source": [
    "cat.value_counts()['chelsea']"
   ]
  },
  {
   "cell_type": "code",
   "execution_count": 44,
   "id": "fbd892e9-d99b-4f3b-95a4-07c4029aadc2",
   "metadata": {},
   "outputs": [],
   "source": [
    "#-------------in pandas - visualization\n",
    "The plot() function in pandas is a wrapper around matplotlib's plotting functions, which allows you to create various types of plots directly from a pandas DataFrame or Series.\n",
    "index in x-axis , actual value in y axis\n",
    "graph , visual jo hota h wo data ke tendacy ko janne ke liye hota h\n",
    "\n"
   ]
  },
  {
   "cell_type": "code",
   "execution_count": 86,
   "id": "d45ed9fd-f6b0-4a60-87fa-cb3588f9f2c3",
   "metadata": {},
   "outputs": [
    {
     "data": {
      "text/plain": [
       "0    1\n",
       "1    2\n",
       "2    3\n",
       "3    3\n",
       "4    5\n",
       "5    6\n",
       "6    6\n",
       "7    8\n",
       "dtype: int64"
      ]
     },
     "execution_count": 86,
     "metadata": {},
     "output_type": "execute_result"
    }
   ],
   "source": [
    "d = pd.Series([1,2,3,3,5,6,6,8])\n",
    "d"
   ]
  },
  {
   "cell_type": "code",
   "execution_count": 49,
   "id": "dbf15ee5-4322-4938-87b6-f4c988fa81db",
   "metadata": {},
   "outputs": [
    {
     "data": {
      "text/plain": [
       "<AxesSubplot: >"
      ]
     },
     "execution_count": 49,
     "metadata": {},
     "output_type": "execute_result"
    },
    {
     "data": {
      "image/png": "[encoded data removed]",
      "text/plain": [
       "<Figure size 640x480 with 1 Axes>"
      ]
     },
     "metadata": {},
     "output_type": "display_data"
    }
   ],
   "source": [
    "d.plot() # this is linear plot 1d axis "
   ]
  },
  {
   "cell_type": "code",
   "execution_count": 50,
   "id": "68a5a29e-cf55-4687-83cc-4a2abbd7fd3d",
   "metadata": {},
   "outputs": [
    {
     "data": {
      "text/html": [
       "<div>\n",
       "<style scoped>\n",
       "    .dataframe tbody tr th:only-of-type {\n",
       "        vertical-align: middle;\n",
       "    }\n",
       "\n",
       "    .dataframe tbody tr th {\n",
       "        vertical-align: top;\n",
       "    }\n",
       "\n",
       "    .dataframe thead th {\n",
       "        text-align: right;\n",
       "    }\n",
       "</style>\n",
       "<table border=\"1\" class=\"dataframe\">\n",
       "  <thead>\n",
       "    <tr style=\"text-align: right;\">\n",
       "      <th></th>\n",
       "      <th>a</th>\n",
       "      <th>b</th>\n",
       "    </tr>\n",
       "  </thead>\n",
       "  <tbody>\n",
       "    <tr>\n",
       "      <th>0</th>\n",
       "      <td>3</td>\n",
       "      <td>4</td>\n",
       "    </tr>\n",
       "    <tr>\n",
       "      <th>1</th>\n",
       "      <td>4</td>\n",
       "      <td>5</td>\n",
       "    </tr>\n",
       "    <tr>\n",
       "      <th>2</th>\n",
       "      <td>5</td>\n",
       "      <td>6</td>\n",
       "    </tr>\n",
       "    <tr>\n",
       "      <th>3</th>\n",
       "      <td>6</td>\n",
       "      <td>7</td>\n",
       "    </tr>\n",
       "    <tr>\n",
       "      <th>4</th>\n",
       "      <td>7</td>\n",
       "      <td>8</td>\n",
       "    </tr>\n",
       "  </tbody>\n",
       "</table>\n",
       "</div>"
      ],
      "text/plain": [
       "   a  b\n",
       "0  3  4\n",
       "1  4  5\n",
       "2  5  6\n",
       "3  6  7\n",
       "4  7  8"
      ]
     },
     "execution_count": 50,
     "metadata": {},
     "output_type": "execute_result"
    }
   ],
   "source": [
    "#----2d axis\n",
    "\n",
    "df = pd.DataFrame({'a' : [3,4,5,6,7],\n",
    "                  'b': [4,5,6,7,8]})\n",
    "df"
   ]
  },
  {
   "cell_type": "code",
   "execution_count": 51,
   "id": "0fd7b86c-72ed-41e8-ab5f-3c678dc43691",
   "metadata": {},
   "outputs": [
    {
     "data": {
      "text/plain": [
       "<AxesSubplot: xlabel='a'>"
      ]
     },
     "execution_count": 51,
     "metadata": {},
     "output_type": "execute_result"
    },
    {
     "data": {
      "image/png": "[encoded data removed]",
      "text/plain": [
       "<Figure size 640x480 with 1 Axes>"
      ]
     },
     "metadata": {},
     "output_type": "display_data"
    }
   ],
   "source": [
    "df.plot(x=\"a\", y=\"b\") # this is simple line plot"
   ]
  },
  {
   "cell_type": "code",
   "execution_count": 54,
   "id": "4496fe09-e7cb-4a5f-b90d-492c7ae3d837",
   "metadata": {},
   "outputs": [
    {
     "data": {
      "text/plain": [
       "<AxesSubplot: ylabel='Density'>"
      ]
     },
     "execution_count": 54,
     "metadata": {},
     "output_type": "execute_result"
    },
    {
     "data": {
      "image/png": "[encoded data removed]",
      "text/plain": [
       "<Figure size 640x480 with 1 Axes>"
      ]
     },
     "metadata": {},
     "output_type": "display_data"
    }
   ],
   "source": [
    "df.plot.density(x=\"a\", y=\"b\")"
   ]
  },
  {
   "cell_type": "code",
   "execution_count": 56,
   "id": "8b7ba88e-0732-44fc-a888-1c4ed137f203",
   "metadata": {},
   "outputs": [
    {
     "data": {
      "text/plain": [
       "0    1\n",
       "1    2\n",
       "2    3\n",
       "3    3\n",
       "4    5\n",
       "5    6\n",
       "6    6\n",
       "7    8\n",
       "dtype: int64"
      ]
     },
     "execution_count": 56,
     "metadata": {},
     "output_type": "execute_result"
    }
   ],
   "source": [
    "d = pd.Series([1,2,3,3,5,6,6,8])\n",
    "d"
   ]
  },
  {
   "cell_type": "code",
   "execution_count": 59,
   "id": "bb8eefd0-4596-4763-9c54-f52b7a80c769",
   "metadata": {},
   "outputs": [
    {
     "data": {
      "text/plain": [
       "<AxesSubplot: >"
      ]
     },
     "execution_count": 59,
     "metadata": {},
     "output_type": "execute_result"
    },
    {
     "data": {
      "image/png": "[encoded data removed]",
      "text/plain": [
       "<Figure size 640x480 with 1 Axes>"
      ]
     },
     "metadata": {},
     "output_type": "display_data"
    }
   ],
   "source": [
    "d.plot.pie()"
   ]
  },
  {
   "cell_type": "code",
   "execution_count": null,
   "id": "6715657e-3db8-4066-b87d-c6c9cd6e1f0f",
   "metadata": {},
   "outputs": [],
   "source": [
    "-------------------------------------------\n",
    "-------------------------------------------"
   ]
  },
  {
   "cell_type": "code",
   "execution_count": null,
   "id": "2f023754-a1e2-4a8a-a314-97523679a149",
   "metadata": {},
   "outputs": [],
   "source": [
    "1. List any five functions of the pandas library with execution\n",
    "-- read, head, tail, index, info , to csv etc"
   ]
  },
  {
   "cell_type": "code",
   "execution_count": 101,
   "id": "5de04bb7-7e70-453d-ab93-7e956ef19af7",
   "metadata": {},
   "outputs": [
    {
     "data": {
      "text/html": [
       "<div>\n",
       "<style scoped>\n",
       "    .dataframe tbody tr th:only-of-type {\n",
       "        vertical-align: middle;\n",
       "    }\n",
       "\n",
       "    .dataframe tbody tr th {\n",
       "        vertical-align: top;\n",
       "    }\n",
       "\n",
       "    .dataframe thead th {\n",
       "        text-align: right;\n",
       "    }\n",
       "</style>\n",
       "<table border=\"1\" class=\"dataframe\">\n",
       "  <thead>\n",
       "    <tr style=\"text-align: right;\">\n",
       "      <th></th>\n",
       "      <th>a</th>\n",
       "      <th>b</th>\n",
       "      <th>c</th>\n",
       "    </tr>\n",
       "  </thead>\n",
       "  <tbody>\n",
       "    <tr>\n",
       "      <th>0</th>\n",
       "      <td>1</td>\n",
       "      <td>10</td>\n",
       "      <td>100</td>\n",
       "    </tr>\n",
       "    <tr>\n",
       "      <th>1</th>\n",
       "      <td>2</td>\n",
       "      <td>20</td>\n",
       "      <td>200</td>\n",
       "    </tr>\n",
       "    <tr>\n",
       "      <th>2</th>\n",
       "      <td>3</td>\n",
       "      <td>30</td>\n",
       "      <td>300</td>\n",
       "    </tr>\n",
       "    <tr>\n",
       "      <th>3</th>\n",
       "      <td>4</td>\n",
       "      <td>40</td>\n",
       "      <td>400</td>\n",
       "    </tr>\n",
       "  </tbody>\n",
       "</table>\n",
       "</div>"
      ],
      "text/plain": [
       "   a   b    c\n",
       "0  1  10  100\n",
       "1  2  20  200\n",
       "2  3  30  300\n",
       "3  4  40  400"
      ]
     },
     "execution_count": 101,
     "metadata": {},
     "output_type": "execute_result"
    }
   ],
   "source": [
    "# 2. Given a Pandas DataFrame df with columns 'A', 'B', and 'C', write a Python function to re-index the \n",
    "# DataFrame with a new index that starts from 1 and increments by 2 for each row.\n",
    "\n",
    "import pandas as pd\n",
    "d = {'a' :[1,2,3,4],\n",
    "        'b' :[10,20,30,40],\n",
    "        'c' :[100,200,300,400]\n",
    "}\n",
    "dfr2= pd.DataFrame(d)\n",
    "dfr2"
   ]
  },
  {
   "cell_type": "code",
   "execution_count": 104,
   "id": "5d9cdbaf-65bf-4050-8c62-132f1c93ad71",
   "metadata": {},
   "outputs": [
    {
     "data": {
      "text/html": [
       "<div>\n",
       "<style scoped>\n",
       "    .dataframe tbody tr th:only-of-type {\n",
       "        vertical-align: middle;\n",
       "    }\n",
       "\n",
       "    .dataframe tbody tr th {\n",
       "        vertical-align: top;\n",
       "    }\n",
       "\n",
       "    .dataframe thead th {\n",
       "        text-align: right;\n",
       "    }\n",
       "</style>\n",
       "<table border=\"1\" class=\"dataframe\">\n",
       "  <thead>\n",
       "    <tr style=\"text-align: right;\">\n",
       "      <th></th>\n",
       "      <th>a</th>\n",
       "      <th>b</th>\n",
       "      <th>c</th>\n",
       "    </tr>\n",
       "  </thead>\n",
       "  <tbody>\n",
       "    <tr>\n",
       "      <th>1</th>\n",
       "      <td>1</td>\n",
       "      <td>10</td>\n",
       "      <td>100</td>\n",
       "    </tr>\n",
       "    <tr>\n",
       "      <th>3</th>\n",
       "      <td>2</td>\n",
       "      <td>20</td>\n",
       "      <td>200</td>\n",
       "    </tr>\n",
       "    <tr>\n",
       "      <th>5</th>\n",
       "      <td>3</td>\n",
       "      <td>30</td>\n",
       "      <td>300</td>\n",
       "    </tr>\n",
       "    <tr>\n",
       "      <th>7</th>\n",
       "      <td>4</td>\n",
       "      <td>40</td>\n",
       "      <td>400</td>\n",
       "    </tr>\n",
       "  </tbody>\n",
       "</table>\n",
       "</div>"
      ],
      "text/plain": [
       "   a   b    c\n",
       "1  1  10  100\n",
       "3  2  20  200\n",
       "5  3  30  300\n",
       "7  4  40  400"
      ]
     },
     "execution_count": 104,
     "metadata": {},
     "output_type": "execute_result"
    }
   ],
   "source": [
    "dfr2.index=range(1, len(dfr2)*2, 2)\n",
    "dfr2"
   ]
  },
  {
   "cell_type": "code",
   "execution_count": 23,
   "id": "c3e35519-4e35-4102-83f2-8e67bb110751",
   "metadata": {},
   "outputs": [
    {
     "name": "stdout",
     "output_type": "stream",
     "text": [
      "   a   b    c\n",
      "1  1  10  100\n",
      "3  2  20  200\n",
      "5  3  30  300\n",
      "7  4  40  400\n"
     ]
    }
   ],
   "source": [
    "#---- 2 \n",
    "\n",
    "d = {'a' :[1,2,3,4],\n",
    "        'b' :[10,20,30,40],\n",
    "        'c' :[100,200,300,400]\n",
    "}\n",
    "df = pd.DataFrame(d, index = [1,3,5,7])\n",
    "\n",
    "print(df) "
   ]
  },
  {
   "cell_type": "code",
   "execution_count": null,
   "id": "0cfaf2a5-7ac6-4586-9fd5-72d25634c34b",
   "metadata": {},
   "outputs": [],
   "source": [
    "3. You have a Pandas DataFrame df with a column named 'Values'. Write a Python function that \n",
    "iterates over the DataFrame and calculates the sum of the first three values in the 'Values' column. The \n",
    "function should print the sum to the console.\n",
    "\n",
    "For example, if the 'Values' column of df contains the values [10, 20, 30, 40, 50], your function should \n",
    "calculate and print the sum of the first three values, which is 60"
   ]
  },
  {
   "cell_type": "code",
   "execution_count": 105,
   "id": "c2206ea7-6037-41a8-8f85-1e12ec144ff7",
   "metadata": {},
   "outputs": [
    {
     "data": {
      "text/html": [
       "<div>\n",
       "<style scoped>\n",
       "    .dataframe tbody tr th:only-of-type {\n",
       "        vertical-align: middle;\n",
       "    }\n",
       "\n",
       "    .dataframe tbody tr th {\n",
       "        vertical-align: top;\n",
       "    }\n",
       "\n",
       "    .dataframe thead th {\n",
       "        text-align: right;\n",
       "    }\n",
       "</style>\n",
       "<table border=\"1\" class=\"dataframe\">\n",
       "  <thead>\n",
       "    <tr style=\"text-align: right;\">\n",
       "      <th></th>\n",
       "      <th>values</th>\n",
       "    </tr>\n",
       "  </thead>\n",
       "  <tbody>\n",
       "    <tr>\n",
       "      <th>0</th>\n",
       "      <td>10</td>\n",
       "    </tr>\n",
       "    <tr>\n",
       "      <th>1</th>\n",
       "      <td>20</td>\n",
       "    </tr>\n",
       "    <tr>\n",
       "      <th>2</th>\n",
       "      <td>30</td>\n",
       "    </tr>\n",
       "    <tr>\n",
       "      <th>3</th>\n",
       "      <td>40</td>\n",
       "    </tr>\n",
       "    <tr>\n",
       "      <th>4</th>\n",
       "      <td>50</td>\n",
       "    </tr>\n",
       "  </tbody>\n",
       "</table>\n",
       "</div>"
      ],
      "text/plain": [
       "   values\n",
       "0      10\n",
       "1      20\n",
       "2      30\n",
       "3      40\n",
       "4      50"
      ]
     },
     "execution_count": 105,
     "metadata": {},
     "output_type": "execute_result"
    }
   ],
   "source": [
    "import pandas as pd\n",
    "\n",
    "\n",
    "d= {'values' : [10,20,30,40,50]}\n",
    "df =pd.DataFrame(d)\n",
    "df"
   ]
  },
  {
   "cell_type": "code",
   "execution_count": 106,
   "id": "9770a4e7-ce27-41f8-bb0a-a9da8f07d447",
   "metadata": {},
   "outputs": [
    {
     "data": {
      "text/plain": [
       "values    60\n",
       "dtype: int64"
      ]
     },
     "execution_count": 106,
     "metadata": {},
     "output_type": "execute_result"
    }
   ],
   "source": [
    "df.head(3).sum()"
   ]
  },
  {
   "cell_type": "code",
   "execution_count": 113,
   "id": "b723d1ee-e3fc-4dee-bf31-2b8f8998f9d7",
   "metadata": {},
   "outputs": [
    {
     "name": "stdout",
     "output_type": "stream",
     "text": [
      "60\n"
     ]
    }
   ],
   "source": [
    "def sum3(df):\n",
    "    for i in df.head(3).sum():\n",
    "        print(i)\n",
    "sum3(df)"
   ]
  },
  {
   "cell_type": "code",
   "execution_count": 59,
   "id": "480cdd11-894c-4eef-83e4-5bd779b78cf1",
   "metadata": {},
   "outputs": [],
   "source": [
    "#----2"
   ]
  },
  {
   "cell_type": "code",
   "execution_count": 61,
   "id": "4de35190-cba3-4f09-bd73-28a49b8c459c",
   "metadata": {},
   "outputs": [
    {
     "name": "stdout",
     "output_type": "stream",
     "text": [
      "Sum of the first three values: 60\n"
     ]
    }
   ],
   "source": [
    "def sum_first_three_values(df):\n",
    "    sum = 0\n",
    "    \n",
    "    for i in df['Values'].head(3):\n",
    "        sum += i\n",
    "\n",
    "    print(\"Sum of the first three values:\", sum)\n",
    "\n",
    "#DataFrame\n",
    "data = {'Values': [10, 20, 30, 40, 50]}\n",
    "df = pd.DataFrame(data)\n",
    "\n",
    "# Call the function with your DataFrame\n",
    "sum_first_three_values(df)"
   ]
  },
  {
   "cell_type": "code",
   "execution_count": null,
   "id": "e8bcf155-c6a7-416d-92e9-a47bb6fd4be0",
   "metadata": {},
   "outputs": [],
   "source": [
    "Q4. Given a Pandas DataFrame df with a column 'Text', write a Python function to create a new column \n",
    "'Word_Count' that contains the number of words in each row of the 'Text' column."
   ]
  },
  {
   "cell_type": "code",
   "execution_count": 114,
   "id": "8b20ffa5-970e-469b-b105-9395545a5e22",
   "metadata": {},
   "outputs": [
    {
     "data": {
      "text/html": [
       "<div>\n",
       "<style scoped>\n",
       "    .dataframe tbody tr th:only-of-type {\n",
       "        vertical-align: middle;\n",
       "    }\n",
       "\n",
       "    .dataframe tbody tr th {\n",
       "        vertical-align: top;\n",
       "    }\n",
       "\n",
       "    .dataframe thead th {\n",
       "        text-align: right;\n",
       "    }\n",
       "</style>\n",
       "<table border=\"1\" class=\"dataframe\">\n",
       "  <thead>\n",
       "    <tr style=\"text-align: right;\">\n",
       "      <th></th>\n",
       "      <th>text</th>\n",
       "    </tr>\n",
       "  </thead>\n",
       "  <tbody>\n",
       "    <tr>\n",
       "      <th>0</th>\n",
       "      <td>Data science models are essential in modern advertising, from display advertisements on numerous websites to digital posters at airports.</td>\n",
       "    </tr>\n",
       "  </tbody>\n",
       "</table>\n",
       "</div>"
      ],
      "text/plain": [
       "                                                                                                                                        text\n",
       "0  Data science models are essential in modern advertising, from display advertisements on numerous websites to digital posters at airports."
      ]
     },
     "execution_count": 114,
     "metadata": {},
     "output_type": "execute_result"
    }
   ],
   "source": [
    "data = {'text': [\"Data science models are essential in modern advertising, from display advertisements on numerous websites to digital posters at airports.\"]}\n",
    "df =pd.DataFrame(data)\n",
    "df"
   ]
  },
  {
   "cell_type": "code",
   "execution_count": 115,
   "id": "4ead874c-3a1d-4fc6-86ea-05ace2ef674d",
   "metadata": {},
   "outputs": [
    {
     "data": {
      "text/html": [
       "<div>\n",
       "<style scoped>\n",
       "    .dataframe tbody tr th:only-of-type {\n",
       "        vertical-align: middle;\n",
       "    }\n",
       "\n",
       "    .dataframe tbody tr th {\n",
       "        vertical-align: top;\n",
       "    }\n",
       "\n",
       "    .dataframe thead th {\n",
       "        text-align: right;\n",
       "    }\n",
       "</style>\n",
       "<table border=\"1\" class=\"dataframe\">\n",
       "  <thead>\n",
       "    <tr style=\"text-align: right;\">\n",
       "      <th></th>\n",
       "      <th>text</th>\n",
       "      <th>word_count</th>\n",
       "    </tr>\n",
       "  </thead>\n",
       "  <tbody>\n",
       "    <tr>\n",
       "      <th>0</th>\n",
       "      <td>Data science models are essential in modern advertising, from display advertisements on numerous websites to digital posters at airports.</td>\n",
       "      <td>19</td>\n",
       "    </tr>\n",
       "  </tbody>\n",
       "</table>\n",
       "</div>"
      ],
      "text/plain": [
       "                                                                                                                                        text  \\\n",
       "0  Data science models are essential in modern advertising, from display advertisements on numerous websites to digital posters at airports.   \n",
       "\n",
       "   word_count  \n",
       "0          19  "
      ]
     },
     "execution_count": 115,
     "metadata": {},
     "output_type": "execute_result"
    }
   ],
   "source": [
    "df['word_count'] = df['text'].apply(lambda x:len(x.split()))\n",
    "df"
   ]
  },
  {
   "cell_type": "code",
   "execution_count": 117,
   "id": "0ae49b24-c984-4b45-9103-9a06025ea0eb",
   "metadata": {},
   "outputs": [
    {
     "data": {
      "text/html": [
       "<div>\n",
       "<style scoped>\n",
       "    .dataframe tbody tr th:only-of-type {\n",
       "        vertical-align: middle;\n",
       "    }\n",
       "\n",
       "    .dataframe tbody tr th {\n",
       "        vertical-align: top;\n",
       "    }\n",
       "\n",
       "    .dataframe thead th {\n",
       "        text-align: right;\n",
       "    }\n",
       "</style>\n",
       "<table border=\"1\" class=\"dataframe\">\n",
       "  <thead>\n",
       "    <tr style=\"text-align: right;\">\n",
       "      <th></th>\n",
       "      <th>text</th>\n",
       "      <th>word_count</th>\n",
       "    </tr>\n",
       "  </thead>\n",
       "  <tbody>\n",
       "    <tr>\n",
       "      <th>0</th>\n",
       "      <td>Data science models are essential in modern advertising, from display advertisements on numerous websites to digital posters at airports.</td>\n",
       "      <td>19</td>\n",
       "    </tr>\n",
       "  </tbody>\n",
       "</table>\n",
       "</div>"
      ],
      "text/plain": [
       "                                                                                                                                        text  \\\n",
       "0  Data science models are essential in modern advertising, from display advertisements on numerous websites to digital posters at airports.   \n",
       "\n",
       "   word_count  \n",
       "0          19  "
      ]
     },
     "execution_count": 117,
     "metadata": {},
     "output_type": "execute_result"
    }
   ],
   "source": [
    "df['word_count'] = df['text'].str.count(' ') + 1\n",
    "df"
   ]
  },
  {
   "cell_type": "code",
   "execution_count": null,
   "id": "32009922-cfbc-44d1-85ae-3f9610c60783",
   "metadata": {},
   "outputs": [],
   "source": [
    "Q5. How are DataFrame.size() and DataFrame.shape() different?\n",
    "Q6. Which function of pandas do we use to read an excel file?\n",
    "read.excel()"
   ]
  },
  {
   "cell_type": "code",
   "execution_count": null,
   "id": "4c6a4b4a-70ca-4404-808c-3b6f76f408bd",
   "metadata": {},
   "outputs": [],
   "source": [
    "Q7. You have a Pandas DataFrame df that contains a column named 'Email' that contains email \n",
    "addresses in the format 'username@domain.com'. Write a Python function that creates a new column \n",
    "'Username' in df that contains only the username part of each email address.\n",
    "\n",
    "The username is the part of the email address that appears before the '@' symbol. For example, if the \n",
    "email address is 'john.doe@example.com', the 'Username' column should contain 'john.doe'. Your \n",
    "function should extract the username from each email address and store it in the new 'Username' \n",
    "column."
   ]
  },
  {
   "cell_type": "code",
   "execution_count": 82,
   "id": "891feb6f-8605-428b-a10c-98ee026bc107",
   "metadata": {},
   "outputs": [
    {
     "data": {
      "text/html": [
       "<div>\n",
       "<style scoped>\n",
       "    .dataframe tbody tr th:only-of-type {\n",
       "        vertical-align: middle;\n",
       "    }\n",
       "\n",
       "    .dataframe tbody tr th {\n",
       "        vertical-align: top;\n",
       "    }\n",
       "\n",
       "    .dataframe thead th {\n",
       "        text-align: right;\n",
       "    }\n",
       "</style>\n",
       "<table border=\"1\" class=\"dataframe\">\n",
       "  <thead>\n",
       "    <tr style=\"text-align: right;\">\n",
       "      <th></th>\n",
       "      <th>email</th>\n",
       "    </tr>\n",
       "  </thead>\n",
       "  <tbody>\n",
       "    <tr>\n",
       "      <th>0</th>\n",
       "      <td>sufeeya.sk@gmail.com</td>\n",
       "    </tr>\n",
       "  </tbody>\n",
       "</table>\n",
       "</div>"
      ],
      "text/plain": [
       "                  email\n",
       "0  sufeeya.sk@gmail.com"
      ]
     },
     "execution_count": 82,
     "metadata": {},
     "output_type": "execute_result"
    }
   ],
   "source": [
    "data ={'email': ['sufeeya.sk@gmail.com']}\n",
    "df=pd.DataFrame(data)\n",
    "df"
   ]
  },
  {
   "cell_type": "code",
   "execution_count": 84,
   "id": "557112b0-00a4-4d6f-b8c1-d6bdc712c0ff",
   "metadata": {},
   "outputs": [
    {
     "data": {
      "text/html": [
       "<div>\n",
       "<style scoped>\n",
       "    .dataframe tbody tr th:only-of-type {\n",
       "        vertical-align: middle;\n",
       "    }\n",
       "\n",
       "    .dataframe tbody tr th {\n",
       "        vertical-align: top;\n",
       "    }\n",
       "\n",
       "    .dataframe thead th {\n",
       "        text-align: right;\n",
       "    }\n",
       "</style>\n",
       "<table border=\"1\" class=\"dataframe\">\n",
       "  <thead>\n",
       "    <tr style=\"text-align: right;\">\n",
       "      <th></th>\n",
       "      <th>email</th>\n",
       "      <th>username</th>\n",
       "    </tr>\n",
       "  </thead>\n",
       "  <tbody>\n",
       "    <tr>\n",
       "      <th>0</th>\n",
       "      <td>sufeeya.sk@gmail.com</td>\n",
       "      <td>1</td>\n",
       "    </tr>\n",
       "  </tbody>\n",
       "</table>\n",
       "</div>"
      ],
      "text/plain": [
       "                  email  username\n",
       "0  sufeeya.sk@gmail.com         1"
      ]
     },
     "execution_count": 84,
     "metadata": {},
     "output_type": "execute_result"
    }
   ],
   "source": [
    "#-- craete username new col\n",
    "df['username']= 1\n",
    "df"
   ]
  },
  {
   "cell_type": "code",
   "execution_count": 102,
   "id": "8cee1a6b-3824-4b90-86fa-7b9d0302907e",
   "metadata": {},
   "outputs": [
    {
     "data": {
      "text/html": [
       "<div>\n",
       "<style scoped>\n",
       "    .dataframe tbody tr th:only-of-type {\n",
       "        vertical-align: middle;\n",
       "    }\n",
       "\n",
       "    .dataframe tbody tr th {\n",
       "        vertical-align: top;\n",
       "    }\n",
       "\n",
       "    .dataframe thead th {\n",
       "        text-align: right;\n",
       "    }\n",
       "</style>\n",
       "<table border=\"1\" class=\"dataframe\">\n",
       "  <thead>\n",
       "    <tr style=\"text-align: right;\">\n",
       "      <th></th>\n",
       "      <th>email</th>\n",
       "      <th>username</th>\n",
       "      <th>Username</th>\n",
       "    </tr>\n",
       "  </thead>\n",
       "  <tbody>\n",
       "    <tr>\n",
       "      <th>0</th>\n",
       "      <td>sufeeya.sk@gmail.com</td>\n",
       "      <td>1</td>\n",
       "      <td>sufeeya.sk</td>\n",
       "    </tr>\n",
       "  </tbody>\n",
       "</table>\n",
       "</div>"
      ],
      "text/plain": [
       "                  email  username    Username\n",
       "0  sufeeya.sk@gmail.com         1  sufeeya.sk"
      ]
     },
     "execution_count": 102,
     "metadata": {},
     "output_type": "execute_result"
    }
   ],
   "source": [
    "df['Username'] = df['email'].str.split('@').str[0]\n",
    "df"
   ]
  },
  {
   "cell_type": "code",
   "execution_count": 105,
   "id": "f1d8246a-9a5f-4832-87d1-426dbe334a8c",
   "metadata": {},
   "outputs": [
    {
     "data": {
      "text/html": [
       "<div>\n",
       "<style scoped>\n",
       "    .dataframe tbody tr th:only-of-type {\n",
       "        vertical-align: middle;\n",
       "    }\n",
       "\n",
       "    .dataframe tbody tr th {\n",
       "        vertical-align: top;\n",
       "    }\n",
       "\n",
       "    .dataframe thead th {\n",
       "        text-align: right;\n",
       "    }\n",
       "</style>\n",
       "<table border=\"1\" class=\"dataframe\">\n",
       "  <thead>\n",
       "    <tr style=\"text-align: right;\">\n",
       "      <th></th>\n",
       "      <th>email</th>\n",
       "      <th>username</th>\n",
       "      <th>Username</th>\n",
       "    </tr>\n",
       "  </thead>\n",
       "  <tbody>\n",
       "    <tr>\n",
       "      <th>0</th>\n",
       "      <td>sufeeya.sk@gmail.com</td>\n",
       "      <td>1</td>\n",
       "      <td>sufeeya.sk</td>\n",
       "    </tr>\n",
       "  </tbody>\n",
       "</table>\n",
       "</div>"
      ],
      "text/plain": [
       "                  email  username    Username\n",
       "0  sufeeya.sk@gmail.com         1  sufeeya.sk"
      ]
     },
     "execution_count": 105,
     "metadata": {},
     "output_type": "execute_result"
    }
   ],
   "source": [
    "#--2\n",
    "df['Username'] = df['email'].apply(lambda x:x.split('@')[0])\n",
    "df"
   ]
  },
  {
   "cell_type": "code",
   "execution_count": null,
   "id": "fe7b181f-9215-407c-b246-9d291b3e4e4f",
   "metadata": {},
   "outputs": [],
   "source": [
    "8. You have a Pandas DataFrame df with a column 'Date'. Write a Python function that creates a new \n",
    "column 'Weekday' in the DataFrame. The 'Weekday' column should contain the weekday name (e.g. \n",
    "Monday, Tuesday) corresponding to each date in the 'Date' column."
   ]
  },
  {
   "cell_type": "code",
   "execution_count": 131,
   "id": "dfe925d3-616a-408a-8b78-0019831d7922",
   "metadata": {},
   "outputs": [
    {
     "data": {
      "text/html": [
       "<div>\n",
       "<style scoped>\n",
       "    .dataframe tbody tr th:only-of-type {\n",
       "        vertical-align: middle;\n",
       "    }\n",
       "\n",
       "    .dataframe tbody tr th {\n",
       "        vertical-align: top;\n",
       "    }\n",
       "\n",
       "    .dataframe thead th {\n",
       "        text-align: right;\n",
       "    }\n",
       "</style>\n",
       "<table border=\"1\" class=\"dataframe\">\n",
       "  <thead>\n",
       "    <tr style=\"text-align: right;\">\n",
       "      <th></th>\n",
       "      <th>weekday</th>\n",
       "      <th>date</th>\n",
       "    </tr>\n",
       "  </thead>\n",
       "  <tbody>\n",
       "    <tr>\n",
       "      <th>0</th>\n",
       "      <td>Sunday</td>\n",
       "      <td>2024-04-14 17:08:27.648909</td>\n",
       "    </tr>\n",
       "  </tbody>\n",
       "</table>\n",
       "</div>"
      ],
      "text/plain": [
       "  weekday                       date\n",
       "0  Sunday 2024-04-14 17:08:27.648909"
      ]
     },
     "execution_count": 131,
     "metadata": {},
     "output_type": "execute_result"
    }
   ],
   "source": [
    "from datetime import datetime\n",
    "\n",
    "current_date = datetime.now()\n",
    "d= {'date' : [current_date]}\n",
    "d=pd.DataFrame(d)\n",
    "d\n",
    "\n",
    "\n",
    "weekday_name = current_date.strftime(\"%A\")\n",
    "\n",
    "# insert the 'weekday' column before the 'date' column\n",
    "d.insert(0, 'weekday', weekday_name)\n",
    "d"
   ]
  },
  {
   "cell_type": "code",
   "execution_count": 119,
   "id": "7b93afce-0ffa-4531-82b4-5596cf73ee59",
   "metadata": {},
   "outputs": [
    {
     "data": {
      "text/html": [
       "<div>\n",
       "<style scoped>\n",
       "    .dataframe tbody tr th:only-of-type {\n",
       "        vertical-align: middle;\n",
       "    }\n",
       "\n",
       "    .dataframe tbody tr th {\n",
       "        vertical-align: top;\n",
       "    }\n",
       "\n",
       "    .dataframe thead th {\n",
       "        text-align: right;\n",
       "    }\n",
       "</style>\n",
       "<table border=\"1\" class=\"dataframe\">\n",
       "  <thead>\n",
       "    <tr style=\"text-align: right;\">\n",
       "      <th></th>\n",
       "      <th>date</th>\n",
       "      <th>weekday</th>\n",
       "    </tr>\n",
       "  </thead>\n",
       "  <tbody>\n",
       "    <tr>\n",
       "      <th>0</th>\n",
       "      <td>2025-02-17 20:30:05.194711</td>\n",
       "      <td>Mon</td>\n",
       "    </tr>\n",
       "  </tbody>\n",
       "</table>\n",
       "</div>"
      ],
      "text/plain": [
       "                        date weekday\n",
       "0 2025-02-17 20:30:05.194711     Mon"
      ]
     },
     "execution_count": 119,
     "metadata": {},
     "output_type": "execute_result"
    }
   ],
   "source": [
    "from datetime import datetime\n",
    "\n",
    "current_date = datetime.now()\n",
    "d= {'date' : [current_date]}\n",
    "d=pd.DataFrame(d)\n",
    "d\n",
    "\n",
    "d['weekday']= d['date'].apply(lambda b: b.strftime('%a'))\n",
    "d"
   ]
  },
  {
   "cell_type": "code",
   "execution_count": 147,
   "id": "f3abf1a6-435a-4680-bdb9-dba23a12ce4a",
   "metadata": {},
   "outputs": [
    {
     "data": {
      "text/html": [
       "<div>\n",
       "<style scoped>\n",
       "    .dataframe tbody tr th:only-of-type {\n",
       "        vertical-align: middle;\n",
       "    }\n",
       "\n",
       "    .dataframe tbody tr th {\n",
       "        vertical-align: top;\n",
       "    }\n",
       "\n",
       "    .dataframe thead th {\n",
       "        text-align: right;\n",
       "    }\n",
       "</style>\n",
       "<table border=\"1\" class=\"dataframe\">\n",
       "  <thead>\n",
       "    <tr style=\"text-align: right;\">\n",
       "      <th></th>\n",
       "      <th>date</th>\n",
       "    </tr>\n",
       "  </thead>\n",
       "  <tbody>\n",
       "    <tr>\n",
       "      <th>0</th>\n",
       "      <td>2024-03-23</td>\n",
       "    </tr>\n",
       "    <tr>\n",
       "      <th>1</th>\n",
       "      <td>2024-03-24</td>\n",
       "    </tr>\n",
       "    <tr>\n",
       "      <th>2</th>\n",
       "      <td>2024-03-25</td>\n",
       "    </tr>\n",
       "    <tr>\n",
       "      <th>3</th>\n",
       "      <td>2024-03-26</td>\n",
       "    </tr>\n",
       "    <tr>\n",
       "      <th>4</th>\n",
       "      <td>2024-03-27</td>\n",
       "    </tr>\n",
       "    <tr>\n",
       "      <th>5</th>\n",
       "      <td>2024-03-28</td>\n",
       "    </tr>\n",
       "    <tr>\n",
       "      <th>6</th>\n",
       "      <td>2024-03-29</td>\n",
       "    </tr>\n",
       "  </tbody>\n",
       "</table>\n",
       "</div>"
      ],
      "text/plain": [
       "        date\n",
       "0 2024-03-23\n",
       "1 2024-03-24\n",
       "2 2024-03-25\n",
       "3 2024-03-26\n",
       "4 2024-03-27\n",
       "5 2024-03-28\n",
       "6 2024-03-29"
      ]
     },
     "execution_count": 147,
     "metadata": {},
     "output_type": "execute_result"
    }
   ],
   "source": [
    "Date= pd.date_range(start='2024-03-23' , end='2024-03-29' )\n",
    "\n",
    "d=pd.DataFrame({'date' :Date})\n",
    "d"
   ]
  },
  {
   "cell_type": "code",
   "execution_count": null,
   "id": "538d9e14-c794-4113-854a-734ee6ba8db8",
   "metadata": {},
   "outputs": [],
   "source": []
  }
 ],
 "metadata": {
  "kernelspec": {
   "display_name": "Python 3 (ipykernel)",
   "language": "python",
   "name": "python3"
  },
  "language_info": {
   "codemirror_mode": {
    "name": "ipython",
    "version": 3
   },
   "file_extension": ".py",
   "mimetype": "text/x-python",
   "name": "python",
   "nbconvert_exporter": "python",
   "pygments_lexer": "ipython3",
   "version": "3.13.1"
  }
 },
 "nbformat": 4,
 "nbformat_minor": 5
}
